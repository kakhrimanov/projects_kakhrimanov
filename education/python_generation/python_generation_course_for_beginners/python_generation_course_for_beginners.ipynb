{
 "cells": [
  {
   "cell_type": "code",
   "execution_count": 1,
   "metadata": {},
   "outputs": [
    {
     "ename": "KeyboardInterrupt",
     "evalue": "",
     "output_type": "error",
     "traceback": [
      "\u001b[0;31m---------------------------------------------------------------------------\u001b[0m",
      "\u001b[0;31mKeyboardInterrupt\u001b[0m                         Traceback (most recent call last)",
      "\u001b[0;32m/opt/tljh/user/lib/python3.7/site-packages/ipykernel/kernelbase.py\u001b[0m in \u001b[0;36m_input_request\u001b[0;34m(self, prompt, ident, parent, password)\u001b[0m\n\u001b[1;32m    883\u001b[0m             \u001b[0;32mtry\u001b[0m\u001b[0;34m:\u001b[0m\u001b[0;34m\u001b[0m\u001b[0;34m\u001b[0m\u001b[0m\n\u001b[0;32m--> 884\u001b[0;31m                 \u001b[0mident\u001b[0m\u001b[0;34m,\u001b[0m \u001b[0mreply\u001b[0m \u001b[0;34m=\u001b[0m \u001b[0mself\u001b[0m\u001b[0;34m.\u001b[0m\u001b[0msession\u001b[0m\u001b[0;34m.\u001b[0m\u001b[0mrecv\u001b[0m\u001b[0;34m(\u001b[0m\u001b[0mself\u001b[0m\u001b[0;34m.\u001b[0m\u001b[0mstdin_socket\u001b[0m\u001b[0;34m,\u001b[0m \u001b[0;36m0\u001b[0m\u001b[0;34m)\u001b[0m\u001b[0;34m\u001b[0m\u001b[0;34m\u001b[0m\u001b[0m\n\u001b[0m\u001b[1;32m    885\u001b[0m             \u001b[0;32mexcept\u001b[0m \u001b[0mException\u001b[0m\u001b[0;34m:\u001b[0m\u001b[0;34m\u001b[0m\u001b[0;34m\u001b[0m\u001b[0m\n",
      "\u001b[0;32m/opt/tljh/user/lib/python3.7/site-packages/jupyter_client/session.py\u001b[0m in \u001b[0;36mrecv\u001b[0;34m(self, socket, mode, content, copy)\u001b[0m\n\u001b[1;32m    808\u001b[0m         \u001b[0;32mtry\u001b[0m\u001b[0;34m:\u001b[0m\u001b[0;34m\u001b[0m\u001b[0;34m\u001b[0m\u001b[0m\n\u001b[0;32m--> 809\u001b[0;31m             \u001b[0mmsg_list\u001b[0m \u001b[0;34m=\u001b[0m \u001b[0msocket\u001b[0m\u001b[0;34m.\u001b[0m\u001b[0mrecv_multipart\u001b[0m\u001b[0;34m(\u001b[0m\u001b[0mmode\u001b[0m\u001b[0;34m,\u001b[0m \u001b[0mcopy\u001b[0m\u001b[0;34m=\u001b[0m\u001b[0mcopy\u001b[0m\u001b[0;34m)\u001b[0m\u001b[0;34m\u001b[0m\u001b[0;34m\u001b[0m\u001b[0m\n\u001b[0m\u001b[1;32m    810\u001b[0m         \u001b[0;32mexcept\u001b[0m \u001b[0mzmq\u001b[0m\u001b[0;34m.\u001b[0m\u001b[0mZMQError\u001b[0m \u001b[0;32mas\u001b[0m \u001b[0me\u001b[0m\u001b[0;34m:\u001b[0m\u001b[0;34m\u001b[0m\u001b[0;34m\u001b[0m\u001b[0m\n",
      "\u001b[0;32m/opt/tljh/user/lib/python3.7/site-packages/zmq/sugar/socket.py\u001b[0m in \u001b[0;36mrecv_multipart\u001b[0;34m(self, flags, copy, track)\u001b[0m\n\u001b[1;32m    474\u001b[0m         \"\"\"\n\u001b[0;32m--> 475\u001b[0;31m         \u001b[0mparts\u001b[0m \u001b[0;34m=\u001b[0m \u001b[0;34m[\u001b[0m\u001b[0mself\u001b[0m\u001b[0;34m.\u001b[0m\u001b[0mrecv\u001b[0m\u001b[0;34m(\u001b[0m\u001b[0mflags\u001b[0m\u001b[0;34m,\u001b[0m \u001b[0mcopy\u001b[0m\u001b[0;34m=\u001b[0m\u001b[0mcopy\u001b[0m\u001b[0;34m,\u001b[0m \u001b[0mtrack\u001b[0m\u001b[0;34m=\u001b[0m\u001b[0mtrack\u001b[0m\u001b[0;34m)\u001b[0m\u001b[0;34m]\u001b[0m\u001b[0;34m\u001b[0m\u001b[0;34m\u001b[0m\u001b[0m\n\u001b[0m\u001b[1;32m    476\u001b[0m         \u001b[0;31m# have first part already, only loop while more to receive\u001b[0m\u001b[0;34m\u001b[0m\u001b[0;34m\u001b[0m\u001b[0;34m\u001b[0m\u001b[0m\n",
      "\u001b[0;32mzmq/backend/cython/socket.pyx\u001b[0m in \u001b[0;36mzmq.backend.cython.socket.Socket.recv\u001b[0;34m()\u001b[0m\n",
      "\u001b[0;32mzmq/backend/cython/socket.pyx\u001b[0m in \u001b[0;36mzmq.backend.cython.socket.Socket.recv\u001b[0;34m()\u001b[0m\n",
      "\u001b[0;32mzmq/backend/cython/socket.pyx\u001b[0m in \u001b[0;36mzmq.backend.cython.socket._recv_copy\u001b[0;34m()\u001b[0m\n",
      "\u001b[0;32m/opt/tljh/user/lib/python3.7/site-packages/zmq/backend/cython/checkrc.pxd\u001b[0m in \u001b[0;36mzmq.backend.cython.checkrc._check_rc\u001b[0;34m()\u001b[0m\n",
      "\u001b[0;31mKeyboardInterrupt\u001b[0m: ",
      "\nDuring handling of the above exception, another exception occurred:\n",
      "\u001b[0;31mKeyboardInterrupt\u001b[0m                         Traceback (most recent call last)",
      "\u001b[0;32m<ipython-input-1-34010f960cc4>\u001b[0m in \u001b[0;36m<module>\u001b[0;34m\u001b[0m\n\u001b[1;32m      3\u001b[0m \u001b[0;31m# Далее программа должна выводить на экран приветствие в следующем формате:\u001b[0m\u001b[0;34m\u001b[0m\u001b[0;34m\u001b[0m\u001b[0;34m\u001b[0m\u001b[0m\n\u001b[1;32m      4\u001b[0m \u001b[0;34m\u001b[0m\u001b[0m\n\u001b[0;32m----> 5\u001b[0;31m \u001b[0mname\u001b[0m \u001b[0;34m=\u001b[0m \u001b[0minput\u001b[0m\u001b[0;34m(\u001b[0m\u001b[0;34m)\u001b[0m\u001b[0;34m\u001b[0m\u001b[0;34m\u001b[0m\u001b[0m\n\u001b[0m\u001b[1;32m      6\u001b[0m \u001b[0mprint\u001b[0m\u001b[0;34m(\u001b[0m\u001b[0;34m'Привет,'\u001b[0m\u001b[0;34m,\u001b[0m \u001b[0mname\u001b[0m\u001b[0;34m)\u001b[0m\u001b[0;34m\u001b[0m\u001b[0;34m\u001b[0m\u001b[0m\n",
      "\u001b[0;32m/opt/tljh/user/lib/python3.7/site-packages/ipykernel/kernelbase.py\u001b[0m in \u001b[0;36mraw_input\u001b[0;34m(self, prompt)\u001b[0m\n\u001b[1;32m    857\u001b[0m             \u001b[0mself\u001b[0m\u001b[0;34m.\u001b[0m\u001b[0m_parent_ident\u001b[0m\u001b[0;34m,\u001b[0m\u001b[0;34m\u001b[0m\u001b[0;34m\u001b[0m\u001b[0m\n\u001b[1;32m    858\u001b[0m             \u001b[0mself\u001b[0m\u001b[0;34m.\u001b[0m\u001b[0m_parent_header\u001b[0m\u001b[0;34m,\u001b[0m\u001b[0;34m\u001b[0m\u001b[0;34m\u001b[0m\u001b[0m\n\u001b[0;32m--> 859\u001b[0;31m             \u001b[0mpassword\u001b[0m\u001b[0;34m=\u001b[0m\u001b[0;32mFalse\u001b[0m\u001b[0;34m,\u001b[0m\u001b[0;34m\u001b[0m\u001b[0;34m\u001b[0m\u001b[0m\n\u001b[0m\u001b[1;32m    860\u001b[0m         )\n\u001b[1;32m    861\u001b[0m \u001b[0;34m\u001b[0m\u001b[0m\n",
      "\u001b[0;32m/opt/tljh/user/lib/python3.7/site-packages/ipykernel/kernelbase.py\u001b[0m in \u001b[0;36m_input_request\u001b[0;34m(self, prompt, ident, parent, password)\u001b[0m\n\u001b[1;32m    887\u001b[0m             \u001b[0;32mexcept\u001b[0m \u001b[0mKeyboardInterrupt\u001b[0m\u001b[0;34m:\u001b[0m\u001b[0;34m\u001b[0m\u001b[0;34m\u001b[0m\u001b[0m\n\u001b[1;32m    888\u001b[0m                 \u001b[0;31m# re-raise KeyboardInterrupt, to truncate traceback\u001b[0m\u001b[0;34m\u001b[0m\u001b[0;34m\u001b[0m\u001b[0;34m\u001b[0m\u001b[0m\n\u001b[0;32m--> 889\u001b[0;31m                 \u001b[0;32mraise\u001b[0m \u001b[0mKeyboardInterrupt\u001b[0m\u001b[0;34m\u001b[0m\u001b[0;34m\u001b[0m\u001b[0m\n\u001b[0m\u001b[1;32m    890\u001b[0m             \u001b[0;32melse\u001b[0m\u001b[0;34m:\u001b[0m\u001b[0;34m\u001b[0m\u001b[0;34m\u001b[0m\u001b[0m\n\u001b[1;32m    891\u001b[0m                 \u001b[0;32mbreak\u001b[0m\u001b[0;34m\u001b[0m\u001b[0;34m\u001b[0m\u001b[0m\n",
      "\u001b[0;31mKeyboardInterrupt\u001b[0m: "
     ]
    }
   ],
   "source": [
    "# На вход программе подаётся строка текста – имя человека. \n",
    "# Напишите программу, которая принимает эту строку текста через стандартный поток ввода (команда input()). \n",
    "# Далее программа должна выводить на экран приветствие в следующем формате:\n",
    "\n",
    "name = input()\n",
    "print('Привет,', name)"
   ]
  },
  {
   "cell_type": "code",
   "execution_count": null,
   "metadata": {},
   "outputs": [],
   "source": [
    "# На вход программе подаётся строка текста – название футбольной команды. Напишите программу, которая принимает \n",
    "# через стандартный поток ввода (команда input()) эту строку и печатает предложение в следующем формате:\n",
    "#     <название футбольной команды> - чемпион!\n",
    "team = input()\n",
    "print(team, '- чемпион!')"
   ]
  },
  {
   "cell_type": "code",
   "execution_count": null,
   "metadata": {},
   "outputs": [],
   "source": [
    "# Напишите программу, которая принимает через стандартный поток ввода (команда input()) \n",
    "# три строки, а затем выводит их в той же последовательности, каждую на отдельной строке.\n",
    "print(input())\n",
    "print(input())\n",
    "print(input())"
   ]
  },
  {
   "cell_type": "code",
   "execution_count": null,
   "metadata": {},
   "outputs": [],
   "source": [
    "# Напишите программу, которая принимает через стандартный поток ввода (команда input()) три строки, \n",
    "# а затем выводит их в обратной последовательности, каждую на отдельной строке.\n",
    "string_1 = input()\n",
    "string_2 = input()\n",
    "string_3 = input()\n",
    "print(string_3)\n",
    "print(string_2)\n",
    "print(string_1)"
   ]
  },
  {
   "cell_type": "code",
   "execution_count": null,
   "metadata": {},
   "outputs": [],
   "source": [
    "# Напишите программу, которая выводит на экран следующий текст:\n",
    "# I***like***Python\n",
    "print('I', 'like', 'Python', sep = '***')"
   ]
  },
  {
   "cell_type": "code",
   "execution_count": null,
   "metadata": {},
   "outputs": [],
   "source": [
    "# Напишите программу, которая приветствует пользователя в следующем формате:\n",
    "#     Привет, <имя пользователя>!\n",
    "name = input()\n",
    "print('Привет,', name, end='!')"
   ]
  },
  {
   "cell_type": "code",
   "execution_count": null,
   "metadata": {},
   "outputs": [],
   "source": [
    "# Напишите программу, которая считывает строку-разделитель и три строки, \n",
    "# а затем выводит указанные строки через разделитель в следующем формате:\n",
    "sep = input()\n",
    "str1 = input()\n",
    "str2 = input()\n",
    "str3 = input()\n",
    "print()\n",
    "print(str1, str2, str3, sep=sep)"
   ]
  },
  {
   "cell_type": "code",
   "execution_count": null,
   "metadata": {},
   "outputs": [],
   "source": [
    "# Напишите программу вывода на экран трёх последовательно идущих чисел, каждое на отдельной строке. \n",
    "# Первое число вводит пользователь, остальные числа вы должны сами вычислять в программе.\n",
    "x1 = int(input())\n",
    "x2 = x1 + 1\n",
    "x3 = x2 + 1\n",
    "print(x1)\n",
    "print(x2)\n",
    "print(x3)"
   ]
  },
  {
   "cell_type": "code",
   "execution_count": null,
   "metadata": {},
   "outputs": [],
   "source": [
    "# Напишите программу, которая считывает три целых числа и выводит на экран их сумму. \n",
    "# Каждое число записано в отдельной строке.\n",
    "x1, x2, x3 = int(input()), int(input()), int(input())\n",
    "sum_x = x1 + x2 + x3\n",
    "print(sum_x)"
   ]
  },
  {
   "cell_type": "code",
   "execution_count": null,
   "metadata": {},
   "outputs": [],
   "source": [
    "# Напишите программу, которая считает стоимость трёх компьютеров, состоящих из монитора, системного блока, клавиатуры и мыши.\n",
    "mon, sb, kb, ms = int(input()), int(input()), int(input()), int(input())\n",
    "price_comp = mon + sb + kb + ms\n",
    "quantity = 3\n",
    "value = quantity * price_comp\n",
    "print(value)"
   ]
  },
  {
   "cell_type": "code",
   "execution_count": null,
   "metadata": {},
   "outputs": [],
   "source": [
    "# 3(a+b)^3+275b^2−127a−41\n",
    "a, b = int(input()), int(input())\n",
    "c = (a+b)*(a+b)*(a+b)\n",
    "y = 3*c + 275*b*b - 127*a - 41\n",
    "print(y)"
   ]
  },
  {
   "cell_type": "code",
   "execution_count": null,
   "metadata": {},
   "outputs": [],
   "source": [
    "# Напишите программу, которая считывает целое число и выводит для него на экран следующее и предыдущее целые числа \n",
    "# в следующем формате:\n",
    "# Следующее за числом <текущее число> число: <следующее число>\n",
    "# Для числа <текущее число> предыдущее число: <предыдущее число>\n",
    "x1 = int(input())\n",
    "x2 = x1 + 1\n",
    "x3 = x1 - 1\n",
    "print('Следующее за числом', x1, 'число:', x2)\n",
    "print('Для числа', x1, 'предыдущее число:', x3)"
   ]
  },
  {
   "cell_type": "code",
   "execution_count": null,
   "metadata": {},
   "outputs": [],
   "source": [
    "# Напишите программу, которая вычисляет объем куба и площадь его полной поверхности по введённому значению \n",
    "# длины ребра и выводит текст в следующем формате:\n",
    "# Объем = <объем куба>\n",
    "# Площадь полной поверхности = <площадь полной поверхности куба>\n",
    "a = int(input())\n",
    "v = a*a*a\n",
    "s = 6*a*a\n",
    "print('Объем =', v)\n",
    "print('Площадь полной поверхности =', s)"
   ]
  },
  {
   "cell_type": "code",
   "execution_count": null,
   "metadata": {},
   "outputs": [],
   "source": [
    "# Напишите программу, которая принимает на вход два числа \n",
    "# a и b, вычисляет сумму, разность и произведение для этих чисел и выводит текст в следующем формате:\n",
    "#     <число a> + <число b> = <сумма чисел a и b>\n",
    "# <число a> - <число b> = <разность чисел a и b>\n",
    "# <число a> * <число b> = <произведение чисел a и b>\n",
    "a, b = int(input()), int(input())\n",
    "x_sum = a + b\n",
    "x_diff = a - b\n",
    "x_mult = a * b\n",
    "print(a, '+', b, '=', x_sum)\n",
    "print(a, '-', b, '=', x_diff)\n",
    "print(a, '*', b, '=', x_mult)"
   ]
  },
  {
   "cell_type": "code",
   "execution_count": null,
   "metadata": {},
   "outputs": [],
   "source": [
    "# Арифметической прогрессией называется последовательность чисел\n",
    "a1, d, n = int(input()), int(input()), int(input())\n",
    "a = a1 + d * (n - 1)\n",
    "print(a)"
   ]
  },
  {
   "cell_type": "code",
   "execution_count": null,
   "metadata": {
    "scrolled": true
   },
   "outputs": [],
   "source": [
    "# Геометрическая прогрессия\n",
    "# Если известен первый член прогрессии и ее знаменатель, то n-ый член геометрической прогрессии находится по формуле:\n",
    "b1, q, n = int(input()), int(input()), int(input())\n",
    "b = b1 * q **(n-1)\n",
    "print(b)"
   ]
  },
  {
   "cell_type": "code",
   "execution_count": null,
   "metadata": {},
   "outputs": [],
   "source": [
    "# Напишите программу, которая находит полное число метров по заданному числу сантиметров.\n",
    "cm = int(input())\n",
    "full_m = cm // 100\n",
    "print(full_m)"
   ]
  },
  {
   "cell_type": "code",
   "execution_count": null,
   "metadata": {
    "scrolled": true
   },
   "outputs": [],
   "source": [
    "# n школьников делят k мандаринов поровну, неделящийся остаток остается в корзине. \n",
    "# Сколько целых мандаринов достанется каждому школьнику? Сколько целых мандаринов останется в корзине?\n",
    "n = int(input())\n",
    "k = int(input())\n",
    "full = k // n\n",
    "rm = k % n \n",
    "print(full)\n",
    "print(rm)"
   ]
  },
  {
   "cell_type": "code",
   "execution_count": null,
   "metadata": {},
   "outputs": [],
   "source": [
    "# Безумный титан Танос собрал все 6 камней бесконечности и намеревается уничтожить половину населения \n",
    "# Вселенной по щелчку пальцев. При этом если население Вселенной является нечетным числом, \n",
    "# то титан проявит милосердие и округлит количество выживших в большую сторону. \n",
    "# Помогите Мстителям подсчитать количество выживших.\n",
    "n = int(input())\n",
    "surv_1 = n // 2\n",
    "surv_2 = n % 2\n",
    "surv = surv_1 + surv_2 \n",
    "print(surv)"
   ]
  },
  {
   "cell_type": "code",
   "execution_count": null,
   "metadata": {},
   "outputs": [],
   "source": [
    "# Напишите программу для пересчёта величины временного интервала, \n",
    "# заданного в минутах, в величину, выраженную в часах и минутах в следующем формате:\n",
    "# <исходное кол-во минут> мин - это <полное кол-во часов> час <оставшееся кол-во минут> минут.\n",
    "n = int(input()) \n",
    "n_h = n // 60\n",
    "n_m = n - n_h * 60\n",
    "print(n, 'мин - это', n_h, 'час', n_m, 'минут.')"
   ]
  },
  {
   "cell_type": "code",
   "execution_count": null,
   "metadata": {},
   "outputs": [],
   "source": [
    "# Напишите программу, которая считывает целое положительное число x и выводит на экран последовательность чисел x,2x,3x,4x и \n",
    "# 5x, разделённых тремя чёрточками -\n",
    "x = int(input())\n",
    "x2 = 2*x\n",
    "x3 = 3*x\n",
    "x4 = 4*x\n",
    "x5 = 5*x\n",
    "sep = '---'\n",
    "print(x, x2, x3, x4, x5, sep=sep)"
   ]
  },
  {
   "cell_type": "code",
   "execution_count": null,
   "metadata": {},
   "outputs": [],
   "source": [
    "# В купейном вагоне имеется 9 купе с четырьмя местами для пассажиров в каждом. \n",
    "# Напишите программу, которая определяет номер купе, в котором находится место с заданным номером \n",
    "# (нумерация мест сквозная, начинается с 1).\n",
    "n = int(input()) \n",
    "k2 = n % -4\n",
    "k = (n - k2) // 4\n",
    "print(k)"
   ]
  },
  {
   "cell_type": "code",
   "execution_count": null,
   "metadata": {},
   "outputs": [],
   "source": [
    "# Напишите программу, которая \n",
    "# рассчитывает сумму и произведение цифр положительного трёхзначного числа \n",
    "# и выводит текст в следующем формате:\n",
    "n = int(input())\n",
    "n1 = n // 100\n",
    "n2 = (n % 100) // 10\n",
    "n3 = (n % 100) % 10\n",
    "n_sum = n1 + n2 + n3\n",
    "n_mult = n1 * n2 * n3\n",
    "print('Сумма цифр =', n_sum)\n",
    "print('Произведение цифр =', n_mult)"
   ]
  },
  {
   "cell_type": "code",
   "execution_count": null,
   "metadata": {},
   "outputs": [],
   "source": [
    "# Дано трехзначное число abc, в котором все цифры различны. \n",
    "# Напишите программу, которая выводит шесть чисел, образованных при перестановке цифр заданного числа.\n",
    "n = int(input())\n",
    "n1 = n // 100\n",
    "n2 = (n % 100) // 10\n",
    "n3 = (n % 100) % 10\n",
    "g1 = n\n",
    "g2 = n1 * 100 + n3 * 10 + n2\n",
    "g3 = n2 * 100 + n1 * 10 + n3\n",
    "g4 = n2 * 100 + n3 * 10 + n1\n",
    "g5 = n3 * 100 + n1 * 10 + n2\n",
    "g6 = n3 * 100 + n2 * 10 + n1\n",
    "print(g1)\n",
    "print(g2)\n",
    "print(g3)\n",
    "print(g4)\n",
    "print(g5)\n",
    "print(g6)"
   ]
  },
  {
   "cell_type": "code",
   "execution_count": null,
   "metadata": {},
   "outputs": [],
   "source": [
    "# Напишите программу для нахождения цифр четырёхзначного числа.\n",
    "n = int(input())\n",
    "n1 = n // 1000\n",
    "n2 = (n % 1000) // 100\n",
    "n3 = (n % 100) // 10\n",
    "n4 = n % 10\n",
    "print('Цифра в позиции тысяч равна', n1)\n",
    "print('Цифра в позиции сотен равна', n2)\n",
    "print('Цифра в позиции десятков равна', n3)\n",
    "print('Цифра в позиции единиц равна', n4)"
   ]
  },
  {
   "cell_type": "code",
   "execution_count": null,
   "metadata": {},
   "outputs": [],
   "source": [
    "# Напишите программу, которая выводит прямоугольник, по периметру состоящий из звёздочек (*).\n",
    "sp = ' ' * 15\n",
    "print('*' * 17)\n",
    "print('*', '*', sep=sp)\n",
    "print('*', '*', sep=sp)\n",
    "print('*' * 17)"
   ]
  },
  {
   "cell_type": "code",
   "execution_count": null,
   "metadata": {},
   "outputs": [],
   "source": [
    "# Напишите программу, которая считывает два целых числа a и b и выводит на экран квадрат суммы (a+b) 2 и сумму квадратов \n",
    "# этих чисел в следующем формате:\n",
    "#     Квадрат суммы <a> и <b> равен <квадрат суммы a и b>\n",
    "# Сумма квадратов <a> и <b> равна <сумма квадратов a и b>\n",
    "a, b = int(input()), int(input())\n",
    "sq_sum = (a + b) ** 2\n",
    "sum_sq = a ** 2 + b ** 2\n",
    "print('Квадрат суммы', a, 'и', b, 'равен', sq_sum)\n",
    "print('Сумма квадратов', a, 'и', b, 'равна', sum_sq)"
   ]
  },
  {
   "cell_type": "code",
   "execution_count": null,
   "metadata": {},
   "outputs": [],
   "source": [
    "# Как известно, целые числа в языке Python не имеют ограничений, которые встречаются в других языках программирования. \n",
    "# Напишите программу, которая считывает четыре целых положительных числа и выводит на экран значение выражения\n",
    "a, b = int(input()), int(input()) # Число\n",
    "c, d = int(input()), int(input()) # Степень\n",
    "ans = a ** b + c ** d\n",
    "print(ans)"
   ]
  },
  {
   "cell_type": "code",
   "execution_count": null,
   "metadata": {},
   "outputs": [],
   "source": [
    "# Напишите программу, которая считывает целое положительное число  \n",
    "# n(1≤n≤9) и выводит значение следующего выражения:\n",
    "# Пример: 1 + 11 + 111 = 123\n",
    "n = input()\n",
    "n1 = n\n",
    "n2 = n * 2\n",
    "n3 = n * 3\n",
    "ans = int(n1) + int(n2) + int(n3)\n",
    "print(ans)"
   ]
  },
  {
   "cell_type": "code",
   "execution_count": null,
   "metadata": {},
   "outputs": [],
   "source": [
    "# Напишите программу, которая сравнивает пароль и его подтверждение. \n",
    "# Если они совпадают, то программа выводит текст «Пароль принят» (без кавычек), иначе – «Пароль не принят» (без кавычек).\n",
    "x1, x2 = input(), input()\n",
    "if x1 == x2:\n",
    "    print('Пароль принят')\n",
    "else:\n",
    "    print('Пароль не принят')"
   ]
  },
  {
   "cell_type": "code",
   "execution_count": null,
   "metadata": {},
   "outputs": [],
   "source": [
    "# Напишите программу, которая определяет, является число четным или нечетным.\n",
    "x = int(input())\n",
    "if x % 2 == 0:\n",
    "    print('Четное')\n",
    "else:\n",
    "    print('Нечетное')"
   ]
  },
  {
   "cell_type": "code",
   "execution_count": null,
   "metadata": {},
   "outputs": [],
   "source": [
    "# Напишите программу, которая проверяет, что для заданного четырехзначного числа выполняется следующее соотношение: \n",
    "#     сумма первой и последней цифр равна разности второй и третьей цифр.\n",
    "x = int(input())\n",
    "x_sum = x // 1000 + x % 10\n",
    "x_diff = (x % 1000) // 100 - (x % 100) // 10\n",
    "if x_sum == x_diff:\n",
    "    print('ДА')\n",
    "else:\n",
    "    print('НЕТ')"
   ]
  },
  {
   "cell_type": "code",
   "execution_count": null,
   "metadata": {},
   "outputs": [],
   "source": [
    "# Напишите программу, которая определяет, разрешён ли пользователю доступ к интернет-ресурсу или нет.\n",
    "x = int(input())\n",
    "if x >= 18:\n",
    "    print('Доступ разрешен')\n",
    "else:\n",
    "    print('Доступ запрещен')\n"
   ]
  },
  {
   "cell_type": "code",
   "execution_count": null,
   "metadata": {
    "scrolled": false
   },
   "outputs": [],
   "source": [
    "# На вход программе подаются три целых числа, каждое на отдельной строке.\n",
    "a1, a2, a3 = int(input()), int(input()), int(input())\n",
    "if (a2 - a1) == (a3 - a2):\n",
    "    print('YES')\n",
    "else:\n",
    "    print('NO')"
   ]
  },
  {
   "cell_type": "code",
   "execution_count": null,
   "metadata": {},
   "outputs": [],
   "source": [
    "# Напишите программу, которая определяет наименьшее из двух чисел.\n",
    "a1, a2 = int(input()), int(input())\n",
    "if a1 >= a2:\n",
    "    print(a2)\n",
    "else:\n",
    "    print(a1)\n"
   ]
  },
  {
   "cell_type": "code",
   "execution_count": null,
   "metadata": {},
   "outputs": [],
   "source": [
    "# Напишите программу, которая по введённому возрасту пользователя сообщает, к какой возрастной группе он относится:\n",
    "x = int(input())\n",
    "if x >= 60:\n",
    "    print('старость')\n",
    "if 25 <= x <= 59:\n",
    "    print('зрелость')\n",
    "if 14 <= x <= 24:\n",
    "    print('молодость')\n",
    "if x < 14:\n",
    "    print('детство')"
   ]
  },
  {
   "cell_type": "code",
   "execution_count": null,
   "metadata": {},
   "outputs": [],
   "source": [
    "# Напишите программу, которая считывает три числа и подсчитывает сумму только положительных чисел.\n",
    "s = 0\n",
    "a1, a2, a3 = int(input()), int(input()), int(input())\n",
    "if a1 > 0:\n",
    "    s += a1\n",
    "if a2 > 0:\n",
    "    s += a2\n",
    "if a3 > 0:\n",
    "    s += a3\n",
    "print(s)"
   ]
  },
  {
   "cell_type": "code",
   "execution_count": null,
   "metadata": {},
   "outputs": [],
   "source": [
    "# Программа должна вывести текст в соответствии с условием задачи. (x принадлежит (-1;17))\n",
    "x = int(input())\n",
    "if x > -1 and x < 17:\n",
    "    print('Принадлежит')\n",
    "else:\n",
    "    print('Не принадлежит')"
   ]
  },
  {
   "cell_type": "code",
   "execution_count": null,
   "metadata": {},
   "outputs": [],
   "source": [
    "# Программа должна вывести текст в соответствии с условием задачи. (x принадлежит (-беск;-3] или [7; +беск))\n",
    "x = int(input())\n",
    "if x <= -3 or x >= 7:\n",
    "    print('Принадлежит')\n",
    "else:\n",
    "    print('Не принадлежит')"
   ]
  },
  {
   "cell_type": "code",
   "execution_count": null,
   "metadata": {},
   "outputs": [],
   "source": [
    "# Напишите программу, которая принимает целое число \n",
    "# x и определяет, принадлежит ли данное число указанным промежуткам.\n",
    "# (-30;-2] или (7;25]\n",
    "x = int(input())\n",
    "if (x > -30 and x <= -2) or (x > 7 and x <= 25):\n",
    "    print('Принадлежит')\n",
    "else:\n",
    "    print('Не принадлежит')"
   ]
  },
  {
   "cell_type": "code",
   "execution_count": null,
   "metadata": {},
   "outputs": [],
   "source": [
    "# Назовём число красивым, если оно является четырёхзначным и делится нацело на \n",
    "# 7 или на 17. Напишите программу, определяющую, является ли введённое число красивым. \n",
    "# Программа должна вывести «YES» (без кавычек), если число является красивым, или «NO» (без кавычек) в противном случае.\n",
    "x = int(input())\n",
    "if 1 <= x // 1000 <= 9 and (x % 7 == 0 or x % 17 == 0):\n",
    "    print('YES')\n",
    "else:\n",
    "    print('NO')"
   ]
  },
  {
   "cell_type": "code",
   "execution_count": null,
   "metadata": {},
   "outputs": [],
   "source": [
    "# Напишите программу, которая принимает три положительных числа и определяет, \n",
    "# существует ли невырожденный треугольник с такими сторонами.\n",
    "a, b, c = int(input()), int(input()), int(input())\n",
    "if (a + b > c) and (a + c > b) and (b + c > a):\n",
    "    print('YES')\n",
    "else:\n",
    "    print('NO')"
   ]
  },
  {
   "cell_type": "code",
   "execution_count": null,
   "metadata": {},
   "outputs": [],
   "source": [
    "# Напишите программу, которая определяет, является ли год с данным номером високосным. \n",
    "# Если год является високосным, то выведите «YES» (без кавычек), иначе выведите «NO» (без кавычек).\n",
    "# Год является високосным, если его номер кратен 4, но не кратен 100, или если он кратен 400.\n",
    "x = int(input())\n",
    "if (x % 400 == 0) or (x % 4 == 0 and not x % 100 == 0):\n",
    "    print('YES')\n",
    "else:\n",
    "    print('NO')"
   ]
  },
  {
   "cell_type": "code",
   "execution_count": null,
   "metadata": {},
   "outputs": [],
   "source": [
    "# Зум бросил вызов Флэшу и предложил ему честный поединок в виде гонки вокруг магнетара. \n",
    "# В случае проигрыша эта нейтронная звезда зарядится и уничтожит мир, поэтому Флэш решил не рисковать без причины \n",
    "# и узнать у своего друга Циско Рамона, есть ли смысл принимать вызов. Циско получил данные, что скорость Зума равна \n",
    "# n, а скорость Флэша равна k\n",
    "n, k = int(input()), int(input())\n",
    "if k > n:\n",
    "    print('YES')\n",
    "elif k == n:\n",
    "    print(\"Don't know\")\n",
    "else:\n",
    "    print('NO')"
   ]
  },
  {
   "cell_type": "code",
   "execution_count": null,
   "metadata": {},
   "outputs": [],
   "source": [
    "# Даны две различные клетки шахматной доски. Напишите программу, которая определяет, может ли ладья попасть с первой клетки на вторую одним ходом. Программа получает на вход четыре числа от \n",
    "# 1 до 8 каждое, задающие номер столбца и номер строки сначала для первой клетки, потом для второй клетки. \n",
    "# Программа должна вывести «YES» (без кавычек), если из первой клетки ходом ладьи можно попасть во вторую, \n",
    "# или «NO» (без кавычек) в противном случае.\n",
    "x1, y1 = int(input()), int(input())\n",
    "x2, y2 = int(input()), int(input())\n",
    "if y1 == y2 or x1 == x2:\n",
    "    print('YES')\n",
    "else:\n",
    "    print('NO')"
   ]
  },
  {
   "cell_type": "code",
   "execution_count": null,
   "metadata": {},
   "outputs": [],
   "source": [
    "# Напишите программу, которая классифицирует треугольник на основе длин его сторон. \n",
    "# Программа должна принимать три числа, каждое из которых представляет собой длину одной из его сторон. \n",
    "# В результате программа должна определить, является ли треугольник равносторонним, равнобедренным или разносторонним.\n",
    "a, b, c = int(input()), int(input()), int(input())\n",
    "if a == b == c:\n",
    "    print('Равносторонний')\n",
    "elif a == b or b == c or a == c:\n",
    "    print('Равнобедренный')\n",
    "else:\n",
    "    print('Разносторонний')"
   ]
  },
  {
   "cell_type": "code",
   "execution_count": null,
   "metadata": {},
   "outputs": [],
   "source": [
    "# Дан порядковый номер месяца (1,2,…,12). Напишите программу, которая выводит на экран количество дней в этом месяце. \n",
    "# Принять, что год является невисокосным.\n",
    "x = int(input())\n",
    "if x == 2:\n",
    "    print(28)\n",
    "elif x == 4 or x == 6 or x == 9 or x == 11:\n",
    "    print(30)\n",
    "else:\n",
    "    print(31)"
   ]
  },
  {
   "cell_type": "code",
   "execution_count": null,
   "metadata": {},
   "outputs": [],
   "source": [
    "# Даны три различных целых числа. Напишите программу, которая находит серединное значение из этих чисел.\n",
    "a, b, c = int(input()), int(input()), int(input())\n",
    "if (b < a < c) or (c < a < b):\n",
    "    print(a)\n",
    "elif (a < b < c) or (c < b < a):\n",
    "    print(b)\n",
    "elif (a < c < b) or (b < c < a):\n",
    "    print(c)"
   ]
  },
  {
   "cell_type": "code",
   "execution_count": null,
   "metadata": {},
   "outputs": [],
   "source": [
    "# Известен вес боксёра-любителя (целое число). Известно, что вес таков, что боксер может быть отнесён к одной из трёх весовых категорий:\n",
    "\n",
    "# Легкий вес – до 60 кг (невключительно);\n",
    "# Первый полусредний вес – до 64 кг (невключительно);\n",
    "# Полусредний вес – до 69 кг (невключительно).\n",
    "\n",
    "x = int(input())\n",
    "if 64 <= x < 69:\n",
    "    print('Полусредний вес')\n",
    "elif 60 <= x < 64:\n",
    "    print('Первый полусредний вес')\n",
    "elif x < 60:\n",
    "    print('Легкий вес')"
   ]
  },
  {
   "cell_type": "code",
   "execution_count": null,
   "metadata": {},
   "outputs": [],
   "source": [
    "# Напишите программу, которая считывает с клавиатуры два целых числа и строку. \n",
    "# Если эта строка является обозначением одной из четырёх математических операций (+, -, *, /), \n",
    "# то выведите результат применения этой операции к введённым ранее числам, в противном случае выведите «Неверная операция» \n",
    "# (без кавычек). \n",
    "# Если пользователь захочет поделить на ноль, выведите текст «На ноль делить нельзя!» (без кавычек).\n",
    "a, b = int(input()), int(input())\n",
    "c = input()\n",
    "if c != '+' and c != '-' and c != '*' and c != '/':\n",
    "    print('Неверная операция')\n",
    "else:\n",
    "    if c == '+':\n",
    "        print(a + b)\n",
    "    elif c == '-':\n",
    "        print(a - b)\n",
    "    elif c == '*':\n",
    "        print(a * b)\n",
    "    else:\n",
    "        if b == 0:\n",
    "            print('На ноль делить нельзя!')\n",
    "        else:\n",
    "            print(a / b)"
   ]
  },
  {
   "cell_type": "code",
   "execution_count": null,
   "metadata": {},
   "outputs": [],
   "source": [
    "# Красный, синий и желтый называются основными цветами, потому что их нельзя получить путем смешения других цветов. \n",
    "# При смешивании двух основных цветов получается вторичный цвет:\n",
    "# если смешать красный и синий, то получится фиолетовый;\n",
    "# если смешать красный и желтый, то получится оранжевый;\n",
    "# если смешать синий и желтый, то получится зеленый.\n",
    "# Напишите программу, которая считывает названия двух основных цветов для смешивания. \n",
    "# Если пользователь вводит что-нибудь помимо названий «красный», «синий» или «желтый», \n",
    "# то программа должна вывести сообщение об ошибке. \n",
    "# В противном случае программа должна вывести название вторичного цвета, который получится в результате.\n",
    "blue = 'синий'\n",
    "red = 'красный'\n",
    "yellow = 'желтый'\n",
    "a = input()\n",
    "b = input()\n",
    "if a == b and (a == blue or a == red or a == yellow):\n",
    "    print(a)\n",
    "elif (a == red and b == blue) or (a == blue and b == red):\n",
    "    print('фиолетовый')\n",
    "elif (a == red and b == yellow) or (a == yellow and b == red):\n",
    "    print('оранжевый')\n",
    "elif (a == blue and b == yellow) or (a == yellow and b == blue):\n",
    "    print('зеленый')\n",
    "else:\n",
    "    print('ошибка цвета')"
   ]
  },
  {
   "cell_type": "code",
   "execution_count": null,
   "metadata": {},
   "outputs": [],
   "source": [
    "# На числовой прямой даны два отрезка. Напишите программу, которая находит их пересечение.\n",
    "# Программа должна вывести на экран границы отрезка, являющегося пересечением, \n",
    "# либо общую точку, либо текст «пустое множество» (без кавычек).\n",
    "a1, b1 = int(input()), int(input())\n",
    "a2, b2 = int(input()), int(input())\n",
    "if a2 > b1 or a1 > b2:\n",
    "    print('пустое множество')\n",
    "elif b1 == a2 and b2 > a1:\n",
    "    print(b1)\n",
    "elif b2 == a1 and b1 > a2:\n",
    "    print(a1)\n",
    "elif a1 <= a2 < b1 < b2:\n",
    "    print(a2, b1)\n",
    "elif a2 <= a1 < b2 < b1:\n",
    "    print(a1, b2)\n",
    "elif a1 < a2 < b2 <= b1:\n",
    "    print(a2, b2)\n",
    "elif a2 < a1 < b1 <= b2:\n",
    "    print(a1, b1)\n",
    "elif a1 == a2 and b1 == b2:\n",
    "    print(a1, b1)"
   ]
  },
  {
   "cell_type": "code",
   "execution_count": null,
   "metadata": {},
   "outputs": [],
   "source": [
    "# Напишите программу, которая принимает на вход число и в зависимости от условий выводит текст «YES» \n",
    "# (без кавычек) либо «NO» (без кавычек).\n",
    "# Условия:\n",
    "# если число нечётное, то вывести «YES»;\n",
    "# если число чётное в диапазоне от 2 до 5 (включительно), то вывести «NO»;\n",
    "# если число чётное в диапазоне от 6 до 20 (включительно), то вывести «YES»;\n",
    "# если число чётное и больше 20, то вывести «NO».\n",
    "\n",
    "x = int(input())\n",
    "if x % 2 == 1:\n",
    "    print('YES')\n",
    "else:\n",
    "    if 2 <= x <= 5:\n",
    "        print('NO')\n",
    "    elif 6 <= x <= 20:\n",
    "        print('YES')\n",
    "    elif x > 20:\n",
    "        print('NO')\n",
    "\n"
   ]
  },
  {
   "cell_type": "code",
   "execution_count": null,
   "metadata": {},
   "outputs": [],
   "source": [
    "# Напишите программу, которая считывает целое число и выводит соответствующую ему римскую цифру. \n",
    "# Если число находится вне диапазона [1;10], то программа должна вывести текст «ошибка» (без кавычек).\n",
    "x = int(input())\n",
    "if 1 <= x <= 10:\n",
    "    if x == 1:\n",
    "        print('I')\n",
    "    elif x == 2:\n",
    "        print('II')\n",
    "    elif x == 3:\n",
    "        print('III')\n",
    "    elif x == 4:\n",
    "        print('IV')\n",
    "    elif x == 5:\n",
    "        print('V')\n",
    "    elif x == 6:\n",
    "        print('VI')\n",
    "    elif x == 7:\n",
    "        print('VII')\n",
    "    elif x == 8:\n",
    "        print('VIII')\n",
    "    elif x == 9:\n",
    "        print('IX')\n",
    "    else:\n",
    "        print('X')   \n",
    "else:\n",
    "    print('ошибка')"
   ]
  },
  {
   "cell_type": "code",
   "execution_count": null,
   "metadata": {},
   "outputs": [],
   "source": [
    "# Напишите программу, которая определяет, оканчивается ли год с данным номером на два нуля. \n",
    "# Если год оканчивается, то выведите «YES» (без кавычек), иначе выведите «NO» (без кавычек).\n",
    "x = int(input())\n",
    "if x % 10 == 0 and x % 100 == 0:\n",
    "    print('YES')\n",
    "else:\n",
    "    print('NO')"
   ]
  },
  {
   "cell_type": "code",
   "execution_count": null,
   "metadata": {},
   "outputs": [],
   "source": [
    "# Футбольная команда набирает девочек от 10 до 15 лет включительно. \n",
    "# Напишите программу, которая запрашивает возраст и пол претендента, \n",
    "# используя для обозначения пола буквы «m» (от male – мужчина) и «f» (от female – женщина), \n",
    "# и определяет, подходит ли претендент для вступления в команду или нет. \n",
    "# Если претендент подходит, то выведите «YES» (без кавычек), иначе выведите «NO» (без кавычек).\n",
    "age, sex = int(input()), input()\n",
    "if sex == 'f' and (10 <= age <= 15):\n",
    "    print('YES')\n",
    "else:\n",
    "    print('NO')"
   ]
  },
  {
   "cell_type": "markdown",
   "metadata": {},
   "source": [
    "# Интересные задачи"
   ]
  },
  {
   "cell_type": "code",
   "execution_count": null,
   "metadata": {
    "scrolled": true
   },
   "outputs": [],
   "source": [
    "# Напишите программу, которая определяет наименьшее из четырёх чисел.\n",
    "a1, a2, a3, a4 = int(input()), int(input()), int(input()), int(input())\n",
    "x = 0\n",
    "y = 0\n",
    "a_min = 0\n",
    "\n",
    "#Наименьшее из каждых двух чисел, а затем сравниваем между собой\n",
    "if a1 <= a2:\n",
    "    x = a1\n",
    "else:\n",
    "    x = a2\n",
    "if a3 <= a4:\n",
    "    y = a3\n",
    "else:\n",
    "    y = a4\n",
    "if x <= y:\n",
    "    a_min = x\n",
    "else:\n",
    "    a_min = y\n",
    "print(a_min)"
   ]
  },
  {
   "cell_type": "code",
   "execution_count": null,
   "metadata": {},
   "outputs": [],
   "source": [
    "# Даны две различные клетки шахматной доски. Напишите программу, которая определяет, может ли король попасть с первой клетки на вторую одним ходом. Программа получает на вход четыре числа от \n",
    "# 1 до 8 каждое, задающие номер столбца и номер строки сначала для первой клетки, потом для второй клетки. \n",
    "# Программа должна вывести «YES» (без кавычек), если из первой клетки ходом короля можно попасть во вторую, или «NO» (без кавычек) в противном случае.\n",
    "x1, y1 = int(input()), int(input())\n",
    "x2, y2 = int(input()), int(input())\n",
    "if ((x1 - 1) <= x2 <= (x1 + 1)) and ((y1 - 1) <= y2 <= (y1 + 1)):\n",
    "    print('YES')\n",
    "else:\n",
    "    print('NO')"
   ]
  },
  {
   "cell_type": "code",
   "execution_count": null,
   "metadata": {},
   "outputs": [],
   "source": [
    "# Заданы две клетки шахматной доски. \n",
    "# Напишите программу, которая определяет, имеют ли указанные клетки один цвет или нет. \n",
    "# Если они покрашены в один цвет, то выведите слово «YES» (без кавычек), а если в разные цвета, то «NO» (без кавычек).\n",
    "x1, y1 = int(input()), int(input())\n",
    "x2, y2 = int(input()), int(input())\n",
    "\n",
    "# Если первая клетка НЕзакрашенная\n",
    "if (x1 % 2 == 0 and y1 % 2 == 0) or (x1 % 2 == 1 and y1 % 2 == 1):\n",
    "    #И вторая клетка тоже\n",
    "    if (x2 % 2 == 0 and y2 % 2 == 0) or (x2 % 2 == 1 and y2 % 2 == 1):\n",
    "        print('YES')\n",
    "    else:\n",
    "        print('NO')\n",
    "#Иначе если, первая клетка закрашенная\n",
    "else:\n",
    "    if not ((x2 % 2 == 0 and y2 % 2 == 0) or (x2 % 2 == 1 and y2 % 2 == 1)):\n",
    "        print('YES')\n",
    "    else:\n",
    "        print('NO')"
   ]
  },
  {
   "cell_type": "code",
   "execution_count": null,
   "metadata": {},
   "outputs": [],
   "source": [
    "# Даны две различные клетки шахматной доски. \n",
    "# Напишите программу, которая определяет, может ли конь попасть с первой клетки на вторую одним ходом. \n",
    "# Программа получает на вход четыре числа от 1 до 8 каждое, \n",
    "# задающие номер столбца и номер строки сначала для первой клетки, потом для второй клетки. \n",
    "# Программа должна вывести «YES», если из первой клетки ходом коня можно попасть во вторую, или «NO» в противном случае.\n",
    "x1, y1 = int(input()), int(input())\n",
    "x2, y2 = int(input()), int(input())\n",
    "\n",
    "if (x1 - x2 == 1) and (y1 - y2 == 2 or y1 - y2 == -2):\n",
    "    print('YES')\n",
    "elif (x1 - x2 == 2) and (y1 - y2 == 1 or y1 - y2 == -1):\n",
    "    print('YES')\n",
    "elif (x1 - x2 == -1) and (y1 - y2 == 2 or y1 - y2 == -2):\n",
    "    print('YES')\n",
    "elif (x1 - x2 == -2) and (y1 - y2 == 1 or y1 - y2 == -1):\n",
    "    print('YES')\n",
    "else:\n",
    "    print('NO')"
   ]
  },
  {
   "cell_type": "code",
   "execution_count": null,
   "metadata": {},
   "outputs": [],
   "source": [
    "# Даны две различные клетки шахматной доски. Напишите программу, которая определяет, может ли слон попасть с первой клетки на вторую одним ходом. Программа получает на вход четыре числа от \n",
    "# 1 до 8 каждое, задающие номер столбца и номер строки сначала для первой клетки, потом для второй клетки. \n",
    "# Программа должна вывести «YES», если из первой клетки ходом слона можно попасть во вторую, или «NO» в противном случае.\n",
    "x1, y1 = int(input()), int(input())\n",
    "x2, y2 = int(input()), int(input())\n",
    "\n",
    "# Диагональ вправо ИЛИ диагональ влево\n",
    "if (x1 + y1) == (x2 + y2) or (y1 - x1) == (y2 - x2):\n",
    "    print('YES')\n",
    "else:\n",
    "    print('NO')"
   ]
  },
  {
   "cell_type": "code",
   "execution_count": null,
   "metadata": {
    "scrolled": true
   },
   "outputs": [],
   "source": [
    "# Даны две различные клетки шахматной доски. Напишите программу, которая определяет, \n",
    "# может ли ферзь попасть с первой клетки на вторую одним ходом. Программа получает на вход четыре числа от \n",
    "# 1 до 8 каждое, задающие номер столбца и номер строки сначала для первой клетки, потом для второй клетки. \n",
    "# Программа должна вывести «YES», если из первой клетки ходом ферзя можно попасть во вторую, или «NO» в противном случае.\n",
    "\n",
    "x1, y1 = int(input()), int(input())\n",
    "x2, y2 = int(input()), int(input())\n",
    "\n",
    "# Диагональ вправо ИЛИ диагональ влево ИЛИ вертикаль ИЛИ горизонталь\n",
    "if (x1 + y1) == (x2 + y2) or (y1 - x1) == (y2 - x2) or x1 == x2 or y1 == y2:\n",
    "    print('YES')\n",
    "else:\n",
    "    print('NO')"
   ]
  },
  {
   "cell_type": "code",
   "execution_count": null,
   "metadata": {},
   "outputs": [],
   "source": [
    "# На колесе рулетки карманы пронумерованы от 0 до 36. Ниже приведены цвета карманов: \n",
    "# карман 0 – зеленый;\n",
    "# для карманов с 1 по 10 карманы с нечётным номером имеют красный цвет, карманы с чётным номером – черный;\n",
    "# для карманов с 11 по 18 карманы с нечётным номером имеют черный цвет, карманы с чётным номером – красный;\n",
    "# для карманов с 19 по 28 карманы с нечётным номером имеют красный цвет, карманы с чётным номером – черный;\n",
    "# для карманов с 29 по 36 карманы с нечётным номером имеют черный цвет, карманы с чётным номером – красный.\n",
    "# Напишите программу, которая считывает номер кармана и показывает, является ли этот карман зеленым, красным или черным. \n",
    "# Программа должна вывести сообщение об ошибке, если пользователь вводит число, которое лежит вне диапазона от 0 до 36.\n",
    "n = int(input())\n",
    "\n",
    "if n == 0:\n",
    "    print('зеленый')\n",
    "elif 1 <= n <= 10 or 19 <= n <= 28:\n",
    "    if n % 2 != 0:\n",
    "        print('красный')\n",
    "    else:\n",
    "        print('черный')\n",
    "elif 11 <= n <= 18 or 29 <= n <= 36:\n",
    "    if n % 2 != 0:\n",
    "        print('черный')\n",
    "    else:\n",
    "        print('красный')\n",
    "elif n > 36 or n < 0:\n",
    "    print('ошибка ввода')"
   ]
  },
  {
   "cell_type": "markdown",
   "metadata": {},
   "source": [
    "# Блок \"ТИПЫ ДАННЫХ\""
   ]
  },
  {
   "cell_type": "code",
   "execution_count": null,
   "metadata": {
    "scrolled": true
   },
   "outputs": [],
   "source": [
    "# Напишите программу, которая считывает длины двух катетов в прямоугольном треугольнике и выводит его площадь.\n",
    "a, b = float(input()), float(input())\n",
    "s = a * b / 2\n",
    "print(s)"
   ]
  },
  {
   "cell_type": "code",
   "execution_count": null,
   "metadata": {},
   "outputs": [],
   "source": [
    "# Две старушки идут навстречу друг другу с постоянными скоростями v1 и v2 км/ч. \n",
    "# Определите, через какое время (в часах) старушки встретятся, если расстояние между ними равно S км.\n",
    "s, v1, v2 = float(input()), float(input()), float(input())\n",
    "t = s / (v1 + v2)\n",
    "print(t)"
   ]
  },
  {
   "cell_type": "code",
   "execution_count": null,
   "metadata": {},
   "outputs": [],
   "source": [
    "# Напишите программу, которая считывает с клавиатуры одно число и выводит обратное ему. \n",
    "# Если при этом введённое с клавиатуры число – ноль, то вывести «Обратного числа не существует» (без кавычек).\n",
    "a = float(input())\n",
    "if a == 0:\n",
    "    print('Обратного числа не существует')\n",
    "else:\n",
    "    a_rev = 1 / a\n",
    "    print(a_rev)"
   ]
  },
  {
   "cell_type": "code",
   "execution_count": null,
   "metadata": {},
   "outputs": [],
   "source": [
    "# У известного американского писателя Рэя Бредбери есть роман «451 градус по Фаренгейту». \n",
    "# Напишите программу, которая определяет, \n",
    "# какой температуре по шкале Цельсия соответствует указанное значение по шкале Фаренгейта.\n",
    "f = float(input())\n",
    "c = 5 / 9 * (f - 32)\n",
    "print(c)"
   ]
  },
  {
   "cell_type": "code",
   "execution_count": null,
   "metadata": {},
   "outputs": [],
   "source": [
    "# На вход программе подаётся число n – количество собачьих лет. \n",
    "# Напишите программу, которая вычисляет возраст собаки в человеческих годах по следующему алгоритму: \n",
    "# в течение первых двух лет собачий год равен 10.5 человеческим годам, \n",
    "# после этого каждый год собаки равен 4 человеческим годам.\n",
    "n = float(input())\n",
    "if n > 2:\n",
    "    age = 2 * 10.5 + (n - 2) * 4\n",
    "else:\n",
    "    age = n * 10.5\n",
    "print(age)"
   ]
  },
  {
   "cell_type": "code",
   "execution_count": null,
   "metadata": {},
   "outputs": [],
   "source": [
    "3384390.4339 % -10"
   ]
  },
  {
   "cell_type": "code",
   "execution_count": null,
   "metadata": {},
   "outputs": [],
   "source": [
    "# Дано положительное действительное число. Выведите его первую цифру после десятичной точки.\n",
    "n = float(input())\n",
    "a = int((n * 10) % 10)\n",
    "print(a)"
   ]
  },
  {
   "cell_type": "code",
   "execution_count": null,
   "metadata": {},
   "outputs": [],
   "source": [
    "# Дано положительное действительное число. Выведите его дробную часть.\n",
    "n = float(input())\n",
    "a = n % (int(n))\n",
    "print(a)"
   ]
  },
  {
   "cell_type": "code",
   "execution_count": null,
   "metadata": {},
   "outputs": [],
   "source": [
    "# Напишите программу, которая находит наименьшее и наибольшее из пяти чисел и выводит текст в следующем формате:\n",
    "# Наименьшее число = <наименьшее число>\n",
    "# Наибольшее число = <наибольшее число>\n",
    "a, b, c, d, e = int(input()), int(input()), int(input()), int(input()), int(input())\n",
    "min_5 = min(a, b, c, d, e)\n",
    "max_5 = max(a, b, c, d, e)\n",
    "print('Наименьшее число =', min_5)\n",
    "print('Наибольшее число =', max_5)"
   ]
  },
  {
   "cell_type": "code",
   "execution_count": null,
   "metadata": {},
   "outputs": [],
   "source": [
    "# Напишите программу, которая упорядочивает три числа от большего к меньшему.\n",
    "a, b, c = int(input()), int(input()), int(input())\n",
    "maxi = max(a, b, c)\n",
    "mini = min(a, b, c)\n",
    "s = a + b + c\n",
    "avg = s - (mini + maxi)\n",
    "print(maxi)\n",
    "print(avg)\n",
    "print(mini)"
   ]
  },
  {
   "cell_type": "code",
   "execution_count": null,
   "metadata": {},
   "outputs": [],
   "source": [
    "# Назовём число интересным, если в нём разность максимальной и минимальной цифры равняется средней по величине цифре. \n",
    "# Напишите программу, которая определяет, интересное число или нет. \n",
    "# Если число интересное, следует вывести текст «Число интересное» (без кавычек), иначе – «Число неинтересное» (без кавычек).\n",
    "num = int(input())\n",
    "a = num // 100\n",
    "b = (num % 100) // 10\n",
    "c = num % 10\n",
    "maxi = max(a, b, c)\n",
    "mini = min(a, b, c)\n",
    "avg = a + b + c - maxi - mini\n",
    "\n",
    "if (maxi - mini) == avg:\n",
    "    print('Число интересное')\n",
    "else:\n",
    "    print('Число неинтересное')"
   ]
  },
  {
   "cell_type": "code",
   "execution_count": null,
   "metadata": {
    "scrolled": true
   },
   "outputs": [],
   "source": [
    "# Даны пять чисел. Напишите программу, которая вычисляет сумму их модулей\n",
    "a, b, c, d, e = float(input()), float(input()), float(input()), float(input()), float(input())\n",
    "s = abs(a) + abs(b) + abs(c) + abs(d) + abs(e)\n",
    "print(s)"
   ]
  },
  {
   "cell_type": "code",
   "execution_count": null,
   "metadata": {},
   "outputs": [],
   "source": [
    "# Прогуливаясь по Манхэттену, вы не можете попасть из точки А в точку Б по кратчайшему пути. \n",
    "# Если только вы не умеете проходить сквозь стены, вам обязательно придется идти вдоль его параллельно-перпендикулярных улиц.\n",
    "p1, p2 = int(input()), int(input())\n",
    "q1, q2 = int(input()), int(input())\n",
    "s1 = p1 - q1\n",
    "s2 = p2 - q2\n",
    "s = abs(s1) + abs(s2)\n",
    "print(s)"
   ]
  },
  {
   "cell_type": "code",
   "execution_count": null,
   "metadata": {},
   "outputs": [],
   "source": [
    "# Написать следующую программу\n",
    "# \"Python is a great language!\", said Fred. \"I don't ever remember having this much fun before.\"\n",
    "print(''' \"Python is a great language!\", said Fred. \"I don't ever remember having this much fun before.\"''')"
   ]
  },
  {
   "cell_type": "code",
   "execution_count": null,
   "metadata": {},
   "outputs": [],
   "source": [
    "# Напишите программу, которая считывает с клавиатуры две строки – имя и фамилию пользователя – и выводит фразу:\n",
    "# Hello <введённое имя> <введённая фамилия>! You have just delved into Python\n",
    "name = input()\n",
    "surname = input() + '!'\n",
    "print('Hello', name, surname, 'You have just delved into Python')"
   ]
  },
  {
   "cell_type": "code",
   "execution_count": null,
   "metadata": {},
   "outputs": [],
   "source": [
    "# Напишите программу, которая считывает с клавиатуры название футбольной команды и выводит информацию о ней в следующем формате:\n",
    "# Футбольная команда <название футбольной команды> имеет длину <длина названия футбольной команды> символов\n",
    "name = input()\n",
    "print('Футбольная команда', name, 'имеет длину', len(name), 'символов')"
   ]
  },
  {
   "cell_type": "code",
   "execution_count": null,
   "metadata": {},
   "outputs": [],
   "source": [
    "# Даны названия трёх городов. Напишите программу, которая определяет самое короткое и самое длинное название города.\n",
    "city1, city2, city3 = input(), input(), input()\n",
    "len1, len2, len3 = len(city1), len(city2), len(city3)\n",
    "if len1 < len2 and len1 < len3:\n",
    "    if len2 < len3:\n",
    "        print(city1)\n",
    "        print(city3)\n",
    "    else:\n",
    "        print(city1)\n",
    "        print(city2)\n",
    "elif len2 < len1 and len2 < len3:\n",
    "    if len1 < len3:\n",
    "        print(city2)\n",
    "        print(city3)\n",
    "    else:\n",
    "        print(city2)\n",
    "        print(city1)\n",
    "elif len3 < len1 and len3 < len2:\n",
    "    if len1 < len2:\n",
    "        print(city3)\n",
    "        print(city2)\n",
    "    else:\n",
    "        print(city3)\n",
    "        print(city1)"
   ]
  },
  {
   "cell_type": "code",
   "execution_count": null,
   "metadata": {
    "scrolled": false
   },
   "outputs": [],
   "source": [
    "# a1, d, n = int(input()), int(input()), int(input())\n",
    "# a = a1 + d * (n - 1)\n",
    "# print(a)\n",
    "\n",
    "# Вводятся 3 строки в случайном порядке. \n",
    "# Напишите программу, которая выясняет, можно ли из длин этих строк построить арифметическую прогрессию.\n",
    "\n",
    "#Вводим строки и высчитываем их длины\n",
    "first_str_len = len(input())\n",
    "second_str_len = len(input())\n",
    "third_str_len = len(input())\n",
    "\n",
    "#Определяем минимальную, максимальную и среднюю длину\n",
    "mini = min(first_str_len, second_str_len, third_str_len)\n",
    "maxi = max(first_str_len, second_str_len, third_str_len)\n",
    "avg = first_str_len + second_str_len + third_str_len - mini - maxi\n",
    "\n",
    "d = avg - mini\n",
    "if maxi == mini + d * (3 - 1):\n",
    "    print('YES')\n",
    "else:\n",
    "    print('NO')"
   ]
  },
  {
   "cell_type": "code",
   "execution_count": null,
   "metadata": {},
   "outputs": [],
   "source": [
    "# Напишите программу, которая считывает одну строку, после чего выводит «YES» (без кавычек), \n",
    "# если во введённой строке есть подстрока «синий», \n",
    "# или «NO» (без кавычек) в противном случае.\n",
    "string = input()\n",
    "if 'синий' in string:\n",
    "    print('YES')\n",
    "else:\n",
    "    print('NO')"
   ]
  },
  {
   "cell_type": "code",
   "execution_count": null,
   "metadata": {},
   "outputs": [],
   "source": [
    "# Напишите программу, которая считывает одну строку, после чего выводит «YES» (без кавычек), \n",
    "# если во введённой строке есть подстрока «суббота» или «воскресенье», \n",
    "# или «NO» (без кавычек) в противном случае.\n",
    "s = input()\n",
    "if 'суббота' in s or 'воскресенье' in s:\n",
    "    print('YES')\n",
    "else:\n",
    "    print('NO')"
   ]
  },
  {
   "cell_type": "code",
   "execution_count": null,
   "metadata": {},
   "outputs": [],
   "source": [
    "# Будем считать email адрес корректным, если в нём есть символы собачки (@) и точки (.). \n",
    "# Напишите программу, проверяющую корректность email адреса.\n",
    "email = input()\n",
    "if '@' in email and '.' in email:\n",
    "    print('YES')\n",
    "else:\n",
    "    print('NO')"
   ]
  },
  {
   "cell_type": "code",
   "execution_count": null,
   "metadata": {},
   "outputs": [],
   "source": [
    "from math import sqrt, pow, pi, radians, sin, cos, tan, floor, ceil"
   ]
  },
  {
   "cell_type": "code",
   "execution_count": null,
   "metadata": {},
   "outputs": [],
   "source": [
    "# Напишите программу, определяющую евклидово расстояние между двумя точками, координаты которых заданы.\n",
    "# На вход программе подаются четыре действительных числа, каждое на отдельной строке.\n",
    "x1, y1, x2, y2 = float(input()), float(input()), float(input()), float(input())\n",
    "diff_x = pow((x1-x2), 2)\n",
    "diff_y = pow((y1-y2), 2)\n",
    "s = sqrt(diff_x + diff_y)\n",
    "print(s)"
   ]
  },
  {
   "cell_type": "code",
   "execution_count": null,
   "metadata": {},
   "outputs": [],
   "source": [
    "# Найти площадь и длину круга по радиусу\n",
    "r = float(input())\n",
    "s = pi * pow(r, 2)\n",
    "c = 2 * pi * r\n",
    "print(s)\n",
    "print(c)"
   ]
  },
  {
   "cell_type": "code",
   "execution_count": null,
   "metadata": {},
   "outputs": [],
   "source": [
    "# На вход программе подаются два положительных действительных числа a и b, каждое на отдельной строке.\n",
    "# Программа должна вывести 4 числа (каждое на отдельной строке) – среднее арифметическое, \n",
    "# геометрическое, гармоническое и квадратичное.\n",
    "\n",
    "a, b = float(input()), float(input())\n",
    "avg_ar = (a + b) / 2\n",
    "avg_ge = sqrt(a * b)\n",
    "avg_ga = (2 * a * b) / (a + b)\n",
    "avg_s = sqrt((pow(a, 2) + pow(b, 2)) / 2)\n",
    "print(avg_ar)\n",
    "print(avg_ge)\n",
    "print(avg_ga)\n",
    "print(avg_s)"
   ]
  },
  {
   "cell_type": "code",
   "execution_count": null,
   "metadata": {},
   "outputs": [],
   "source": [
    "# Напишите программу, вычисляющую значение тригонометрического выражения по заданному числу градусов x.\n",
    "x = float(input())\n",
    "rx = radians(x)\n",
    "res = sin(rx) + cos(rx) + pow(tan(rx), 2)\n",
    "print(res)"
   ]
  },
  {
   "cell_type": "code",
   "execution_count": null,
   "metadata": {
    "scrolled": true
   },
   "outputs": [],
   "source": [
    "# Напишите программу, которая принимает на вход действительное число x и вычисляет по нему значение (x меньш + x больш)\n",
    "x = float(input())\n",
    "res = floor(x) + ceil(x)\n",
    "print(res)"
   ]
  },
  {
   "cell_type": "code",
   "execution_count": null,
   "metadata": {},
   "outputs": [],
   "source": [
    "# Даны три действительных числа a, b, c. Напишите программу, которая находит действительные корни квадратного уравнения:\n",
    "a, b, c = float(input()), float(input()), float(input())\n",
    "D = pow(b, 2) - 4 * a * c\n",
    "if D > 0:\n",
    "    x1 = (- b - sqrt(D)) / (2 * a)\n",
    "    x2 = (- b + sqrt(D)) / (2 * a)\n",
    "    print(min(x1, x2))\n",
    "    print(max(x1, x2))\n",
    "elif D == 0:\n",
    "    x = - b / (2 * a)\n",
    "    print(x)\n",
    "else:\n",
    "    print('Нет корней')"
   ]
  },
  {
   "cell_type": "code",
   "execution_count": null,
   "metadata": {},
   "outputs": [],
   "source": [
    "# Даны два числа: натуральное число n и действительное число a. \n",
    "# Напишите программу, которая находит площадь указанного правильного многоугольника.\n",
    "n = int(input())\n",
    "a = float(input())\n",
    "s = (n * pow(a, 2)) / (4 * tan(pi / n))\n",
    "print(s)"
   ]
  },
  {
   "cell_type": "markdown",
   "metadata": {},
   "source": [
    "# f"
   ]
  },
  {
   "cell_type": "code",
   "execution_count": null,
   "metadata": {},
   "outputs": [],
   "source": [
    "# Программа должна вывести 10 раз текст «Python is awesome!» (без кавычек), каждый на отдельной строке.\n",
    "for i in range(10):\n",
    "    print('Python is awesome!')"
   ]
  },
  {
   "cell_type": "code",
   "execution_count": null,
   "metadata": {},
   "outputs": [],
   "source": [
    "# Напишите программу, которая использует ровно три цикла for для печати следующей последовательности символов:\n",
    "for i in range(6):\n",
    "    print('A' * 3)\n",
    "\n",
    "for i in range(5):\n",
    "    print('B' * 4)\n",
    "\n",
    "print('E')\n",
    "\n",
    "for i in range(9):\n",
    "    print('T' * 5)\n",
    "\n",
    "print('G')\n"
   ]
  },
  {
   "cell_type": "code",
   "execution_count": null,
   "metadata": {},
   "outputs": [],
   "source": [
    "# Дано предложение и количество раз, сколько его надо повторить. \n",
    "# Напишите программу, которая повторяет данное предложение нужное количество раз\n",
    "string = input()\n",
    "n = int(input())\n",
    "\n",
    "for i in range(n):\n",
    "    print(string)"
   ]
  },
  {
   "cell_type": "code",
   "execution_count": null,
   "metadata": {},
   "outputs": [],
   "source": [
    "# На вход программе подаётся натуральное число (1 <= n <= 20)\n",
    "# Напишите программу, которая печатает звёздный прямоугольник размерами n×19.\n",
    "length = 19\n",
    "n = int(input())\n",
    "for i in range(n):\n",
    "    print('*' * length)"
   ]
  },
  {
   "cell_type": "code",
   "execution_count": null,
   "metadata": {
    "scrolled": true
   },
   "outputs": [],
   "source": [
    "# Напишите программу, которая считывает одну строку текста и выводит 10 строк, \n",
    "# пронумерованных от 0 до 9 каждая, с указанной строкой текста.\n",
    "st = input()\n",
    "for i in range(10):\n",
    "    print(i, st)"
   ]
  },
  {
   "cell_type": "code",
   "execution_count": null,
   "metadata": {},
   "outputs": [],
   "source": [
    "# На вход программе подаётся натуральное число n. Напишите программу, которая для \n",
    "# каждого из чисел от 0 до n (включительно) выводит текст в следующем формате:\n",
    "#     Квадрат числа <текущее число> равен <квадрат текущего числа>\n",
    "\n",
    "n = int(input())\n",
    "\n",
    "for i in range(n + 1):\n",
    "    sq_n = i * i\n",
    "    print('Квадрат числа', i, 'равен', sq_n)"
   ]
  },
  {
   "cell_type": "code",
   "execution_count": null,
   "metadata": {},
   "outputs": [],
   "source": [
    "# На вход программе подаётся натуральное число n(n≥2) – катет прямоугольного равнобедренного треугольника.\n",
    "# Напишите программу, которая выводит звёздный треугольник в соответствии с примером.\n",
    "\n",
    "n = int(input())\n",
    "\n",
    "for i in range(n):\n",
    "    print('*' * (n - i))"
   ]
  },
  {
   "cell_type": "code",
   "execution_count": null,
   "metadata": {},
   "outputs": [],
   "source": [
    "# На вход программе подаются три натуральных числа m,p,n:\n",
    "# m: стартовое количество организмов;\n",
    "# p: среднесуточное увеличение в %;\n",
    "# n: количество дней для размножения.\n",
    "# Напишите программу, которая предсказывает размер популяции организмов с n-й день (включительно). \n",
    "# Программа должна выводить номер дня, а затем через пробел размер популяции в этот день.\n",
    "m = int(input())\n",
    "p = int(input())\n",
    "n = int(input())\n",
    "\n",
    "sh_p = 1 + (p / 100)\n",
    "\n",
    "for i in range(n):\n",
    "    print(i+1, m)\n",
    "    m = m * sh_p"
   ]
  },
  {
   "cell_type": "code",
   "execution_count": null,
   "metadata": {},
   "outputs": [],
   "source": [
    "# Даны два целых числа m и n. Напишите программу, которая выводит все целые числа от m до n включительно.\n",
    "m, n = int(input()), int(input())\n",
    "for i in range(m, n + 1):\n",
    "    print(i)"
   ]
  },
  {
   "cell_type": "code",
   "execution_count": null,
   "metadata": {},
   "outputs": [],
   "source": [
    "# Даны два целых числа m и n. Напишите программу, которая выводит все целые числа от \n",
    "# m до n включительно в порядке возрастания, если m<n, или в порядке убывания в противном случае.\n",
    "m, n = int(input()), int(input())\n",
    "if m < n:\n",
    "    for i in range(m, n + 1):\n",
    "        print(i)\n",
    "else:\n",
    "    for i in range(m, n - 1, -1):\n",
    "        print(i)"
   ]
  },
  {
   "cell_type": "code",
   "execution_count": null,
   "metadata": {},
   "outputs": [],
   "source": [
    "# Даны два целых числа (m>n). Напишите программу, которая выводит все нечётные целые числа от \n",
    "# m до n (включительно) в порядке убывания.\n",
    "m, n = int(input()), int(input())\n",
    "for i in range(m, n - 1, -1):\n",
    "    if i % 2 != 0:\n",
    "        print(i)"
   ]
  },
  {
   "cell_type": "code",
   "execution_count": null,
   "metadata": {},
   "outputs": [],
   "source": [
    "# Даны два натуральных числа (m≤n). Напишите программу, которая выводит все целые числа от \n",
    "# m до n (включительно), удовлетворяющие хотя бы одному из условий:\n",
    "# число кратно 17\n",
    "# число оканчивается на 9\n",
    "# число кратно 3 и 5 одновременно\n",
    "m, n = int(input()), int(input())\n",
    "for i in range(m, n + 1):\n",
    "    if i % 17 == 0 or i % 10 == 9 or (i % 3 == 0 and i % 5 == 0):\n",
    "        print(i)"
   ]
  },
  {
   "cell_type": "code",
   "execution_count": null,
   "metadata": {},
   "outputs": [],
   "source": [
    "# Дано натуральное число n. Напишите программу, которая выводит таблицу умножения\n",
    "n = int(input())\n",
    "for i in range(1, 11):\n",
    "    print(n, 'x', i, '=', i * n)"
   ]
  },
  {
   "cell_type": "code",
   "execution_count": null,
   "metadata": {},
   "outputs": [],
   "source": [
    "# На вход программе подаются два целых числа (a≤b). \n",
    "# Напишите программу, которая подсчитывает количество чисел в диапазоне от \n",
    "# a до b (включительно), куб которых оканчивается на 4 или 9.\n",
    "from math import pow\n",
    "a, b = int(input()), int(input())\n",
    "cnt = 0\n",
    "for i in range(a, b + 1):\n",
    "    if pow(i, 3) % 10 == 4 or pow(i, 3) % 10 == 9:\n",
    "        cnt += 1\n",
    "print(cnt)\n"
   ]
  },
  {
   "cell_type": "code",
   "execution_count": null,
   "metadata": {},
   "outputs": [],
   "source": [
    "# На вход программе подаются натуральное число n, \n",
    "# а затем n целых чисел, каждое на отдельной строке. Напишите программу, которая подсчитывает сумму введённых чисел \n",
    "# (не включая само число n). \n",
    "n = int(input())\n",
    "total = 0\n",
    "for i in range(n):\n",
    "    w = int(input())\n",
    "    total += w\n",
    "print(total)\n",
    "    "
   ]
  },
  {
   "cell_type": "code",
   "execution_count": null,
   "metadata": {},
   "outputs": [],
   "source": [
    "# На вход программе подаётся натуральное число n\n",
    "from math import log\n",
    "\n",
    "n = int(input())\n",
    "total = 0\n",
    "\n",
    "for i in range(1, n + 1):\n",
    "    total += 1 / i\n",
    "\n",
    "total -= log(n)\n",
    "print(total)"
   ]
  },
  {
   "cell_type": "code",
   "execution_count": null,
   "metadata": {},
   "outputs": [],
   "source": [
    "# На вход программе подаётся натуральное число n. \n",
    "# Напишите программу, которая подсчитывает сумму тех чисел от 1 до n (включительно), \n",
    "# квадрат которых оканчивается на 2,5 или 8.\n",
    "from math import pow\n",
    "n = int(input())\n",
    "total = 0\n",
    "\n",
    "for i in range(1, n + 1):\n",
    "    if pow(i, 2) % 10 == 2 or pow(i, 2) % 10 == 5 or pow(i, 2) % 10 == 8:\n",
    "        total += i\n",
    "\n",
    "print(total)"
   ]
  },
  {
   "cell_type": "code",
   "execution_count": null,
   "metadata": {},
   "outputs": [],
   "source": [
    "# На вход программе подаётся натуральное число n. Напишите программу, которая вычисляет n!\n",
    "n = int(input())\n",
    "mult = 1\n",
    "\n",
    "for i in range(1, n + 1):\n",
    "    mult *= i\n",
    "\n",
    "print(mult)"
   ]
  },
  {
   "cell_type": "code",
   "execution_count": null,
   "metadata": {},
   "outputs": [],
   "source": [
    "# Напишите программу, которая считывает 10 чисел и выводит произведение отличных от нуля чисел.\n",
    "mult = 1\n",
    "\n",
    "for i in range(10):\n",
    "    a = int(input())\n",
    "    if a != 0:\n",
    "        mult *= a\n",
    "\n",
    "print(mult)"
   ]
  },
  {
   "cell_type": "code",
   "execution_count": null,
   "metadata": {},
   "outputs": [],
   "source": [
    "# На вход программе подаётся натуральное число n. Напишите программу, которая вычисляет сумму всех его делителей.\n",
    "n = int(input())\n",
    "total = 0\n",
    "for i in range(1, n + 1):\n",
    "    if n % i == 0:\n",
    "        total += i \n",
    "\n",
    "print(total)"
   ]
  },
  {
   "cell_type": "code",
   "execution_count": null,
   "metadata": {},
   "outputs": [],
   "source": [
    "# На вход программе подаётся натуральное число n. Напишите программу вычисления знакочередующейся суммы:\n",
    "n = int(input())\n",
    "total = 0\n",
    "\n",
    "for i in range(1, n + 1):\n",
    "    if i % 2 != 0:\n",
    "        total += i\n",
    "    else:\n",
    "        total -= i\n",
    "\n",
    "print(total)"
   ]
  },
  {
   "cell_type": "code",
   "execution_count": null,
   "metadata": {},
   "outputs": [],
   "source": [
    "### На вход программе подаются натуральное число n(n≥2), \n",
    "# а затем n различных натуральных чисел последовательности, каждое на отдельной строке. \n",
    "# Напишите программу, которая выводит наибольшее и второе наибольшее число последовательности.\n",
    "\n",
    "n = int(input())\n",
    "mx = int(input())\n",
    "mx2 = 0\n",
    "\n",
    "for i in range(1, n):\n",
    "    a = int(input())\n",
    "    if a > mx:\n",
    "        mx2 = mx\n",
    "        mx = a\n",
    "    elif a > mx2 and a < mx:\n",
    "        mx2 = a\n",
    "print(mx)\n",
    "print(mx2)"
   ]
  },
  {
   "cell_type": "code",
   "execution_count": null,
   "metadata": {},
   "outputs": [],
   "source": [
    "# Напишите программу, которая считывает последовательность из 10 целых чисел и \n",
    "# определяет, является ли каждое из них чётным или нет.\n",
    "\n",
    "flag = True # Предполагаем, что все числа будут четными\n",
    "\n",
    "for i in range(10):\n",
    "    a = int(input())\n",
    "    if a % 2 != 0:\n",
    "        flag = False\n",
    "\n",
    "if flag:\n",
    "    print('YES')\n",
    "else:\n",
    "    print('NO')"
   ]
  },
  {
   "cell_type": "code",
   "execution_count": null,
   "metadata": {},
   "outputs": [],
   "source": [
    "# Напишите программу, которая считывает натуральное число n и выводит первые n чисел последовательности Фибоначчи.\n",
    "n = int(input())\n",
    "a1 = 1 # первый член\n",
    "a2 = 1 # второй член\n",
    "s = 0 # текущий член\n",
    "\n",
    "for i in range(1, n + 1):\n",
    "    if i == 1:\n",
    "        print(a1, end=' ')\n",
    "    elif i == 2:\n",
    "        print(a2, end=' ')\n",
    "    else:\n",
    "        s = a1 + a2\n",
    "        print(s, end=' ')\n",
    "        a1 = a2\n",
    "        a2 = s"
   ]
  },
  {
   "cell_type": "code",
   "execution_count": null,
   "metadata": {},
   "outputs": [],
   "source": [
    "# На вход программе подаётся последовательность слов, каждое слово на отдельной строке. \n",
    "# Концом последовательности является слово «КОНЕЦ» (без кавычек). \n",
    "# При этом само слово «КОНЕЦ» не входит в последовательность, лишь символизируя её окончание. \n",
    "# Напишите программу, которая выводит члены данной последовательности.\n",
    "\n",
    "st = input()\n",
    "while st != 'КОНЕЦ':\n",
    "    print(st)\n",
    "    st = input()"
   ]
  },
  {
   "cell_type": "code",
   "execution_count": null,
   "metadata": {},
   "outputs": [],
   "source": [
    "# На вход программе подаётся последовательность слов, каждое слово на отдельной строке. \n",
    "# Концом последовательности является слово «КОНЕЦ» или «конец» (без кавычек). \n",
    "# При этом сами слова «КОНЕЦ» и «конец» не входят в последовательность, лишь символизируя её окончание. \n",
    "# Напишите программу, которая выводит члены данной последовательности.\n",
    "st = input()\n",
    "while st != 'КОНЕЦ' and st != 'конец':\n",
    "    print(st)\n",
    "    st = input()\n"
   ]
  },
  {
   "cell_type": "code",
   "execution_count": null,
   "metadata": {},
   "outputs": [],
   "source": [
    "# На вход программе подаётся последовательность слов, каждое слово на отдельной строке. \n",
    "# Концом последовательности является одно из трёх слов: «стоп», «хватит», «достаточно» (без кавычек). \n",
    "#     Сами эти слова в последовательность не входят, лишь символизируя её окончание. \n",
    "#     Напишите программу, которая выводит общее количество членов данной последовательности.\n",
    "st = input()\n",
    "i = 0\n",
    "while st != 'стоп' and st != 'хватит' and st != 'достаточно':\n",
    "    i += 1\n",
    "    st = input()\n",
    "\n",
    "print(i)"
   ]
  },
  {
   "cell_type": "code",
   "execution_count": null,
   "metadata": {},
   "outputs": [],
   "source": [
    "# На вход программе подаётся последовательность целых чисел делящихся на 7, каждое число на отдельной строке. \n",
    "# Концом последовательности является любое число, не делящееся на \n",
    "# 7 (само это число в последовательность не входит, лишь символизируя её конец). \n",
    "# Напишите программу, которая выводит члены данной последовательности.\n",
    "\n",
    "num = int(input())\n",
    "while num % 7 == 0:\n",
    "    print(num)\n",
    "    num = int(input())"
   ]
  },
  {
   "cell_type": "code",
   "execution_count": null,
   "metadata": {},
   "outputs": [],
   "source": [
    "# На вход программе подаётся последовательность целых чисел, каждое число на отдельной строке. \n",
    "# Признаком окончания последовательности является любое отрицательное число, при этом в саму последовательность оно не входит. \n",
    "# Напишите программу, которая выводит сумму всех членов данной последовательности.\n",
    "\n",
    "num = int(input())\n",
    "total = 0\n",
    "while num >= 0:\n",
    "    total += num\n",
    "    num = int(input())\n",
    "    \n",
    "print(total)\n"
   ]
  },
  {
   "cell_type": "code",
   "execution_count": null,
   "metadata": {},
   "outputs": [],
   "source": [
    "# На вход программе подаётся последовательность целых чисел от \n",
    "# 1 до 5, характеризующее оценку ученика, каждое число на отдельной строке. \n",
    "# Концом последовательности является любое неположительное число либо число, большее 5. \n",
    "# Напишите программу, которая выводит количество пятерок.\n",
    "\n",
    "val = int(input())\n",
    "cnt = 0\n",
    "while 1 <= val <= 5:\n",
    "    if val == 5:\n",
    "        cnt += 1\n",
    "    val = int(input())\n",
    "\n",
    "print(cnt)"
   ]
  },
  {
   "cell_type": "code",
   "execution_count": null,
   "metadata": {},
   "outputs": [],
   "source": [
    "# Всем известно, что ведьмак способен одолеть любых чудовищ, однако его услуги обойдутся недешево. \n",
    "# тому же ведьмак не принимает купюры, он принимает только чеканные монеты. \n",
    "# В мире ведьмака существуют монеты с номиналами \n",
    "# 1,5,10,25.\n",
    "\n",
    "# Напишите программу, которая определяет, какое минимальное количество чеканных монет нужно заплатить ведьмаку.\n",
    "\n",
    "remain = int(input())\n",
    "cnt1 = 0\n",
    "cnt5 = 0\n",
    "cnt10 = 0\n",
    "cnt25 = 0\n",
    "\n",
    "cnt25 += remain // 25\n",
    "remain -= cnt25 * 25\n",
    "cnt10 += remain // 10\n",
    "remain -= cnt10 * 10\n",
    "cnt5 += remain // 5\n",
    "remain -= cnt5 * 5\n",
    "cnt1 += remain % 5\n",
    "remain -= cnt1\n",
    "\n",
    "cnt = cnt1 + cnt5 + cnt10 + cnt25\n",
    "print(cnt)"
   ]
  },
  {
   "cell_type": "code",
   "execution_count": null,
   "metadata": {},
   "outputs": [],
   "source": [
    "# Дано натуральное число. Напишите программу, которая выводит его цифры в столбик в обратном порядке.\n",
    "n = int(input())\n",
    "\n",
    "while n > 0:\n",
    "    last_digit = n % 10\n",
    "    print(last_digit)\n",
    "    n //= 10"
   ]
  },
  {
   "cell_type": "code",
   "execution_count": null,
   "metadata": {},
   "outputs": [],
   "source": [
    "n = int(input()) # Вводим число\n",
    "new_n = 0 # Инициализация нового числа\n",
    "\n",
    "while n > 0:\n",
    "    new_n = new_n * 10 + n % 10 # новое число будет умножаться на 10, чтобы перейти на новый порядок и прибавить остаток от введеного числа\n",
    "    n //= 10 #Убираем последнюю цифру\n",
    "    \n",
    "print(new_n)"
   ]
  },
  {
   "cell_type": "code",
   "execution_count": null,
   "metadata": {},
   "outputs": [],
   "source": [
    "# Дано натуральное число n(n≥10). \n",
    "# Напишите программу, которая определяет его максимальную и \n",
    "# минимальную цифры и выводит текст в следующем формате:\n",
    "n = int(input())\n",
    "max_d = -1\n",
    "min_d = 10\n",
    "\n",
    "while n > 0:\n",
    "    if n % 10 > max_d:\n",
    "        max_d = n % 10\n",
    "    if n % 10 < min_d:\n",
    "        min_d = n % 10\n",
    "    n //= 10\n",
    "\n",
    "print('Максимальная цифра равна', max_d)\n",
    "print('Минимальная цифра равна', min_d)"
   ]
  },
  {
   "cell_type": "code",
   "execution_count": null,
   "metadata": {},
   "outputs": [],
   "source": [
    "# Дано натуральное число. Напишите программу, которая вычисляет:\n",
    "\n",
    "# сумму его цифр;\n",
    "# количество цифр в нем;\n",
    "# произведение его цифр;\n",
    "# среднее арифметическое его цифр;\n",
    "# его первую цифру;\n",
    "# сумму его первой и последней цифры.\n",
    "\n",
    "n = int(input())\n",
    "total = 0\n",
    "cnt = 0\n",
    "mult = 1\n",
    "last_d = n % 10\n",
    "\n",
    "while n > 0:\n",
    "    total += n % 10\n",
    "    cnt += 1\n",
    "    mult *= n % 10\n",
    "    if n < 10:\n",
    "        first_d = n\n",
    "    n //= 10\n",
    "\n",
    "\n",
    "avg = total / cnt    \n",
    "sum_d = first_d + last_d   \n",
    "\n",
    "print(total)\n",
    "print(cnt)\n",
    "print(mult)\n",
    "print(avg)\n",
    "print(first_d)\n",
    "print(sum_d)"
   ]
  },
  {
   "cell_type": "code",
   "execution_count": null,
   "metadata": {},
   "outputs": [],
   "source": [
    "# Дано натуральное число n(n>9). Напишите программу, которая определяет его вторую (с начала) цифру.\n",
    "n = int(input())\n",
    "\n",
    "while n > 9:\n",
    "    if n < 100:\n",
    "        second_d = n % 10\n",
    "    n //= 10\n",
    "\n",
    "print(second_d)"
   ]
  },
  {
   "cell_type": "code",
   "execution_count": null,
   "metadata": {},
   "outputs": [],
   "source": [
    "# Дано натуральное число. Напишите программу, которая определяет, состоит ли указанное число из одинаковых цифр.\n",
    "n = int(input())\n",
    "flag = True # Одинаковые цифры\n",
    "last_d = n % 10 # Последняя цифра\n",
    "n = n // 10\n",
    "\n",
    "while n > 0 and flag == True:\n",
    "    prev_d = n % 10\n",
    "    if prev_d != last_d:\n",
    "        flag = False\n",
    "    last_d = prev_d\n",
    "    n //= 10\n",
    "    \n",
    "if flag:\n",
    "    print('YES')\n",
    "else:\n",
    "    print('NO')"
   ]
  },
  {
   "cell_type": "code",
   "execution_count": null,
   "metadata": {},
   "outputs": [],
   "source": [
    "# Дано натуральное число. \n",
    "# Напишите программу, которая определяет, \n",
    "# является ли последовательность его цифр при просмотре справа налево упорядоченной по неубыванию.\n",
    "\n",
    "n = int(input())\n",
    "flag = True # Невозрастающая последовательность\n",
    "last_d = n % 10 # Последняя цифра\n",
    "n = n // 10\n",
    "\n",
    "while n > 0 and flag == True:\n",
    "    prev_d = n % 10\n",
    "    if prev_d < last_d:\n",
    "        flag = False\n",
    "    last_d = prev_d\n",
    "    n //= 10\n",
    "    \n",
    "if flag:\n",
    "    print('YES')\n",
    "else:\n",
    "    print('NO')"
   ]
  },
  {
   "cell_type": "code",
   "execution_count": null,
   "metadata": {},
   "outputs": [],
   "source": [
    "# На вход программе подаётся число n(n>1). Напишите программу, которая выводит его наименьший отличный от 1 делитель.\n",
    "num = int(input())\n",
    "\n",
    "for i in range(2, num + 1):\n",
    "    if num % i == 0:\n",
    "        print(i)\n",
    "        break"
   ]
  },
  {
   "cell_type": "code",
   "execution_count": null,
   "metadata": {},
   "outputs": [],
   "source": [
    "# На вход программе подаётся натуральное число n. Напишите программу, \n",
    "# которая выводит числа от 1 до n включительно за исключением:\n",
    "# чисел от 5 до 9 включительно;\n",
    "# чисел от 17 до 37 включительно;\n",
    "# чисел от 78 до 87 включительно.\n",
    "n = int(input())\n",
    "\n",
    "for i in range(1, n + 1):\n",
    "    if 5 <= i <= 9 or 17 <= i <= 37 or 78 <= i <= 87:\n",
    "        continue\n",
    "    print(i)"
   ]
  },
  {
   "cell_type": "code",
   "execution_count": null,
   "metadata": {
    "scrolled": true
   },
   "outputs": [],
   "source": [
    "# Дано натуральное число n(n≤ 9). Напишите программу, которая печатает таблицу размером \n",
    "# n×3, состоящую из данного числа (числа отделены одним пробелом).\n",
    "n = int(input())\n",
    "for i in range(n):\n",
    "    for j in range(3): # Цикл, печатающий 3 раза в строку букву n с переносом в виде пробела\n",
    "        print(n, end=' ')\n",
    "    print() # Печатает пустую строку, чтобы перейти на следующую строку"
   ]
  },
  {
   "cell_type": "code",
   "execution_count": null,
   "metadata": {},
   "outputs": [],
   "source": [
    "# Напишите программу, которая печатает таблицу размером n×5, где в \n",
    "# i-ой строке указано число i (числа отделены одним пробелом).\n",
    "n = int(input())\n",
    "for i in range(1, n + 1): #Строки\n",
    "    for j in range(5): #Столбцы\n",
    "        print(i, end=' ')\n",
    "    print()"
   ]
  },
  {
   "cell_type": "code",
   "execution_count": null,
   "metadata": {},
   "outputs": [],
   "source": [
    "# Дано натуральное число n(n≤9). Напишите программу, которая печатает таблицу сложения для всех чисел от \n",
    "# 1 до n (включительно) в соответствии с примером.\n",
    "n = int(input())\n",
    "for i in range(1, n + 1):\n",
    "    for j in range(1, 10):\n",
    "        print(i, '+', j, '=', i + j)\n",
    "    print()"
   ]
  },
  {
   "cell_type": "code",
   "execution_count": null,
   "metadata": {},
   "outputs": [],
   "source": [
    "# Дано нечётное натуральное число n. \n",
    "# Напишите программу, которая печатает равнобедренный звёздный треугольник с основанием, равным \n",
    "# n, в соответствии с примером:\n",
    "n = int(input())\n",
    "mn = int((n + 1) / 2)\n",
    "#Первая часть треугольника\n",
    "for i in range(1, mn + 1):\n",
    "    for j in range(i):\n",
    "        print('*', end='')\n",
    "    print()\n",
    "\n",
    "# Вторая часть треугольника\n",
    "for i in range(mn - 1, 0, -1): \n",
    "    for j in range(i):\n",
    "        print('*', end='')\n",
    "    print()"
   ]
  },
  {
   "cell_type": "code",
   "execution_count": null,
   "metadata": {},
   "outputs": [],
   "source": [
    "# Дано натуральное число n. \n",
    "# Напишите программу, которая печатает численный треугольник в соответствии с примером:\n",
    "n = int(input())\n",
    "for i in range(1, n + 1):\n",
    "    for j in range(i):\n",
    "        print(i, end='')\n",
    "    print()"
   ]
  },
  {
   "cell_type": "code",
   "execution_count": null,
   "metadata": {},
   "outputs": [],
   "source": [
    "# Решите уравнение в натуральных числах \n",
    "# 28n+30k+31m=365.\n",
    "for n in range(1, 14):\n",
    "    for k in range(1, 13):\n",
    "        for m in range(1,12):\n",
    "            if 28 * n + 30 * k + 31 * m == 365:\n",
    "                print('n =', n, 'k =', k, 'm =', m)"
   ]
  },
  {
   "cell_type": "code",
   "execution_count": null,
   "metadata": {},
   "outputs": [],
   "source": [
    "# Имеется 100 рублей. Сколько быков, коров и телят можно купить на все эти деньги, \n",
    "# если плата за быка – 10 рублей, за корову – 5 рублей, за телёнка – 0.5 рубля и надо купить 100 голов скота?\n",
    "# 10n + 5k + 0.5m = 100\n",
    "for n in range(1, 11):\n",
    "    for k in range(1, 21):\n",
    "        for m in range(1, 201):\n",
    "            if 10 * n + 5 * k + 0.5 * m == 100 and m + n + k == 100:\n",
    "                print('n =', n, 'k =', k, 'm =', m)\n",
    "        "
   ]
  },
  {
   "cell_type": "code",
   "execution_count": null,
   "metadata": {},
   "outputs": [],
   "source": [
    "# Таким образом, найдите пять натуральных чисел a,b,c,d,e, удовлетворяющих условию:\n",
    "from math import pow\n",
    "for a in range(1, 151):\n",
    "    for b in range(a, 151):\n",
    "        for c in range(b, 151):\n",
    "            for d in range(c, 151):\n",
    "                for e in range(d, 151):\n",
    "                    if pow(a, 5) + pow(b, 5) + pow(c, 5) + pow(d, 5) == pow(e, 5):\n",
    "                        s = a + b + c + d + e\n",
    "                        print(s)"
   ]
  },
  {
   "cell_type": "code",
   "execution_count": null,
   "metadata": {},
   "outputs": [],
   "source": [
    "# Дано натуральное число n. Напишите программу, \n",
    "# которая печатает численный треугольник с высотой, равной n, в соответствии с примером:\n",
    "\n",
    "n = int(input()) # Ввод числа\n",
    "s = 0 # Значение\n",
    "\n",
    "for i in range(n): # По строкам от 0 до n - 1\n",
    "    for j in range(i + 1): # Столбцы от 0 до i\n",
    "        s += 1 # Увеличиваем значение на 1\n",
    "        print(s, end=' ')\n",
    "    print()"
   ]
  },
  {
   "cell_type": "code",
   "execution_count": null,
   "metadata": {},
   "outputs": [],
   "source": [
    "# Дано натуральное число n. \n",
    "# Напишите программу, которая печатает численный треугольник с высотой, равной n, в соответствии с примером:\n",
    "n = int(input()) # Ввод числа\n",
    "\n",
    "for i in range(n): # По строкам от 0 до n - 1\n",
    "    for j in range(i + 1): # По столбцам в сторону увеличения\n",
    "        print(j + 1, end='')\n",
    "    for j2 in range(i + 1, 1, -1): # По столбцам в сторону уменьшения\n",
    "        print(j2 - 1, end='')\n",
    "    print()"
   ]
  },
  {
   "cell_type": "code",
   "execution_count": null,
   "metadata": {},
   "outputs": [],
   "source": [
    "# На вход программе подаются два натуральных числа a < b. \n",
    "# Напишите программу, которая находит натуральное число из отрезка ab включительно \n",
    "# с максимальной суммой делителей. Если чисел с максимальной суммой делителей несколько, \n",
    "# то искомым числом является наибольшее из них. Ваша программа должна выводить ответ в следующем формате:\n",
    "\n",
    "a, b = int(input()), int(input()) # Ввод чисел\n",
    "mx_t = 0 # Максимальная сумма делителей\n",
    "mx_num = 0 # Число с максимальной суммой делителей\n",
    "\n",
    "for i in range(a, b + 1): # Принимает значения на отрезке a и b (числа)\n",
    "    total = 0 # Обнуляем сумму делителей для каждого числа\n",
    "    for j in range(1, i + 1): # Принимает значения от 1 до i (делители)\n",
    "        if i % j == 0: # Если i делится на j, то этот делитель прибавляем к сумме делителей\n",
    "            total += j\n",
    "    if total >= mx_t: # Если сумма делителей для i-го числа больше макса\n",
    "        mx_t = total # Присваиваем максу новую сумму делителей\n",
    "        mx_num = i # Присваиваем числу с макс делителем новое число (i)\n",
    "print(mx_num, mx_t) "
   ]
  },
  {
   "cell_type": "code",
   "execution_count": null,
   "metadata": {},
   "outputs": [],
   "source": [
    "# На вход программе подаётся натуральное число n. \n",
    "# Напишите программу, выводящую графическое изображение делимости чисел от 1 до n включительно. \n",
    "# В каждой строке надо напечатать очередное число и столько символов +, сколько делителей у этого числа.\n",
    "n = int(input())\n",
    "\n",
    "for i in range(1, n + 1): # Принимает значения на отрезке от 1 до n\n",
    "    print(i, end='') # Печатает число\n",
    "    cnt = 0 # Количество делителей\n",
    "    for j in range(1, i + 1): # Делители\n",
    "        if i % j == 0:\n",
    "            cnt += 1 # Увеличиваем количество\n",
    "    print('+' * cnt)"
   ]
  },
  {
   "cell_type": "code",
   "execution_count": null,
   "metadata": {},
   "outputs": [],
   "source": [
    "# Цифровым корнем числа n называется число, получающееся следующим образом: вычисляется сумма цифр числа n, \n",
    "#     затем сумма цифр у получившегося числа и так далее, пока не получится однозначное число. \n",
    "#     Например, цифровой корень числа 9875 равен 2:\n",
    "\n",
    "n = int(input()) # Ввод числа\n",
    "remain = n # Осталось\n",
    "s = 0 # Сумма цифр\n",
    "\n",
    "# Цикл, вычисляющий сумму цифр для заданного числа\n",
    "while remain > 0:\n",
    "    s += remain % 10\n",
    "    remain = remain // 10\n",
    "    \n",
    "\n",
    "while s > 9: # Пока, не получим однозначное число\n",
    "    remain = s\n",
    "    s = 0\n",
    "    # будем вычислять сумму цифр для следующих полученных чисел\n",
    "    while remain > 0:\n",
    "        s += remain % 10\n",
    "        remain = remain // 10\n",
    "print(s)"
   ]
  },
  {
   "cell_type": "code",
   "execution_count": null,
   "metadata": {},
   "outputs": [],
   "source": [
    "# Дано натуральное число n. Напишите программу, которая выводит значение суммы факториалов\n",
    "from math import factorial\n",
    "n = int(input())\n",
    "s = 0\n",
    "for i in range(1, n + 1):\n",
    "    s += factorial(i)\n",
    "print(s)"
   ]
  },
  {
   "cell_type": "code",
   "execution_count": null,
   "metadata": {},
   "outputs": [],
   "source": [
    "n = int(input())\n",
    "p = 1\n",
    "s = 0\n",
    "for i in range(1, n + 1): # Перебираем факториалы \n",
    "    for j in range(i, i + 1): # Для каждого факториала\n",
    "        p = p * j # Вычисляем его значение\n",
    "    s = s + p # Суммируем текущий факториал с предыдущими\n",
    "print(s)"
   ]
  },
  {
   "cell_type": "code",
   "execution_count": null,
   "metadata": {},
   "outputs": [],
   "source": [
    "### На вход программе подается два натуральных числа \n",
    "# b(a<b). Напишите программу, которая находит все простые числа от a до b включительно.\n",
    "\n",
    "a, b = int(input()), int(input()) # Ввод чисел\n",
    "\n",
    "for i in range(a, b + 1): # Принимает значения от a до b\n",
    "    prime = True # Предполагаем, что число простое \n",
    "    for j in range(2, i): # Ищем делители для i-го числа (без 1 и самого себя)\n",
    "        if i % j == 0: # Если число делится на другое, то число не простое и прерываем цикл\n",
    "            prime = False \n",
    "            break\n",
    "    if (prime) and (i != 1): # Если число простое, то печатаем\n",
    "        print(i)\n",
    "            "
   ]
  },
  {
   "cell_type": "code",
   "execution_count": null,
   "metadata": {},
   "outputs": [],
   "source": [
    "# На вход программе подаётся натуральное число \n",
    "# n(n∈[3;19]). Напишите программу, которая печатает звёздную рамку размерами n×19.\n",
    "\n",
    "h = 19                                                      # длина\n",
    "n = int(input())                                            # Вводим число\n",
    "\n",
    "for i in range(1, n + 1):                                   # Пробегаемся по строкам\n",
    "    for j in range(1, h + 1):                               # Пробегаемся по столбцам\n",
    "        if (i == 1) or (i == n):                            # Если строка = первой или последней\n",
    "            print('*', end='')                              # То печатаем всю строку из звезд\n",
    "        elif (j == 1) or (j == h):                          # Иначе, если первый столбец или последней столбец другой строки\n",
    "            print('*', end='')                              # То печатаем звездочку только для этого столбца \n",
    "        else:                                               # Иначе, печатаем пустоту для других столбцов\n",
    "            print(' ', end='')\n",
    "    print()                                                 #Переходим на новую строку"
   ]
  },
  {
   "cell_type": "code",
   "execution_count": null,
   "metadata": {},
   "outputs": [],
   "source": [
    "# Дано натуральное число n(n>99). \n",
    "# Напишите программу, которая определяет его третью (с начала) цифру.\n",
    "n = int(input())\n",
    "\n",
    "while n > 999:\n",
    "    n //= 10\n",
    "\n",
    "print(n % 10)"
   ]
  },
  {
   "cell_type": "code",
   "execution_count": null,
   "metadata": {},
   "outputs": [],
   "source": [
    "# Дано натуральное число. Напишите программу, которая вычисляет:\n",
    "# количество цифр 3 в нём;\n",
    "# сколько раз в нём встречается последняя цифра;\n",
    "# количество чётных цифр;\n",
    "# сумму его цифр, больших пяти;\n",
    "# произведение цифр, больших семи (если цифр больших семи нет, то вывести 1, если такая цифра одна, то вывести её);\n",
    "# сколько раз в нём встречаются цифры 0 и 5 (всего суммарно).\n",
    "\n",
    "n = int(input())\n",
    "\n",
    "cnt_3 = 0 # Количество цифр 3\n",
    "cnt_last_num = 0 # Количество последней цифры\n",
    "cnt_even = 0 # Количество четных цифр\n",
    "cnt_sum_5 = 0 # Сумма цифр, больших пяти\n",
    "p_7 = 1 # Произведение цифр, больших семи\n",
    "cnt_05 = 0 # Количество 0 и 5 вместе\n",
    "\n",
    "last_num = n % 10 # Последняя цифра\n",
    "while n > 0:\n",
    "    last_digit = n % 10 # Последняя цифра на текущее число\n",
    "    if last_digit == 3:\n",
    "        cnt_3 += 1\n",
    "    if last_digit == last_num:\n",
    "        cnt_last_num += 1\n",
    "    if last_digit % 2 == 0:\n",
    "        cnt_even += 1\n",
    "    if last_digit > 5:\n",
    "        cnt_sum_5 += last_digit\n",
    "    if last_digit > 7:\n",
    "        p_7 *= last_digit\n",
    "    if last_digit == 0 or last_digit == 5:\n",
    "        cnt_05 += 1\n",
    "    n //= 10\n",
    "\n",
    "print(cnt_3)\n",
    "print(cnt_last_num)\n",
    "print(cnt_even)\n",
    "print(cnt_sum_5)\n",
    "print(p_7)\n",
    "print(cnt_05)\n"
   ]
  },
  {
   "cell_type": "code",
   "execution_count": null,
   "metadata": {},
   "outputs": [],
   "source": [
    "# Напишите программу, которая находит аналогичные интересные числа. \n",
    "# В ответе запишите первые 5 чисел в порядке возрастания, включая число 1729.\n",
    "n = 34\n",
    "for x in range(1, n):\n",
    "    for y in range(x + 1, n):\n",
    "        for a in range(y + 1, n):\n",
    "            for b in range(a + 1, n):\n",
    "                if x ** 3 + b ** 3 == y ** 3 + a ** 3:\n",
    "                    print(x ** 3 + b ** 3)"
   ]
  },
  {
   "cell_type": "code",
   "execution_count": null,
   "metadata": {},
   "outputs": [],
   "source": [
    "1729 ** (1/3)"
   ]
  },
  {
   "cell_type": "code",
   "execution_count": null,
   "metadata": {},
   "outputs": [],
   "source": [
    "# На вход программе подаётся одна строка. Напишите программу, которая выводит элементы строки с чётными индексами \n",
    "s = input()\n",
    "\n",
    "for i in range(len(s)): # Пробегаемся по индексам\n",
    "    if i % 2 == 0:      # Если индекс четный\n",
    "        print(s[i])\n",
    "    "
   ]
  },
  {
   "cell_type": "code",
   "execution_count": null,
   "metadata": {},
   "outputs": [],
   "source": [
    "# На вход программе подаётся одна строка. \n",
    "# Напишите программу, которая выводит в столбик элементы строки в обратном порядке.\n",
    "s = input()\n",
    "for i in range(1, len(s)+1):\n",
    "    print(s[-i])"
   ]
  },
  {
   "cell_type": "code",
   "execution_count": null,
   "metadata": {},
   "outputs": [],
   "source": [
    "# На вход программе подаются три строки: \n",
    "#     имя, фамилия и отчество (именно в таком порядке). \n",
    "#     Напишите программу, которая выводит инициалы человека.\n",
    "n = input()\n",
    "sn = input()\n",
    "sn_r = input()\n",
    "\n",
    "s = sn[0] + n[0] + sn_r[0]\n",
    "print(s)"
   ]
  },
  {
   "cell_type": "code",
   "execution_count": null,
   "metadata": {},
   "outputs": [],
   "source": [
    "# На вход программе подаётся одна строка состоящая из цифр. Напишите программу, которая считает сумму цифр данной строки.\n",
    "s = input()\n",
    "total = 0\n",
    "\n",
    "for c in s:\n",
    "    total += int(c)\n",
    "\n",
    "print(total)"
   ]
  },
  {
   "cell_type": "code",
   "execution_count": null,
   "metadata": {},
   "outputs": [],
   "source": [
    "# На вход программе подаётся одна строка. \n",
    "# Напишите программу, которая выводит сообщение «Цифра» (без кавычек), если строка содержит цифру. \n",
    "# В противном случае вывести сообщение «Цифр нет» (без кавычек).\n",
    "s = input()\n",
    "cnt = 0\n",
    "\n",
    "for c in s:\n",
    "    if c in '0123456789':\n",
    "        cnt = 1\n",
    "        break\n",
    "if cnt > 0:\n",
    "    print('Цифра')\n",
    "else:\n",
    "    print('Цифр нет')\n",
    "    "
   ]
  },
  {
   "cell_type": "code",
   "execution_count": null,
   "metadata": {},
   "outputs": [],
   "source": [
    "# На вход программе подаётся одна строка. \n",
    "# Напишите программу, которая определяет, \n",
    "# сколько раз в строке встречаются символы + и *, \n",
    "# и выводит текст в следующем формате:\n",
    "# Символ + встречается <n> раз\n",
    "# Символ * встречается <m> раз\n",
    "\n",
    "s = input()\n",
    "cnt_s = 0\n",
    "cnt_m = 0\n",
    "\n",
    "\n",
    "for char in s:\n",
    "    if char == '+':\n",
    "        cnt_s += 1\n",
    "    if char == '*':\n",
    "        cnt_m += 1\n",
    "\n",
    "print('Символ + встречается', cnt_s, 'раз')\n",
    "print('Символ * встречается', cnt_m, 'раз')"
   ]
  },
  {
   "cell_type": "code",
   "execution_count": null,
   "metadata": {},
   "outputs": [],
   "source": [
    "# На вход программе подаётся одна строка. \n",
    "# Напишите программу, которая определяет сколько в ней одинаковых соседних символов.\n",
    "\n",
    "s = input()\n",
    "cnt = 0\n",
    "\n",
    "for i in range(len(s) - 1): # Пробегаемся по индексам: от 0 до предпоследнего\n",
    "    if s[i] == s[i + 1]: # Если текущий элемент равен следующему:\n",
    "        cnt += 1\n",
    "\n",
    "print(cnt)"
   ]
  },
  {
   "cell_type": "code",
   "execution_count": null,
   "metadata": {},
   "outputs": [],
   "source": [
    "# На вход программе подаётся одна строка с буквами русского языка. \n",
    "# Напишите программу, которая определяет количество гласных и согласных букв и выводит текст в следующем формате:\n",
    "\n",
    "# Количество гласных букв равно <кол-во гласных букв>\n",
    "# Количество согласных букв равно <кол-во согласных букв>\n",
    "\n",
    "s = input()\n",
    "cnt_consonant = 0\n",
    "cnt_vowel = 0\n",
    "\n",
    "for char in s:\n",
    "    if char in 'ауоыиэяюе' or char in 'АУОЫИЭЯЮЕ':\n",
    "        cnt_vowel += 1\n",
    "    elif char in 'бвгджзйклмнпрстфхцчшщ' or char in 'БВГДЖЗЙКЛМНПРСТФХЦЧШЩ':\n",
    "        cnt_consonant += 1\n",
    "\n",
    "print('Количество гласных букв равно', cnt_vowel)\n",
    "print('Количество согласных букв равно', cnt_consonant)"
   ]
  },
  {
   "cell_type": "code",
   "execution_count": null,
   "metadata": {},
   "outputs": [],
   "source": [
    "# На вход программе подаётся натуральное число, записанное в десятичной системе счисления. \n",
    "# Напишите программу, которая переводит данное число в двоичную систему счисления.\n",
    "n = int(input())\n",
    "n2 = ''\n",
    "\n",
    "while n > 0:\n",
    "    r = n % 2 \n",
    "    n2 = str(r) + n2\n",
    "    n //= 2\n",
    "\n",
    "print(n2)"
   ]
  },
  {
   "cell_type": "code",
   "execution_count": null,
   "metadata": {},
   "outputs": [],
   "source": [
    "# На вход программе подаётся одно слово, записанное в нижнем регистре. \n",
    "# Напишите программу, которая определяет, является ли оно палиндромом.\n",
    "\n",
    "s = input()\n",
    "\n",
    "if s[:] == s[::-1]:\n",
    "    print('YES')\n",
    "else:\n",
    "    print('NO')"
   ]
  },
  {
   "cell_type": "code",
   "execution_count": null,
   "metadata": {},
   "outputs": [],
   "source": [
    "# На вход программе подаётся одна строка. Напишите программу, которая выводит:\n",
    "# общее количество символов в строке;\n",
    "# исходную строку, повторённую 3 раза;\n",
    "# первый символ строки;\n",
    "# первые три символа строки;\n",
    "# последние три символа строки;\n",
    "# строку в обратном порядке;\n",
    "# строку с удалённым первым и последним символами.\n",
    "s = input()\n",
    "\n",
    "length = len(s)\n",
    "s3 = s * 3\n",
    "s0 = s[0]\n",
    "s0_2 = s[0:3] \n",
    "s_f3 = s[-3:]\n",
    "s_reverse = s[::-1]\n",
    "s_new = s[1:-1]\n",
    "\n",
    "print(length)\n",
    "print(s3)\n",
    "print(s0)\n",
    "print(s0_2)\n",
    "print(s_f3)\n",
    "print(s_reverse)\n",
    "print(s_new)"
   ]
  },
  {
   "cell_type": "code",
   "execution_count": null,
   "metadata": {},
   "outputs": [],
   "source": [
    "# На вход программе подаётся одна строка. Напишите программу, которая выводит:\n",
    "# третий символ этой строки;\n",
    "# предпоследний символ этой строки;\n",
    "# первые пять символов этой строки;\n",
    "# всю строку, кроме последних двух символов;\n",
    "# все символы с чётными индексами;\n",
    "# все символы с нечётными индексами;\n",
    "# все символы в обратном порядке;\n",
    "# все символы строки через один в обратном порядке, начиная с последнего.\n",
    "\n",
    "s = input()\n",
    "\n",
    "print(s[2])\n",
    "print(s[-2])\n",
    "print(s[:5])\n",
    "print(s[:-2])\n",
    "print(s[::2])\n",
    "print(s[1::2])\n",
    "print(s[::-1])\n",
    "print(s[::-2])"
   ]
  },
  {
   "cell_type": "code",
   "execution_count": null,
   "metadata": {},
   "outputs": [],
   "source": [
    "# На вход программе подаётся строка текста. \n",
    "# Напишите программу, которая разрежет её на две равные части, переставит их местами и выведет на экран.\n",
    "s = input()\n",
    "\n",
    "if len(s) % 2 == 0:\n",
    "    c = len(s) / 2 \n",
    "else:\n",
    "    c = len(s) // 2 + 1     \n",
    "\n",
    "c = int(c)\n",
    "    \n",
    "part1 = s[:c]\n",
    "part2 = s[c:]\n",
    "\n",
    "s_rev = part2 + part1\n",
    "print(s_rev)"
   ]
  },
  {
   "cell_type": "code",
   "execution_count": null,
   "metadata": {},
   "outputs": [],
   "source": [
    "# На вход программе подаётся строка, состоящая из имени и фамилии человека, разделённых одним пробелом. \n",
    "# Напишите программу, которая проверяет, что имя и фамилия начинаются с заглавной буквы.\n",
    "a, b = input().split()\n",
    "if a == a.title() and b == b.title():\n",
    "    print('YES')\n",
    "else:\n",
    "    print('NO')"
   ]
  },
  {
   "cell_type": "code",
   "execution_count": null,
   "metadata": {},
   "outputs": [],
   "source": [
    "# На вход программе подаётся строка. \n",
    "# Напишите программу, \n",
    "# которая меняет регистр символов – \n",
    "# заменяет все строчные символы заглавными и наоборот\n",
    "\n",
    "s = input()\n",
    "s2 = s.swapcase()\n",
    "print(s2)"
   ]
  },
  {
   "cell_type": "code",
   "execution_count": null,
   "metadata": {},
   "outputs": [],
   "source": [
    "# На вход программе подаётся строка текста. \n",
    "# Напишите программу, которая определяет, является ли оттенок текста хорошим или нет. \n",
    "# Текст имеет хороший оттенок, если содержит подстроку «хорош» (без кавычек) во всевозможных регистрах.\n",
    "s = input()\n",
    "if 'хорош' in s.lower():\n",
    "    print('YES')\n",
    "else:\n",
    "    print('NO')"
   ]
  },
  {
   "cell_type": "code",
   "execution_count": null,
   "metadata": {},
   "outputs": [],
   "source": [
    "# На вход программе подаётся строка. \n",
    "# Напишите программу, которая подсчитывает количество буквенных символов в нижнем регистре.\n",
    "s = input()\n",
    "cnt = 0\n",
    "for char in s:\n",
    "    if 'a' <= char <= 'z' and char == char.lower():\n",
    "        cnt += 1\n",
    "\n",
    "print(cnt)\n"
   ]
  },
  {
   "cell_type": "code",
   "execution_count": null,
   "metadata": {},
   "outputs": [],
   "source": [
    "# На вход программе подаётся строка текста, состоящая из слов, разделённых ровно одним пробелом. \n",
    "# Напишите программу, которая подсчитывает количество слов в ней.\n",
    " \n",
    "s = input()\n",
    "cnt_ = s.count(' ') + 1\n",
    "print(cnt_)"
   ]
  },
  {
   "cell_type": "code",
   "execution_count": null,
   "metadata": {},
   "outputs": [],
   "source": [
    "# На вход программе подаётся строка генетического кода, состоящая из букв А (аденин), Г (гуанин), Ц (цитозин) и Т (тимин). \n",
    "# Напишите программу, которая подсчитывает сколько аденина, гуанина, цитозина и тимина входит в данную строку генетического кода.\n",
    "s = input()\n",
    "s_lower = s.lower()\n",
    "cnt_a = s_lower.count('а')\n",
    "cnt_g = s_lower.count('г')\n",
    "cnt_c = s_lower.count('ц')\n",
    "cnt_t = s_lower.count('т')\n",
    "\n",
    "print('Аденин:', cnt_a)\n",
    "print('Гуанин:', cnt_g)\n",
    "print('Цитозин:', cnt_c)\n",
    "print('Тимин:', cnt_t)"
   ]
  },
  {
   "cell_type": "code",
   "execution_count": null,
   "metadata": {},
   "outputs": [],
   "source": [
    "# Джим Хоппер с помощью радиоприёмника пытается получить сообщение Оди. \n",
    "# На приёмник ему поступает n различных последовательностей кода Морзе. \n",
    "# Декодировав их, он получает последовательности из цифр и букв строчного латинского алфавита. \n",
    "# При этом только в сообщениях Оди содержится число 11, причём минимум 3 раза. \n",
    "# Помогите определить Джиму количество сообщений от Оди.\n",
    "\n",
    "cnt_Odi = 0 # Количество сообщений от Оди\n",
    "\n",
    "n = int(input()) # Количество сообщений\n",
    "for i in range(n): # Для каждого сообщения\n",
    "    m = input()\n",
    "    if m.count('11') >= 3:\n",
    "        cnt_Odi += 1\n",
    "        \n",
    "print(cnt_Odi)"
   ]
  },
  {
   "cell_type": "code",
   "execution_count": null,
   "metadata": {},
   "outputs": [],
   "source": [
    "# На вход программе подаётся строка текста. \n",
    "# Напишите программу, которая подсчитывает количество цифр в данной строке.\n",
    "\n",
    "s = input()\n",
    "number = '0123456789'\n",
    "count = 0\n",
    "\n",
    "for char in s:\n",
    "    if char in number:\n",
    "        count += 1\n",
    "\n",
    "print(count)"
   ]
  },
  {
   "cell_type": "code",
   "execution_count": null,
   "metadata": {},
   "outputs": [],
   "source": [
    "# На вход программе подаётся строка текста. \n",
    "# Напишите программу, которая проверяет, что строка заканчивается подстрокой .com или .ru.\n",
    "s = input()\n",
    "\n",
    "if s.endswith('.com') or s.endswith('.ru'):\n",
    "    print('YES')\n",
    "else:\n",
    "    print('NO')\n",
    "\n"
   ]
  },
  {
   "cell_type": "code",
   "execution_count": null,
   "metadata": {},
   "outputs": [],
   "source": [
    "# Программа должна вывести символ, который появляется наиболее часто.\n",
    "s = input() # ВВодим текст\n",
    "\n",
    "mx = 0 # Количество повторений наиболее часто встречаемого символа\n",
    "mx_s = s[0] # Символ с максимальным количеством повторений\n",
    "\n",
    "for char in s: # Перебираем каждый символ\n",
    "    if s.count(char) >= mx:\n",
    "        mx = s.count(char)\n",
    "        mx_s = char\n",
    "        \n",
    "print(mx_s)"
   ]
  },
  {
   "cell_type": "code",
   "execution_count": null,
   "metadata": {},
   "outputs": [],
   "source": [
    "# На вход программе подаётся строка текста. \n",
    "# Если в этой строке буква «f» встречается только один раз, выведите её индекс. \n",
    "# Если она встречается два и более раза, выведите индексы её первого и последнего вхождения на одной строке, \n",
    "# разделённые символом пробела. \n",
    "# Если буква «f» в данной строке не встречается, следует вывести «NO» (без кавычек).\n",
    "\n",
    "s = input()\n",
    "\n",
    "if s.count('f') == 0:\n",
    "    print('NO')\n",
    "elif s.count('f') == 1:\n",
    "    print(s.find('f'))\n",
    "else:\n",
    "    print(s.find('f'), s.rfind('f'))"
   ]
  },
  {
   "cell_type": "code",
   "execution_count": null,
   "metadata": {},
   "outputs": [],
   "source": [
    "# На вход программе подаётся строка текста, в которой буква «h» встречается минимум два раза. \n",
    "# Напишите программу, которая удаляет из этой строки первое и последнее вхождение буквы «h», \n",
    "# а также все символы, находящиеся между ними.\n",
    "\n",
    "s = input()\n",
    "s1 = s.find('h')\n",
    "s2 = s.rfind('h')\n",
    "s_new = s[:s1] + s[s2+1:]\n",
    "print(s_new)"
   ]
  },
  {
   "cell_type": "code",
   "execution_count": null,
   "metadata": {},
   "outputs": [],
   "source": [
    "# На платформе Stepik пользователи оставляют комментарии, но не все из них соответствуют правилам. \n",
    "# Так, например, модератор Сэм считает неуместными комментариями те, которые \n",
    "# представляют собой пустую строку или состоят только из пробелов. \n",
    "# Подобные комментарии он удаляет – нечего засорять курс бесполезным материалом!\n",
    "# Ваша задача – написать программу, которая поможет Сэму проверять комментарии. \n",
    "# Программа должна принимать на вход натуральное число n строк, представляющих тексты комментариев. \n",
    "# Для каждого комментария ваша программа должна выводить номер этого комментария (начиная с 1), \n",
    "# затем двоеточие (:), затем через пробел его текст или сообщение «COMMENT SHOULD BE DELETED» (без кавычек), \n",
    "# если комментарий должен быть удалён Сэмом.\n",
    "\n",
    "n = int(input())\n",
    "\n",
    "for i in range(1, n+1):\n",
    "    s = input()\n",
    "    if s == '' or s.isspace():\n",
    "        print(i, ': ', 'COMMENT SHOULD BE DELETED', sep='')\n",
    "    else:\n",
    "        print(i, ': ', s, sep='')"
   ]
  },
  {
   "cell_type": "code",
   "execution_count": null,
   "metadata": {},
   "outputs": [],
   "source": [
    "# Напишите программу, которая принимает на вход строку и проверяет, является ли эта строка корректным автомобильным номером. \n",
    "# Программа должна вывести «YES» (без кавычек), если искусственный интеллект справился со своей задачей, или «NO» (без кавычек) \n",
    "# в противном случае. В нашей задаче корректным автомобильным номером будем считать следующие форматы:\n",
    "# <БУКВА><ЦИФРА><ЦИФРА><ЦИФРА><БУКВА><БУКВА>_<ЦИФРА><ЦИФРА>\n",
    "# <БУКВА><ЦИФРА><ЦИФРА><ЦИФРА><БУКВА><БУКВА>_<ЦИФРА><ЦИФРА><ЦИФРА>\n",
    "# Буква равна = АВЕКМНОРСТУХ\n",
    "\n",
    "rel_c = 'АВЕКМНОРСТУХ' # Подходящие буквы\n",
    "s = input() # Вводим строку\n",
    "\n",
    "if (len(s) == 9 or len(s) == 10): # Если длина равна 9 или 10, то проверяем на следующее условие:\n",
    "    # Если первый, пятый и шестой символы входят в строку подходящих букв, седьмой символ равняется _, а 2-4 и 8-10 - цифры, то:\n",
    "    if s[0] in rel_c and s[1:4].isdigit() and s[4] in rel_c and s[5] in rel_c and s[6] == '_' and s[7:].isdigit():\n",
    "        print('YES') # печатаем Yes\n",
    "    else:\n",
    "        print('NO')\n",
    "else:\n",
    "    print('NO')"
   ]
  },
  {
   "cell_type": "code",
   "execution_count": null,
   "metadata": {},
   "outputs": [],
   "source": [
    "# Во время собеседования вам предложили решить задачу на валидацию имени пользователя. \n",
    "# Пользователь пытается создать никнейм для своего аккаунта в соцсети Y. \n",
    "# Правила для корректного никнейма в соцсети Y следующие:\n",
    "# никнейм должен начинаться с символа @\n",
    "# никнейм должен содержать от 5 до 15 (включительно) символов (включая первый символ @)\n",
    "# никнейм должен содержать только строчные буквы и (или) цифры (помимо первого символа @)\n",
    "# Напишите программу, которая выводит «Correct» (без кавычек), если никнейм соответствует всем вышеприведенным правилам, \n",
    "# или «Incorrect» (без кавычек) в противном случае.\n",
    "\n",
    "s = input() # Вводим имя пользователя \n",
    "\n",
    "# Если имя пользователя начинается на @\n",
    "if s[0] == '@':\n",
    "    # Если длина имени от до 15 символов:\n",
    "    if 5 <= len(s) <= 15:\n",
    "        s_remain = s[1:] # Создаем строку без @\n",
    "        # Если имя содержит только цифры и (или) строчные буквы\n",
    "        if s_remain.isdigit() or (s_remain.islower() and s_remain.isalnum()):\n",
    "            print('Correct')\n",
    "        else:\n",
    "            print('Incorrect')\n",
    "    else:\n",
    "        print('Incorrect')\n",
    "else:\n",
    "    print('Incorrect')"
   ]
  },
  {
   "cell_type": "markdown",
   "metadata": {},
   "source": [
    "Вследствие кибератаки на банк «Разбогатеем вместе» сломался алгоритм, \n",
    "выводящий курсы валют для определённой даты в мобильном приложении. \n",
    "Технический отдел банка просит вас исправить ситуацию и наладить вывод. \n",
    "На вход программе подаются следующие значения:\n",
    "    дата (в формате ДД-ММ-ГГГГ)\n",
    "    курс евро (сколько российских рублей стоит 1 евро)\n",
    "    курс юаня (сколько российских рублей стоит 1 юань)\n",
    "Напишите программу, которая выводит строку, показывающую, сколько российских рублей стоит 1 евро и 1 юань на указанную дату в формате:На <дата>: 1€ = <курс евро>₽, 1¥ = <курс юаня>₽"
   ]
  },
  {
   "cell_type": "code",
   "execution_count": null,
   "metadata": {},
   "outputs": [],
   "source": [
    "date = input()\n",
    "euro_rate = input()\n",
    "yuan_rate = input()\n",
    "\n",
    "answer = f'На {date}: 1€ = {euro_rate}₽, 1¥ = {yuan_rate}₽'\n",
    "print(answer)"
   ]
  },
  {
   "cell_type": "markdown",
   "metadata": {},
   "source": [
    "Очень часто студенты \"Поколения Python\" путают понятия «сумма кубов» и «куб суммы». Для того чтобы внести ясность в этот извечный математический вопрос, предлагаем вам решить следующую задачу.\n",
    "\n",
    "На вход программе подаются два целых числа a и b. \n",
    "Ваша программа должна посчитать для этих чисел сумму их кубов и куб их суммы и вывести результат вычислений в следующем формате:\n",
    "\n",
    "Для чисел <число a> и <число b>:\n",
    "  Сумма кубов: <число a>**3 + <число b>**3 = <сумма кубов a и b>\n",
    "  Куб суммы: (<число a> + <число b>)**3 = <куб суммы a и b>"
   ]
  },
  {
   "cell_type": "code",
   "execution_count": null,
   "metadata": {},
   "outputs": [],
   "source": [
    "from math import pow\n",
    "a, b = int(input()), int(input())\n",
    "\n",
    "sum_of_cubes = int(pow(a, 3) + pow(b, 3))\n",
    "cube_of_sum = int(pow((a + b), 3))\n",
    "\n",
    "ans1 = f'Для чисел {a} и {b}:'\n",
    "ans2 = f'  Сумма кубов: {a}**3 + {b}**3 = {sum_of_cubes}'\n",
    "ans3 = f'  Куб суммы: ({a} + {b})**3 = {cube_of_sum}'\n",
    "print(ans1)\n",
    "print(ans2)\n",
    "print(ans3)"
   ]
  },
  {
   "cell_type": "markdown",
   "metadata": {},
   "source": [
    "Гвидо, засевший за компьютером и не ведущий активный образ жизни, «немного» поднабрал в весе. Осталось всего \n",
    "60 дней до лета, а хочется быть в форме. Вот Гвидо и решился на похудение. Все дни до лета он пронумеровал от 1 до 60 (включительно). Перед началом похудения у Гвидо был вес 100 кг, а своей целью он поставил достичь веса 88 кг (или меньше). Он решил худеть на одну и ту же массу ежедневно.\n",
    "\n",
    "Напишите программу, которая принимает на вход текущий день и текущий вес Гвидо. Программа должна вывести фразу:\n",
    "\n",
    "«Все идет по плану» (без кавычек), если Гвидо удаётся держать планку в похудении и его вес ниже либо равен тому, который он запланировал на текущий день\n",
    "«Что-то пошло не так» (без кавычек), если Гвидо не очень старается и его вес выше того, который он запланировал на текущий день\n",
    "Также программа должна вывести информацию о номере дня похудения, текущем весе Гвидо и цели по весу на текущий день в формате:\n",
    "\n",
    "#<номер дня> ДЕНЬ: ТЕКУЩИЙ ВЕС = <текущий вес Гвидо> кг, ЦЕЛЬ по ВЕСУ = <цель по весу на текущий день> кг"
   ]
  },
  {
   "cell_type": "code",
   "execution_count": null,
   "metadata": {},
   "outputs": [],
   "source": [
    "n = 60\n",
    "weight_beginning = 100\n",
    "goal = 88\n",
    "\n",
    "day_goal = (weight_beginning - goal) / n # Ежедневная цель сброса\n",
    "\n",
    "num = int(input())\n",
    "current_weight = float(input())\n",
    "\n",
    "num_goal = weight_beginning - num * day_goal # Конечная цель на num день\n",
    "\n",
    "if current_weight > num_goal:\n",
    "    print('Что-то пошло не так')\n",
    "else:\n",
    "    print('Все идет по плану')\n",
    "print(f'#{num} ДЕНЬ: ТЕКУЩИЙ ВЕС = {current_weight} кг, ЦЕЛЬ по ВЕСУ = {num_goal} кг')\n"
   ]
  },
  {
   "cell_type": "markdown",
   "metadata": {},
   "source": [
    "На вход программе подаётся некоторая буква русского алфавита в верхнем регистре. \n",
    "Найдите следующую за ней букву и выведите её на экран. \n",
    "Если введённая буква является последней в алфавите, то выведите текст «Дальше букв нет» (без кавычек)."
   ]
  },
  {
   "cell_type": "code",
   "execution_count": null,
   "metadata": {},
   "outputs": [],
   "source": [
    "char = input()\n",
    "\n",
    "if char == 'Я':\n",
    "    print('Дальше букв нет')\n",
    "else:\n",
    "    next_char = chr(ord(char) + 1)\n",
    "    print(next_char)"
   ]
  },
  {
   "cell_type": "markdown",
   "metadata": {},
   "source": [
    "На вход программе подаются два числа \n",
    "(a<b). Напишите программу, которая для каждого кодового значения в диапазоне \n",
    "от a до b (включительно) выводит соответствующий ему символ из таблицы символов Unicode"
   ]
  },
  {
   "cell_type": "code",
   "execution_count": null,
   "metadata": {},
   "outputs": [],
   "source": [
    "a, b = int(input()), int(input())\n",
    "for i in range(a, b + 1):\n",
    "    print(chr(i), end=' ')"
   ]
  },
  {
   "cell_type": "markdown",
   "metadata": {},
   "source": [
    "На вход программе подаётся строка текста. \n",
    "Напишите программу, которая переводит каждый \n",
    "ее символ в соответствующий ему код из таблицы символов Unicode."
   ]
  },
  {
   "cell_type": "code",
   "execution_count": null,
   "metadata": {},
   "outputs": [],
   "source": [
    "s = input()\n",
    "for char in s:\n",
    "    print(ord(char), end=' ')"
   ]
  },
  {
   "cell_type": "markdown",
   "metadata": {},
   "source": [
    "Под \"тяжестью\" слова будем понимать сумму кодов по таблице Unicode всех символов этого слова. \n",
    "Напишите программу, которая принимает \n",
    "4 слова и находит среди них самое тяжёлое слово. \n",
    "Если самых тяжёлых слов будет несколько, \n",
    "то программа должна вывести первое из них."
   ]
  },
  {
   "cell_type": "code",
   "execution_count": null,
   "metadata": {},
   "outputs": [],
   "source": [
    "s1, s2, s3, s4 = input(), input(), input(), input()\n",
    "\n",
    "sum_s = 0\n",
    "max_s = s1\n",
    "\n",
    "for char in s1:\n",
    "    sum_s += ord(char)\n",
    "max_sum_s = sum_s\n",
    "   \n",
    "sum_s = 0\n",
    "for char in s2:\n",
    "    sum_s += ord(char)\n",
    "    if sum_s > max_sum_s:\n",
    "        max_sum_s = sum_s\n",
    "        max_s = s2\n",
    "\n",
    "sum_s = 0\n",
    "for char in s3:\n",
    "    sum_s += ord(char)\n",
    "    if sum_s > max_sum_s:\n",
    "        max_sum_s = sum_s\n",
    "        max_s = s3\n",
    "\n",
    "sum_s = 0\n",
    "for char in s4:\n",
    "    sum_s += ord(char)\n",
    "    if sum_s > max_sum_s:\n",
    "        max_sum_s = sum_s\n",
    "        max_s = s4\n",
    "\n",
    "print(max_s)\n",
    "    \n",
    "    "
   ]
  },
  {
   "cell_type": "markdown",
   "metadata": {},
   "source": [
    "Модератору Сэму за каждый символ его сообщений в комментариях Тимур платит в 🐝 (пчёлках-coin) по следующему тарифу:\n",
    "<код символа в таблице Unicode>×3🐝"
   ]
  },
  {
   "cell_type": "code",
   "execution_count": null,
   "metadata": {},
   "outputs": [],
   "source": [
    "s = input() # Ответ Сэма\n",
    "money = 0 # Сколько заработает Сэм без мультипликатора\n",
    "\n",
    "for character in s: # Для каждого символа в строке, прибавляем его код\n",
    "    money += ord(character)\n",
    "\n",
    "money *= 3 # Умножаем на 3\n",
    "ans1 = f\"Текст сообщения: '{s}'\"\n",
    "ans2 = f\"Стоимость сообщения: {money}🐝\"\n",
    "\n",
    "print(ans1)\n",
    "print(ans2)\n"
   ]
  },
  {
   "cell_type": "markdown",
   "metadata": {},
   "source": []
  },
  {
   "cell_type": "code",
   "execution_count": null,
   "metadata": {},
   "outputs": [],
   "source": [
    "en_alts, ru_alts = \"eyopaxcETOPAHXCBM\", \"еуорахсЕТОРАНХСВМ\"\n",
    "s = input()\n",
    "old_m = 0\n",
    "new_m = 0\n",
    "\n",
    "for character in s: # Для каждого символа в строке, прибавляем его код\n",
    "    if character in en_alts:\n",
    "        ind = en_alts.find(character)\n",
    "        new_m += ord(ru_alts[ind])\n",
    "    else:\n",
    "        new_m += ord(character)\n",
    "    old_m += ord(character)\n",
    "    \n",
    "old_m *= 3\n",
    "new_m *= 3 \n",
    "\n",
    "\n",
    "ans1 = f\"Старая стоимость: {old_m}🐝\"\n",
    "ans2 = f\"Новая стоимость: {new_m}🐝\"\n",
    "\n",
    "print(ans1)\n",
    "print(ans2)"
   ]
  },
  {
   "cell_type": "markdown",
   "metadata": {},
   "source": [
    "Легион Цезаря, созданный в 23 веке \n",
    "на основе Римской Империи не изменяет древним традициям и использует шифр Цезаря. \n",
    "Это их и подвело, ведь данный шифр очень простой. \n",
    "Однако в постапокалипсисе люди плохо знают все тонкости довоенного мира, \n",
    "поэтому ученые из НКР не могут понять, как именно нужно декодировать данные сообщения. \n",
    "Напишите программу для декодирования этого шифра.\n",
    "В первой строке подаётся число (1≤n≤25) – сдвиг, \n",
    "во второй строке даётся закодированное сообщение в виде строки со строчными латинскими буквами."
   ]
  },
  {
   "cell_type": "code",
   "execution_count": null,
   "metadata": {},
   "outputs": [],
   "source": [
    "n = int(input()) # Сдвиг\n",
    "s = input() # Закодированное сообщение\n",
    "new_s = ''\n",
    "\n",
    "for char in s: \n",
    "    # Новый символ  \n",
    "    if ord(char) - n < ord('a'):\n",
    "        new_char = chr(ord(char) + 26 - n)\n",
    "    else: \n",
    "        new_char = chr(ord(char) - n)       \n",
    "    new_s += new_char\n",
    "\n",
    "print(new_s)"
   ]
  },
  {
   "cell_type": "markdown",
   "metadata": {},
   "source": [
    "После недавнего сбоя в операционной системе от компании «Oursoft» у Гвидо сбилась кодировка на компьютере. \n",
    "Теперь все буквы русского алфавита отображаются в некорректном виде:"
   ]
  },
  {
   "cell_type": "code",
   "execution_count": null,
   "metadata": {},
   "outputs": [],
   "source": [
    "# 1040 - русская буква А\n",
    "# 1072 - русская буква а\n",
    "# 1103 - руская буква я\n",
    "\n",
    "s = input()\n",
    "numbers = '0123456789'\n",
    "new_s = ''\n",
    "\n",
    "i = 0\n",
    "\n",
    "while i < len(s):\n",
    "    if s[i] == '[' and s[i + 1] == 'u' and s[i + 2] == '-' and s[i + 7] == ']':\n",
    "        new_char = int(s[i + 3: i + 7])\n",
    "        new_s = new_s + chr(new_char)\n",
    "        i = i + 8\n",
    "    else: \n",
    "        new_s = new_s + s[i]\n",
    "        i += 1\n",
    "print(new_s)\n"
   ]
  },
  {
   "cell_type": "markdown",
   "metadata": {},
   "source": [
    "На вход программе подаётся последовательность строк, каждая строка на отдельной строке. \n",
    "онцом последовательности является слово «КОНЕЦ» (без кавычек). \n",
    "При этом само слово «КОНЕЦ» не входит в последовательность, лишь символизируя ее окончание. \n",
    "Напишите программу, которая находит в данной последовательности максимальную \n",
    "и минимальную строки (в лексикографическом порядке) \n",
    "и выводит их в следующем формате:\n",
    "Минимальная строка ⬇️: <минимальная строка>\n",
    "Максимальная строка ⬆️: <максимальная строка>"
   ]
  },
  {
   "cell_type": "code",
   "execution_count": null,
   "metadata": {},
   "outputs": [],
   "source": [
    "# Присваиваем первую строку минимуму и максимуму\n",
    "mn = input()\n",
    "mx = mn\n",
    "\n",
    "# Запускаем бесконечный цикл\n",
    "while 1 < 2:\n",
    "    s = input() # Новая строка\n",
    "    if s == 'КОНЕЦ':\n",
    "        break # Выходим из цикла, если встречаем слово конец\n",
    "    if s > mx:\n",
    "        mx = s\n",
    "    if s < mn:\n",
    "        mn = s\n",
    "print(f'Минимальная строка ⬇️: {mn}')\n",
    "print(f'Максимальная строка ⬆️: {mx}')"
   ]
  },
  {
   "cell_type": "markdown",
   "metadata": {},
   "source": [
    "В некотором наборе слов Сэм находит \"волшебное\" число по следующему алгоритму: \n",
    "    берет самую \"маленькую\" и самую \"большую\" строки, \n",
    "    перемножает Unicode-коды последних символов этих строк и возводит полученное число в квадрат. \n",
    "Результатом и является \"волшебное\" число.\n",
    "\n",
    "На вход программе подаются 4 слова. Найдите \"волшебное\" число в этом наборе слов."
   ]
  },
  {
   "cell_type": "code",
   "execution_count": null,
   "metadata": {},
   "outputs": [],
   "source": [
    "from math import pow\n",
    "s1, s2, s3, s4 = input(), input(), input(), input() # Слова \n",
    "\n",
    "min_s = min(s1, s2, s3, s4) # Определяем минимальную строку\n",
    "max_s = max(s1, s2, s3, s4) # Определям максимальную строку\n",
    "\n",
    "sq_res = pow(ord(min_s[-1]) * ord(max_s[-1]), 2) # Определяем результат \n",
    "print(int(sq_res))\n"
   ]
  },
  {
   "cell_type": "markdown",
   "metadata": {},
   "source": [
    "В школе BEEGEEK названия учебных классов необычные. Они имеют следующий формат:\n",
    "<номер класса><буква класса>\n",
    "где <номер класса> должен находиться в диапазоне от 0 (как и все у программистов) до \n",
    "9 включительно, а буквой класса могут быть все буквы в диапазоне от «А» до «П» включительно.\n",
    "\n",
    "Напишите программу, которая принимает натуральное число \n",
    "n названий классов, каждое на новой строке. \n",
    "Для каждого названия класса ваша программа должна выводить на отдельной строке «YES» (без кавычек), \n",
    "если название класса корректное, или «NO» (без кавычек) в противном случае.\n",
    "\n",
    "Формат входных данных\n",
    "На вход программе подаются натуральное число \n",
    "n названий классов, каждое на отдельной строке.\n",
    "\n",
    "Формат выходных данных\n",
    "Программа должна вывести на отдельной строке для каждого названия класса «YES» (без кавычек) или «NO» (без кавычек) \n",
    "в соответствии с условием задачи."
   ]
  },
  {
   "cell_type": "code",
   "execution_count": null,
   "metadata": {},
   "outputs": [],
   "source": [
    "n = int(input())\n",
    "numbers = '0123456789'\n",
    "\n",
    "for i in range(n):\n",
    "    s = input()\n",
    "    if len(s) == 2 and s[0] in numbers and (ord('А') <= ord(s[1]) <= ord('П')):\n",
    "        print('YES')\n",
    "    else:\n",
    "        print('NO')"
   ]
  },
  {
   "cell_type": "markdown",
   "metadata": {},
   "source": [
    "На вход программе подаются 2 строки. Вам необходимо сравнить эти строки посимвольно, \n",
    "не учитывая регистр и игнорируя все небуквенные символы. \n",
    "Программа должна вывести «YES» (без кавычек), если строки окажутся равны в результате такой проверки, \n",
    "или «NO» (без кавычек) в противном случае."
   ]
  },
  {
   "cell_type": "code",
   "execution_count": null,
   "metadata": {},
   "outputs": [],
   "source": [
    "# Подаем строки в нижнем регистре\n",
    "s1 = input().lower()\n",
    "s2 = input().lower()\n",
    "\n",
    "new_s1 = ''\n",
    "new_s2 = ''\n",
    "\n",
    "for char1 in s1:\n",
    "    if char1.isalpha():\n",
    "        new_s1 += char1\n",
    "\n",
    "for char2 in s2:\n",
    "    if char2.isalpha():\n",
    "        new_s2 += char2\n",
    "\n",
    "if new_s1 == new_s2:\n",
    "    print('YES')\n",
    "else:\n",
    "    print('NO')"
   ]
  },
  {
   "cell_type": "markdown",
   "metadata": {},
   "source": [
    "На вход программе подаются 3 различных слова. \n",
    "Вам необходимо отсортировать эти слова по возрастанию в лексикографическом порядке \n",
    "и вывести их на одной строке, разделяя символом пробела."
   ]
  },
  {
   "cell_type": "code",
   "execution_count": null,
   "metadata": {},
   "outputs": [],
   "source": [
    "s1, s2, s3 = input(), input(), input()\n",
    "\n",
    "if s1 > s2 and s1 > s3:\n",
    "    max_s = s1\n",
    "    if s2 > s3:\n",
    "        avg_s = s2\n",
    "        min_s = s3\n",
    "    else:\n",
    "        avg_s = s3\n",
    "        min_s = s2\n",
    "elif s2 > s1 and s2 > s3:\n",
    "    max_s = s2\n",
    "    if s1 > s3:\n",
    "        avg_s = s1\n",
    "        min_s = s3\n",
    "    else:\n",
    "        avg_s = s3\n",
    "        min_s = s1\n",
    "elif s3 > s1 and s3 > s2:\n",
    "    max_s = s3\n",
    "    if s1 > s2:\n",
    "        avg_s = s1\n",
    "        min_s = s2\n",
    "    else:\n",
    "        avg_s = s2\n",
    "        min_s = s1\n",
    "\n",
    "print(min_s, avg_s, max_s)"
   ]
  },
  {
   "cell_type": "markdown",
   "metadata": {},
   "source": [
    "Все книги в домашней библиотеке Душнилы, друга Сэма, \n",
    "должны быть обязательно отсортированы по возрастанию: сначала по фамилиям авторов, \n",
    "    а в случае совпадения фамилий – по названиям. \n",
    "    Напишите программу, которая проверяет, верно ли отсортированы книги.\n",
    "\n",
    "На вход вашей программе поступает число n, \n",
    "а затем – n строк, каждая строка представляет собой книгу в следующем формате:\n",
    "\n",
    "<фамилия автора> <инициалы автора>, «<название книги>»\n",
    "Программа должна вывести «YES» (без кавычек), если книги отсортированы в соответствии с пожеланиями Душнилы, \n",
    "или «NO» (без кавычек) в противном случае."
   ]
  },
  {
   "cell_type": "code",
   "execution_count": null,
   "metadata": {},
   "outputs": [],
   "source": [
    "n = int(input()) # Ввод числа строк\n",
    "\n",
    "string = input() # Ввод первой строки\n",
    "sep = string.find(' ') # Индекс первого пробела\n",
    "rsep = string.find('«') # Индекс первой кавычки\n",
    "\n",
    "string_fam = string[0:sep] # Фамилия автора \n",
    "string_nameb = string[rsep:] # Название книги\n",
    "\n",
    "\n",
    "# Перебираем со второй строки по n-строки\n",
    "for i in range(2, n + 1):\n",
    "    cur_string = input() # Текущая строка\n",
    "    cur_sep = cur_string.find(' ') # Индекс первого пробела текущей строки\n",
    "    cur_rsep = cur_string.find('«') # Индекс первой кавычки текущей строки\n",
    "    \n",
    "    cur_string_fam = cur_string[:cur_sep] # Текущая фамилия\n",
    "    cur_string_nameb = cur_string[cur_rsep:] # Текущее название книги\n",
    "    \n",
    "    # Если фамилия автора текущей строки больше фамилии автора предыдущей строки\n",
    "    if cur_string_fam > string_fam:\n",
    "        string_fam = cur_string_fam # Текущую строку делаем предыдущей для следующей\n",
    "        string_nameb = cur_string_nameb\n",
    "        continue # Продолжаем цикл\n",
    "    # Иначе, если фамилия автора текущей строки больше фамилии автора предыдущей строки \n",
    "    # И название книги текущей строки больше книги предыдущей\n",
    "    elif cur_string_fam == string_fam and cur_string_nameb > string_nameb:\n",
    "        string_fam = cur_string_fam\n",
    "        string_nameb = cur_string_nameb\n",
    "        continue\n",
    "    # Иначе, завершаем цикл, выводя NO\n",
    "    else:\n",
    "        print('NO')\n",
    "        break\n",
    "# Если цикл завершается штатно, то печатаем YES\n",
    "else:\n",
    "    print('YES')\n",
    "    "
   ]
  },
  {
   "cell_type": "markdown",
   "metadata": {},
   "source": [
    "На вход программе подаётся строка текста. Напишите программу, \n",
    "которая удаляет из нее все символы с индексами, кратными \n",
    "3, то есть символы с индексами 0, 3, 6, ...."
   ]
  },
  {
   "cell_type": "code",
   "execution_count": null,
   "metadata": {},
   "outputs": [],
   "source": [
    "s = input()\n",
    "new_s = ''\n",
    "\n",
    "# Перебираем каждый индекс\n",
    "for i in range(0, len(s)):\n",
    "    if i % 3 != 0:\n",
    "        new_s += s[i]\n",
    "    \n",
    "print(new_s)"
   ]
  },
  {
   "cell_type": "markdown",
   "metadata": {},
   "source": [
    "На вход программе подаётся строка текста. Напишите программу, \n",
    "которая заменяет все вхождения цифры 1 на слово «one»."
   ]
  },
  {
   "cell_type": "code",
   "execution_count": null,
   "metadata": {},
   "outputs": [],
   "source": [
    "s = input()\n",
    "new_s = s.replace('1', 'one')\n",
    "print(new_s)"
   ]
  },
  {
   "cell_type": "markdown",
   "metadata": {},
   "source": [
    "На вход программе подаётся строка текста. Напишите программу, которая удаляет все вхождения символа «@»."
   ]
  },
  {
   "cell_type": "code",
   "execution_count": null,
   "metadata": {},
   "outputs": [],
   "source": [
    "s = input()\n",
    "new_s = s.replace('@', '')\n",
    "print(new_s)"
   ]
  },
  {
   "cell_type": "markdown",
   "metadata": {},
   "source": [
    "На вход программе подаётся строка текста. \n",
    "Напишите программу, которая выводит индекс второго вхождения буквы «f». \n",
    "Если буква «f» встречается только один раз, выведите число «-1» (без кавычек), \n",
    "а если не встречается ни разу – выведите число «-2» (без кавычек)."
   ]
  },
  {
   "cell_type": "code",
   "execution_count": null,
   "metadata": {},
   "outputs": [],
   "source": [
    "s = input()\n",
    "count_f = 0\n",
    "\n",
    "for i in range(len(s)):\n",
    "    if s[i] == 'f':\n",
    "        count_f += 1\n",
    "        if count_f == 2:\n",
    "            print(i)\n",
    "            break\n",
    "\n",
    "if count_f == 1:\n",
    "    print(-1)\n",
    "elif count_f == 0:\n",
    "    print(-2)\n",
    "        "
   ]
  },
  {
   "cell_type": "markdown",
   "metadata": {},
   "source": [
    "На вход программе подаётся строка текста, в которой буква «h» встречается как минимум два раза. \n",
    "Напишите программу, которая возвращает исходную строку и переворачивает последовательность символов, \n",
    "заключённую между первым и последним вхождением буквы «h»."
   ]
  },
  {
   "cell_type": "code",
   "execution_count": null,
   "metadata": {},
   "outputs": [],
   "source": [
    "s = input()\n",
    "h1 = s.find('h') # Находим индекс первой буквы h\n",
    "h2 = s.rfind('h') # Находим последний индекс первой буквы h\n",
    "\n",
    "part1 = s[0:h1+1] # Сохраняем часть строки от начала до первой буквы h включительно\n",
    "part3 = s[h2:] # Сохраняем часть строки от последней буквы h до конца\n",
    "\n",
    "part2 = s[h2-1:h1:-1]\n",
    "\n",
    "s_new = part1 + part2 + part3\n",
    "print(s_new)"
   ]
  },
  {
   "cell_type": "markdown",
   "metadata": {},
   "source": [
    "# Списки"
   ]
  },
  {
   "cell_type": "markdown",
   "metadata": {},
   "source": [
    "На вход программе подаётся одно число n. Напишите программу, которая выводит список [1, 2, 3, ..., n]."
   ]
  },
  {
   "cell_type": "code",
   "execution_count": null,
   "metadata": {},
   "outputs": [],
   "source": [
    "n = int(input())\n",
    "numbers = list(range(1, n + 1)) # Последовательность от 1 до n, которая передается в список\n",
    "print(numbers)"
   ]
  },
  {
   "cell_type": "markdown",
   "metadata": {},
   "source": [
    "На вход программе подаётся натуральное число n. \n",
    "Напишите программу, которая выводит список, состоящий из n букв английского алфавита ['a', 'b', 'c', ...] в нижнем регистре."
   ]
  },
  {
   "cell_type": "code",
   "execution_count": null,
   "metadata": {},
   "outputs": [],
   "source": [
    "n = int(input())\n",
    "en_alphabet = 'abcdefghijklmnopqrstuvwxyz'\n",
    "fragment = en_alphabet[0:n] # Часть алфавита\n",
    "characters = list(fragment)\n",
    "print(characters)"
   ]
  },
  {
   "cell_type": "code",
   "execution_count": null,
   "metadata": {},
   "outputs": [],
   "source": [
    "Дополните приведённый ниже код, чтобы он:\n",
    "Вывел длину списка;\n",
    "Вывел последний элемент списка;\n",
    "Вывел список в обратном порядке (вспоминаем срезы);\n",
    "Вывел «YES» (без кавычек), если список содержит числа 5 и 17, или «NO» (без кавычек) в противном случае;\n",
    "Вывел список с удалёнными первым и последним элементами."
   ]
  },
  {
   "cell_type": "code",
   "execution_count": null,
   "metadata": {},
   "outputs": [],
   "source": [
    "numbers = [2, 6, 3, 14, 10, 4, 11, 16, 12, 5, 4, 16, 1, 0, 8, 16, 10, 10, 8, 5, 1, 11, 10, 10, 12, 0, 0, 6, 14, 8, 2, 12, 14, 5, 6, 12, 1, 2, 10, 14, 9, 1, 15, 1, 2, 14, 16, 6, 7, 5]\n",
    "\n",
    "print(len(numbers)) # Длина списка\n",
    "print(numbers[-1]) # Последний элемент списка\n",
    "print(numbers[::-1]) # Список с элементами в обратном порядке\n",
    "\n",
    "if 5 in numbers and 17 in numbers: # Если список содержит числа 5 И 17\n",
    "    print('YES')\n",
    "else:\n",
    "    print('NO')\n",
    "\n",
    "# Удаляем первый и последний элемент \n",
    "del numbers[0]\n",
    "del numbers[-1]\n",
    "print(numbers)"
   ]
  },
  {
   "cell_type": "markdown",
   "metadata": {},
   "source": [
    "На вход программе подаются натуральное число n, а затем n строк. \n",
    "Напишите программу, которая создаёт из указанных строк список, а затем выводит его."
   ]
  },
  {
   "cell_type": "code",
   "execution_count": null,
   "metadata": {},
   "outputs": [],
   "source": [
    "n = int(input())\n",
    "ls = list()\n",
    "\n",
    "for _ in range(n):\n",
    "    s = input() # Вводим строку\n",
    "    ls.append(s) # Добавляем элемент в список\n",
    "\n",
    "print(ls)"
   ]
  },
  {
   "cell_type": "markdown",
   "metadata": {},
   "source": [
    "Напишите программу, выводящую следующий список:"
   ]
  },
  {
   "cell_type": "code",
   "execution_count": null,
   "metadata": {},
   "outputs": [],
   "source": [
    "n = 26 # Количество букв\n",
    "ls = []\n",
    "\n",
    "for mul in range(1, n+1): # Для каждого номера буквы\n",
    "    char = chr(ord('a') + (mul - 1)) # Определяем букву \n",
    "    char_r = char * mul # умножаем эту букву на номер буквы\n",
    "    ls.append(char_r) # добавляем в список перемноженную букву\n",
    "\n",
    "print(ls)\n"
   ]
  },
  {
   "cell_type": "code",
   "execution_count": null,
   "metadata": {},
   "outputs": [],
   "source": [
    "mul = 1\n",
    "chr(ord('a') + (mul - 1))"
   ]
  },
  {
   "cell_type": "markdown",
   "metadata": {},
   "source": [
    "На вход программе подаются натуральное число n, а затем n целых чисел. \n",
    "Напишите программу, которая создаёт из указанных чисел список их кубов, а затем выводит его.\n",
    "\n",
    "Формат входных данных\n",
    "На вход программе подаются натуральное число n, а затем n целых чисел, каждое на отдельной строке.\n",
    "\n",
    "Формат выходных данных\n",
    "Программа должна вывести список, состоящий из кубов указанных чисел."
   ]
  },
  {
   "cell_type": "code",
   "execution_count": null,
   "metadata": {},
   "outputs": [],
   "source": [
    "n = int(input()) # Количество чисел\n",
    "ls = list() # Создаем пустой список\n",
    "\n",
    "for i in range(n): # Повторяем n раз данный цикл\n",
    "    num = int(input()) # Вводим число\n",
    "    num_3 = num ** 3 # Возводим в куб данное число\n",
    "    ls.append(num_3) # Добавляем в список\n",
    "    \n",
    "print(ls) # Выводим список\n",
    "    "
   ]
  },
  {
   "cell_type": "markdown",
   "metadata": {},
   "source": [
    "На вход программе подаётся натуральное число n. \n",
    "Напишите программу, которая создаёт список, состоящий из делителей введённого числа в порядке возрастания, \n",
    "а затем выводит этот список."
   ]
  },
  {
   "cell_type": "code",
   "execution_count": null,
   "metadata": {},
   "outputs": [],
   "source": [
    "n = int(input())\n",
    "ls = list()\n",
    "\n",
    "for i in range(1, n+1): # Для каждого числа меньше или равного самому числу\n",
    "    if n % i == 0:\n",
    "        ls.append(i)\n",
    "\n",
    "print(ls)"
   ]
  },
  {
   "cell_type": "markdown",
   "metadata": {},
   "source": [
    "На вход программе подаётся натуральное число \n",
    "n(n≥2). Затем поступают n целых чисел. Напишите программу, \n",
    "которая создаёт из указанных чисел список, состоящий из сумм соседних чисел."
   ]
  },
  {
   "cell_type": "code",
   "execution_count": null,
   "metadata": {},
   "outputs": [],
   "source": [
    "n = int(input()) # Количество чисел\n",
    "prev_num = int(input()) # Первое число\n",
    "ls = list() # Пустой список\n",
    "\n",
    "for i in range(2, n + 1): # Перебираем со второго до последнего введеного числа\n",
    "    current_num = int(input()) # Вводим число \n",
    "    s = current_num + prev_num # Суммируем текущее число и предыдущее число\n",
    "    ls.append(s) # Добавляем в список\n",
    "    prev_num = current_num # Для следующей итерации, наше текущее число станет предыдущим\n",
    "    \n",
    "print(ls)"
   ]
  },
  {
   "cell_type": "markdown",
   "metadata": {},
   "source": [
    "На вход программе подаются натуральное число n, \n",
    "а затем n целых чисел. \n",
    "Напишите программу, которая создаёт из указанных чисел список, затем удаляет все элементы, \n",
    "стоящие по нечётным индексам, а затем выводит полученный список."
   ]
  },
  {
   "cell_type": "code",
   "execution_count": null,
   "metadata": {
    "scrolled": true
   },
   "outputs": [],
   "source": [
    "n = int(input())\n",
    "ls = list()\n",
    "\n",
    "\n",
    "for i in range(n): # Перебираем n раз\n",
    "    num = int(input())\n",
    "    ls.append(num) # Добавляем в список введенное число\n",
    "\n",
    "del ls[1::2]\n",
    "print(ls)"
   ]
  },
  {
   "cell_type": "markdown",
   "metadata": {},
   "source": [
    "На вход программе подаются натуральное число n строк, а затем число k. \n",
    "Напишите программу, которая выводит k-ую букву из введённых строк на одной строке без пробелов.\n",
    "Примечание. Если некоторые строки слишком короткие и в них нет символа с заданным номером, то такие строки при выводе нужно игнорировать."
   ]
  },
  {
   "cell_type": "code",
   "execution_count": null,
   "metadata": {},
   "outputs": [],
   "source": [
    "n = int(input()) # Вводим количество строк\n",
    "ls = list() # Создаем пустой список\n",
    "final_s = '' # Финальное слово\n",
    "\n",
    "for i in range(n): # Перебираем n раз\n",
    "    s = input() # Каждая строка\n",
    "    ls.append(s) # Добавляем в список введенную строку\n",
    "\n",
    "k = int(input()) # Вводим номер k\n",
    "\n",
    "\n",
    "\n",
    "\n",
    "for j in range(n): # Перебираем n раз\n",
    "    if k > len(ls[j]): # Если номер k превышает длину элемента списка, то мы переходим к следующей итерации (данную строку игнорируем)\n",
    "        continue\n",
    "    final_s += ls[j][k-1] # Прибавляем к финальному слову букву, которую мы получли, обращаясь к j-номеру в списке и k-номеру j-строки\n",
    "    \n",
    "print(final_s)"
   ]
  },
  {
   "cell_type": "markdown",
   "metadata": {},
   "source": [
    "На вход программе подаются натуральное число n, а затем n строк. \n",
    "Напишите программу, которая создает список из символов всех строк, а затем выводит его."
   ]
  },
  {
   "cell_type": "code",
   "execution_count": null,
   "metadata": {},
   "outputs": [],
   "source": [
    "n = int(input())\n",
    "total = ''\n",
    "\n",
    "for _ in range(n):\n",
    "    s = input()\n",
    "    total += s # Конкатенация строк\n",
    "\n",
    "ls = list() # Создаем пустой список\n",
    "ls.extend(total) # Добавляем только слово\n",
    "print(ls)\n"
   ]
  },
  {
   "cell_type": "markdown",
   "metadata": {},
   "source": [
    "Дополните приведённый ниже код так, чтобы он вывел сумму квадратов элементов списка numbers."
   ]
  },
  {
   "cell_type": "code",
   "execution_count": null,
   "metadata": {},
   "outputs": [],
   "source": [
    "numbers = [1, 78, 23, -65, 99, 9089, 34, -32, 0, -67, 1, 11, 111]\n",
    "\n",
    "total = 0\n",
    "\n",
    "for num in numbers:\n",
    "    total += num ** 2\n",
    "    \n",
    "print(total)"
   ]
  },
  {
   "cell_type": "markdown",
   "metadata": {},
   "source": [
    "На вход программе подаются натуральное число n, а затем \n",
    "n целых чисел. Напишите программу, которая для каждого введённого числа x выводит значение функции \n",
    "f(x)=x^2+2x+1, каждое на отдельной строке."
   ]
  },
  {
   "cell_type": "code",
   "execution_count": null,
   "metadata": {
    "scrolled": true
   },
   "outputs": [],
   "source": [
    "n = int(input())\n",
    "ls_x =  list()\n",
    "ls_y = list()\n",
    "\n",
    "for i in range(n):\n",
    "    x = int(input())\n",
    "    ls_x.append(x)\n",
    "    y = x ** 2 + 2 * x + 1\n",
    "    ls_y.append(y)\n",
    "    \n",
    "print(*ls_x, sep='\\n')\n",
    "print()\n",
    "print(*ls_y, sep='\\n')"
   ]
  },
  {
   "cell_type": "markdown",
   "metadata": {},
   "source": [
    "На вход программе подаются натуральное число n, \n",
    "а затем n различных натуральных чисел. \n",
    "Напишите программу, которая удаляет наименьшее и наибольшее значение из указанных чисел, \n",
    "а затем выводит оставшиеся числа каждое на отдельной строке, не меняя их порядок."
   ]
  },
  {
   "cell_type": "code",
   "execution_count": null,
   "metadata": {},
   "outputs": [],
   "source": [
    "n = int(input()) # Количество чисел\n",
    "ls = list() # Создаем список с первым числом\n",
    "\n",
    "# Формируем список из веденных значений\n",
    "for i in range(n):\n",
    "    num = int(input())\n",
    "    ls.append(num)\n",
    "    \n",
    "max_item = max(ls) # Максимальный элемент списка\n",
    "min_item = min(ls) # Минимальный элемент списка\n",
    "ls2 = list() # Новый список\n",
    "\n",
    "for i in range(n):\n",
    "    if ls[i] == max_item or ls[i] == min_item:\n",
    "        continue\n",
    "    else:\n",
    "        ls2.append(ls[i])\n",
    "    \n",
    "print(*ls2, sep='\\n')\n"
   ]
  },
  {
   "cell_type": "markdown",
   "metadata": {},
   "source": [
    "На вход программе подаются натуральное число n, а затем n строк. \n",
    "Напишите программу, которая выводит только уникальные строки, в том же порядке, в котором они были введены."
   ]
  },
  {
   "cell_type": "code",
   "execution_count": null,
   "metadata": {},
   "outputs": [],
   "source": [
    "n = int(input())\n",
    "ls = []\n",
    "\n",
    "# Формируем список из заданных строк\n",
    "for _ in range(n):\n",
    "    s = input()\n",
    "    ls.append(s)\n",
    "    \n",
    "ls_prev = list() # Список из предыдущих значений\n",
    "\n",
    "for item in ls:\n",
    "    if item not in ls_prev: # Если элемент списка не содержится в списке предыдущих значений, то \n",
    "        ls_prev.append(item) # добавляем в этот список\n",
    "    \n",
    "print(*ls_prev, sep='\\n')"
   ]
  },
  {
   "cell_type": "markdown",
   "metadata": {},
   "source": [
    "На вход программе подаются натуральное число n, затем n строк, затем ещё одна строка – поисковый запрос. \n",
    "Напишите программу, которая выводит все введённые строки, в которых встречается поисковый запрос."
   ]
  },
  {
   "cell_type": "code",
   "execution_count": null,
   "metadata": {},
   "outputs": [],
   "source": [
    "n = int(input())\n",
    "ls = []\n",
    "\n",
    "# Формируем список из заданных строк\n",
    "for _ in range(n):\n",
    "    s = input()\n",
    "    ls.append(s)\n",
    "    \n",
    "search = input() # Запрос\n",
    "ls_res = []\n",
    "\n",
    "# Для каждой строки \n",
    "for item in ls:\n",
    "    if search.lower() in item.lower(): # Проверяем, входит ли в строку поисковой запрос\n",
    "        ls_res.append(item)\n",
    "        \n",
    "print(*ls_res, sep='\\n')"
   ]
  },
  {
   "cell_type": "markdown",
   "metadata": {},
   "source": [
    "На вход программе подаются натуральное число n, затем \n",
    "n строк, затем число \n",
    "k – количество поисковых запросов, \n",
    "затем k строк – поисковые запросы. \n",
    "Напишите программу, которая выводит все введённые строки, \n",
    "в которых встречаются одновременно все поисковые запросы."
   ]
  },
  {
   "cell_type": "code",
   "execution_count": null,
   "metadata": {},
   "outputs": [],
   "source": [
    "n = int(input())\n",
    "ls = []\n",
    "# Формируем список из заданных строк\n",
    "for _ in range(n):\n",
    "    s = input()\n",
    "    ls.append(s)\n",
    "    \n",
    "\n",
    "k = int(input())\n",
    "ls_k = []\n",
    "# Формируем список из поисковых запросов\n",
    "for _ in range(k):\n",
    "    f = input()\n",
    "    ls_k.append(f)\n",
    "\n",
    "    \n",
    "ls_res = [] # Итоговый список\n",
    "\n",
    "for string in ls: # Перебираем каждую строку в списке строк\n",
    "    flag = True # Сигнальная метка, что все запросы входят в строку\n",
    "    for query in ls_k: # Перебираем каждый запрос из списка запросов\n",
    "        if query.lower() in string.lower(): # Если запрос содержится в строке, то переходим к следующему запросу\n",
    "            continue\n",
    "        else:\n",
    "            flag = False #Иначе, один из запросов не содержится в строке и мы можем завершить этот цикл досрочно\n",
    "            break\n",
    "    if flag: # Если все запросы входят в строку, то добавим эту строку в итоговый список\n",
    "        ls_res.append(string)\n",
    "\n",
    "print(*ls_res, sep='\\n')\n",
    "        "
   ]
  },
  {
   "cell_type": "markdown",
   "metadata": {},
   "source": [
    "На вход программе подаются натуральное число n, а затем \n",
    "n целых чисел. Напишите программу, которая сначала выводит все отрицательные числа, \n",
    "затем нули, а затем все положительные числа, каждое на отдельной строке. \n",
    "Числа должны быть выведены в том же порядке, в котором они были введены."
   ]
  },
  {
   "cell_type": "code",
   "execution_count": null,
   "metadata": {},
   "outputs": [],
   "source": [
    "n = int(input())\n",
    "ls1, ls2, ls3 = [], [], []\n",
    "\n",
    "for _ in range(n):\n",
    "    num = int(input())\n",
    "    if num < 0:\n",
    "        ls1.append(num)\n",
    "    elif num == 0:\n",
    "        ls2.append(num)\n",
    "    else:\n",
    "        ls3.append(num)\n",
    "        \n",
    "print(*ls1, sep='\\n')\n",
    "print(*ls2, sep='\\n')\n",
    "print(*ls3, sep='\\n')"
   ]
  },
  {
   "cell_type": "markdown",
   "metadata": {},
   "source": [
    "На вход программе подаётся строка текста. Напишите программу, которая выводит слова введённой строки в столбик."
   ]
  },
  {
   "cell_type": "code",
   "execution_count": null,
   "metadata": {},
   "outputs": [],
   "source": [
    "s = input()\n",
    "words = s.split()\n",
    "print(*words, sep='\\n')"
   ]
  },
  {
   "cell_type": "markdown",
   "metadata": {},
   "source": [
    "На вход программе подаётся строка текста, содержащая имя, отчество и фамилию человека. \n",
    "Напишите программу, которая выводит инициалы человека."
   ]
  },
  {
   "cell_type": "code",
   "execution_count": null,
   "metadata": {},
   "outputs": [],
   "source": [
    "text = input()\n",
    "name = text.split()\n",
    "res = ''\n",
    "\n",
    "for item in name:\n",
    "    res = res + res.join(item[0]) + '.'\n",
    "print(res)"
   ]
  },
  {
   "cell_type": "markdown",
   "metadata": {},
   "source": [
    "В операционной системе Windows полное имя файла состоит из буквы диска, после которого ставится двоеточие и символ  \\,  \n",
    "затем через такой же символ перечисляются подкаталоги (папки), в которых находится файл, в конце пишется имя файла \n",
    "(C:\\Windows\\System32\\calc.exe).\n",
    "\n",
    "На вход программе подаётся одна строка с корректным именем файла в операционной системе Windows. \n",
    "Напишите программу, которая разбирает строку на части, разделенные символом \\. \n",
    "Каждую часть вывести в отдельной строке."
   ]
  },
  {
   "cell_type": "code",
   "execution_count": null,
   "metadata": {},
   "outputs": [],
   "source": [
    "s_array = input().split('\\\\')\n",
    "print(*s_array, sep='\\n')"
   ]
  },
  {
   "cell_type": "markdown",
   "metadata": {},
   "source": [
    "На вход программе подаётся строка текста, содержащая целые числа. \n",
    "Напишите программу, которая по заданным числам строит столбчатую диаграмму."
   ]
  },
  {
   "cell_type": "code",
   "execution_count": null,
   "metadata": {},
   "outputs": [],
   "source": [
    "s = input().split()\n",
    "for num in s:\n",
    "    ans = '+' * int(num)\n",
    "    print(ans)"
   ]
  },
  {
   "cell_type": "markdown",
   "metadata": {},
   "source": [
    "На вход программе подаётся строка текста, содержащая \n",
    "4 целых неотрицательных числа, разделённых точкой. \n",
    "Напишите программу, которая определяет, является ли введённая строка текста корректным ip-адресом."
   ]
  },
  {
   "cell_type": "code",
   "execution_count": null,
   "metadata": {},
   "outputs": [],
   "source": [
    "ip_array = input().split('.')\n",
    "\n",
    "for frag in ip_array:\n",
    "    if int(frag) > 255 or int(frag) < 0:\n",
    "        print('НЕТ')\n",
    "        break\n",
    "else:\n",
    "    print('ДА')"
   ]
  },
  {
   "cell_type": "markdown",
   "metadata": {},
   "source": [
    "На вход программе подаётся строка текста и строка-разделитель. \n",
    "Напишите программу, которая вставляет указанный разделитель между каждым символом введённой строки текста."
   ]
  },
  {
   "cell_type": "code",
   "execution_count": null,
   "metadata": {},
   "outputs": [],
   "source": [
    "seq = input()\n",
    "sep = input()\n",
    "ans = sep.join(seq)\n",
    "print(ans)"
   ]
  },
  {
   "cell_type": "markdown",
   "metadata": {},
   "source": [
    "На вход программе подаётся строка текста, содержащая целые числа. \n",
    "Из данной строки формируется список чисел. \n",
    "Напишите программу, которая подсчитывает, сколько в полученном списке пар элементов, равных друг другу. \n",
    "Считается, что любые два элемента, равные друг другу, образуют одну пару, которую необходимо посчитать."
   ]
  },
  {
   "cell_type": "code",
   "execution_count": null,
   "metadata": {},
   "outputs": [],
   "source": [
    "seq = input().split()\n",
    "count = 0\n",
    "\n",
    "for i in range(0, len(seq)):\n",
    "    for j in range(i + 1, len(seq)):\n",
    "        if seq[i] == seq[j]:\n",
    "            count += 1\n",
    "        \n",
    "print(count)\n",
    "    "
   ]
  },
  {
   "cell_type": "markdown",
   "metadata": {},
   "source": [
    "Дополните приведённый ниже код, чтобы он:\n",
    "\n",
    "Заменил второй (по порядку) элемент списка на 17;\n",
    "Добавил числа 4, 5 и 6 в конец списка;\n",
    "Удалил первый (по порядку) элемент списка;\n",
    "Удвоил список;\n",
    "Вставил число 25 по индексу 3;\n",
    "Вывел список с помощью функции print()"
   ]
  },
  {
   "cell_type": "code",
   "execution_count": null,
   "metadata": {},
   "outputs": [],
   "source": [
    "numbers = [8, 9, 10, 11]\n",
    "\n",
    "numbers.pop(1) # Убираем по индексу\n",
    "numbers.insert(1, 17) # Вставляем в нужный индекс нужное значение\n",
    "\n",
    "numbers.extend([4, 5, 6]) # Добавляем в конец список\n",
    "\n",
    "numbers.pop(0) # Убираем первый элемент списка\n",
    "numbers = numbers * 2 # Удвоил список\n",
    "\n",
    "numbers.insert(3, 25) # Вставляем в нужный индекс нужное значение\n",
    "print(numbers)\n",
    "\n"
   ]
  },
  {
   "cell_type": "markdown",
   "metadata": {},
   "source": [
    "На вход программе подаётся строка текста, содержащая различные натуральные числа. \n",
    "Вам необходимо переставить максимальный и минимальный элементы местами и вывести изменённую строку."
   ]
  },
  {
   "cell_type": "code",
   "execution_count": null,
   "metadata": {},
   "outputs": [],
   "source": [
    "array = input().split() # Массив из строковых чисел\n",
    "ls = list() # Создаем список для чисел\n",
    "\n",
    "for num in array:\n",
    "    int_num = int(num)\n",
    "    ls.append(int_num) # Список из чисел\n",
    "    \n",
    "if len(ls) == 1:\n",
    "    print(*ls)\n",
    "else:\n",
    "    max_item = max(ls) # Значение максимального элемента\n",
    "    min_item = min(ls)\n",
    "\n",
    "    imax = ls.index(max_item) # Номер максимального элемента\n",
    "    imin = ls.index(min_item) \n",
    "\n",
    "    if imin > imax:\n",
    "        ls.remove(max_item) # Убираем максимальный элемент\n",
    "        ls.remove(min_item) # Убираем минимальный элемент \n",
    "\n",
    "        ls.insert(imax, min_item)\n",
    "        ls.insert(imin, max_item)\n",
    "        print(*ls)\n",
    "    else:\n",
    "        ls.remove(min_item) # Убираем минимальный элемент \n",
    "        ls.remove(max_item) # Убираем максимальный элемент\n",
    "\n",
    "        ls.insert(imin, max_item)\n",
    "        ls.insert(imax, min_item)\n",
    "        print(*ls)"
   ]
  },
  {
   "cell_type": "code",
   "execution_count": null,
   "metadata": {},
   "outputs": [],
   "source": [
    "seq = []\n",
    "for el in input().split():\n",
    "    seq.append(int(el))\n",
    "\n",
    "\n",
    "\n",
    "mx_ind = seq.index(max(seq))\n",
    "mn_ind = seq.index(min(seq))\n",
    "seq[mx_ind], seq[mn_ind] = seq[mn_ind], seq[mx_ind]\n",
    "\n",
    "print(*seq)\n",
    "\n",
    "\n"
   ]
  },
  {
   "cell_type": "markdown",
   "metadata": {},
   "source": [
    "На вход программе подаётся строка, содержащая английский текст. \n",
    "Напишите программу, которая подсчитывает общее количество артиклей: a, an, the."
   ]
  },
  {
   "cell_type": "code",
   "execution_count": null,
   "metadata": {},
   "outputs": [],
   "source": [
    "s = input().split() # Массив текста\n",
    "\n",
    "count = s.count('a') + s.count('A') + s.count('an') + s.count('An') + s.count('the') + s.count('The')\n",
    "\n",
    "print(f'Общее количество артиклей: {count}')"
   ]
  },
  {
   "cell_type": "code",
   "execution_count": 37,
   "metadata": {},
   "outputs": [
    {
     "name": "stdout",
     "output_type": "stream",
     "text": [
      "Время выполнения: 0.000911 секунд\n"
     ]
    }
   ],
   "source": [
    "import time\n",
    "start = time.perf_counter()\n",
    "end = time.perf_counter()\n",
    "print(f\"Время выполнения: {end - start:.6f} секунд\")"
   ]
  },
  {
   "cell_type": "markdown",
   "metadata": {},
   "source": [
    "Немалоизвестный в пустошах Мохаве Курьер забрел в Хидден-Вэли – \n",
    "секретный бункер Братства Стали и любезно соглашается помочь им в решении их проблем. \n",
    "Одной из такой проблем являлся странный компьютерный вирус, который проявлялся в виде появления комментариев к программам на терминалах Братства Стали. Известно, что программисты Братства никогда не оставляют комментарии к коду и пишут программы на Python, поэтому удаление всех этих комментариев никак не навредит им. \n",
    "Помогите писцу Ибсену удалить все комментарии из программы."
   ]
  },
  {
   "cell_type": "code",
   "execution_count": 14,
   "metadata": {
    "scrolled": true
   },
   "outputs": [
    {
     "name": "stdout",
     "output_type": "stream",
     "text": [
      "#4\n",
      "name = input()\n",
      "print(\"Введите пароль, если имеется\")    # ахахахах вам не поймать меня\n",
      "    print(\"Здравствуйте, рыцарь\", name)         #долой Макнамару\n",
      "elif password == \"noncr\":\n",
      "name = input()\n",
      "print(\"Введите пароль, если имеется\")\n",
      "    print(\"Здравствуйте, рыцарь\", name)\n",
      "elif password == \"noncr\":\n"
     ]
    }
   ],
   "source": [
    "string1 = input() # Ввод первой строки\n",
    "n = int(string1[1:]) # Вынимаем число\n",
    "arr_a = list() # Первоначальный массив\n",
    "\n",
    "for _ in range(n):\n",
    "    string = input() # Вводим строку\n",
    "    arr_a.append(string) # Добавляем в первоначальный массив\n",
    "\n",
    "arr_b = [] # Новый массив строк без # и правых пробелов\n",
    "\n",
    "for item in arr_a: # Для каждой строки в первоначальном массиве\n",
    "    arr_c = [] # Массив для символов\n",
    "    for char in item: # Для каждого символа данной строки\n",
    "        if char != '#':\n",
    "            arr_c.append(char) # Добавляем символ в промежуточный массив\n",
    "        else:\n",
    "            break # Обнаружили #, перемещаемся на следующую строку\n",
    "    res_string = ''.join(arr_c) # элементы промежуточного массива объединяем в строку\n",
    "    arr_b.append(res_string.rstrip()) # У которой удаляем правую часть пробелов и добавляем в новый массив\n",
    "\n",
    "print(*arr_b, sep='\\n')\n",
    "\n",
    "\n"
   ]
  },
  {
   "cell_type": "markdown",
   "metadata": {},
   "source": [
    "На вход программе подаётся строка текста, содержащая целые числа. Из данной строки формируется список чисел. Напишите программу, которая сортирует и выводит данный список сначала по возрастанию, а затем по убыванию."
   ]
  },
  {
   "cell_type": "code",
   "execution_count": 2,
   "metadata": {},
   "outputs": [
    {
     "name": "stdout",
     "output_type": "stream",
     "text": [
      "4 3 6 2 9 7\n",
      "2 3 4 6 7 9\n",
      "9 7 6 4 3 2\n"
     ]
    }
   ],
   "source": [
    "s = input().split()\n",
    "nums = []\n",
    "\n",
    "for item in s:\n",
    "    num = int(item)\n",
    "    nums.append(num)\n",
    "    \n",
    "nums.sort()\n",
    "print(*nums)\n",
    "nums.sort(reverse=True)\n",
    "print(*nums)"
   ]
  },
  {
   "cell_type": "markdown",
   "metadata": {},
   "source": [
    "На вход программе подаются число n, а затем – n песен из плейлиста Сэма, \n",
    "каждая на отдельной строке. Напишите программу, \n",
    "которая сортирует эти песни в алфавитном порядке и \n",
    "выводит каждую из них на отдельной строке."
   ]
  },
  {
   "cell_type": "code",
   "execution_count": 3,
   "metadata": {},
   "outputs": [
    {
     "name": "stdout",
     "output_type": "stream",
     "text": [
      "4\n",
      "Adele – Skyfall\n",
      "Il Volo – Canzone per te\n",
      "Timothée Chalamet – Pure Imagination\n",
      "Drew Sarich – Gethsemane (I Only Want To Say)\n",
      "Adele – Skyfall Drew Sarich – Gethsemane (I Only Want To Say) Il Volo – Canzone per te Timothée Chalamet – Pure Imagination\n"
     ]
    }
   ],
   "source": [
    "n = int(input())\n",
    "songs = []\n",
    "\n",
    "for _ in range(n):\n",
    "    song = input()\n",
    "    songs.append(song)\n",
    "    \n",
    "songs.sort()\n",
    "print(*songs, sep='\\n')"
   ]
  },
  {
   "cell_type": "markdown",
   "metadata": {},
   "source": [
    "На вход программе подаётся натуральное число n. \n",
    "Напишите программу, использующую списочное выражение, которая создаёт список, содержащий квадраты чисел от 1 до \n",
    "n (включительно), а затем выводит его элементы построчно, то есть каждый на отдельной строке."
   ]
  },
  {
   "cell_type": "code",
   "execution_count": 6,
   "metadata": {},
   "outputs": [
    {
     "name": "stdout",
     "output_type": "stream",
     "text": [
      "5\n",
      "1\n",
      "4\n",
      "9\n",
      "16\n",
      "25\n"
     ]
    }
   ],
   "source": [
    "n = int(input())\n",
    "nums = [num ** 2 for num in range(1, n + 1)]\n",
    "print(*nums, sep='\\n')"
   ]
  },
  {
   "cell_type": "markdown",
   "metadata": {},
   "source": [
    "На вход программе подаётся строка текста, содержащая целые числа. \n",
    "Напишите программу, использующую списочное выражение, \n",
    "которая выведет кубы указанных чисел на одной строке."
   ]
  },
  {
   "cell_type": "code",
   "execution_count": 9,
   "metadata": {},
   "outputs": [
    {
     "name": "stdout",
     "output_type": "stream",
     "text": [
      "-2 -8 0\n",
      "-8 -512 0\n"
     ]
    }
   ],
   "source": [
    "nums = [int(num) ** 3 for num in input().split()]\n",
    "print(*nums)"
   ]
  },
  {
   "cell_type": "markdown",
   "metadata": {},
   "source": [
    "На вход программе подаётся строка текста, содержащая слова. \n",
    "Напишите программу, которая выводит слова введённой строки в столбик."
   ]
  },
  {
   "cell_type": "code",
   "execution_count": 11,
   "metadata": {},
   "outputs": [
    {
     "name": "stdout",
     "output_type": "stream",
     "text": [
      "Умей ценить того кто без тебя не может\n",
      "Умей\n",
      "ценить\n",
      "того\n",
      "кто\n",
      "без\n",
      "тебя\n",
      "не\n",
      "может\n"
     ]
    }
   ],
   "source": [
    "parts = [print(word) for word in input().split()]"
   ]
  },
  {
   "cell_type": "markdown",
   "metadata": {},
   "source": [
    "На вход программе подаётся строка текста. \n",
    "Напишите программу, использующую списочное выражение, \n",
    "которая выводит все цифровые символы данной строки."
   ]
  },
  {
   "cell_type": "code",
   "execution_count": 14,
   "metadata": {},
   "outputs": [
    {
     "name": "stdout",
     "output_type": "stream",
     "text": [
      "fedjhfd uj3r 48 jfdjfsj 7.3\n",
      "34873"
     ]
    }
   ],
   "source": [
    "digits = [print(char, end='') for char in input() if char.isdigit()]"
   ]
  },
  {
   "cell_type": "markdown",
   "metadata": {},
   "source": [
    "На вход программе подаётся строка текста, содержащая целые числа. \n",
    "Напишите программу, использующую списочное выражение, \n",
    "которая выведет квадраты чётных чисел, кроме тех квадратов, \n",
    "которые оканчиваются на цифру 4"
   ]
  },
  {
   "cell_type": "code",
   "execution_count": 18,
   "metadata": {},
   "outputs": [
    {
     "name": "stdout",
     "output_type": "stream",
     "text": [
      "1 2 3 4 5 6 7 8 9\n",
      "16 36\n"
     ]
    }
   ],
   "source": [
    "numbers = [int(string) for string in input().split()]\n",
    "nums = [num ** 2 for num in numbers if num % 2 == 0 and num ** 2 % 10 != 4]\n",
    "print(*nums)"
   ]
  },
  {
   "cell_type": "markdown",
   "metadata": {},
   "source": [
    "На вход программе подаётся число n(n≥1). \n",
    "Напишите программу, которая создаёт список из нечётных чисел от 1 до n (включительно) и выводит его."
   ]
  },
  {
   "cell_type": "code",
   "execution_count": 19,
   "metadata": {},
   "outputs": [
    {
     "name": "stdout",
     "output_type": "stream",
     "text": [
      "7\n",
      "[1, 3, 5, 7]\n"
     ]
    }
   ],
   "source": [
    "n = int(input())\n",
    "ls = list(range(1, n+1, 2))\n",
    "print(ls)"
   ]
  },
  {
   "cell_type": "code",
   "execution_count": null,
   "metadata": {},
   "outputs": [],
   "source": [
    "Гвидо собрал чемодан в командировку, но совсем забыл, что у авиакомпании есть ограничение на вес багажа. \n",
    "Чемодан Гвидо превысил лимит в два раза, поэтому из него придётся выложить каждую вторую вещь.\n",
    "\n",
    "На вход программе подаётся строка из эмодзи-символов. \n",
    "Создайте список, содержащий все символы данной строки, не включая каждый второй, и выведите этот список."
   ]
  },
  {
   "cell_type": "code",
   "execution_count": 27,
   "metadata": {},
   "outputs": [
    {
     "name": "stdout",
     "output_type": "stream",
     "text": [
      "💻📘👖💳💶📷🍎👟⌚🎨\n",
      "['💻', '👖', '💶', '🍎', '⌚']\n"
     ]
    }
   ],
   "source": [
    "s = list(input())\n",
    "s_new = list()\n",
    "for i in range(0, len(s), 2):\n",
    "    s_new.append(s[i])\n",
    "print(s_new)"
   ]
  },
  {
   "cell_type": "markdown",
   "metadata": {},
   "source": [
    "На вход программе подаётся чётное число \n",
    "n(n≥2). Напишите программу, которая выводит список чётных чисел:"
   ]
  },
  {
   "cell_type": "code",
   "execution_count": 1,
   "metadata": {},
   "outputs": [
    {
     "name": "stdout",
     "output_type": "stream",
     "text": [
      "4\n",
      "[2, 4]\n"
     ]
    }
   ],
   "source": [
    "n = int(input())\n",
    "numbers = list(range(2, n + 1, 2))\n",
    "print(numbers)"
   ]
  },
  {
   "cell_type": "markdown",
   "metadata": {},
   "source": [
    "На вход программе подаются две строки текста, содержащие целые числа. Из данных строк формируются списки чисел L и M. \n",
    "Напишите программу, которая создаёт третий список, элементами которого являются суммы соответствующих элементов списков L и M. \n",
    "Далее программа должна вывести каждый элемент полученного списка на одной строке через 1 пробел."
   ]
  },
  {
   "cell_type": "code",
   "execution_count": 7,
   "metadata": {},
   "outputs": [
    {
     "name": "stdout",
     "output_type": "stream",
     "text": [
      "3 1 4\n",
      "1 5 9\n",
      "4 6 13\n"
     ]
    }
   ],
   "source": [
    "L = [int(string_num) for string_num in input().split()]\n",
    "M = [int(string_num) for string_num in input().split()]\n",
    "\n",
    "n = len(L) # Длина списка\n",
    "\n",
    "C = list() # Пустой массив\n",
    "\n",
    "for i in range(n):\n",
    "    sum_num = M[i] + L[i]\n",
    "    C.append(sum_num)\n",
    "\n",
    "print(*C)"
   ]
  },
  {
   "cell_type": "markdown",
   "metadata": {},
   "source": [
    "На вход программе подаётся строка текста, содержащая натуральные числа. \n",
    "Напишите программу, которая вставляет между каждым числом знак +, а затем вычисляет сумму полученных чисел."
   ]
  },
  {
   "cell_type": "code",
   "execution_count": 10,
   "metadata": {},
   "outputs": [
    {
     "name": "stdout",
     "output_type": "stream",
     "text": [
      "4 5 2\n",
      "4+5+2=11\n"
     ]
    }
   ],
   "source": [
    "nums = [int(num) for num in input().split()]\n",
    "res = sum(nums)\n",
    "print(*nums, sep='+', end='=')\n",
    "print(res)"
   ]
  },
  {
   "cell_type": "markdown",
   "metadata": {},
   "source": [
    "На вход программе подаётся строка текста. \n",
    "Напишите программу, использующую списочное выражение, которая находит длину самого длинного слова."
   ]
  },
  {
   "cell_type": "code",
   "execution_count": 13,
   "metadata": {},
   "outputs": [
    {
     "name": "stdout",
     "output_type": "stream",
     "text": [
      "jfd jedjedjed djdwsj skwkskwkwskskwkwskswk fd\n",
      "21\n"
     ]
    }
   ],
   "source": [
    "length_word = [len(word) for word in input().split()]\n",
    "print(max(length_word))"
   ]
  },
  {
   "cell_type": "markdown",
   "metadata": {},
   "source": [
    "На вход программе подаётся строка текста. \n",
    "Напишите программу, использующую списочное выражение, \n",
    "которая преобразует каждое слово введённого текста в \"молодёжный жаргон\" по следующему правилу:\n",
    "\n",
    "первая буква каждого слова удаляется и ставится в конец слова;\n",
    "затем в конец слова добавляется слог \"ки\"."
   ]
  },
  {
   "cell_type": "code",
   "execution_count": 26,
   "metadata": {},
   "outputs": [
    {
     "name": "stdout",
     "output_type": "stream",
     "text": [
      "проспал почти всю ночь\n",
      "роспалпки очтипки сювки очьнки\n"
     ]
    }
   ],
   "source": [
    "words = [word for word in input().split()] # Массив начальных слов\n",
    "part = 'ки'\n",
    "\n",
    "# Для каждого слова мы отбираем со второй буквы по последней, добавляя в конец первую букву и слог 'ки'\n",
    "new_words = [words[i][1:] + words[i][0] + part for i in range(len(words))]\n",
    "print(*new_words)\n",
    "    \n"
   ]
  },
  {
   "cell_type": "markdown",
   "metadata": {},
   "source": [
    "На вход программе подаётся строка текста. Напишите программу, которая определяет, является ли введённая строка корректным телефонным номером. \n",
    "Строка текста является корректным телефонным номером, если она соответствует одному из следующих форматов:\n",
    "abc-def-hijk\n",
    "7-abc-def-hijk"
   ]
  },
  {
   "cell_type": "code",
   "execution_count": 30,
   "metadata": {},
   "outputs": [
    {
     "name": "stdout",
     "output_type": "stream",
     "text": [
      "jfdjfsj\n",
      "NO\n"
     ]
    }
   ],
   "source": [
    "text = input()\n",
    "\n",
    "n = len(text)\n",
    "\n",
    "# Проверяем на длину текста\n",
    "if n == 12 and text[3] == '-' == text[7] and text[0:3].isdigit() and text[4:7].isdigit() and text[8:].isdigit():\n",
    "    print('YES')\n",
    "elif n == 14 and text[1] == '-' == text[5] == text[9] and text[0] == '7' and text[2:5].isdigit() and text[6:9].isdigit() and text[10:].isdigit():\n",
    "    print('YES')\n",
    "else:\n",
    "    print('NO')"
   ]
  },
  {
   "cell_type": "markdown",
   "metadata": {},
   "source": [
    "Напишите функцию draw_box(), которая выводит звёздный прямоугольник с размерами 14×10 в соответствии с образцом:"
   ]
  },
  {
   "cell_type": "code",
   "execution_count": 4,
   "metadata": {
    "scrolled": true
   },
   "outputs": [
    {
     "name": "stdout",
     "output_type": "stream",
     "text": [
      "**********\n",
      "*        *\n",
      "*        *\n",
      "*        *\n",
      "*        *\n",
      "*        *\n",
      "*        *\n",
      "*        *\n",
      "*        *\n",
      "*        *\n",
      "*        *\n",
      "*        *\n",
      "*        *\n",
      "**********\n"
     ]
    }
   ],
   "source": [
    "# объявление функции\n",
    "def draw_box():\n",
    "    print('*' * 10)\n",
    "    for i in range(12):\n",
    "            print('*' + ' ' * 8 + '*')\n",
    "    print('*' * 10)\n",
    "\n",
    "# основная программа\n",
    "draw_box()  # вызов функции"
   ]
  },
  {
   "cell_type": "markdown",
   "metadata": {},
   "source": [
    "Напишите функцию draw_triangle(), которая выводит \n",
    "звёздный прямоугольный треугольник с катетами, \n",
    "равными 10, в соответствии с образцом:"
   ]
  },
  {
   "cell_type": "code",
   "execution_count": 7,
   "metadata": {},
   "outputs": [
    {
     "name": "stdout",
     "output_type": "stream",
     "text": [
      "*\n",
      "**\n",
      "***\n",
      "****\n",
      "*****\n",
      "******\n",
      "*******\n",
      "********\n",
      "*********\n",
      "**********\n"
     ]
    }
   ],
   "source": [
    "# объявление функции\n",
    "def draw_triangle():\n",
    "    for i in range(1, 11):\n",
    "        print('*' * i)\n",
    "\n",
    "# основная программа\n",
    "draw_triangle()  # вызов функции"
   ]
  },
  {
   "cell_type": "markdown",
   "metadata": {},
   "source": [
    "Напишите функцию draw_triangle(fill, base), которая принимает два параметра:\n",
    "\n",
    "fill – символ заполнитель;\n",
    "base – величина основания равнобедренного треугольника;\n",
    "а затем выводит его."
   ]
  },
  {
   "cell_type": "code",
   "execution_count": 4,
   "metadata": {},
   "outputs": [
    {
     "name": "stdout",
     "output_type": "stream",
     "text": [
      "*\n",
      "7\n",
      "*\n",
      "**\n",
      "***\n",
      "****\n",
      "***\n",
      "**\n",
      "*\n"
     ]
    }
   ],
   "source": [
    "# объявление функции\n",
    "def draw_triangle(fill, base):\n",
    "    for i in range(1, base // 2 + 2): # Повторяем до центральной строки включительно\n",
    "        print(fill * i)\n",
    "    for j in range(base // 2 + 2, base + 1): # Повторяем после центральной строки до последней строки\n",
    "        print(fill * (base + 1 - j))\n",
    "\n",
    "# считываем данные\n",
    "fill = input()\n",
    "base = int(input())\n",
    "\n",
    "# вызываем функцию\n",
    "draw_triangle(fill, base)"
   ]
  },
  {
   "cell_type": "markdown",
   "metadata": {},
   "source": [
    "Напишите функцию print_fio(name, surname, patronymic), которая принимает три параметра:\n",
    "\n",
    "name – имя человека;\n",
    "surname – фамилия человека;\n",
    "patronymic – отчество человека;\n",
    "а затем выводит на печать ФИО человека."
   ]
  },
  {
   "cell_type": "code",
   "execution_count": 6,
   "metadata": {},
   "outputs": [
    {
     "name": "stdout",
     "output_type": "stream",
     "text": [
      "тимур\n",
      "Гуев\n",
      "асхабович\n",
      "ГТА\n"
     ]
    }
   ],
   "source": [
    "# объявление функции\n",
    "def print_fio(name, surname, patronymic):\n",
    "    res = surname[0] + name[0] + patronymic[0]\n",
    "    print(res.upper())\n",
    "\n",
    "# считываем данные\n",
    "name, surname, patronymic = input(), input(), input()\n",
    "\n",
    "# вызываем функцию\n",
    "print_fio(name, surname, patronymic)"
   ]
  },
  {
   "cell_type": "markdown",
   "metadata": {},
   "source": [
    "Напишите функцию print_digit_sum(), которая принимает одно натуральное число num и выводит на печать сумму его цифр."
   ]
  },
  {
   "cell_type": "code",
   "execution_count": 1,
   "metadata": {},
   "outputs": [
    {
     "name": "stdout",
     "output_type": "stream",
     "text": [
      "4\n",
      "4\n"
     ]
    }
   ],
   "source": [
    "# объявление функции\n",
    "def print_digit_sum(num):\n",
    "    total = 0\n",
    "    while num > 0:\n",
    "        digit = num % 10 # Цифра\n",
    "        total += digit # Суммируем\n",
    "        num //= 10\n",
    "    print(total)\n",
    "\n",
    "# считываем данные\n",
    "n = int(input())\n",
    "\n",
    "# вызываем функцию\n",
    "print_digit_sum(n)"
   ]
  },
  {
   "cell_type": "code",
   "execution_count": null,
   "metadata": {},
   "outputs": [],
   "source": [
    "Напишите функцию convert_to_miles(km), \n",
    "которая принимает в качестве аргумента расстояние в километрах и возвращает расстояние в милях. \n",
    "Формула для преобразования: мили = километры * 0.6214."
   ]
  },
  {
   "cell_type": "code",
   "execution_count": 2,
   "metadata": {},
   "outputs": [
    {
     "name": "stdout",
     "output_type": "stream",
     "text": [
      "5\n",
      "3.1069999999999998\n"
     ]
    }
   ],
   "source": [
    "# объявление функции\n",
    "def convert_to_miles(km):\n",
    "    return num * 0.6214\n",
    "    \n",
    "# считываем данные\n",
    "num = int(input())\n",
    "\n",
    "# вызываем функцию\n",
    "print(convert_to_miles(num))"
   ]
  },
  {
   "cell_type": "code",
   "execution_count": null,
   "metadata": {},
   "outputs": [],
   "source": [
    "Напишите функцию get_days(month), \n",
    "которая принимает в качестве аргумента номер месяца и \n",
    "возвращает количество дней в данном месяце."
   ]
  },
  {
   "cell_type": "code",
   "execution_count": 3,
   "metadata": {},
   "outputs": [
    {
     "name": "stdout",
     "output_type": "stream",
     "text": [
      "3\n",
      "31\n"
     ]
    }
   ],
   "source": [
    "def get_days(month):\n",
    "    if month == 2:\n",
    "        result = 28\n",
    "    elif month == 4 or month == 6 or month == 9 or month == 11:\n",
    "        result = 30\n",
    "    else:\n",
    "        result = 31\n",
    "    return result\n",
    "# считываем данные\n",
    "num = int(input())\n",
    "\n",
    "# вызываем функцию\n",
    "print(get_days(num))"
   ]
  },
  {
   "cell_type": "markdown",
   "metadata": {},
   "source": [
    "Напишите функцию get_factors(num), принимающую в качестве аргумента натуральное число и возвращающую список всех делителей данного числа."
   ]
  },
  {
   "cell_type": "code",
   "execution_count": 8,
   "metadata": {
    "scrolled": true
   },
   "outputs": [
    {
     "name": "stdout",
     "output_type": "stream",
     "text": [
      "5\n",
      "[1, 5]\n"
     ]
    }
   ],
   "source": [
    "def get_factors(num):\n",
    "    ls = [i for i in range(1, num + 1) if num % i == 0]\n",
    "    return(ls)\n",
    "\n",
    "# считываем данные\n",
    "n = int(input())\n",
    "\n",
    "# вызываем функцию\n",
    "print(get_factors(n))"
   ]
  },
  {
   "cell_type": "markdown",
   "metadata": {},
   "source": [
    "Напишите функцию number_of_factors(num), \n",
    "принимающую в качестве аргумента число и возвращающую количество делителей данного числа."
   ]
  },
  {
   "cell_type": "code",
   "execution_count": 10,
   "metadata": {},
   "outputs": [
    {
     "name": "stdout",
     "output_type": "stream",
     "text": [
      "5\n",
      "2\n"
     ]
    }
   ],
   "source": [
    "# объявление функции\n",
    "def number_of_factors(num):\n",
    "    count = 0\n",
    "    for i in range(1, num + 1):\n",
    "        if num % i == 0:\n",
    "            count += 1\n",
    "    return count\n",
    "    \n",
    "    \n",
    "\n",
    "# считываем данные\n",
    "n = int(input())\n",
    "\n",
    "# вызываем функцию\n",
    "print(number_of_factors(n))"
   ]
  },
  {
   "cell_type": "markdown",
   "metadata": {},
   "source": [
    "Напомним, что строковый метод find('a') возвращает местоположение первого вхождения символа a в строке. \n",
    "Проблема заключается в том, что данный метод не находит местоположение всех символов а.\n",
    "\n",
    "Напишите функцию с именем find_all(target, symbol), которая принимает два аргумента: строку target и символ symbol \n",
    "    и возвращает список, содержащий все местоположения этого символа в строке."
   ]
  },
  {
   "cell_type": "code",
   "execution_count": null,
   "metadata": {},
   "outputs": [],
   "source": [
    "def find_all(target, symbol):\n",
    "    ls = [i for i in range(len(target)) if target[i] == symbol]\n",
    "    return ls\n",
    "\n",
    "# считываем данные\n",
    "s = input()\n",
    "char = input()\n",
    "\n",
    "# вызываем функцию\n",
    "print(find_all(s, char))"
   ]
  },
  {
   "cell_type": "markdown",
   "metadata": {},
   "source": [
    "Напишите функцию merge(list1, list2), которая принимает в качестве аргументов два отсортированных по возрастанию списка, \n",
    "состоящих из целых чисел, и объединяет их в один отсортированный список."
   ]
  },
  {
   "cell_type": "code",
   "execution_count": 20,
   "metadata": {},
   "outputs": [
    {
     "name": "stdout",
     "output_type": "stream",
     "text": [
      "1 5 7 8\n",
      "2 3 4\n",
      "[1, 2, 3, 4, 5, 7, 8]\n"
     ]
    }
   ],
   "source": [
    "# объявление функции\n",
    "def merge(list1, list2):\n",
    "    list0 = (list1 + list2)\n",
    "    list0.sort()\n",
    "    return list0\n",
    "\n",
    "# считываем данные\n",
    "numbers1 = [int(c) for c in input().split()]\n",
    "numbers2 = [int(c) for c in input().split()]\n",
    "\n",
    "# вызываем функцию\n",
    "print(merge(numbers1, numbers2))"
   ]
  },
  {
   "cell_type": "markdown",
   "metadata": {},
   "source": [
    "На вход программе подаются число n, \n",
    "а затем n строк, содержащих целые числа в порядке возрастания. \n",
    "Из данных строк формируются списки чисел. Напишите программу, \n",
    "которая объединяет указанные списки в один отсортированный список с помощью функции quick_merge(), а затем выводит его."
   ]
  },
  {
   "cell_type": "code",
   "execution_count": 27,
   "metadata": {},
   "outputs": [
    {
     "name": "stdout",
     "output_type": "stream",
     "text": [
      "3\n",
      "2 8 9\n",
      "3 5 13\n",
      "1 7 20\n",
      "1 2 3 5 7 8 9 13 20\n"
     ]
    }
   ],
   "source": [
    "def quick_merge(list1, list2):\n",
    "    result = []\n",
    "\n",
    "    p1 = 0  # указатель на первый элемент списка list1\n",
    "    p2 = 0  # указатель на первый элемент списка list2\n",
    "\n",
    "    while p1 < len(list1) and p2 < len(list2):  # пока не закончился какой-нибудь из списков\n",
    "        if list1[p1] <= list2[p2]:\n",
    "            result.append(list1[p1])\n",
    "            p1 += 1\n",
    "        else:\n",
    "            result.append(list2[p2])\n",
    "            p2 += 1\n",
    "\n",
    "    if p1 < len(list1):   # прицепление остатка\n",
    "        result += list1[p1:]\n",
    "    else:                 # иначе прицепляем остаток другого списка\n",
    "        result += list2[p2:]\n",
    "    \n",
    "    return result\n",
    "\n",
    "n = int(input()) # Подаем число строк\n",
    "prev_string = [int(i) for i in input().split()] # Первая строка\n",
    "\n",
    "for _ in range(1, n): # Бегаем по строкам\n",
    "    string = [int(i) for i in input().split()]\n",
    "    prev_string = quick_merge(prev_string, string)\n",
    "\n",
    "print(*prev_string)"
   ]
  },
  {
   "cell_type": "markdown",
   "metadata": {},
   "source": [
    "Напишите функцию is_valid_triangle(side1, side2, side3), \n",
    "которая принимает в качестве аргументов три натуральных числа, и возвращает значение True, \n",
    "если существует невырожденный треугольник со сторонами side1, side2, side3, или False в противном случае."
   ]
  },
  {
   "cell_type": "code",
   "execution_count": 4,
   "metadata": {},
   "outputs": [
    {
     "name": "stdout",
     "output_type": "stream",
     "text": [
      "2\n",
      "3\n",
      "10\n",
      "False\n"
     ]
    }
   ],
   "source": [
    "def is_valid_triangle(side1, side2, side3):\n",
    "    if side1 < side2 + side3 and side2 < side1 + side3  and side3 < side1 + side2:\n",
    "        return True\n",
    "    else:\n",
    "        return False\n",
    "\n",
    "a, b, c = int(input()), int(input()), int(input())\n",
    "print(is_valid_triangle(a,b,c))"
   ]
  },
  {
   "cell_type": "markdown",
   "metadata": {},
   "source": [
    "Напишите функцию is_prime(num), которая принимает в качестве \n",
    "аргумента натуральное число и возвращает значение True, \n",
    "если число является простым, или False в противном случае."
   ]
  },
  {
   "cell_type": "code",
   "execution_count": 5,
   "metadata": {},
   "outputs": [
    {
     "name": "stdout",
     "output_type": "stream",
     "text": [
      "3\n",
      "True\n"
     ]
    }
   ],
   "source": [
    "# объявление функции\n",
    "def is_prime(num):\n",
    "    if num == 1:\n",
    "        return False\n",
    "    for i in range(2, num):\n",
    "        if num % i == 0:\n",
    "            return False\n",
    "    return True\n",
    "\n",
    "# считываем данные\n",
    "n = int(input())\n",
    "\n",
    "# вызываем функцию\n",
    "print(is_prime(n))"
   ]
  },
  {
   "cell_type": "markdown",
   "metadata": {},
   "source": [
    "Напишите функцию get_next_prime(num), которая принимает в качестве аргумента натуральное число num и возвращает первое простое число, большее числа num.\n",
    "\n",
    "Примечание 1. Используйте функцию is_prime() из предыдущей задачи."
   ]
  },
  {
   "cell_type": "code",
   "execution_count": 20,
   "metadata": {},
   "outputs": [
    {
     "name": "stdout",
     "output_type": "stream",
     "text": [
      "7\n",
      "11\n"
     ]
    }
   ],
   "source": [
    "def get_next_prime(num):\n",
    "    next_n = num + 1 # Переходим к следующему числу\n",
    "    while not(is_prime(next_n)): # Пока следующее число не является простым\n",
    "        next_n += 1\n",
    "    return next_n\n",
    "\n",
    "n = int(input())\n",
    "\n",
    "print(get_next_prime(n))"
   ]
  },
  {
   "cell_type": "markdown",
   "metadata": {},
   "source": [
    "Напишите функцию is_password_good(password), которая принимает в качестве аргумента строковое значение пароля password и возвращает значение True, если пароль является надёжным, или False в противном случае.\n",
    "\n",
    "Пароль является надёжным, если:\n",
    "\n",
    "его длина не менее 8 символов; \n",
    "он содержит как минимум одну заглавную букву (верхний регистр); \n",
    "он содержит как минимум одну строчную букву (нижний регистр);\n",
    "он содержит хотя бы одну цифру."
   ]
  },
  {
   "cell_type": "code",
   "execution_count": 39,
   "metadata": {},
   "outputs": [
    {
     "name": "stdout",
     "output_type": "stream",
     "text": [
      "cnt_digit2dsSdws\n",
      "True\n",
      "Время выполнения: 0.000372 секунд\n"
     ]
    }
   ],
   "source": [
    "def is_password_good(password):\n",
    "    length = len(password) # Длина пароля\n",
    "    if length < 8:\n",
    "        return False\n",
    "    \n",
    "    # Количество заглавных букв, строчных букв и цифр\n",
    "    cnt_up = 0\n",
    "    cnt_low = 0\n",
    "    cnt_digit = 0\n",
    "    \n",
    "    # Для каждой буквы проверям\n",
    "    for char in password:\n",
    "        if char.isupper():\n",
    "            cnt_up += 1\n",
    "        if char.islower():\n",
    "            cnt_low += 1\n",
    "        if char.isdigit():\n",
    "            cnt_digit += 1\n",
    "        if cnt_up > 0 and cnt_low > 0 and cnt_digit > 0:\n",
    "            return True\n",
    "    \n",
    "    return False\n",
    "\n",
    "string = input()\n",
    "start = time.perf_counter()\n",
    "\n",
    "print(is_password_good(string))\n",
    "end = time.perf_counter()\n",
    "print(f\"Время выполнения: {end - start:.6f} секунд\")"
   ]
  },
  {
   "cell_type": "markdown",
   "metadata": {},
   "source": [
    "Напишите функцию is_one_away(word1, word2), которая принимает в качестве аргументов два слова word1 и word2. \n",
    "Функция должна возвращать значение True, если слова имеют одинаковую длину и \n",
    "отличаются одним символом на одной и той же позиции, или False в противном случае."
   ]
  },
  {
   "cell_type": "code",
   "execution_count": 42,
   "metadata": {},
   "outputs": [
    {
     "name": "stdout",
     "output_type": "stream",
     "text": [
      "water\n",
      "wafer\n",
      "True\n"
     ]
    }
   ],
   "source": [
    "def is_one_away(word1, word2):\n",
    "    if len(word1) != len(word2): \n",
    "        return False\n",
    "    else:\n",
    "        count = 0 # Счетчик различии\n",
    "        for i in range(len(word1)):\n",
    "            for j in range(i, i + 1):\n",
    "                if word1[i] != word2[j]:\n",
    "                    count += 1\n",
    "        if count == 1:\n",
    "            return True\n",
    "        else:\n",
    "            return False\n",
    "\n",
    "\n",
    "w1, w2 = input(), input()\n",
    "\n",
    "print(is_one_away(w1,w2))"
   ]
  },
  {
   "cell_type": "code",
   "execution_count": null,
   "metadata": {},
   "outputs": [],
   "source": [
    "word1 = 'water'\n",
    "word2 = 'wafer'\n",
    "\n",
    "# Если длины слов не совпадают, то False\n",
    "if len(word1) != len(word2): \n",
    "    print(False)\n",
    "else:\n",
    "    count = 0 # Счетчик различии\n",
    "    for i in range(len(word1)):\n",
    "        for j in range(i, i + 1):\n",
    "            if word1[i] != word2[j]:\n",
    "                count += 1\n",
    "    if count == 1:\n",
    "        print(True)\n",
    "    else:\n",
    "        print(False)\n",
    "            "
   ]
  },
  {
   "cell_type": "markdown",
   "metadata": {},
   "source": [
    "Напишите функцию is_palindrome(text), которая принимает в качестве аргумента строку text и возвращает значение True, если указанный текст является палиндромом, или False в противном случае.\n",
    "\n",
    "Примечание 1. Палиндром – это строка, которая читается одинаково в обоих направлениях\n",
    "\n",
    "Примечание 2. При проверке считайте большие и маленькие буквы одинаковыми, а также игнорируйте пробелы и символы ,.!?-."
   ]
  },
  {
   "cell_type": "code",
   "execution_count": 64,
   "metadata": {},
   "outputs": [],
   "source": [
    "def is_palindrome(text):\n",
    "    ignore = ' ,.!?-.' # Строка с игнорирующими символами\n",
    "    new_text = [char.lower() for char in text if char not in ignore] # Создаем список по символам строки без игнорирующих символов\n",
    "    rev_text = new_text.copy() # Копируем исходный список в новую переменную\n",
    "    rev_text.reverse() # В этой переменной переворачиваем список в обратную сторону\n",
    "\n",
    "    if new_text == rev_text:\n",
    "        return True\n",
    "    else:\n",
    "        return False"
   ]
  },
  {
   "cell_type": "code",
   "execution_count": 65,
   "metadata": {},
   "outputs": [
    {
     "name": "stdout",
     "output_type": "stream",
     "text": [
      "dsk\n",
      "False\n"
     ]
    }
   ],
   "source": [
    "string = input()\n",
    "\n",
    "print(is_palindrome(string))"
   ]
  },
  {
   "cell_type": "markdown",
   "metadata": {},
   "source": [
    "BEEGEEK наконец-то открыл свой банк, в котором используются специальные банкоматы с необычным паролем.\n",
    "Действительный пароль BEEGEEK банка имеет вид a:b:c, где a, b и c – натуральные числа. \n",
    "        Поскольку основатель BEEGEEK фанатеет от математики, то он решил:\n",
    "число a – должно быть палиндромом;\n",
    "число b – должно быть простым;\n",
    "число c – должно быть чётным.\n",
    "Напишите функцию is_valid_password(password), которая принимает в качестве аргумента строковое значение пароля password и возвращает значение True, \n",
    "если пароль является действительным паролем BEEGEEK банка, или False в противном случае."
   ]
  },
  {
   "cell_type": "code",
   "execution_count": 74,
   "metadata": {},
   "outputs": [],
   "source": [
    "def is_palindrome(text):\n",
    "    ignore = ' ,.!?-.' # Строка с игнорирующими символами\n",
    "    new_text = [char.lower() for char in text if char not in ignore] # Создаем список по символам строки без игнорирующих символов\n",
    "    rev_text = new_text.copy() # Копируем исходный список в новую переменную\n",
    "    rev_text.reverse() # В этой переменной переворачиваем список в обратную сторону\n",
    "    \n",
    "    return (new_text == rev_text)"
   ]
  },
  {
   "cell_type": "code",
   "execution_count": 85,
   "metadata": {},
   "outputs": [],
   "source": [
    "def is_prime(num):\n",
    "    num = int(num)\n",
    "    if num == 1:\n",
    "        return False\n",
    "    for i in range(2, num):\n",
    "        if num % i == 0:\n",
    "            return False\n",
    "    return True"
   ]
  },
  {
   "cell_type": "code",
   "execution_count": 84,
   "metadata": {},
   "outputs": [],
   "source": [
    "def is_even(num):\n",
    "    num = int(num)\n",
    "    return (num % 2 == 0)"
   ]
  },
  {
   "cell_type": "code",
   "execution_count": 88,
   "metadata": {},
   "outputs": [
    {
     "name": "stdout",
     "output_type": "stream",
     "text": [
      "1221:101:22\n",
      "True\n"
     ]
    }
   ],
   "source": [
    "def is_valid_password(password):\n",
    "    fragments = password.split(':') # Делим на части наш пароль\n",
    "    # Проверяем на нужное количество фрагментов и на то, что эти части состоят из цифр\n",
    "    return (len(fragments) == 3 \n",
    "            and fragments[0].isdigit() \n",
    "            and fragments[1].isdigit() \n",
    "            and fragments[2].isdigit() \n",
    "            and is_palindrome(fragments[0]) \n",
    "            and is_prime(fragments[1]) \n",
    "            and is_even(fragments[2]))\n",
    "\n",
    "text = input()\n",
    "\n",
    "print(is_valid_password(text))\n",
    "    \n",
    "\n",
    "    \n",
    "    \n",
    "    "
   ]
  },
  {
   "cell_type": "markdown",
   "metadata": {},
   "source": [
    "Напишите функцию convert_to_python_case(text), \n",
    "которая принимает в качестве аргумента строку \n",
    "в «верблюжьем регистре» и преобразует его в «змеиный регистр»."
   ]
  },
  {
   "cell_type": "code",
   "execution_count": 115,
   "metadata": {},
   "outputs": [
    {
     "name": "stdout",
     "output_type": "stream",
     "text": [
      "SdSD\n",
      "sd_s_d\n"
     ]
    }
   ],
   "source": [
    "def convert_to_python_case(text):\n",
    "    ls = [] # пустой массив\n",
    "\n",
    "    for i in range(len(text)):\n",
    "        if text[i] == text[i].upper() and i != 0 and text[i].isdigit() == False:\n",
    "            ls.append('_')\n",
    "        ls.append(text[i].lower())\n",
    "    \n",
    "    return(ls)\n",
    "\n",
    "text = input()\n",
    "print(*convert_to_python_case(text), sep='')"
   ]
  },
  {
   "cell_type": "markdown",
   "metadata": {},
   "source": [
    "Напишите функцию get_circle(radius), которая принимает в качестве аргумента радиус окружности и возвращает два значения: \n",
    "    длину окружности и площадь круга, ограниченного данной окружностью."
   ]
  },
  {
   "cell_type": "code",
   "execution_count": 118,
   "metadata": {},
   "outputs": [
    {
     "name": "stdout",
     "output_type": "stream",
     "text": [
      "7.2\n",
      "45.23893421169302 162.8601631620949\n"
     ]
    }
   ],
   "source": [
    "from math import pi\n",
    "def get_circle(radius):\n",
    "    C = 2 * pi * r\n",
    "    S = pi * r ** 2\n",
    "    return C, S\n",
    "\n",
    "r = float(input())\n",
    "c, s = get_circle(r)\n",
    "print(c, s)"
   ]
  },
  {
   "cell_type": "markdown",
   "metadata": {},
   "source": [
    "Напишите функцию solve(a, b, c), которая принимает в качестве аргументов три целых числа a, b, c – коэффициенты квадратного уравнения \n",
    "ax^2+bx+c=0 и возвращает его корни в порядке возрастания."
   ]
  },
  {
   "cell_type": "code",
   "execution_count": 20,
   "metadata": {},
   "outputs": [
    {
     "name": "stdout",
     "output_type": "stream",
     "text": [
      "1\n",
      "-4\n",
      "-5\n",
      "-1.0 5.0\n"
     ]
    }
   ],
   "source": [
    "from math import sqrt\n",
    "def solve(a, b, c):\n",
    "    D = b ** 2 - 4 * a * c\n",
    "    x1 = (-b + sqrt(D)) / (2 * a)\n",
    "    x2 = (-b - sqrt(D)) / (2 * a)\n",
    "    if x1 > x2:\n",
    "        x2, x1 = x1, x2\n",
    "    return x1, x2\n",
    "    \n",
    "a, b, c = int(input()), int(input()), int(input())\n",
    "x1, x2 = solve(a, b, c)\n",
    "print(x1, x2)"
   ]
  },
  {
   "cell_type": "markdown",
   "metadata": {},
   "source": [
    "Напишите функцию is_correct_bracket(text), которая принимает в качестве аргумента непустую строку text, \n",
    "состоящую из символов ( и ) и возвращает значение True, если поступившая на вход строка является правильной скобочной последовательностью, \n",
    "или False в противном случае."
   ]
  },
  {
   "cell_type": "code",
   "execution_count": 25,
   "metadata": {},
   "outputs": [
    {
     "name": "stdout",
     "output_type": "stream",
     "text": [
      "()(())()()()(())()(()())((()))\n",
      "True\n"
     ]
    }
   ],
   "source": [
    "def is_correct_bracket(text):\n",
    "    while text != '':\n",
    "        prev_text = text\n",
    "        text = text.replace('()', '')\n",
    "        if text == prev_text:\n",
    "            return False\n",
    "    else:\n",
    "        return(True)\n",
    "\n",
    "string = input()\n",
    "print(is_correct_bracket(string))"
   ]
  },
  {
   "cell_type": "markdown",
   "metadata": {},
   "source": [
    "Тимур загадал число от 1 до n (включительно), а Руслан собирается его отгадать. Каждый раз Руслан называет число Тимуру, \n",
    "а Тимур отвечает ему одним из способов: \"больше\", \"меньше\", \"ты отгадал!\". \n",
    "    За какое наименьшее количество попыток Руслан может гарантированно угадать число Тимура?"
   ]
  },
  {
   "cell_type": "code",
   "execution_count": 5,
   "metadata": {},
   "outputs": [
    {
     "name": "stdout",
     "output_type": "stream",
     "text": [
      "3\n",
      "2\n"
     ]
    }
   ],
   "source": [
    "from random import randint\n",
    "\n",
    "n = int(input())\n",
    "\n",
    "hidden_num = randint(1, n) # Загаданное случайное целочисленное число на данном отрезке\n",
    "\n",
    "left_bound = 1 # Левая граница\n",
    "rigth_bound = n # Правая граница\n",
    "middle_bound = (left_bound + rigth_bound) // 2 # Центр (Оптимальная попытка угадать число)\n",
    "\n",
    "count = 1 # Количество попыток\n",
    "\n",
    "while middle_bound != hidden_num:\n",
    "    if middle_bound < hidden_num:      # Если предполагаемое число меньше загаданного\n",
    "        left_bound = middle_bound + 1\n",
    "    else:                              # Если предполагаемое число больше загаданного\n",
    "        rigth_bound = middle_bound - 1\n",
    "    middle_bound = (left_bound + rigth_bound) // 2\n",
    "    count += 1\n",
    "\n",
    "print(count)\n",
    "\n"
   ]
  },
  {
   "cell_type": "markdown",
   "metadata": {},
   "source": [
    "Напишите функцию draw_triangle(), которая выводит звёздный равнобедренный треугольник с основанием и высотой, \n",
    "авными 15 и 8 соответственно:"
   ]
  },
  {
   "cell_type": "code",
   "execution_count": 12,
   "metadata": {},
   "outputs": [
    {
     "name": "stdout",
     "output_type": "stream",
     "text": [
      "       *\n",
      "      ***\n",
      "     *****\n",
      "    *******\n",
      "   *********\n",
      "  ***********\n",
      " *************\n",
      "***************\n"
     ]
    }
   ],
   "source": [
    "def draw_triangle(n=15, h=8):\n",
    "    for i in range(1, h + 1): # Для каждой строки\n",
    "        print(' ' * (h - i) + '*' * i + '*' * (i - 1))\n",
    "    \n",
    "draw_triangle()"
   ]
  },
  {
   "cell_type": "markdown",
   "metadata": {},
   "source": [
    "Интернет-магазин осуществляет экспресс доставку для своих товаров по цене 1000 рублей за первый товар \n",
    "и 120 рублей за каждый последующий товар. \n",
    "Напишите функцию get_shipping_cost(quantity), которая принимает в качестве аргумента натуральное число \n",
    "quantity – количество товаров в заказе – и возвращает стоимость доставки."
   ]
  },
  {
   "cell_type": "code",
   "execution_count": 15,
   "metadata": {},
   "outputs": [
    {
     "name": "stdout",
     "output_type": "stream",
     "text": [
      "1\n",
      "1000\n"
     ]
    }
   ],
   "source": [
    "def get_shipping_cost(quantity):\n",
    "    return (1000 + (n - 1) * 120)\n",
    "    \n",
    "\n",
    "n = int(input())\n",
    "print(get_shipping_cost(n))"
   ]
  },
  {
   "cell_type": "markdown",
   "metadata": {},
   "source": [
    "Напишите функцию compute_binom(n, k), которая принимает в качестве аргументов два натуральных числа n и k и \n",
    "возвращает значение биномиального коэффициента, который вычисляется по формуле:"
   ]
  },
  {
   "cell_type": "code",
   "execution_count": 18,
   "metadata": {},
   "outputs": [
    {
     "name": "stdout",
     "output_type": "stream",
     "text": [
      "100\n",
      "3\n",
      "161700\n"
     ]
    }
   ],
   "source": [
    "from math import factorial\n",
    "\n",
    "def compute_binom(n, k):\n",
    "    res = factorial(n) / (factorial(k) * factorial(n - k))\n",
    "    return int(res)\n",
    "\n",
    "n, k = int(input()), int(input())\n",
    "print(compute_binom(n, k))"
   ]
  },
  {
   "cell_type": "markdown",
   "metadata": {},
   "source": [
    "Напишите функцию number_to_words(num), которая принимает в качестве аргумента натуральное число num и \n",
    "возвращает его словесное описание на русском языке."
   ]
  },
  {
   "cell_type": "code",
   "execution_count": 36,
   "metadata": {},
   "outputs": [
    {
     "name": "stdout",
     "output_type": "stream",
     "text": [
      "20\n",
      "двадцать\n"
     ]
    }
   ],
   "source": [
    "def ten(num):\n",
    "    if num == 11:\n",
    "        ans = 'одиннадцать'\n",
    "    elif num == 12:\n",
    "        ans = 'двенадцать'\n",
    "    elif num == 13:\n",
    "        ans = 'тринадцать'\n",
    "    elif num == 14:\n",
    "        ans = 'четырнадцать'\n",
    "    elif num == 15:\n",
    "        ans = 'пятнадцать'\n",
    "    elif num == 16:\n",
    "        ans = 'шестнадцать'\n",
    "    elif num == 17:\n",
    "        ans = 'семнадцать'\n",
    "    elif num == 18:\n",
    "        ans = 'восемнадцать'\n",
    "    elif num == 19:\n",
    "        ans = 'девятнадцать'\n",
    "    elif num == 10:\n",
    "        ans = 'десять'\n",
    "    return ans    \n",
    "\n",
    "\n",
    "def first_digit(num):\n",
    "    if num == 2:\n",
    "        ans = 'двадцать'\n",
    "    elif num == 3:\n",
    "        ans = 'тридцать'\n",
    "    elif num == 4:\n",
    "        ans = 'сорок'\n",
    "    elif num == 5:\n",
    "        ans = 'пятьдесят'\n",
    "    elif num == 6:\n",
    "        ans = 'шестьдесят'\n",
    "    elif num == 7:\n",
    "        ans = 'семьдесят'\n",
    "    elif num == 8:\n",
    "        ans = 'восемьдесят'\n",
    "    elif num == 9:\n",
    "        ans = 'девяносто'\n",
    "    return ans\n",
    "\n",
    "def last_digit(num):\n",
    "    if num == 1:\n",
    "        ans = 'один'\n",
    "    elif num == 2:\n",
    "        ans = 'два'\n",
    "    elif num == 3:\n",
    "        ans = 'три'\n",
    "    elif num == 4:\n",
    "        ans = 'четыре'\n",
    "    elif num == 5:\n",
    "        ans = 'пять'\n",
    "    elif num == 6:\n",
    "        ans = 'шесть'\n",
    "    elif num == 7:\n",
    "        ans = 'семь'\n",
    "    elif num == 8:\n",
    "        ans = 'восемь'\n",
    "    elif num == 9:\n",
    "        ans = 'девять'\n",
    "    return ans\n",
    "\n",
    "def number_to_words(num):\n",
    "    if num < 10:\n",
    "        answer = last_digit(num)\n",
    "    elif 10 <= num <= 19:\n",
    "        answer = ten(num)\n",
    "    elif num >= 20 and num % 10 != 0:\n",
    "        answer_1 = first_digit(num // 10)\n",
    "        answer_2 = last_digit(num % 10)\n",
    "        answer = answer_1 + ' ' + answer_2\n",
    "    else:\n",
    "        answer = first_digit(num // 10)\n",
    "    return answer\n",
    "\n",
    "n = int(input())\n",
    "print(number_to_words(n))"
   ]
  },
  {
   "cell_type": "markdown",
   "metadata": {},
   "source": [
    "Напишите функцию get_month(language, number), которая принимает на вход два аргумента language – язык ru или en и \n",
    "number – номер месяца (от 1 до 12 включительно) и возвращает название месяца на русском или английском языке."
   ]
  },
  {
   "cell_type": "code",
   "execution_count": 43,
   "metadata": {},
   "outputs": [
    {
     "name": "stdout",
     "output_type": "stream",
     "text": [
      "en\n",
      "1\n",
      "january\n"
     ]
    }
   ],
   "source": [
    "def get_month(language, number):\n",
    "    arr_ru = ['январь', 'февраль', 'март', 'апрель', 'май', 'июнь', 'июль', 'август', 'сентябрь', 'октябрь', 'ноябрь', 'декабрь']\n",
    "    arr_en = ['january', 'february', 'march', 'april', 'may', 'june','july', 'august', 'september', 'october', 'november', 'december']\n",
    "\n",
    "    if language == 'ru':\n",
    "        res = arr_ru[number - 1]\n",
    "    elif language == 'en':\n",
    "        res = arr_en[number - 1]\n",
    "    return res\n",
    "        \n",
    "lang, num = input(), int(input())\n",
    "print(get_month(lang, num))"
   ]
  },
  {
   "cell_type": "markdown",
   "metadata": {},
   "source": [
    "Магическая дата – это дата, когда день, умноженный на месяц, равен числу, образованному последними двумя цифрами года.\n",
    "\n",
    "Напишите функцию is_magic(date), которая принимает в качестве аргумента строковое представление корректной даты и возвращает значение True, \n",
    "если дата является магической, или False в противном случае."
   ]
  },
  {
   "cell_type": "code",
   "execution_count": 48,
   "metadata": {},
   "outputs": [
    {
     "name": "stdout",
     "output_type": "stream",
     "text": [
      "08.03.2024\n",
      "True\n"
     ]
    }
   ],
   "source": [
    "def is_magic(date):\n",
    "    part1 = int(date[0:2])\n",
    "    part2 = int(date[3:5])\n",
    "    part3 = int(date[-2:])\n",
    "    return part1 * part2 == part3\n",
    "\n",
    "date = input()\n",
    "print(is_magic(date))"
   ]
  },
  {
   "cell_type": "markdown",
   "metadata": {},
   "source": [
    "Панграмма – это фраза, содержащая в себе все буквы алфавита. Обычно панграммы используют для презентации шрифтов, \n",
    "чтобы можно было в одной фразе рассмотреть все глифы.\n",
    "\n",
    "Напишите функцию is_pangram(text), которая принимает в качестве аргумента строку текста на английском языке \n",
    "и возвращает значение True, \n",
    "если текст является панграммой, или False в противном случае."
   ]
  },
  {
   "cell_type": "code",
   "execution_count": 56,
   "metadata": {},
   "outputs": [
    {
     "name": "stdout",
     "output_type": "stream",
     "text": [
      "Jackdaws love my big sphinx of quarts\n",
      "False\n"
     ]
    }
   ],
   "source": [
    "def pangramma(text):\n",
    "    alphabet = 'abcdefghijklmnopqrstuvwxyz'\n",
    "    text = text.replace(' ','').lower()\n",
    "    for char in text:\n",
    "        if char in alphabet:\n",
    "            alphabet = alphabet.replace(char, '')\n",
    "    return (alphabet == '')\n",
    "    \n",
    "text = input()\n",
    "print(pangramma(text))"
   ]
  }
 ],
 "metadata": {
  "kernelspec": {
   "display_name": "Python 3",
   "language": "python",
   "name": "python3"
  },
  "language_info": {
   "codemirror_mode": {
    "name": "ipython",
    "version": 3
   },
   "file_extension": ".py",
   "mimetype": "text/x-python",
   "name": "python",
   "nbconvert_exporter": "python",
   "pygments_lexer": "ipython3",
   "version": "3.7.3"
  }
 },
 "nbformat": 4,
 "nbformat_minor": 4
}
