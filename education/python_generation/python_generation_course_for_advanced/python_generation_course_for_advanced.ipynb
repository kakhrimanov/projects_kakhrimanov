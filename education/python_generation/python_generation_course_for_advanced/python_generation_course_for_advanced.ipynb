{
 "cells": [
  {
   "cell_type": "markdown",
   "metadata": {},
   "source": [
    "# Курс для продвинутых"
   ]
  },
  {
   "cell_type": "markdown",
   "metadata": {},
   "source": [
    "# Повторение основ"
   ]
  },
  {
   "cell_type": "markdown",
   "metadata": {},
   "source": [
    "На вход программе подаются два целых числа. Напишите программу, которая выводит:\n",
    "    сумму чисел;\n",
    "    разность чисел;\n",
    "    произведение чисел;\n",
    "    частное чисел;\n",
    "    целую часть от деления числа a на b;\n",
    "    остаток от деления числа a на b;\n",
    "    корень квадратный из суммы их 10-х степеней: a10 + b10"
   ]
  },
  {
   "cell_type": "code",
   "execution_count": 1,
   "metadata": {},
   "outputs": [
    {
     "name": "stdout",
     "output_type": "stream",
     "text": [
      "2\n",
      "s\n"
     ]
    },
    {
     "ename": "ValueError",
     "evalue": "invalid literal for int() with base 10: 's'",
     "output_type": "error",
     "traceback": [
      "\u001b[0;31m---------------------------------------------------------------------------\u001b[0m",
      "\u001b[0;31mValueError\u001b[0m                                Traceback (most recent call last)",
      "\u001b[0;32m<ipython-input-1-6a6a30e1bcb4>\u001b[0m in \u001b[0;36m<module>\u001b[0;34m\u001b[0m\n\u001b[1;32m      1\u001b[0m \u001b[0;32mfrom\u001b[0m \u001b[0mmath\u001b[0m \u001b[0;32mimport\u001b[0m \u001b[0mpow\u001b[0m\u001b[0;34m,\u001b[0m \u001b[0msqrt\u001b[0m\u001b[0;34m\u001b[0m\u001b[0;34m\u001b[0m\u001b[0m\n\u001b[1;32m      2\u001b[0m \u001b[0;34m\u001b[0m\u001b[0m\n\u001b[0;32m----> 3\u001b[0;31m \u001b[0ma\u001b[0m\u001b[0;34m,\u001b[0m \u001b[0mb\u001b[0m \u001b[0;34m=\u001b[0m \u001b[0mint\u001b[0m\u001b[0;34m(\u001b[0m\u001b[0minput\u001b[0m\u001b[0;34m(\u001b[0m\u001b[0;34m)\u001b[0m\u001b[0;34m)\u001b[0m\u001b[0;34m,\u001b[0m \u001b[0mint\u001b[0m\u001b[0;34m(\u001b[0m\u001b[0minput\u001b[0m\u001b[0;34m(\u001b[0m\u001b[0;34m)\u001b[0m\u001b[0;34m)\u001b[0m\u001b[0;34m\u001b[0m\u001b[0;34m\u001b[0m\u001b[0m\n\u001b[0m\u001b[1;32m      4\u001b[0m \u001b[0mprint\u001b[0m\u001b[0;34m(\u001b[0m\u001b[0ma\u001b[0m \u001b[0;34m+\u001b[0m \u001b[0mb\u001b[0m\u001b[0;34m)\u001b[0m\u001b[0;34m\u001b[0m\u001b[0;34m\u001b[0m\u001b[0m\n\u001b[1;32m      5\u001b[0m \u001b[0mprint\u001b[0m\u001b[0;34m(\u001b[0m\u001b[0ma\u001b[0m \u001b[0;34m-\u001b[0m \u001b[0mb\u001b[0m\u001b[0;34m)\u001b[0m\u001b[0;34m\u001b[0m\u001b[0;34m\u001b[0m\u001b[0m\n",
      "\u001b[0;31mValueError\u001b[0m: invalid literal for int() with base 10: 's'"
     ]
    }
   ],
   "source": [
    "from math import pow, sqrt\n",
    "\n",
    "a, b = int(input()), int(input())\n",
    "print(a + b)\n",
    "print(a - b)\n",
    "print(a * b)\n",
    "print(a / b)\n",
    "print(a // b)\n",
    "print(a % b)\n",
    "c = sqrt(pow(a, 10) + pow(b, 10))\n",
    "print(c)"
   ]
  },
  {
   "cell_type": "markdown",
   "metadata": {},
   "source": [
    "Напишите программу для вычисления и оценки индекса массы тела (ИМТ) человека. ИМТ показывает, человек весит больше или меньше нормы для своего роста. ИМТ человека рассчитывают по формуле:\n",
    "\n",
    "где масса измеряется в килограммах, а рост – в метрах.\n",
    "\n",
    "Масса человека считается оптимальной, если его ИМТ находится между 18.5 и 25. Если ИМТ меньше 18.5, то считается, что человек весит ниже нормы. Если значение ИМТ больше \n",
    "25, то считается, что человек весит больше нормы.\n",
    "\n",
    "Программа должна вывести \"Оптимальная масса\", если ИМТ находится между 18.5 и 25 (включительно). \"Недостаточная масса\", если ИМТ меньше 18.5 и \"Избыточная масса\", если значение ИМТ больше 25."
   ]
  },
  {
   "cell_type": "code",
   "execution_count": null,
   "metadata": {},
   "outputs": [],
   "source": [
    "m = float(input())\n",
    "h = float(input())\n",
    "\n",
    "imt = m / (h * h)\n",
    "if imt > 25:\n",
    "    print('Избыточная масса')\n",
    "elif imt < 18.5:\n",
    "    print('Недостаточная масса')\n",
    "else:\n",
    "    print('Оптимальная масса')"
   ]
  },
  {
   "cell_type": "markdown",
   "metadata": {},
   "source": [
    "Дана строка текста. Напишите программу для подсчета стоимости строки, исходя из того, что один любой символ \n",
    "(в том числе пробел) стоит 60 копеек. Ответ дайте в рублях и копейках в соответствии с примерами."
   ]
  },
  {
   "cell_type": "code",
   "execution_count": null,
   "metadata": {},
   "outputs": [],
   "source": [
    "text = input()\n",
    "\n",
    "s = len(text) * 60\n",
    "rub = s // 100\n",
    "kop = s % 100\n",
    "\n",
    "print(f'{rub} р. {kop} коп.')"
   ]
  },
  {
   "cell_type": "markdown",
   "metadata": {},
   "source": [
    "Дана строка, состоящая из слов, разделенных пробелами. \n",
    "Напишите программу, которая подсчитывает количество слов в этой строке."
   ]
  },
  {
   "cell_type": "code",
   "execution_count": null,
   "metadata": {},
   "outputs": [],
   "source": [
    "print(len(input().split()))"
   ]
  },
  {
   "cell_type": "markdown",
   "metadata": {},
   "source": [
    "Китайский гороскоп назначает животным годы в 12-летнем цикле. \n",
    "Один 12-летний цикл показан в таблице ниже. \n",
    "Таким образом, 2012 год будет очередным годом дракона."
   ]
  },
  {
   "cell_type": "code",
   "execution_count": null,
   "metadata": {},
   "outputs": [],
   "source": [
    "def diff(year, start):\n",
    "    return ((year - start) % 12 == 0)\n",
    "\n",
    "n = int(input(\"Введите год: \"))\n",
    "\n",
    "if diff(n, 2000):\n",
    "    print('Дракон')\n",
    "elif diff(n, 2001):\n",
    "    print('Змея')\n",
    "elif diff(n, 2002):\n",
    "    print('Лошадь')\n",
    "elif diff(n, 2003):\n",
    "    print('Овца')\n",
    "elif diff(n, 2004):\n",
    "    print('Обезьяна')\n",
    "elif diff(n, 2005):\n",
    "    print('Петух')\n",
    "elif diff(n, 2006):\n",
    "    print('Собака')\n",
    "elif diff(n, 2007):\n",
    "    print('Свинья')\n",
    "elif diff(n, 2008):\n",
    "    print('Крыса')\n",
    "elif diff(n, 2009):\n",
    "    print('Бык')\n",
    "elif diff(n, 2010):\n",
    "    print('Тигр')\n",
    "elif diff(n, 2011):\n",
    "    print('Заяц')"
   ]
  },
  {
   "cell_type": "markdown",
   "metadata": {
    "scrolled": true
   },
   "source": [
    "Дано пятизначное или шестизначное натуральное число. \n",
    "Напишите программу, которая изменит порядок его последних пяти цифр на обратный."
   ]
  },
  {
   "cell_type": "code",
   "execution_count": null,
   "metadata": {},
   "outputs": [],
   "source": [
    "n = input()\n",
    "\n",
    "length = len(n)\n",
    "\n",
    "if length == 5:\n",
    "    z = n[::-1]\n",
    "    print(int(z))\n",
    "elif length == 6:\n",
    "    z = (n[0] + n[:0:-1])\n",
    "    print(int(z))"
   ]
  },
  {
   "cell_type": "markdown",
   "metadata": {},
   "source": [
    "На вход программе подается натуральное число. \n",
    "Напишите программу, которая вставляет \n",
    "в заданное число запятые в соответствии \n",
    "со стандартным американским соглашением о запятых в больших числах."
   ]
  },
  {
   "cell_type": "code",
   "execution_count": null,
   "metadata": {},
   "outputs": [],
   "source": [
    "n = input()\n",
    "\n",
    "length = len(n)\n",
    "\n",
    "if length <= 3:\n",
    "    print(n)\n",
    "else:\n",
    "    if length % 3 == 0:\n",
    "        new = n[:3]\n",
    "        old_n = n[3:]\n",
    "    elif length % 3 == 2:\n",
    "        new = n[:2]\n",
    "        old_n = n[2:]\n",
    "    else:\n",
    "        new = n[:1]\n",
    "        old_n = n[1:]\n",
    "    \n",
    "    for i in range(0, len(old_n), 3):\n",
    "        new = new + ',' + old_n[i:i+3]\n",
    "    print(new)"
   ]
  },
  {
   "cell_type": "markdown",
   "metadata": {},
   "source": [
    "Дан набор точек на координатной плоскости. \n",
    "Необходимо подсчитать и вывести количество точек, \n",
    "лежащих в каждой координатной четверти."
   ]
  },
  {
   "cell_type": "code",
   "execution_count": null,
   "metadata": {},
   "outputs": [],
   "source": [
    "n = int(input()) # Количество точек\n",
    "\n",
    "s1, s2, s3, s4 = 0, 0, 0, 0 # Количество точек в каждой четверти\n",
    "\n",
    "for i in range(n):\n",
    "    dot = [int(item) for item in input().split()] # Вводим координаты точки\n",
    "    if dot[0] > 0: # x > 0\n",
    "        if dot[1] > 0:\n",
    "            s1 += 1\n",
    "        elif dot[1] < 0:\n",
    "            s4 += 1\n",
    "    elif dot[0] < 0:\n",
    "        if dot[1] > 0:\n",
    "            s2 += 1\n",
    "        elif dot[1] < 0:\n",
    "            s3 += 1\n",
    "\n",
    "print(f'Первая четверть: {s1}')\n",
    "print(f'Вторая четверть: {s2}')\n",
    "print(f'Третья четверть: {s3}')\n",
    "print(f'Четвертая четверть: {s4}')"
   ]
  },
  {
   "cell_type": "markdown",
   "metadata": {},
   "source": [
    "На вход программе подается строка текста из натуральных чисел. Из нее формируется список чисел. Напишите программу подсчета количества чисел, которые больше предшествующего им в этом списке числа, то есть, стоят вслед за меньшим числом. "
   ]
  },
  {
   "cell_type": "code",
   "execution_count": null,
   "metadata": {},
   "outputs": [],
   "source": [
    "arr = [int(item) for item in input().split()]\n",
    "\n",
    "count = 0\n",
    "\n",
    "for i in range(1, len(arr)):\n",
    "    if arr[i] > arr[i-1]:\n",
    "        count += 1\n",
    "        \n",
    "print(count)"
   ]
  },
  {
   "cell_type": "markdown",
   "metadata": {},
   "source": [
    "На вход программе подается строка текста из неотрицательных чисел. \n",
    "Из элементов строки формируется список чисел. \n",
    "Напишите программу, которая меняет местами соседние элементы списка (a[0] c a[1], a[2] c a[3] и так далее). \n",
    "Если в списке нечетное количество элементов, то последний остается на своем месте."
   ]
  },
  {
   "cell_type": "code",
   "execution_count": null,
   "metadata": {},
   "outputs": [],
   "source": [
    "arr = [int(item) for item in input().split()]\n",
    "\n",
    "if len(arr) % 2 == 0:\n",
    "    n = len(arr)\n",
    "else:\n",
    "    n = len(arr) - 1\n",
    "\n",
    "\n",
    "for i in range(0, n, 2):\n",
    "    arr[i], arr[i + 1] = arr[i + 1], arr[i]\n",
    "\n",
    "print(*arr)"
   ]
  },
  {
   "cell_type": "markdown",
   "metadata": {},
   "source": [
    "На вход программе подается строка текста из натуральных чисел. \n",
    "Из элементов строки формируется список чисел. \n",
    "Напишите программу циклического сдвига элементов списка направо, когда последний элемент становится первым, \n",
    "а остальные сдвигаются на одну позицию вперед, в сторону увеличения индексов."
   ]
  },
  {
   "cell_type": "code",
   "execution_count": null,
   "metadata": {},
   "outputs": [],
   "source": [
    "arr = [int(item) for item in input().split()]\n",
    "\n",
    "last = arr.pop(-1)\n",
    "arr.insert(0, last)\n",
    "print(*arr)"
   ]
  },
  {
   "cell_type": "markdown",
   "metadata": {},
   "source": [
    "На вход программе подается строка текста, содержащая натуральные числа, расположенные по неубыванию. \n",
    "Из строки формируется список чисел. Напишите программу для подсчета количества разных элементов в списке."
   ]
  },
  {
   "cell_type": "code",
   "execution_count": null,
   "metadata": {},
   "outputs": [],
   "source": [
    "text = input()\n",
    "nums = [int(num) for num in text.split()]\n",
    "\n",
    "prev = list() # Список из предыдущих чисел\n",
    "count = 0 # Число уникальных элементов\n",
    "\n",
    "for num in nums:\n",
    "    if num not in prev:\n",
    "        count += 1\n",
    "        prev.append(num)\n",
    "\n",
    "print(count)\n",
    "        \n"
   ]
  },
  {
   "cell_type": "markdown",
   "metadata": {},
   "source": [
    "Напишите программу для определения, является ли число произведением двух чисел из данного набора. \n",
    "Программа должна выводить результат в виде ответа ДА или НЕТ."
   ]
  },
  {
   "cell_type": "code",
   "execution_count": null,
   "metadata": {},
   "outputs": [],
   "source": [
    "n = int(input()) # Количество чисел в наборе\n",
    "\n",
    "ls = [int(input()) for num in range(n)]\n",
    "ls2 = []\n",
    "\n",
    "for i in range(len(ls)):\n",
    "    for j in range(i + 1, len(ls)):\n",
    "        ls2.append(ls[i] * ls[j])\n",
    "\n",
    "s = int(input())\n",
    "if s in ls2:\n",
    "    print('ДА')\n",
    "else:\n",
    "    print('НЕТ')"
   ]
  },
  {
   "cell_type": "markdown",
   "metadata": {},
   "source": [
    "Тимур и Руслан пытаются разделить фронт работы по курсу \"Python для профессионалов\". \n",
    "Для этого они решили сыграть в камень, ножницы и бумагу. \n",
    "Помогите ребятам бросить честный жребий \n",
    "и определить, кто будет делать очередной модуль нового курса."
   ]
  },
  {
   "cell_type": "code",
   "execution_count": null,
   "metadata": {},
   "outputs": [],
   "source": [
    "tim = input()\n",
    "rus = input()\n",
    "\n",
    "t = 'Тимур'\n",
    "r = 'Руслан'\n",
    "\n",
    "if tim == rus:\n",
    "    print('ничья')\n",
    "elif tim == 'камень':\n",
    "    if rus == 'ножницы':\n",
    "        print(t)\n",
    "    elif rus == 'бумага':\n",
    "        print(r)\n",
    "elif tim == 'ножницы':\n",
    "    if rus == 'камень':\n",
    "        print(r)\n",
    "    elif rus == 'бумага':\n",
    "        print(t)\n",
    "elif tim == 'бумага':\n",
    "    if rus == 'камень':\n",
    "        print(t)\n",
    "    elif rus == 'ножницы':\n",
    "        print(r)"
   ]
  },
  {
   "cell_type": "markdown",
   "metadata": {},
   "source": [
    "Дана строка текста, состоящая из букв русского алфавита \"О\" и \"Р\". Буква \"О\" соответствует выпадению Орла, \n",
    "а буква \"Р\" – выпадению Решки. \n",
    "Напишите программу, которая подсчитывает наибольшее количество подряд выпавших Решек."
   ]
  },
  {
   "cell_type": "code",
   "execution_count": null,
   "metadata": {
    "scrolled": true
   },
   "outputs": [],
   "source": [
    "text = input().split('О')\n",
    "mx = 0\n",
    "\n",
    "for item in text:\n",
    "    cnt_r = item.count('Р')\n",
    "    if cnt_r > mx:\n",
    "        mx = cnt_r\n",
    "    \n",
    "print(mx)"
   ]
  },
  {
   "cell_type": "markdown",
   "metadata": {},
   "source": [
    "n человек, пронумерованных числами от 1 до n, стоят в кругу. \n",
    "Они начинают считаться, каждый k-й по счету человек выбывает из круга, \n",
    "после чего счет продолжается со следующего за ним человека. \n",
    "Напишите программу, определяющую номер человека, который останется в кругу последним."
   ]
  },
  {
   "cell_type": "code",
   "execution_count": null,
   "metadata": {
    "scrolled": true
   },
   "outputs": [],
   "source": [
    "n = int(input()) # Число людей\n",
    "k = int(input()) # Каждый выбывший\n",
    "\n",
    "arr = list(range(1, n+1)) # Массив пронумерованных людей. ВАЖНО! Элементы этого массива идут от 1 до n включительно\n",
    "arr_ret = list() # Массив выбывших\n",
    "z = 1 # Счетчик [1, k]\n",
    "\n",
    "# Если выбывает каждый первый, то печатаем последнего пронумерованного человека\n",
    "if k == 1: \n",
    "    print(arr[-1])\n",
    "else:\n",
    "    # Иначе, пока больше одного выжившего\n",
    "    while len(arr) > 1: \n",
    "        arr_surv = [] # Массив выживших\n",
    "        for i in range(1, len(arr) + 1): # От одного до количества оставшихся людей включительно\n",
    "            if z == k: # Если счетчик равен k\n",
    "                arr_ret.append(arr[i-1]) # Добавляем человека в массив выбывших\n",
    "                z = 1 # Сброс счетчика\n",
    "            else: # Иначе в массив выжывших\n",
    "                arr_surv.append(arr[i-1])\n",
    "                z += 1\n",
    "        arr = arr_surv.copy() # Массив выживших отправляем в массив пронумерованных людей\n",
    "    print(*arr)"
   ]
  },
  {
   "cell_type": "markdown",
   "metadata": {},
   "source": [
    "Необходимо написать программу, реализующую алгоритм написания этой песни. \n",
    "Алгоритм выводит в конце предложения следующую в алфавитном порядке букву, если она встречается в строке текста, \n",
    "а очередную строку отображает уже без этой буквы."
   ]
  },
  {
   "cell_type": "code",
   "execution_count": null,
   "metadata": {},
   "outputs": [],
   "source": [
    "text1 = input()\n",
    "text2 = ' запретил букву'\n",
    "\n",
    "text = text1 + text2 # Образованная строка\n",
    "\n",
    "for n_char in range(ord('а'), ord('я') + 1): # Бегаем по номерам букв алфавита\n",
    "    if chr(n_char) not in text: # Если буквы нет, то переходим на следующую итерацию\n",
    "        continue\n",
    "    print(text + ' ' + chr(n_char)) # Выводим результат\n",
    "    text = text.replace(chr(n_char), '').strip().replace('  ', ' ') # Убираем букву из текста. Убираем пробелы. Заменяем двойной пробел на один пробел"
   ]
  },
  {
   "cell_type": "code",
   "execution_count": null,
   "metadata": {},
   "outputs": [],
   "source": [
    "Искусственный интеллект Антон, созданный Гилфойлом, взломал сеть умных холодильников. \n",
    "Теперь он использует их в качестве серверов \"Пегого дудочника\". \n",
    "Помогите владельцу фирмы отыскать все зараженные холодильники.\n",
    "\n",
    "Для каждого холодильника существует строка с данными, состоящая из строчных букв и цифр, \n",
    "и если в ней присутствует слово \"anton\" (необязательно рядом стоящие буквы, главное наличие последовательности букв), \n",
    "то холодильник заражен и нужно вывести номер холодильника, нумерация начинается с единицы."
   ]
  },
  {
   "cell_type": "code",
   "execution_count": null,
   "metadata": {},
   "outputs": [],
   "source": [
    "n = int(input()) # Количество холодильников\n",
    "\n",
    "a = [input() for _ in range(n)] # Список строк\n",
    "b = [] # Массив номеров зараженных холодильников\n",
    "\n",
    "virus = 'anton' # вирусное слово\n",
    "\n",
    "\n",
    "for i in range(n): # Бегаем по индексам списка строк\n",
    "    infected = True # Предполагаем, что компьютер заражен\n",
    "    \n",
    "    for v in virus[0:4]: # Для каждой буквы слова anton, кроме последней буквы n\n",
    "        first_ind_v = a[i].find(v) # Находим индекс буквы\n",
    "        if first_ind_v == -1: # Если буквы нет, то компьютер не заражен \n",
    "            infected = False\n",
    "            break\n",
    "        a[i] = a[i][first_ind_v + 1:] # ОБРЕЗАЕМ СЛОВО\n",
    "    \n",
    "    if infected == True and a[i].rfind('n') > -1:\n",
    "        b.append(i+1)\n",
    "        \n",
    "print(*b)\n",
    "    "
   ]
  },
  {
   "cell_type": "code",
   "execution_count": null,
   "metadata": {},
   "outputs": [],
   "source": [
    "#     # Если одной из букв нет, то переходим к следующей строке\n",
    "#     if 'a' not in a[i] or 'n' not in a[i] or 't' not in a[i] or 'o' not in a[i]:\n",
    "#         continue"
   ]
  },
  {
   "cell_type": "code",
   "execution_count": null,
   "metadata": {},
   "outputs": [],
   "source": [
    "'anton'.find('z')"
   ]
  },
  {
   "cell_type": "markdown",
   "metadata": {},
   "source": [
    "Используя списочный метод append(), дополните приведенный ниже код так, чтобы список list1 имел вид:\n",
    "list1 = [10, 20, [300, 400, [5000, 6000, 7000], 500], 30, 40]"
   ]
  },
  {
   "cell_type": "code",
   "execution_count": null,
   "metadata": {},
   "outputs": [],
   "source": [
    "# list1 = [10, 20, [300, 400, [5000, 6000], 500], 30, 40]\n",
    "# print(list1) Изначально\n",
    "\n",
    "list1 = [10, 20, [300, 400, [5000, 6000], 500], 30, 40]\n",
    "list1[2][2].append(7000)\n",
    "\n",
    "print(list1)"
   ]
  },
  {
   "cell_type": "markdown",
   "metadata": {},
   "source": [
    "Используя цикл for и встроенную функцию max(), дополните приведенный ниже код так, \n",
    "чтобы он выводил максимальный элемент среди всех элементов вложенных списков списка list1."
   ]
  },
  {
   "cell_type": "code",
   "execution_count": null,
   "metadata": {},
   "outputs": [],
   "source": [
    "list1 = [[1, 7, 8], [9, 7, 102], [6, 106, 105], [100, 99, 98, 103], [1, 2, 3]]\n",
    "\n",
    "maximum = 0\n",
    "\n",
    "for ls in list1:\n",
    "    for num in ls:\n",
    "        if num > maximum:\n",
    "            maximum = num\n",
    "print(maximum)"
   ]
  },
  {
   "cell_type": "markdown",
   "metadata": {},
   "source": [
    "Дополните приведенный ниже код так, чтобы список list1 имел вид:\n",
    "    list1 = [[8, 7, 1], [102, 7, 9], [105, 106, 102], [103, 98, 99, 100], [3, 2, 1]]"
   ]
  },
  {
   "cell_type": "code",
   "execution_count": null,
   "metadata": {},
   "outputs": [],
   "source": [
    "list1 = [[1, 7, 8], [9, 7, 102], [102, 106, 105], [100, 99, 98, 103], [1, 2, 3]]\n",
    "\n",
    "for ls in list1:\n",
    "    ls.reverse()\n",
    "print(list1)"
   ]
  },
  {
   "cell_type": "markdown",
   "metadata": {},
   "source": [
    "Дополните приведенный ниже код так, чтобы он выводил единственное число – \n",
    "сумму всех чисел списка list1, разделенную на общее количество всех чисел."
   ]
  },
  {
   "cell_type": "code",
   "execution_count": null,
   "metadata": {},
   "outputs": [],
   "source": [
    "list1 = [[1, 7, 8], [9, 7, 102], [102, 106, 105], [100, 99, 98, 103], [1, 2, 3]]\n",
    "total = 0\n",
    "counter = 0\n",
    "\n",
    "for ls in list1:\n",
    "    for num in ls:\n",
    "        total += num\n",
    "        counter += 1\n",
    "    \n",
    "print(total / counter)"
   ]
  },
  {
   "cell_type": "markdown",
   "metadata": {},
   "source": [
    "На вход программе подается число n. Напишите программу, которая создает и выводит построчно список, состоящий из n списков"
   ]
  },
  {
   "cell_type": "code",
   "execution_count": null,
   "metadata": {},
   "outputs": [],
   "source": [
    "n = int(input())\n",
    "\n",
    "for _ in range(n): \n",
    "    ls = list(range(1, n + 1))\n",
    "    print(ls)"
   ]
  },
  {
   "cell_type": "markdown",
   "metadata": {},
   "source": [
    "На вход программе подается число n. \n",
    "Напишите программу, которая создает и выводит построчно вложенный список, состоящий из n списков \n",
    "[[1], [1, 2], [1, 2, 3], ..., [1, 2, ..., n]]."
   ]
  },
  {
   "cell_type": "code",
   "execution_count": null,
   "metadata": {},
   "outputs": [],
   "source": [
    "n = int(input())\n",
    "\n",
    "for i in range(1, n + 1): # Для каждой строки\n",
    "    ls = list(range(1, i + 1))\n",
    "    print(ls)"
   ]
  },
  {
   "cell_type": "markdown",
   "metadata": {},
   "source": [
    "Треугольник Паскаля – бесконечная таблица биномиальных коэффициентов, имеющая треугольную форму. \n",
    "В этом треугольнике на вершине и по бокам стоят единицы. \n",
    "Каждое число равно сумме двух расположенных над ним чисел.\n",
    "\n",
    "На вход программе подается натуральное число n. \n",
    "Напишите программу, которая выводит первые n строк треугольника Паскаля.\n"
   ]
  },
  {
   "cell_type": "code",
   "execution_count": null,
   "metadata": {},
   "outputs": [],
   "source": [
    "def pascal(n):\n",
    "    prev_list = [1] # Предыдущий список. Сначала он равен нулевому списку\n",
    "\n",
    "    for i in range(1, n + 1): # Бегаем по строкам (в нашем случае, можно сказать по спискам)\n",
    "        ls = [] # Список для текущей строки\n",
    "        for j in range(len(prev_list) + 1): # Бегаем по индексам элементам. Мы знаем, что длина текущего списка равна длине предыдущего списка\n",
    "            if j == 0 or j == len(prev_list): # Если индекс нулевой или последний (для текущего списка), то будет единичка\n",
    "                ls.append(1)\n",
    "            else:\n",
    "                s = prev_list[j-1] + prev_list[j] # Иначе, из предыдущего списка берем под номером - 1 и соответствующим номером\n",
    "                ls.append(s)\n",
    "        prev_list = ls\n",
    "\n",
    "    return prev_list"
   ]
  },
  {
   "cell_type": "code",
   "execution_count": null,
   "metadata": {},
   "outputs": [],
   "source": [
    "n = int(input()) # Номер строки\n",
    "\n",
    "print(pascal(n))\n",
    "\n",
    "for num in range(n):\n",
    "    print(*pascal(num))"
   ]
  },
  {
   "cell_type": "code",
   "execution_count": null,
   "metadata": {},
   "outputs": [],
   "source": [
    "15 * 16 + 2 + 16 * 16 * 10 + 16 ** 3"
   ]
  },
  {
   "cell_type": "markdown",
   "metadata": {},
   "source": [
    "В какой системе счисления посчитаны деревья?\n",
    "\n",
    "Примечание. Переведите числа из n-ой системы счисления в десятичную и составьте уравнение."
   ]
  },
  {
   "cell_type": "code",
   "execution_count": null,
   "metadata": {},
   "outputs": [],
   "source": [
    "from math import pow\n",
    "n = 9\n",
    "right = 8 * pow(n, 1) + 8 * pow(n, 0)\n",
    "left1 = 3 * pow(n, 1) + 2 * pow(n, 0)\n",
    "left2 = 2 * pow(n, 1) + 2 * pow(n, 0)\n",
    "left3 = 1 * pow(n, 1) + 6 * pow(n, 0)\n",
    "left4 = 1 * pow(n, 1) + 7 * pow(n, 0)\n",
    "left = left1 + left2 + left3 + left4\n",
    "\n",
    "while right - left != 0:\n",
    "    n += 1\n",
    "    \n",
    "print(n)"
   ]
  },
  {
   "cell_type": "markdown",
   "metadata": {},
   "source": [
    "На вход программе подается строка текста, содержащая символы. \n",
    "Напишите программу, которая упаковывает последовательности одинаковых символов заданной строки в подсписки."
   ]
  },
  {
   "cell_type": "code",
   "execution_count": null,
   "metadata": {},
   "outputs": [],
   "source": [
    "text = input().split() # Разбиваем строку на список \n",
    "\n",
    "ls = [[text[0]]]  # Создаем список, состоящий из списка с содержимым первой буквы\n",
    "count = 0 # Подсчет последнего номера элемента в ls \n",
    "\n",
    "for i in range(1, len(text)): # Начиная со второй буквы по последней\n",
    "    if text[i] != text[i-1]: # Если текущая буква не равна предыдущей\n",
    "        ls.append([text[i]]) # Добавляем новый список, состоящий из буквы в ls\n",
    "        count += 1 \n",
    "    else:\n",
    "        ls[count].append(text[i]) # Иначе добавляем во входящий список данную букву\n",
    "        \n",
    "print(ls)"
   ]
  },
  {
   "cell_type": "markdown",
   "metadata": {},
   "source": [
    "На вход программе подаются две строки: на одной – символы, на другой – число n. \n",
    "    Из первой строки формируется список.\n",
    "Реализуйте функцию chunked(), которая принимает на вход список и число, \n",
    "задающее размер чанка (куска), а возвращает список из чанков (кусков) указанной длины."
   ]
  },
  {
   "cell_type": "code",
   "execution_count": null,
   "metadata": {},
   "outputs": [],
   "source": [
    "text = input().split()\n",
    "n = int(input())\n",
    "\n",
    "ls = [[]] # Список из списка\n",
    "count = 0\n",
    "\n",
    "z = len(text) // n\n",
    "\n",
    "for i in range(z): # Для каждого символа\n",
    "    while count != (n-1):\n",
    "        ls[count].extend(text[i])\n",
    "        count += 1\n",
    "    count = 0 \n",
    "\n",
    "print(ls)"
   ]
  },
  {
   "cell_type": "code",
   "execution_count": null,
   "metadata": {},
   "outputs": [],
   "source": [
    "text = input().split()\n",
    "n = int(input())\n",
    "\n",
    "ls = [] # Список из списка\n",
    "sub_ls = [] # Подсписок\n",
    "count = 0 # Подсчет номера в куске\n",
    "\n",
    "for i in range(len(text)): # Для каждого символа\n",
    "    sub_ls.append(text[i]) # Добавляем символ в подсписок\n",
    "    count += 1 # Увеличиваем подсчет\n",
    "    if count == n: # если count стал равен размеру куска\n",
    "        ls.append(sub_ls) # добавляем в список кусок\n",
    "        sub_ls = [] # очищаем кусок для новых символов\n",
    "        count = 0 # очищаем номер в куске\n",
    "        \n",
    "if bool(sub_ls): # Если кусок не пустой\n",
    "    ls.append(sub_ls) # То добавляем кусок в список\n",
    "    \n",
    "print(ls)"
   ]
  },
  {
   "cell_type": "markdown",
   "metadata": {},
   "source": [
    "На вход программе подаются два натуральных числа n и m, каждое на отдельной строке – количество строк и столбцов в матрице. \n",
    "Далее вводятся сами элементы матрицы – слова, каждое на отдельной строке; \n",
    "подряд идут элементы сначала первой строки, затем второй, и так далее.\n",
    "\n",
    "Напишите программу, которая сначала считывает элементы матрицы один за другим, затем выводит их в виде матрицы."
   ]
  },
  {
   "cell_type": "code",
   "execution_count": null,
   "metadata": {},
   "outputs": [],
   "source": [
    "# Создаем матрицу с заполняемыми значениями\n",
    "def form_matrix(rows, cols):\n",
    "    matrix = [] # Пустая матрица\n",
    "    for i in range(rows): # Пробегаемся по строкам\n",
    "        string = [input() for j in range(cols)] # Пробегаемся по столбцам\n",
    "        matrix.append(string)\n",
    "    return(matrix)\n",
    "\n",
    "# Выводим на печать все элементы требуемой матрицы\n",
    "def print_matrix(matrix, rows, cols):\n",
    "    for r in range(rows):\n",
    "        for c in range(cols):\n",
    "            print(matrix[r][c], end=' ')\n",
    "        print()"
   ]
  },
  {
   "cell_type": "markdown",
   "metadata": {},
   "source": [
    "На вход программе подаются два натуральных числа n и m, \n",
    "каждое на отдельной строке — количество строк и столбцов в матрице. \n",
    "Далее вводятся сами элементы матрицы – слова, каждое на отдельной строке; \n",
    "подряд идут элементы сначала первой строки, затем второй, и так далее.\n",
    "\n",
    "Напишите программу, которая считывает элементы матрицы один за другим, \n",
    "выводит их в виде матрицы, выводит пустую строку, и снова ту же матрицу, \n",
    "но уже поменяв местами строки со столбцами: первая строка выводится как первый столбец, и так далее."
   ]
  },
  {
   "cell_type": "code",
   "execution_count": null,
   "metadata": {},
   "outputs": [],
   "source": [
    "n = int(input())\n",
    "m = int(input())\n",
    "\n",
    "matrix = form_matrix(n, m)\n",
    "print_matrix(matrix, n, m)\n",
    "print()\n",
    "\n",
    "# Транспонирование матрицы\n",
    "matrix_tran = []\n",
    "\n",
    "for c in range(m):\n",
    "    string = []\n",
    "    for r in range(n):\n",
    "        string.append(matrix[r][c])\n",
    "    matrix_tran.append(string)\n",
    "\n",
    "print_matrix(matrix_tran, m, n)"
   ]
  },
  {
   "cell_type": "markdown",
   "metadata": {},
   "source": [
    "Следом квадратной матрицы называется сумма элементов главной диагонали. \n",
    "Напишите программу, которая выводит след заданной квадратной матрицы."
   ]
  },
  {
   "cell_type": "code",
   "execution_count": null,
   "metadata": {},
   "outputs": [],
   "source": [
    "def sq_matrix(n):\n",
    "    mx = [] # матрица\n",
    "    for i in range(n):\n",
    "        string = [int(num) for num in input().split()] # список из целых чисел\n",
    "        mx.append(string) # добавляем в матрицу string\n",
    "    return(mx)"
   ]
  },
  {
   "cell_type": "code",
   "execution_count": null,
   "metadata": {},
   "outputs": [],
   "source": [
    "n = int(input()) # Количество строк и столбцов матрицы\n",
    "\n",
    "mx = sq_matrix(n)    \n",
    "s = 0\n",
    "\n",
    "# Пробегаемся по матрице\n",
    "for i in range(n):\n",
    "    for j in range(n):\n",
    "        if i == j:\n",
    "            s += mx[i][j]\n",
    "            \n",
    "print(s)"
   ]
  },
  {
   "cell_type": "markdown",
   "metadata": {},
   "source": [
    "Напишите программу, которая выводит количество элементов квадратной матрицы в каждой строке, \n",
    "больших среднего арифметического элементов данной строки."
   ]
  },
  {
   "cell_type": "code",
   "execution_count": null,
   "metadata": {},
   "outputs": [],
   "source": [
    "# Рассчитывает среднее арифмитическое элементов заданной строки(i) заданной квадратной(n) матрицы(matrix)\n",
    "def mean_str_sq_mx(matrix, n, i):\n",
    "    total = sum(matrix[i])\n",
    "    avg = total / n\n",
    "    return (avg)\n",
    "        "
   ]
  },
  {
   "cell_type": "code",
   "execution_count": null,
   "metadata": {},
   "outputs": [],
   "source": [
    "n = int(input())\n",
    "mx = sq_matrix(n) # Возвращаем заполненную квадратную матрицу\n",
    "\n",
    "for i in range(n):\n",
    "    count = 0 # Подсчет количества элементов, которые превосходят среднее арифмитическое \n",
    "    avg_st = mean_str_sq_mx(mx, n, i) # Возвращает среднее арифметической для i-строки квадртной матрицы\n",
    "    for j in range(n):\n",
    "        if mx[i][j] > avg_st:\n",
    "            count += 1\n",
    "    print(count)"
   ]
  },
  {
   "cell_type": "markdown",
   "metadata": {},
   "source": [
    "Напишите программу, которая выводит максимальный элемент в заштрихованной области квадратной матрицы. (Ниже или равно главной диагонали)"
   ]
  },
  {
   "cell_type": "code",
   "execution_count": null,
   "metadata": {},
   "outputs": [],
   "source": [
    "n = int(input())\n",
    "mx = sq_matrix(n) # Возвращаем заполненную квадратную матрицу\n",
    "\n",
    "max_el = mx[0][0] # Пусть максимальный элемент будет верхний элемент в левом углу\n",
    "\n",
    "for i in range(1, n): # Начинаем со второй строки, поскольку на первой строки лишь один элемент удовлетворяющий условию, который мы уже присвоили максимальному\n",
    "    for j in range(i + 1): # Доходим включительно до элемента главной диагонали\n",
    "        if mx[i][j] > max_el:\n",
    "            max_el = mx[i][j]\n",
    "            \n",
    "print(max_el)\n",
    "    "
   ]
  },
  {
   "cell_type": "markdown",
   "metadata": {},
   "source": [
    "Напишите программу, которая выводит максимальный элемент в заштрихованной области квадратной матрицы."
   ]
  },
  {
   "cell_type": "code",
   "execution_count": null,
   "metadata": {},
   "outputs": [],
   "source": [
    "n = int(input())\n",
    "mx = sq_matrix(n) # Возвращаем заполненную квадратную матрицу\n",
    "\n",
    "max_el = mx[0][0] # Пусть максимальный элемент будет верхний элемент в левом углу\n",
    "\n",
    "for i in range(1, n): # Начинаем со второй строки, поскольку на первой строки лишь один элемент удовлетворяющий условию, который мы уже присвоили максимальному\n",
    "    for j in range(i + 1): # Доходим включительно до элемента главной диагонали\n",
    "        if i <= n - 1 - j and mx[i][j] > max_el: # В левой части, не ниже побочной и не выше главной.\n",
    "            max_el = mx[i][j]\n",
    "            \n",
    "for i in range(n):\n",
    "    for j in range(n - 1, i - 1, -1): # Идем с последнего столбца до элемента побочной диагонали включительно\n",
    "        if i >= n - 1 - j and mx[i][j] > max_el: # В правой части, не ниже главной и не выше побочной.\n",
    "            max_el = mx[i][j]\n",
    "            \n",
    "print(max_el)    \n",
    "            "
   ]
  },
  {
   "cell_type": "markdown",
   "metadata": {},
   "source": [
    "Напишите программу, которая вычисляет сумму элементов: верхней четверти; правой четверти; нижней четверти; левой четверти."
   ]
  },
  {
   "cell_type": "code",
   "execution_count": null,
   "metadata": {},
   "outputs": [],
   "source": [
    "n = int(input())\n",
    "mx = sq_matrix(n) # Возвращаем заполненную квадратную матрицу\n",
    "\n",
    "t1, t2, t3, t4 = 0, 0, 0, 0\n",
    "\n",
    "for i in range(n):\n",
    "    for j in range(n):\n",
    "        if (i < j):\n",
    "            if i < n - 1 - j:\n",
    "                t1 += mx[i][j]\n",
    "            elif i > n - 1 - j:\n",
    "                t2 += mx[i][j]\n",
    "        elif (i > j):\n",
    "            if i > n - 1 - j:\n",
    "                t3 += mx[i][j] \n",
    "            elif i < n - 1 - j:\n",
    "                t4 += mx[i][j] \n",
    "\n",
    "print(f'''Верхняя четверть: {t1}\n",
    "Правая четверть: {t2}\n",
    "Нижняя четверть: {t3}\n",
    "Левая четверть: {t4}''')\n",
    "            "
   ]
  },
  {
   "cell_type": "markdown",
   "metadata": {},
   "source": [
    "На вход программе подаются два натуральных числа n и m – количество строк и столбцов в матрице. \n",
    "Создайте матрицу mult размером \n",
    "n×m и заполните ее таблицей умножения по формуле mult[i][j] = i * j."
   ]
  },
  {
   "cell_type": "code",
   "execution_count": null,
   "metadata": {},
   "outputs": [],
   "source": [
    "def form_matrix(rows, cols):\n",
    "    matrix = [] # Пустая матрица\n",
    "    for i in range(rows): # Пробегаемся по строкам\n",
    "        string = [i * j for j in range(cols)] # Пробегаемся по столбцам\n",
    "        matrix.append(string)\n",
    "    return(matrix)\n",
    "\n",
    "def print_matrix(matrix, rows, cols, lj):\n",
    "    for r in range(rows):\n",
    "        for c in range(cols):\n",
    "            print(str(matrix[r][c]).ljust(lj), end=' ')\n",
    "        print()\n",
    "\n",
    "n = int(input())\n",
    "m = int(input())\n",
    "mx = form_matrix(n, m)\n",
    "print_matrix(mx, n, m, 3)"
   ]
  },
  {
   "cell_type": "markdown",
   "metadata": {},
   "source": [
    "На вход программе подаются два натуральных числа \n",
    "n и m – количество строк и столбцов в матрице, \n",
    "затем n строк по m целых чисел в каждой, отделенных символом пробела.\n",
    "\n",
    "Напишите программу, которая находит индексы (строку и столбец) первого вхождения максимального элемента."
   ]
  },
  {
   "cell_type": "code",
   "execution_count": null,
   "metadata": {},
   "outputs": [],
   "source": [
    "# Создает матрицу из чисел\n",
    "def form_matrix(rows, cols):\n",
    "    matrix = [] # Пустая матрица\n",
    "    for i in range(rows): # Пробегаемся по строкам\n",
    "        string = [int(j) for j in input().split()] # Пробегаемся по столбцам\n",
    "        matrix.append(string)\n",
    "    return(matrix)\n",
    "\n",
    "# Определяет максимальное значение в матрице\n",
    "def max_matrix(matrix):\n",
    "    max_value = matrix[0][0]\n",
    "    for ls in matrix: # Для каждого вложенного списка будет рассчитан макс элемент\n",
    "        max_ls = max(ls)\n",
    "        if max_ls > max_value:\n",
    "            max_value = max_ls\n",
    "    return(max_value)\n",
    "\n",
    "# Определяет индекс строки и столбца первого максимального элемента\n",
    "def imax_matrix(matrix, rows, cols, max_value):\n",
    "    for i in range(rows):\n",
    "        for j in range(cols):\n",
    "            if mx[i][j] == max_value:\n",
    "                return i, j\n",
    "\n",
    "n = int(input())\n",
    "m = int(input())\n",
    "\n",
    "mx = form_matrix(n, m) # Возвращает заполненную матрицу\n",
    "max_v = max_matrix(mx) # Возвращает максимальное значение в матрице\n",
    "imax, jmax = imax_matrix(mx, n, m, max_v) # Возвращает индекс строки и столбца первого максимального элемента\n",
    "print(imax, jmax, sep=' ')         "
   ]
  },
  {
   "cell_type": "markdown",
   "metadata": {},
   "source": [
    "На вход программе на разных строках подаются два натуральных числа n и m – количество строк и столбцов в матрице, \n",
    "затем элементы матрицы построчно через пробел, \n",
    "затем натуральные числа i и j – номера столбцов, подлежащих обмену."
   ]
  },
  {
   "cell_type": "code",
   "execution_count": null,
   "metadata": {},
   "outputs": [],
   "source": [
    "# Создает матрицу из чисел\n",
    "def form_matrix(rows, cols):\n",
    "    matrix = [] # Пустая матрица\n",
    "    for i in range(rows): # Пробегаемся по строкам\n",
    "        string = [int(j) for j in input().split()] # Пробегаемся по столбцам\n",
    "        matrix.append(string)\n",
    "    return(matrix)\n",
    "\n",
    "# Транспонируем матрицу\n",
    "def tran_matrix(matrix, cols, rows):\n",
    "    matrix_tran = []\n",
    "    for c in range(cols):\n",
    "        string = []\n",
    "        for r in range(rows):\n",
    "            string.append(matrix[r][c])\n",
    "        matrix_tran.append(string)\n",
    "    return (matrix_tran)\n",
    "\n",
    "# Выводим на печать все элементы требуемой матрицы\n",
    "def print_matrix(matrix, rows, cols):\n",
    "    for r in range(rows):\n",
    "        for c in range(cols):\n",
    "            print(matrix[r][c], end=' ')\n",
    "        print()\n",
    "    \n",
    "\n",
    "n = int(input())\n",
    "m = int(input())\n",
    "\n",
    "mx = form_matrix(n, m) # Возвращает заполненную матрицу\n",
    "\n",
    "i, j = [int(num) for num in input().split()]\n",
    "\n",
    "t_mx = tran_matrix(mx, m, n) # Возвращает транспонированную матрицу, где столбцы стали строками, а строки - столбцами. \n",
    "\n",
    "t_mx[i], t_mx[j] = t_mx[j], t_mx[i] # Обмениваем строки\n",
    "\n",
    "new_mx = tran_matrix(t_mx, n, m) # Снова транспонируем матрицу, где строки становятся столбцами\n",
    "\n",
    "print_matrix(new_mx, n, m)"
   ]
  },
  {
   "cell_type": "markdown",
   "metadata": {},
   "source": [
    "Напишите программу, которая проверяет симметричность квадратной матрицы относительно главной диагонали."
   ]
  },
  {
   "cell_type": "code",
   "execution_count": null,
   "metadata": {},
   "outputs": [],
   "source": [
    "def sq_matrix(n):\n",
    "    mx = [] # матрица\n",
    "    for i in range(n):\n",
    "        string = [int(num) for num in input().split()] # список из целых чисел\n",
    "        mx.append(string) # добавляем в матрицу string\n",
    "    return(mx)\n",
    "\n",
    "n = int(input())\n",
    "mx = sq_matrix(n) # Возвращаем заполненную квадратную матрицу\n",
    "\n",
    "flag = True\n",
    "for i in range(n):\n",
    "    for j in range(n):\n",
    "        if mx[i][j] != mx[j][i]: # Если элементы не равны, то матрица не симметрична и прерываем цикл по столбцам\n",
    "            flag = False\n",
    "            break\n",
    "    if flag == False: # Если обнаружили, что матрица не симметрична, то прерываем цикл по строкам\n",
    "        break\n",
    "if flag:\n",
    "    print('YES')\n",
    "else:\n",
    "    print('NO')"
   ]
  },
  {
   "cell_type": "markdown",
   "metadata": {},
   "source": [
    "Дана квадратная матрица чисел. \n",
    "Напишите программу, которая меняет местами элементы, стоящие на главной и побочной диагонали, \n",
    "при этом каждый элемент должен остаться в том же столбце \n",
    "(то есть в каждом столбце нужно поменять местами элемент на главной диагонали и на побочной диагонали)."
   ]
  },
  {
   "cell_type": "code",
   "execution_count": null,
   "metadata": {},
   "outputs": [],
   "source": [
    "def sq_matrix(n):\n",
    "    mx = [] # матрица\n",
    "    for i in range(n):\n",
    "        string = [int(num) for num in input().split()] # список из целых чисел\n",
    "        mx.append(string) # добавляем в матрицу string\n",
    "    return(mx)\n",
    "\n",
    "# Выводим на печать все элементы требуемой матрицы\n",
    "def print_matrix(matrix, rows, cols):\n",
    "    for r in range(rows):\n",
    "        for c in range(cols):\n",
    "            print(matrix[r][c], end=' ')\n",
    "        print()\n",
    "\n",
    "n = int(input())\n",
    "mx = sq_matrix(n) # Возвращаем заполненную квадратную матрицу\n",
    "\n",
    "for j in range(n):\n",
    "    for i in range(n):\n",
    "        if i == j: # Если элемент находится на главной диагонали\n",
    "            mx[i][j], mx[n-1-i][j] = mx[n-1-i][j], mx[i][j]\n",
    "            \n",
    "print_matrix(mx, n, n)       "
   ]
  },
  {
   "cell_type": "markdown",
   "metadata": {},
   "source": [
    "Дана квадратная матрица чисел. \n",
    "Напишите программу, которая зеркально отображает её элементы относительно горизонтальной оси симметрии."
   ]
  },
  {
   "cell_type": "code",
   "execution_count": null,
   "metadata": {},
   "outputs": [],
   "source": [
    "def sq_matrix(n):\n",
    "    mx = [] # матрица\n",
    "    for i in range(n):\n",
    "        string = [int(num) for num in input().split()] # список из целых чисел\n",
    "        mx.append(string) # добавляем в матрицу string\n",
    "    return(mx)\n",
    "\n",
    "# Выводим на печать все элементы требуемой матрицы\n",
    "def print_matrix(matrix, rows, cols):\n",
    "    for r in range(rows):\n",
    "        for c in range(cols):\n",
    "            print(matrix[r][c], end=' ')\n",
    "        print()\n",
    "\n",
    "n = int(input())\n",
    "mx = sq_matrix(n) # Возвращаем заполненную квадратную матрицу\n",
    "\n",
    "new_mx = [mx[i] for i in range(n-1, -1, -1)] # Новая матрица, куда заполняются строки, начиная с последней\n",
    "\n",
    "print_matrix(new_mx, n, n)"
   ]
  },
  {
   "cell_type": "markdown",
   "metadata": {},
   "source": [
    "Напишите программу, которая поворачивает квадратную матрицу чисел на 90 градусов по часовой стрелке."
   ]
  },
  {
   "cell_type": "code",
   "execution_count": null,
   "metadata": {},
   "outputs": [],
   "source": [
    "# Последняя строка становится первым столбцом\n",
    "\n",
    "def sq_matrix(n):\n",
    "    mx = [] # матрица\n",
    "    for i in range(n):\n",
    "        string = [int(num) for num in input().split()] # список из целых чисел\n",
    "        mx.append(string) # добавляем в матрицу string\n",
    "    return(mx)\n",
    "\n",
    "def tran_matrix(matrix, cols, rows):\n",
    "    matrix_tran = []\n",
    "    for c in range(cols):\n",
    "        string = []\n",
    "        for r in range(rows):\n",
    "            string.append(matrix[r][c])\n",
    "        matrix_tran.append(string)\n",
    "    return (matrix_tran)\n",
    "\n",
    "# Выводим на печать все элементы требуемой матрицы\n",
    "def print_matrix(matrix, rows, cols):\n",
    "    for r in range(rows):\n",
    "        for c in range(cols):\n",
    "            print(matrix[r][c], end=' ')\n",
    "        print()\n",
    "\n",
    "n = int(input())\n",
    "mx = sq_matrix(n) # Возвращаем заполненную квадратную матрицу\n",
    "\n",
    "t_mx = tran_matrix(mx, n, n) # Возвращаем транспонированную матрицу\n",
    "\n",
    "for ls in t_mx:\n",
    "    ls.reverse() #Для каждой строки в матрице переворачиваем значения\n",
    "    \n",
    "print_matrix(t_mx, n, n)"
   ]
  },
  {
   "cell_type": "markdown",
   "metadata": {},
   "source": [
    "На шахматной доске 8×8 стоит конь. \n",
    "Напишите программу, которая отмечает положение коня на доске и все клетки, \n",
    "которые бьет конь. Клетку, где стоит конь, отметьте английской буквой N, а клетки, \n",
    "которые бьет конь, отметьте символами *, \n",
    "остальные клетки заполните точками."
   ]
  },
  {
   "cell_type": "code",
   "execution_count": null,
   "metadata": {},
   "outputs": [],
   "source": [
    "# Проверяем данную клетку на ход коня\n",
    "def knight_move(r, c, rn, cn):\n",
    "    if abs(r - rn) == 2 and abs(c - cn) == 1: # Если номер строки отличается на 2 И Если номер столбца отличается на 1\n",
    "        return True\n",
    "    elif abs(r - rn) == 1 and abs(c - cn) == 2: # Если номер столбца отличается на 2\n",
    "        return True \n",
    "    else:\n",
    "        return False\n",
    "\n",
    "\n",
    "N = input()\n",
    "r_n = int(N[1]) # Строка\n",
    "c_n = ord(N[0]) - 96 # Столбец\n",
    "\n",
    "\n",
    "for r in range(8, 0, -1):\n",
    "    for c in range(1, 9):\n",
    "        if r == r_n and c == c_n: # Если номер строки совпадает с номером строки N и номер столбца совпадает с номером столбца N\n",
    "            print('N', end=' ')\n",
    "        elif knight_move(r, c, r_n, c_n): # Если эта клетка, по которой бьют конь\n",
    "            print('*', end=' ')\n",
    "        else:\n",
    "            print('.', end=' ')\n",
    "    print()\n",
    "        "
   ]
  },
  {
   "cell_type": "markdown",
   "metadata": {},
   "source": [
    "Магическим квадратом порядка так, что суммы по каждому столбцу, каждой строке и \n",
    "каждой из двух диагоналей равны между собой. \n",
    "Напишите программу, которая проверяет, является ли заданная квадратная матрица магическим квадратом."
   ]
  },
  {
   "cell_type": "code",
   "execution_count": null,
   "metadata": {},
   "outputs": [],
   "source": [
    "# Является ли матрица магической\n",
    "def is_magic(matrix, n):\n",
    "    total = sum(matrix[0]) # Вычисляем сумму первой строки\n",
    "    flag = True # Магическая матрица\n",
    "\n",
    "    for ls in matrix: # Бегаем по строкам\n",
    "        if sum(ls) != total: # Если хоть одна строка не равна сумме первой строки, то матрица - не магическая\n",
    "            return False\n",
    "        \n",
    "    dg1 = [] # Диагональ главная\n",
    "    dg2 = [] # Диагональ побочная\n",
    "    prev_el = [] # Массив предыдущих чисел. \n",
    "    \n",
    "    for c in range(n): # Бегаем по столбцам\n",
    "        column = [] # Складываем элементы столбца\n",
    "        for r in range(n): # Бегаем по строкам\n",
    "            column.append(matrix[r][c])\n",
    "            if r == c: # Если номер столбца равен номеру строки, то добавляем в главную диагональ\n",
    "                dg1.append(matrix[r][c])\n",
    "            if n - 1 - c == r:\n",
    "                dg2.append(matrix[r][c]) # Добавляем в побочную диагональ\n",
    "            # Если число не встречалось\n",
    "            if matrix[r][c] not in prev_el: \n",
    "                prev_el.append(matrix[r][c])\n",
    "            else:\n",
    "                return False \n",
    "        if sum(column) != total:\n",
    "            return False\n",
    "    \n",
    "    if sum(dg1) == total == sum(dg2) and min(prev_el) == 1 and max(prev_el) == n ** 2:\n",
    "        return True\n",
    "    else:\n",
    "        return False\n",
    "    \n",
    "def sq_matrix(n):\n",
    "    mx = [] # матрица\n",
    "    for i in range(n):\n",
    "        string = [int(num) for num in input().split()] # список из целых чисел\n",
    "        mx.append(string) # добавляем в матрицу string\n",
    "    return(mx)\n",
    "\n",
    "n = int(input())\n",
    "mx = sq_matrix(n) # Возвращаем заполненную квадратную матрицу\n",
    "\n",
    "if is_magic(mx, n): # Если матрица магическая \n",
    "    print('YES')\n",
    "else:\n",
    "    print('NO')"
   ]
  },
  {
   "cell_type": "markdown",
   "metadata": {
    "scrolled": true
   },
   "source": [
    "На вход программе подаются два натуральных числа. Напишите программу для создания матрицы размером \n",
    "n×m, заполнив ее символами . и * в шахматном порядке. \n",
    "В левом верхнем углу должна стоять точка. Выведите полученную матрицу на экран, разделяя элементы пробелами."
   ]
  },
  {
   "cell_type": "code",
   "execution_count": null,
   "metadata": {},
   "outputs": [],
   "source": [
    "n, m = [int(num) for num in input().split()]\n",
    "\n",
    "for i in range(n): # # Бегаем по строкам\n",
    "    for j in range(m): # Бегаем по столбцам\n",
    "        if i % 2 == j % 2 == 0: # Если номер строки и номер столбца является четным\n",
    "            print('.', end=' ')\n",
    "        elif i % 2 == j % 2 == 1:\n",
    "            print('.', end=' ')\n",
    "        else:\n",
    "            print('*', end=' ')\n",
    "    print()\n",
    "        "
   ]
  },
  {
   "cell_type": "markdown",
   "metadata": {},
   "source": [
    "На вход программе подается натуральное число n. \n",
    "Напишите программу, которая создает матрицу размером n и заполняет ее по следующему правилу:\n",
    "\n",
    "числа на побочной диагонали равны 1;\n",
    "числа, стоящие выше этой диагонали, равны 0;\n",
    "числа, стоящие ниже этой диагонали, равны 2.\n",
    "Полученную матрицу выведите на экран. Числа в строке разделяйте одним пробелом."
   ]
  },
  {
   "cell_type": "code",
   "execution_count": null,
   "metadata": {},
   "outputs": [],
   "source": [
    "n = int(input())\n",
    "\n",
    "for i in range(n):\n",
    "    for j in range(n):\n",
    "        if i == n - 1 - j: # Если элемент находится на побочной диагонали\n",
    "            print(1, end=' ')\n",
    "        elif i < n - 1 - j:\n",
    "            print(0, end=' ')\n",
    "        else:\n",
    "            print(2, end=' ')\n",
    "    print()"
   ]
  },
  {
   "cell_type": "markdown",
   "metadata": {},
   "source": [
    "На вход программе подаются два натуральных числа n и m. \n",
    "Напишите программу, которая создает матрицу размером n×m и заполняет ее числами от 1 до n⋅m в соответствии с образцом."
   ]
  },
  {
   "cell_type": "code",
   "execution_count": null,
   "metadata": {},
   "outputs": [],
   "source": [
    "n, m = [int(num) for num in input().split()]\n",
    "ans = 0\n",
    "\n",
    "for i in range(n):\n",
    "    for j in range(m):\n",
    "        ans += 1\n",
    "        print(str(ans).ljust(3), end=' ')\n",
    "    print()"
   ]
  },
  {
   "cell_type": "markdown",
   "metadata": {},
   "source": [
    "На вход программе подаются два натуральных числа m. \n",
    "Напишите программу, которая создает матрицу размером n×m, заполнив ее в соответствии с образцом."
   ]
  },
  {
   "cell_type": "code",
   "execution_count": null,
   "metadata": {},
   "outputs": [],
   "source": [
    "n, m = [int(num) for num in input().split()]\n",
    "\n",
    "ans = 0\n",
    "\n",
    "for i in range(n):\n",
    "    ans = i + 1 # На каждой строке, ans равен номеру строки\n",
    "    for j in range(m):\n",
    "        print(str(ans).ljust(3), end=' ')\n",
    "        ans += n\n",
    "    print()"
   ]
  },
  {
   "cell_type": "markdown",
   "metadata": {},
   "source": [
    "На вход программе подается натуральное число n. \n",
    "Напишите программу, которая создает матрицу размером n×n, заполнив ее в соответствии с образцом."
   ]
  },
  {
   "cell_type": "code",
   "execution_count": null,
   "metadata": {},
   "outputs": [],
   "source": [
    "n = int(input())\n",
    "\n",
    "for i in range(n):\n",
    "    for j in range(n):\n",
    "        if i == j or i == n - 1 - j:\n",
    "            print(1, end=' ')\n",
    "        else:\n",
    "            print(0, end=' ')\n",
    "    print()"
   ]
  },
  {
   "cell_type": "markdown",
   "metadata": {},
   "source": [
    "На вход программе подается натуральное число n. \n",
    "Напишите программу, которая создает матрицу размером \n",
    "n×n, заполнив ее в соответствии с образцом."
   ]
  },
  {
   "cell_type": "code",
   "execution_count": null,
   "metadata": {},
   "outputs": [],
   "source": [
    "n = int(input())\n",
    "\n",
    "for i in range(n):\n",
    "    for j in range(n):\n",
    "        if (i <= j and i <= n - 1 - j) or (i >= j and i >= n - 1 - j):\n",
    "            print(1, end=' ')\n",
    "        else:\n",
    "            print(0, end=' ')\n",
    "    print()"
   ]
  },
  {
   "cell_type": "markdown",
   "metadata": {},
   "source": [
    "На вход программе подается натуральное число n. \n",
    "Напишите программу, которая создает матрицу размером \n",
    "n×n, заполнив ее в соответствии с образцом."
   ]
  },
  {
   "cell_type": "code",
   "execution_count": null,
   "metadata": {},
   "outputs": [],
   "source": [
    "n, m = [int(num) for num in input().split()]\n",
    "\n",
    "for i in range(n): # Для каждой строки \n",
    "    ans = i % m + 1 # Остаток от деления номера строки на m + 1, чтобы получить первое значение в каждой строке (оно будет от 1 до m включительно)\n",
    "    for j in range(m):\n",
    "        print(str(ans).ljust(3), end=' ')\n",
    "        if ans == m: # Если ans достиг предела, то начинаем счет с 1 и переходим на следующую итерацию\n",
    "            ans = 1\n",
    "            continue\n",
    "        ans += 1\n",
    "    print()"
   ]
  },
  {
   "cell_type": "markdown",
   "metadata": {},
   "source": [
    "На вход программе подаются два натуральных числа \n",
    "m. Напишите программу, которая создает матрицу размером \n",
    "n×m, заполнив ее \"змейкой\" в соответствии с образцом."
   ]
  },
  {
   "cell_type": "code",
   "execution_count": null,
   "metadata": {},
   "outputs": [],
   "source": [
    "def print_matrix(matrix, rows, cols):\n",
    "    for r in range(rows):\n",
    "        for c in range(cols):\n",
    "            print(str(matrix[r][c]).ljust(3), end=' ')\n",
    "        print()\n",
    "\n",
    "n, m = [int(num) for num in input().split()]\n",
    "\n",
    "# Создание матрицы\n",
    "mx = []\n",
    "el = 0\n",
    "for i in range(n):\n",
    "    string = []\n",
    "    for j in range(m):\n",
    "        el += 1\n",
    "        string.append(el)\n",
    "    if i % 2 == 1:\n",
    "        string.reverse()\n",
    "    mx.append(string)    \n",
    "\n",
    "print_matrix(mx, n, m)"
   ]
  },
  {
   "cell_type": "markdown",
   "metadata": {},
   "source": [
    "На вход программе подаются два натуральных числа. Напишите программу, которая создает матрицу размером \n",
    "n×m, заполнив ее \"диагоналями\" в соответствии с образцом."
   ]
  },
  {
   "cell_type": "code",
   "execution_count": null,
   "metadata": {},
   "outputs": [],
   "source": [
    "# n, m = [int(num) for num in input().split()]\n",
    "n = 3\n",
    "m = 4\n",
    "\n",
    "# Создание матрицы\n",
    "mx = []\n",
    "el = 0\n",
    "\n",
    "for i in range(n):\n",
    "    string = []\n",
    "    for j in range(m):\n",
    "        el += 1\n",
    "        string.append(el)\n",
    "    if i % 2 == 1:\n",
    "        string.reverse()\n",
    "    mx.append(string)    "
   ]
  },
  {
   "cell_type": "code",
   "execution_count": null,
   "metadata": {},
   "outputs": [],
   "source": [
    "n = 3\n",
    "m = 5\n",
    "\n",
    "mx = [] # Матрица\n",
    "\n",
    "\n",
    "w"
   ]
  },
  {
   "cell_type": "markdown",
   "metadata": {},
   "source": [
    "Напишите программу для вычисления суммы двух матриц.\n",
    "На вход программе подаются два натуральных числа \n",
    "n и m – количество строк и столбцов в матрицах, затем элементы первой матрицы, \n",
    "затем пустая строка, далее следуют элементы второй матрицы."
   ]
  },
  {
   "cell_type": "code",
   "execution_count": null,
   "metadata": {},
   "outputs": [],
   "source": [
    "# Создание матрицы\n",
    "def create_matrix(n, m):\n",
    "    mx = []\n",
    "    for i in range(n):\n",
    "        string = [int(num) for num in input().split()]\n",
    "        mx.append(string)\n",
    "    return mx\n",
    "\n",
    "def sum_matrix(mx1, mx2):\n",
    "    mx3 = []\n",
    "    for i in range(n):\n",
    "        string = []\n",
    "        for j in range(m):\n",
    "            el = mx1[i][j] + mx2[i][j]\n",
    "            string.append(el)\n",
    "        mx3.append(string)\n",
    "    return mx3\n",
    "\n",
    "def print_matrix(matrix, rows, cols):\n",
    "    for r in range(rows):\n",
    "        for c in range(cols):\n",
    "            print(matrix[r][c], end=' ')\n",
    "        print()\n",
    "            \n",
    "n, m = [int(num) for num in input().split()]\n",
    "\n",
    "mx1 = create_matrix(n, m) # Создаем первую матрицу\n",
    "input()\n",
    "mx2 = create_matrix(n, m) # Создаем вторую матрицу\n",
    "\n",
    "\n",
    "mx3 = sum_matrix(mx1, mx2)\n",
    "print_matrix(mx3, n, m)"
   ]
  },
  {
   "cell_type": "markdown",
   "metadata": {},
   "source": [
    "Напишите программу, которая перемножает две матрицы.\n",
    "\n",
    "Формат входных данных\n",
    "На вход программе подаются два натуральных числа \n",
    "n и m – количество строк и столбцов в первой матрице, затем элементы первой матрицы, затем пустая строка. \n",
    "Далее следуют числа \n",
    "m и k – количество строк и столбцов второй матрицы затем элементы второй матрицы."
   ]
  },
  {
   "cell_type": "code",
   "execution_count": null,
   "metadata": {},
   "outputs": [],
   "source": [
    "# Создание матрицы\n",
    "def create_matrix(n, m):\n",
    "    mx = []\n",
    "    for i in range(n):\n",
    "        string = [int(num) for num in input().split()]\n",
    "        mx.append(string)\n",
    "    return mx\n",
    "\n",
    "# Транспонирование матрицы\n",
    "def tran_matrix(matrix, cols, rows):\n",
    "    matrix_tran = []\n",
    "    for c in range(cols):\n",
    "        string = []\n",
    "        for r in range(rows):\n",
    "            string.append(matrix[r][c])\n",
    "        matrix_tran.append(string)\n",
    "    return (matrix_tran)\n",
    "\n",
    "# Вычисляем сумму произведении элементов с одинаковым номером\n",
    "def calc_el(ls1, ls2): \n",
    "    total = 0\n",
    "    for i in range(len(ls1)):\n",
    "        total += ls1[i] * ls2[i]\n",
    "    return total\n",
    "\n",
    "# Построчное умножение строк в матрицах\n",
    "def mult_matrix_str(mx1, mx2):\n",
    "    mx3 = []\n",
    "    for i in range(len(mx1)): # Строка из первой матрицы\n",
    "        string = [] # Заполняемая строка новой матрицы\n",
    "        for j in range(len(mx2)): # Строка из второй матрицы\n",
    "            el = calc_el(mx1[i], mx2[j]) # Возвращаем сумму произведении элементов с одинаковым номером\n",
    "            string.append(el)\n",
    "        mx3.append(string)\n",
    "    return mx3\n",
    "\n",
    "# Выводим на печать\n",
    "def print_matrix(matrix):\n",
    "    for r in range(len(matrix)):\n",
    "        for c in range(len(matrix[r])):\n",
    "            print(matrix[r][c], end=' ')\n",
    "        print()\n",
    "\n",
    "n, m = [int(num) for num in input().split()]\n",
    "mx1 = create_matrix(n, m) # Создаем первую матрицу\n",
    "\n",
    "input()\n",
    "\n",
    "m, k = [int(num) for num in input().split()]\n",
    "mx2 = create_matrix(m, k) # Создаем вторую матрицу\n",
    "\n",
    "t_mx2 = tran_matrix(mx2, k, m) # Транспонируем вторую матрицу\n",
    "\n",
    "mx3 = mult_matrix_str(mx1, t_mx2) # Возвращена новая матрица\n",
    "print_matrix(mx3) # Напечатает новую матрицу\n",
    "\n"
   ]
  },
  {
   "cell_type": "markdown",
   "metadata": {},
   "source": [
    "Чистый код"
   ]
  },
  {
   "cell_type": "code",
   "execution_count": null,
   "metadata": {},
   "outputs": [],
   "source": [
    "def mul_matrix(matrix1, matrix2, n):\n",
    "\n",
    "    matrix3 = [[0] * n for i in range(n)]\n",
    "    for i in range(n):\n",
    "        for j in range(n):\n",
    "            el = 0\n",
    "            for w in range(n):\n",
    "                el += matrix1[i][w] * matrix2[w][j]\n",
    "            matrix3[i][j] = el\n",
    "    \n",
    "    return matrix3\n",
    "# for row in matrix3:\n",
    "#     print(*row)"
   ]
  },
  {
   "cell_type": "code",
   "execution_count": null,
   "metadata": {},
   "outputs": [],
   "source": [
    "Напишите программу, которая возводит квадратную матрицу в m-ую степень."
   ]
  },
  {
   "cell_type": "code",
   "execution_count": null,
   "metadata": {},
   "outputs": [],
   "source": [
    "# n, m = [int(x) for x in input().split()]\n",
    "# matrix1 = [[int(x) for x in input().split()] for i in range(n)]\n",
    "# input()\n",
    "# m, k = [int(x) for x in input().split()]\n",
    "# matrix2 = [[int(x) for x in input().split()] for i in range(m)]\n",
    "\n",
    "# n = int(input())\n",
    "n = 3\n",
    "mx = [[int(x) for x in input().split()] for i in range(n)]\n",
    "m = 2\n",
    "\n",
    "r_m = mx.copy() # Результирующая матрица\n",
    "\n",
    "while m != 1:\n",
    "    r_m = mul_matrix(r_m, mx, n)\n",
    "    m - 1\n",
    "\n",
    "print(r_m)"
   ]
  },
  {
   "cell_type": "markdown",
   "metadata": {},
   "source": [
    "На вход программе подаются строка текста, содержащая символы, и число n. Из данной строки формируется список. \n",
    "Напишите программу, которая разделяет список на вложенные подсписки так, \n",
    "что n последовательных элементов принадлежат разным подспискам."
   ]
  },
  {
   "cell_type": "code",
   "execution_count": null,
   "metadata": {},
   "outputs": [],
   "source": [
    "text = input() # Строка текста\n",
    "n = int(input()) # Разделитель\n",
    "\n",
    "t_a = [char for char in text.split()] # Текст из символов в виде списка\n",
    "t_b = [[] for _ in range(n)] # Формируем пустой список, содержащий n списков\n",
    "\n",
    "for i in range(len(t_a)): # Пробегаемся по индексам массива из символов\n",
    "    j = i % n # Остаток от деления индекса на n будет являться номером списка, куда мы добавим\n",
    "    t_b[j].append(t_a[i]) # В соответствующий вложенный список добавляем нужный символ\n",
    "    \n",
    "print(t_b)"
   ]
  },
  {
   "cell_type": "markdown",
   "metadata": {},
   "source": [
    "Напишите программу, которая выводит максимальный элемент в заштрихованной области квадратной матрицы."
   ]
  },
  {
   "cell_type": "code",
   "execution_count": null,
   "metadata": {
    "scrolled": true
   },
   "outputs": [],
   "source": [
    "n = int(input()) \n",
    "mx = [[int(num) for num in input().split()] for _ in range(n)] # Формируем квадратную матрицу\n",
    "\n",
    "max_el = mx[0][-1] # Максимальный элемент. Пусть будет элемент в самом правом верхнем углу\n",
    "\n",
    "for i in range(1, n): # Начинаем бегать со второй строки.\n",
    "    for j in range(n - 1 - i, n): # Бегаем по столбцам, начиная со столбца с элементом побочной диагональю до последнего\n",
    "        if mx[i][j] > max_el:\n",
    "            max_el = mx[i][j]\n",
    "\n",
    "print(max_el)"
   ]
  },
  {
   "cell_type": "markdown",
   "metadata": {},
   "source": [
    "Напишите программу, которая транспонирует квадратную матрицу."
   ]
  },
  {
   "cell_type": "code",
   "execution_count": null,
   "metadata": {},
   "outputs": [],
   "source": [
    "n = int(input()) \n",
    "mx = [[int(num) for num in input().split()] for _ in range(n)] # Формируем квадратную матрицу\n",
    "\n",
    "mx_tran = [[mx[i][j] for i in range(n)] for j in range(n)] # Бегаем по столбцам, затем по строкам, добавляя столбцы в виде строк в новую матрицу\n",
    "    \n",
    "for row in mx_tran:\n",
    "    print(*row)"
   ]
  },
  {
   "cell_type": "markdown",
   "metadata": {},
   "source": [
    "На вход программе подается нечетное натуральное число n. \n",
    "Напишите программу, которая создает матрицу размером n×n заполнив её символами. \n",
    "Затем заполните символами * среднюю строку и столбец матрицы, главную и побочную диагональ матрицы. \n",
    "Выведите полученную матрицу на экран, разделяя элементы пробелами."
   ]
  },
  {
   "cell_type": "code",
   "execution_count": null,
   "metadata": {},
   "outputs": [],
   "source": [
    "n = int(input()) \n",
    "middle = n // 2 # Индекс центрального столбца/строки\n",
    "\n",
    "for i in range(n):\n",
    "    for j in range(n):\n",
    "        if i == middle or j == middle or i == j or i == n - 1 - j:\n",
    "            print('*', end=' ')\n",
    "        else:\n",
    "            print('.', end=' ')\n",
    "    print()"
   ]
  },
  {
   "cell_type": "markdown",
   "metadata": {},
   "source": [
    "На шахматной доске 8×8 стоит ферзь. Отметьте положение ферзя на доске и все клетки, \n",
    "которые бьет ферзь. Клетку, где стоит ферзь, отметьте буквой Q, клетки, которые бьет ферзь, отметьте символами *, \n",
    "остальные клетки заполните точками."
   ]
  },
  {
   "cell_type": "code",
   "execution_count": null,
   "metadata": {},
   "outputs": [],
   "source": [
    "text = input() # ВВод позиции\n",
    "\n",
    "n = 8\n",
    "col_q = ord(text[0]) - ord('a') # ИНДЕКС столбца королевы\n",
    "row_q = n - int(text[-1]) # ИНДЕКС строки королевы\n",
    "\n",
    "for i in range(n):\n",
    "    for j in range(n):\n",
    "        if i == row_q and j == col_q: \n",
    "            print('Q', end=' ')\n",
    "        elif (\n",
    "            i == row_q  # Текущий индекс строки равен индекс строки королевы\n",
    "            or j == col_q # Текущий индекс столбца равен индекс столбца королевы\n",
    "            or (i - j) == (row_q - col_q) # Разница текущего индекса строки и столбца равна разности индекса строки и столбца королевы\n",
    "            or (i + j) == (row_q + col_q) # Сумма текущих индексов равна сумму индексов королевы\n",
    "        ):\n",
    "            print('*', end=' ')\n",
    "        else:\n",
    "            print('.', end=' ')\n",
    "    print()"
   ]
  },
  {
   "cell_type": "markdown",
   "metadata": {},
   "source": [
    "Напишите программу проверки симметричности квадратной матрицы относительно побочной диагонали."
   ]
  },
  {
   "cell_type": "code",
   "execution_count": null,
   "metadata": {},
   "outputs": [],
   "source": [
    "n = int(input()) \n",
    "mx = [[int(num) for num in input().split()] for _ in range(n)] # Формируем квадратную матрицу\n",
    "\n",
    "ls1, ls2 = [], []\n",
    "\n",
    "for i in range(n-1): # От первой строки до предпоследней строки включительно\n",
    "    for j in range(n-1-i):\n",
    "        ls1.append(mx[i][j])\n",
    "        \n",
    "for j in range(n-1, 0, -1): # От последнего столбца до второго столбца включительно\n",
    "    for i in range(n-1, n-1-j, -1):\n",
    "        ls2.append(mx[i][j])\n",
    "    \n",
    "if ls1 == ls2:\n",
    "    print('YES')\n",
    "else:\n",
    "    print('NO')"
   ]
  },
  {
   "cell_type": "markdown",
   "metadata": {},
   "source": [
    "Латинским квадратом порядка n×n, \n",
    "каждая строка и каждый столбец которой содержат все числа от 1 до n. \n",
    "Напишите программу, которая проверяет, является ли заданная квадратная матрица латинским квадратом."
   ]
  },
  {
   "cell_type": "code",
   "execution_count": null,
   "metadata": {},
   "outputs": [],
   "source": [
    "# Определяет, является ли матрица латинским квадратом\n",
    "def is_latin(mx, n):    \n",
    "    # Проверка по строкам\n",
    "    for row in mx: # Для каждого списка в матрице\n",
    "        ls_num = list(range(1, n+1)) # Создаем список из чисел от одного до n\n",
    "        for num in row: # Для каждого числа в списке\n",
    "            if num in ls_num:\n",
    "                ls_num.remove(num)\n",
    "            else:\n",
    "                return False\n",
    "    \n",
    "    # Проверка по столбцам\n",
    "    for j in range(n):\n",
    "        ls_num = list(range(1, n+1)) # Создаем список из чисел от одного до n\n",
    "        for i in range(n):\n",
    "            if mx[i][j] in ls_num:\n",
    "                ls_num.remove(mx[i][j])\n",
    "            else:\n",
    "                return False\n",
    "    return True\n",
    "\n",
    "# Программа \n",
    "n = int(input()) \n",
    "mx = [[int(num) for num in input().split()] for _ in range(n)] # Формируем квадратную матрицу\n",
    "\n",
    "if is_latin(mx, n):\n",
    "    print('YES')\n",
    "else:\n",
    "    print('NO')\n",
    "\n",
    "    "
   ]
  },
  {
   "cell_type": "markdown",
   "metadata": {},
   "source": [
    "На вход программе подается натуральное число n. Напишите программу, которая создает матрицу размером \n",
    "n×n и заполняет её по следующему правилу:\n",
    "\n",
    "на главной диагонали на месте каждого элемента должно стоять число 0;\n",
    "на двух диагоналях, прилегающих к главной, – число 1;\n",
    "на следующих двух диагоналях – число 2, и т.д."
   ]
  },
  {
   "cell_type": "code",
   "execution_count": null,
   "metadata": {},
   "outputs": [],
   "source": [
    "n = int(input()) \n",
    "mx = [[0] * n for _ in range(n)] # Формируем квадратную матрицу, заполненную нулями\n",
    "\n",
    "for i in range(n):\n",
    "    for j in range(n):\n",
    "        if i != j: # Если i не равно j, то печаем их абсолютную разницу\n",
    "            mx[i][j] = abs(i-j)\n",
    "        \n",
    "for row in mx:\n",
    "    print(*row)"
   ]
  },
  {
   "cell_type": "markdown",
   "metadata": {},
   "source": [
    "# Кортежи"
   ]
  },
  {
   "cell_type": "markdown",
   "metadata": {},
   "source": [
    "Заменяем последнее число в каждом кортеже на 100"
   ]
  },
  {
   "cell_type": "code",
   "execution_count": null,
   "metadata": {},
   "outputs": [],
   "source": [
    "tuples = [(10, 20, 40), (40, 50, 60), (70, 80, 90), (10, 90), (1, 2, 3, 4), (5, 6, 10, 2, 1, 77)]\n",
    "\n",
    "new_tuples = []\n",
    "for t in tuples: # Для каждого кортежа в списке\n",
    "    ls = list(t) # Преобразовывал в список\n",
    "    ls[-1] = 100\n",
    "    t2 = tuple(ls) # Возвращаем в кортеж\n",
    "    new_tuples.append(t2)   \n",
    "    \n",
    "print(new_tuples)"
   ]
  },
  {
   "cell_type": "markdown",
   "metadata": {},
   "source": [
    "Дополните приведенный ниже код так, чтобы он вывел произведение элементов кортежа numbers."
   ]
  },
  {
   "cell_type": "code",
   "execution_count": null,
   "metadata": {},
   "outputs": [],
   "source": [
    "numbers = (2, 3, 5, 7, -11, 13, 17, 19, 23, 29, 31, -6, 41, 43, 47, 53, 59, 61, -96, 71, 1000, -1)\n",
    "\n",
    "mult = 1\n",
    "for num in numbers:\n",
    "    mult *= num\n",
    "    \n",
    "print(mult)"
   ]
  },
  {
   "cell_type": "markdown",
   "metadata": {},
   "source": [
    "Программист Тимур написал программу для работы с биографическими данными русских поэтов. \n",
    "Данные содержатся в кортежах вида (фамилия, год рождения, город рождения). \n",
    "В процессе работы программы в некотором кортеже poet_data обнаружилась ошибка: ('Пушкин', 1799, 'Санкт-Петербург'). \n",
    "    Тут неверно указано место рождения, ведь Александр Пушкин родился в Москве.\n",
    "\n",
    "Дополните приведенный ниже код так, чтобы в переменной poet_data находился правильный кортеж \n",
    "(с исправленным значением), а затем выведите его."
   ]
  },
  {
   "cell_type": "code",
   "execution_count": null,
   "metadata": {},
   "outputs": [],
   "source": [
    "poet_data = ('Пушкин', 1799, 'Санкт-Петербург')\n",
    "poet_data = list(poet_data)\n",
    "poet_data[2] = 'Москва'\n",
    "poet_data = tuple(poet_data)\n",
    "print(poet_data)"
   ]
  },
  {
   "cell_type": "markdown",
   "metadata": {},
   "source": [
    "Дополните приведенный ниже код так, чтобы он вывел список, \n",
    "содержащий средние арифметические значения чисел каждого вложенного кортежа в заданном кортеже кортежей numbers."
   ]
  },
  {
   "cell_type": "code",
   "execution_count": null,
   "metadata": {},
   "outputs": [],
   "source": [
    "numbers = ((10, 10, 10, 12), (30, 45, 56, 45), (81, 80, 39, 32), (1, 2, 3, 4), (90, 10))\n",
    "\n",
    "\n",
    "nums = [sum(t) / len(t) for t in numbers]\n",
    "print(nums)"
   ]
  },
  {
   "cell_type": "markdown",
   "metadata": {},
   "source": [
    "Уравнение параболы имеет вид. Напишите программу, которая по введенным значениям a,b,c определяет и выводит вершину параболы."
   ]
  },
  {
   "cell_type": "code",
   "execution_count": null,
   "metadata": {},
   "outputs": [],
   "source": [
    "a, b, c = int(input()), int(input()), int(input())\n",
    "\n",
    "x1 = -b / (2 * a)\n",
    "y1 = (4 * a * c - b ** 2) / (4 * a)\n",
    "print((x1, y1))"
   ]
  },
  {
   "cell_type": "markdown",
   "metadata": {},
   "source": [
    "Напишите программу, которая выводит список хорошистов и отличников в классе.\n",
    "\n",
    "Формат входных данных\n",
    "На вход программе подается натуральное число n, далее следует n строк с фамилией школьника и его оценкой на каждой из них.\n",
    "\n",
    "Формат выходных данных\n",
    "Программа должна вывести сначала все введённые строки с фамилиями и оценками учеников в том же порядке. \n",
    "Затем следует пустая строка, \n",
    "а затем выводятся строки с фамилиями и оценками хорошистов и отличников (в том же порядке)."
   ]
  },
  {
   "cell_type": "code",
   "execution_count": null,
   "metadata": {},
   "outputs": [],
   "source": [
    "n = int(input())\n",
    "\n",
    "ls1 = [input().split() for _ in range(n)] # Вводим список учеников\n",
    "\n",
    "for ls in ls1: # Ввыводим список учеников\n",
    "    print(*ls)\n",
    "print() # Пустая строка\n",
    "\n",
    "t = ('4', '5') # Кортеж из нужных оценок\n",
    "\n",
    "ls2 = [ls for ls in ls1 if ls[1] in t] # Формируем список учеников, у которых оценка не ниже 4\n",
    "for ls in ls2: # Ввыводим список нужных учеников\n",
    "    print(*ls)"
   ]
  },
  {
   "cell_type": "markdown",
   "metadata": {},
   "source": [
    "Напишите программу, которая считывает натуральное число n и выводит первые n чисел последовательности Трибоначчи."
   ]
  },
  {
   "cell_type": "code",
   "execution_count": null,
   "metadata": {
    "scrolled": true
   },
   "outputs": [],
   "source": [
    "n = int(input())\n",
    "\n",
    "# Если n <= 3, то выводим 1 n-ое количество раз\n",
    "if n <= 3:\n",
    "    for _ in range(n):\n",
    "        print(1, end=' ')\n",
    "else:\n",
    "    res = [1, 1, 1] # Начальный список\n",
    "    # Каждый раз добавляем к списку сумму предыдущих трех элементов\n",
    "    for i in range(3, n):\n",
    "        z = sum(res[i-3:i])\n",
    "        res.append(z)\n",
    "    print(*res)"
   ]
  },
  {
   "cell_type": "markdown",
   "metadata": {},
   "source": [
    "# Множества"
   ]
  },
  {
   "cell_type": "markdown",
   "metadata": {},
   "source": [
    "На вход программе подается строка текста. Напишите программу, которая определяет количество различных символов в строке."
   ]
  },
  {
   "cell_type": "code",
   "execution_count": null,
   "metadata": {},
   "outputs": [],
   "source": [
    "text = input()\n",
    "distinct_chars = len(set(text))\n",
    "print(distinct_chars)"
   ]
  },
  {
   "cell_type": "markdown",
   "metadata": {},
   "source": [
    "На вход программе подается строка, состоящая из цифр. \n",
    "Необходимо определить, верно ли, что в ее записи ни одна из цифр не повторяется?"
   ]
  },
  {
   "cell_type": "code",
   "execution_count": null,
   "metadata": {},
   "outputs": [],
   "source": [
    "text = input()\n",
    "len1 = len(text)\n",
    "unique_digits = len(set(text))\n",
    "if len1 == unique_digits:\n",
    "    print('YES')\n",
    "else:\n",
    "    print('NO')"
   ]
  },
  {
   "cell_type": "markdown",
   "metadata": {},
   "source": [
    "На вход программе подаются две строки, состоящие из цифр. \n",
    "Необходимо определить, верно ли, что в записи этих двух строк используются все десять цифр?"
   ]
  },
  {
   "cell_type": "code",
   "execution_count": null,
   "metadata": {},
   "outputs": [],
   "source": [
    "text1 = input()\n",
    "text2 = input()\n",
    "n = 10\n",
    "n1 = len(set(text1 + text2))\n",
    "\n",
    "if n1 == n:\n",
    "    print('YES')\n",
    "else:\n",
    "    print('NO')"
   ]
  },
  {
   "cell_type": "markdown",
   "metadata": {},
   "source": [
    "На вход программе подаются две строки, состоящие из цифр. \n",
    "Необходимо определить, верно ли, что для записи этих строк были использованы одинаковые наборы цифр?"
   ]
  },
  {
   "cell_type": "code",
   "execution_count": null,
   "metadata": {},
   "outputs": [],
   "source": [
    "text1 = set(input())\n",
    "text2 = set(input())\n",
    "if text1 == text2:\n",
    "    print('YES')\n",
    "else:\n",
    "    print('NO')\n"
   ]
  },
  {
   "cell_type": "markdown",
   "metadata": {},
   "source": [
    "На вход программе подается строка, состоящая из трех слов. \n",
    "Верно ли, что для записи всех трех слов был использован один и тот же набор букв?"
   ]
  },
  {
   "cell_type": "code",
   "execution_count": null,
   "metadata": {},
   "outputs": [],
   "source": [
    "text = input().split()\n",
    "\n",
    "prev_el = set(text[0])\n",
    "flag = True\n",
    "\n",
    "for el in text:\n",
    "    if set(el) != prev_el:\n",
    "        flag = False\n",
    "        break\n",
    "    prev_el == set(el)\n",
    "\n",
    "if flag:\n",
    "    print('YES')\n",
    "else:\n",
    "    print('NO')"
   ]
  },
  {
   "cell_type": "markdown",
   "metadata": {},
   "source": [
    "Напишите программу для вывода количества уникальных символов каждого считанного слова без учета регистра."
   ]
  },
  {
   "cell_type": "code",
   "execution_count": null,
   "metadata": {
    "scrolled": true
   },
   "outputs": [],
   "source": [
    "n = int(input())\n",
    "    \n",
    "# Вводим слово, которое приводим к нижнему регистру и далее помещаем символы во множество, считая его длину\n",
    "res = [len(set(input().lower())) for i in range(n)]\n",
    "\n",
    "print(*res, sep='\\n')"
   ]
  },
  {
   "cell_type": "markdown",
   "metadata": {},
   "source": [
    "Напишите программу для вывода общего количества уникальных символов во всех считанных словах без учета регистра."
   ]
  },
  {
   "cell_type": "code",
   "execution_count": null,
   "metadata": {},
   "outputs": [],
   "source": [
    "n = int(input()) # Ввод числа\n",
    "\n",
    "string = ''\n",
    "\n",
    "for i in range(n):\n",
    "    string += input().lower()\n",
    "    \n",
    "res = len(set(string))\n",
    "print(res)"
   ]
  },
  {
   "cell_type": "markdown",
   "metadata": {},
   "source": [
    "Напишите программу для определения общего количества различных слов в строке текста.\n",
    "Программа должна вывести одно число – общее количество различных слов в строке без учета регистра.\n",
    "Примечание 1. Словом считается последовательность непробельных символов, идущих подряд, \n",
    "слова разделены одним или большим числом пробелов.\n",
    "Примечание 2. Знаками препинания .,;:-?! пренебрегаем."
   ]
  },
  {
   "cell_type": "code",
   "execution_count": null,
   "metadata": {},
   "outputs": [],
   "source": [
    "text = input().split() # Разбиваем строку на слова, получая список\n",
    "p = '.,;:-?!' # Знаки препинания\n",
    "\n",
    "unique_chars = set() # Множество, где будем склдаывать значения\n",
    "\n",
    "for word in text: # Пробегаемся по каждому слову\n",
    "    for char in word: # Пробегаемся по символу\n",
    "        if char in p: # Если символ является знаком препинания, то в слове заменяем его на пустой символ\n",
    "            word = word.replace(char,'')\n",
    "    unique_chars.add(word.lower()) # Иначе, добавляем слово в нижво множество \n",
    "\n",
    "res = len(unique_chars)\n",
    "print(res)"
   ]
  },
  {
   "cell_type": "markdown",
   "metadata": {},
   "source": [
    "На вход программе подается строка текста, содержащая числа. Для каждого числа выведите слово YES (на отдельной строке), \n",
    "если это число ранее встречалось в последовательности, или NO в противном случае."
   ]
  },
  {
   "cell_type": "code",
   "execution_count": null,
   "metadata": {},
   "outputs": [],
   "source": [
    "text = input().split() # Разбиваем строку на слова, получая список\n",
    "\n",
    "prev_num = set() # Пустое множество\n",
    "\n",
    "for num in text: # Для каждого числа\n",
    "    if int(num) in prev_num:\n",
    "        print('YES')\n",
    "    else:\n",
    "        print('NO')\n",
    "        prev_num.add(int(num))"
   ]
  },
  {
   "cell_type": "markdown",
   "metadata": {},
   "source": [
    "Подсписок – часть другого списка. Подсписок может содержать один элемент, несколько или даже ни одного. \n",
    "Например, [1], [2], [3] и [4] – подсписки списка [1, 2, 3, 4]. \n",
    "Список [2, 3] – подсписок списка [1, 2, 3, 4], но список [2, 4] \n",
    "не подсписок списка [1, 2, 3, 4], так как элементы 2 и 4 во втором списке не смежные (они разрываются элементом 3). \n",
    "Пустой список – подсписок любого списка. \n",
    "Сам список — подсписок самого себя, то есть список [1, 2, 3, 4] подсписок списка [1, 2, 3, 4]."
   ]
  },
  {
   "cell_type": "code",
   "execution_count": null,
   "metadata": {},
   "outputs": [],
   "source": [
    "res = [[]] # Пустой список с одним пустым подсписком\n",
    "text = input().split() # Список слов\n",
    "\n",
    "for i in range(1, len(text) + 1):\n",
    "    for j in range(len(text)):\n",
    "        \n",
    "\n",
    "\n",
    "#     for i in range(w, n): # Бегаем по элементам\n",
    "#         for j in range(i, n):\n",
    "#             res.append([text[i:j]])\n",
    "#     w += 1\n",
    "# print(res)\n",
    "# print(len(res))"
   ]
  },
  {
   "cell_type": "markdown",
   "metadata": {},
   "source": [
    "На странице каждой задачи онлайн-курсов \"Поколения Python\" имеется виджет, который отображает общее число учащихся, \n",
    "верно решивших задачу, и процент верных решений от общего числа попыток. \n",
    "Напишите программу, которая повторяет этот функционал: считает, сколько учеников верно решили задачу, \n",
    "    и вычисляет процент верных решений среди всех попыток."
   ]
  },
  {
   "cell_type": "code",
   "execution_count": null,
   "metadata": {},
   "outputs": [],
   "source": [
    "n = int(input())\n",
    "\n",
    "corr_sols = set() # количество уникальных учащихся, которые верно решили задачу\n",
    "cnt_corr = 0 # Количество правильных решений\n",
    "\n",
    "\n",
    "for i in range(n):\n",
    "    text = input().split(': ')\n",
    "    if text[1] == 'Correct': # Если овтет верный, то добавляем\n",
    "        corr_sols.add(': '.join(text))\n",
    "        cnt_corr += 1\n",
    "\n",
    "\n",
    "if cnt_corr == 0:\n",
    "    print('Вы можете стать первым, кто решит эту задачу')\n",
    "else:\n",
    "    print(f'Верно решили {len(corr_sols)} учащихся')\n",
    "    share_corr = int(cnt_corr / n * 100 + 0.5)\n",
    "    print(f'Из всех попыток {share_corr}% верных')"
   ]
  },
  {
   "cell_type": "markdown",
   "metadata": {},
   "source": [
    "На вход программе подаются две строки текста, содержащие числа. \n",
    "Напишите программу, которая определяет количество чисел, которые есть как в первой строке, так и во второй"
   ]
  },
  {
   "cell_type": "code",
   "execution_count": null,
   "metadata": {},
   "outputs": [],
   "source": [
    "num1 = set(input().split())\n",
    "num2 = set(input().split())\n",
    "\n",
    "num3 = num1.intersection(num2)\n",
    "print(len(num3))"
   ]
  },
  {
   "cell_type": "markdown",
   "metadata": {},
   "source": [
    "На вход программе подаются две строки текста, содержащие числа. \n",
    "Напишите программу, которая выводит все числа в порядке возрастания, которые есть как в первой строке, так и во второй."
   ]
  },
  {
   "cell_type": "code",
   "execution_count": null,
   "metadata": {},
   "outputs": [],
   "source": [
    "num1 = set(input().split())\n",
    "num2 = set(input().split())\n",
    "\n",
    "num3 = num1.intersection(num2)\n",
    "ls = sorted([int(num) for num in num3])\n",
    "print(*ls)"
   ]
  },
  {
   "cell_type": "markdown",
   "metadata": {},
   "source": [
    "На вход программе подаются две строки текста, содержащие числа. \n",
    "Напишите программу, которая выводит все числа в порядке возрастания, \n",
    "которые есть в первой строке, но отсутствуют во второй."
   ]
  },
  {
   "cell_type": "code",
   "execution_count": null,
   "metadata": {},
   "outputs": [],
   "source": [
    "num1 = set(input().split())\n",
    "num2 = set(input().split())\n",
    "\n",
    "num3 = num1.difference(num2)\n",
    "ls = sorted([int(num) for num in num3])\n",
    "print(*ls)"
   ]
  },
  {
   "cell_type": "markdown",
   "metadata": {},
   "source": [
    "На вход программе подаются натуральное число n, \n",
    "а затем n различных натуральных чисел, каждое на отдельной строке. \n",
    "Напишите программу, которая выводит все общие цифры в порядке возрастания у всех введенных чисел."
   ]
  },
  {
   "cell_type": "code",
   "execution_count": null,
   "metadata": {
    "scrolled": true
   },
   "outputs": [],
   "source": [
    "n = int(input())\n",
    "\n",
    "new_nums = set(input()) # Первый ввод\n",
    "\n",
    "for i in range(1, n):\n",
    "    new_nums.intersection_update(set(input()))\n",
    "\n",
    "print(*sorted(new_nums))\n"
   ]
  },
  {
   "cell_type": "markdown",
   "metadata": {},
   "source": [
    "На вход программе подаются два числа. Напишите программу, определяющую, есть ли в данных числах одинаковые цифры."
   ]
  },
  {
   "cell_type": "code",
   "execution_count": null,
   "metadata": {},
   "outputs": [],
   "source": [
    "a, b = set(input()), set(input())\n",
    "\n",
    "if a.isdisjoint(b):\n",
    "    print('NO')\n",
    "else:\n",
    "    print('YES')"
   ]
  },
  {
   "cell_type": "markdown",
   "metadata": {},
   "source": [
    "На вход программе подаются два числа. \n",
    "Напишите программу, которая определяет, входят ли в запись первого числа все цифры, содержащиеся в записи второго \n",
    "(независимо от повтора, то есть количества цифр) числа или нет."
   ]
  },
  {
   "cell_type": "code",
   "execution_count": null,
   "metadata": {
    "scrolled": true
   },
   "outputs": [],
   "source": [
    "a, b = set(input()), set(input())\n",
    "\n",
    "if b.issubset(a):\n",
    "    print('YES')\n",
    "else:\n",
    "    print('NO')"
   ]
  },
  {
   "cell_type": "markdown",
   "metadata": {},
   "source": [
    "Даны по 10-балльной шкале оценки по информатике трех учеников. \n",
    "Напишите программу, выводящую множество оценок, \n",
    "которые есть и у первого, и у второго учеников, но которых нет у третьего ученика."
   ]
  },
  {
   "cell_type": "code",
   "execution_count": null,
   "metadata": {},
   "outputs": [],
   "source": [
    "a, b, c = set(input().split()), set(input().split()), set(input().split())\n",
    "\n",
    "d = a.intersection(b) # Есть в первом и во втором множестве\n",
    "d.difference_update(c)\n",
    "\n",
    "e = [int(num) for num in d]\n",
    "\n",
    "print(*(sorted(e, reverse=True)))"
   ]
  },
  {
   "cell_type": "markdown",
   "metadata": {},
   "source": [
    "Даны оценки по математике трех учеников в 10-балльной шкале. \n",
    "Напишите программу, которая выводит такие оценки, которые встречаются не более, чем у двух учеников."
   ]
  },
  {
   "cell_type": "code",
   "execution_count": null,
   "metadata": {},
   "outputs": [],
   "source": [
    "a, b, c = set(input().split()), set(input().split()), set(input().split())\n",
    "\n",
    "d = (a | b | c) - (a & b & c)\n",
    "d = sorted(d, key=int)\n",
    "print(*d)"
   ]
  },
  {
   "cell_type": "markdown",
   "metadata": {},
   "source": [
    "Даны по 10-балльной шкале оценки по физике трех учеников. Напишите программу, \n",
    "которая выводит множество оценок третьего ученика, \n",
    "которые не встречаются ни у первого, ни у второго ученика."
   ]
  },
  {
   "cell_type": "code",
   "execution_count": null,
   "metadata": {},
   "outputs": [],
   "source": [
    "a, b, c = set(input().split()), set(input().split()), set(input().split())\n",
    "\n",
    "d = c - (a | b)\n",
    "d = sorted(d, reverse=True, key=int)\n",
    "print(*d)"
   ]
  },
  {
   "cell_type": "markdown",
   "metadata": {},
   "source": [
    "Даны по 10-балльной шкале оценки по биологии трех учеников. \n",
    "Напишите программу, которая выводит множество оценок, не встречающихся ни у одного из трех учеников."
   ]
  },
  {
   "cell_type": "code",
   "execution_count": null,
   "metadata": {},
   "outputs": [],
   "source": [
    "a, b, c = set(input().split()), set(input().split()), set(input().split())\n",
    "d = set([str(num) for num in list(range(0, 11))])\n",
    "e = d.difference(a, b, c)\n",
    "print(*sorted(e, key=int))\n"
   ]
  },
  {
   "cell_type": "markdown",
   "metadata": {},
   "source": [
    "Используя генератор множеств, дополните приведенный ниже код так, чтобы получить множество, содержащее уникальные значения списка items. Результат вывести на одной строке, в упорядоченном виде, разделяя элементы одним символом пробела."
   ]
  },
  {
   "cell_type": "code",
   "execution_count": null,
   "metadata": {},
   "outputs": [],
   "source": [
    "items = [10, '30', 30, 10, '56', 34, '12', 90, 89, 34, 45, '67', 12, 10, 90, 23, '45', 56, '56', 1, 5, '6', 5]\n",
    "\n",
    "nums = {int(num) for num in items}\n",
    "print(*sorted(nums))"
   ]
  },
  {
   "cell_type": "markdown",
   "metadata": {},
   "source": [
    "Используя генератор множеств, дополните приведенный ниже код так, чтобы получить множество, \n",
    "одержащее первую букву каждого слова (в нижнем регистре) списка words. \n",
    "Результат вывести на одной строке в алфавитном порядке, разделяя элементы одним символом пробела."
   ]
  },
  {
   "cell_type": "code",
   "execution_count": null,
   "metadata": {},
   "outputs": [],
   "source": [
    "words = ['Plum', 'Grapefruit', 'apple', 'orange', 'pomegranate', 'Cranberry', 'lime', 'Lemon', 'grapes', 'persimmon', 'tangerine', 'Watermelon', 'currant', 'Almond']\n",
    "\n",
    "chars = {word[0].lower() for word in words}\n",
    "print(*sorted(chars))"
   ]
  },
  {
   "cell_type": "markdown",
   "metadata": {},
   "source": [
    "Используя генератор множеств, дополните приведенный ниже код так, чтобы получить множество, \n",
    "содержащее уникальные слова (в нижнем регистре) строки sentence. \n",
    "Результат вывести на одной строке в алфавитном порядке, \n",
    "разделяя элементы одним символом пробела."
   ]
  },
  {
   "cell_type": "code",
   "execution_count": null,
   "metadata": {},
   "outputs": [],
   "source": [
    "sentence = '''My very photogenic mother died in a freak accident (picnic, lightning) \n",
    "when I was three, and, save for a pocket of warmth in the darkest past, \n",
    "nothing of her subsists within the hollows and dells of memory, over which, \n",
    "if you can still stand my style (I am writing under observation), \n",
    "the sun of my infancy had set: surely, you all know those redolent remnants of day suspended, \n",
    "with the midges, about some hedge in bloom or suddenly entered and traversed by the rambler, \n",
    "at the bottom of a hill, in the summer dusk; a furry warmth, golden midges.'''\n",
    "\n",
    "# Разбиваем предложение на список слов. Для каждого слова убираем ненужные символы и записываем в нижний регистр. \n",
    "# Добавляем каждое слово во множество\n",
    "words = {word.strip(':,.!?();').lower() for word in sentence.split()} \n",
    "print(*sorted(words))"
   ]
  },
  {
   "cell_type": "markdown",
   "metadata": {},
   "source": [
    "Используя генератор множеств, дополните приведенный ниже код так, чтобы получить множество, \n",
    "содержащее уникальные слова  строки sentence длиною меньше \n",
    "4 символов. Результат вывести на одной строке (в нижнем регистре) в алфавитном порядке, \n",
    "разделяя элементы одним символом пробела."
   ]
  },
  {
   "cell_type": "code",
   "execution_count": null,
   "metadata": {},
   "outputs": [],
   "source": [
    "words = {word.strip(':,.!?();').lower() for word in sentence.split() if len(word.strip(':,.!?();').lower()) < 4} \n",
    "print(*sorted(words))"
   ]
  },
  {
   "cell_type": "markdown",
   "metadata": {},
   "source": [
    "Используя генератор множеств, дополните приведенный ниже код так, \n",
    "чтобы он выбрал из списка files уникальные имена файлов c расширением .png, \n",
    "независимо от регистра имен и расширений. Имена файлов вывести вместе с расширением, все на одной строке, \n",
    "нижнем регистре, в алфавитном порядке через пробел."
   ]
  },
  {
   "cell_type": "code",
   "execution_count": null,
   "metadata": {},
   "outputs": [],
   "source": [
    "files = ['python.png', 'qwerty.py', 'stepik.png', 'beegeek.org', 'windows.pnp', 'pen.txt', 'phone.py', 'book.txT', 'board.pNg', 'keyBoard.jpg', 'Python.PNg', 'apple.jpeg', 'png.png', 'input.tXt', 'split.pop', 'solution.Py', 'stepik.org', 'kotlin.ko', 'github.git']\n",
    "\n",
    "png_files = {file.lower() for file in files if file.lower().endswith('.png')}\n",
    "print(*sorted(png_files))"
   ]
  },
  {
   "cell_type": "markdown",
   "metadata": {},
   "source": [
    "Учитель проверяет домашнее задание в классе и получил следующие ответы: из n школьников \n",
    "    у m домашнее задание съела собака, \n",
    "    у k отключили свет, \n",
    "    а p учеников постигли оба несчастья. \n",
    "Напишите программу, которая определяет, сколько человек выполнило домашнее задание."
   ]
  },
  {
   "cell_type": "code",
   "execution_count": null,
   "metadata": {
    "scrolled": true
   },
   "outputs": [],
   "source": [
    "n, m, k, p = int(input()), int(input()), int(input()), int(input())\n",
    "count = n - m - k + p\n",
    "print(count)"
   ]
  },
  {
   "cell_type": "markdown",
   "metadata": {},
   "source": [
    "На спутнике «Восход» установлен прибор для измерения солнечной активности. \n",
    "Каждую минуту он передаёт в обсерваторию по каналу связи положительное целое число — \n",
    "количество энергии солнечного излучения. Для правильного анализа результатов нет необходимости \n",
    "держать повторяющиеся данные, поэтому их нужно удалить. \n",
    "Напишите программу, \n",
    "которая выводит максимальное количество показаний спутника, при удалении которых результат будет правильно проанализирован."
   ]
  },
  {
   "cell_type": "code",
   "execution_count": null,
   "metadata": {
    "scrolled": true
   },
   "outputs": [],
   "source": [
    "n = [int(num) for num in input().split()]\n",
    "s = set(n)\n",
    "print(len(n) - len(s))"
   ]
  },
  {
   "cell_type": "markdown",
   "metadata": {},
   "source": [
    "Тимур и Руслан играют в Города. Они очень любят эту игру и знают много городов, \n",
    "особенно Тимур, однако к концу игры ввиду своего возраста забывают, какие города уже называли"
   ]
  },
  {
   "cell_type": "code",
   "execution_count": null,
   "metadata": {},
   "outputs": [],
   "source": [
    "n = int(input())\n",
    "\n",
    "s1 = {input() for _ in range(n)} # Множество названных городов\n",
    "l1 = len(s1) # Длина исходного множества городов\n",
    "\n",
    "s1.add(input()) # Добавляем в исходное множество новый город\n",
    "l2 = len(s1) # Длина нового множества городов\n",
    "\n",
    "if l1 == l2:\n",
    "    print('REPEAT')\n",
    "else:\n",
    "    print('OK')"
   ]
  },
  {
   "cell_type": "markdown",
   "metadata": {},
   "source": [
    "На вход программе в первой строке подается натуральное число m – количество книг в домашней библиотеке Руслана. \n",
    "Во второй строке записано натуральное число n – количество книг в списке на лето. Далее идут m строк с названиями книг из домашней библиотеки и n строк названий из списка на лето."
   ]
  },
  {
   "cell_type": "code",
   "execution_count": null,
   "metadata": {},
   "outputs": [],
   "source": [
    "m, n = int(input()), int(input())\n",
    "\n",
    "home_books = {input() for _ in range(m)} # Множество книг из домашней библиотеки\n",
    "summer_books = [input() for _ in range(n)] # Список книг на лето\n",
    "\n",
    "for book in summer_books: # Для каждой книги из списка книг на лето\n",
    "    if book in home_books: # Если книга находится во множестве домашних книг\n",
    "        print('YES')\n",
    "    else:\n",
    "        print('NO')"
   ]
  },
  {
   "cell_type": "markdown",
   "metadata": {},
   "source": [
    "Как известно, математики – странные люди 🤪. \n",
    "Не составляет исключения и Тимур, автор данного курса. \n",
    "Каждый день Тимур решает ровно две сложные математические задачи. \n",
    "Решая первую задачу, он записывает на первом листочке все числа, которые в ней встречаются. \n",
    "Далее он делает паузу и берется за вторую задачу. \n",
    "Затем записывает на втором листочке все числа, которые в ней встречаются. \n",
    "После этого он берет еще один листок и выписывает на него все совпадающие числа из первых двух листочков. \n",
    "Если такие числа есть – день удался, если общих чисел нет – Тимур считает день неудачным."
   ]
  },
  {
   "cell_type": "code",
   "execution_count": null,
   "metadata": {},
   "outputs": [],
   "source": [
    "first_task = {int(num) for num in input().split()} # Множество первых чисел\n",
    "second_task = {int(num) for num in input().split()} # Множество вторых чисел\n",
    "\n",
    "if first_task.isdisjoint(second_task): # Если общих чисел нет\n",
    "    print('BAD DAY')\n",
    "else:\n",
    "    union_task = first_task.intersection(second_task) # Множество чисел, которые встречаются в обоих задачах\n",
    "    print(*sorted(union_task, reverse=True)) # Сортируем по убыванию множество чисел"
   ]
  },
  {
   "cell_type": "markdown",
   "metadata": {},
   "source": [
    "При приёме новых сотрудников в онлайн-школу BEEGEEK ее руководитель тестирует не только профессиональные качества кандидата, но и его память.\n",
    "\n",
    "Кандидату показывают ненадолго несколько различных чисел, а затем кандидат должен их назвать. \n",
    "Причем неважно, в каком порядке он их вспоминает, \n",
    "и повторяется он или нет, главное он должен назвать все числа, не добавляя лишних."
   ]
  },
  {
   "cell_type": "code",
   "execution_count": null,
   "metadata": {},
   "outputs": [],
   "source": [
    "a = set(input().split())\n",
    "b = set(input().split())\n",
    "\n",
    "if a == b:\n",
    "    print('YES')\n",
    "else:\n",
    "    print('NO')"
   ]
  },
  {
   "cell_type": "markdown",
   "metadata": {},
   "source": [
    "Каждый ученик, обучающийся в онлайн-школе BEEGEEK изучает либо математику, либо информатику, \n",
    "либо оба эти предмета. У руководителя школы есть списки изучающих каждый предмет.\n",
    "\n",
    "Напишите программу, позволяющую руководителю выяснить, сколько учеников изучает только математику.\n",
    "На вход программе в первых двух строках подаются числа \n",
    "m и n – количества учеников, изучающих математику и информатику соответственно. Далее идут \n",
    "m строк – фамилии учеников, которые изучают математику и \n",
    "n строк с фамилиями учеников, изучающих информатику."
   ]
  },
  {
   "cell_type": "code",
   "execution_count": null,
   "metadata": {},
   "outputs": [],
   "source": [
    "m = int(input())\n",
    "n = int(input())\n",
    "\n",
    "s_math = {input() for _ in range(m)}\n",
    "s_info = {input() for _ in range(n)}\n",
    "s_math.difference_update(s_info)\n",
    "\n",
    "print(len(s_math))"
   ]
  },
  {
   "cell_type": "markdown",
   "metadata": {},
   "source": [
    "Каждый ученик, обучающийся в онлайн-школе BEEGEEK, изучает либо математику, \n",
    "либо информатику, либо оба этих предмета. У руководителя школы есть списки изучающих каждый предмет.\n",
    "\n",
    "Напишите программу, позволяющую руководителю выяснить, сколько учеников изучает только один предмет."
   ]
  },
  {
   "cell_type": "code",
   "execution_count": null,
   "metadata": {},
   "outputs": [],
   "source": [
    "m = int(input())\n",
    "n = int(input())\n",
    "\n",
    "s_math = {input() for _ in range(m)}\n",
    "s_info = {input() for _ in range(n)}\n",
    "s_one = s_math.symmetric_difference(s_info)\n",
    "\n",
    "if len(s_one) > 0:\n",
    "    print(len(s_one))\n",
    "else:\n",
    "    print('NO')"
   ]
  },
  {
   "cell_type": "markdown",
   "metadata": {},
   "source": [
    "Руководитель онлайн-школы BEEGEEK и его помощник вспоминают учеников своей школы. Для этого каждый из них составил список учеников, которых вспомнил.\n",
    "\n",
    "Напишите программу, которая выведет фамилии всех учеников, которых вспомнили руководитель и его помощник.\n",
    "Программа должна вывести фамилии всех учеников онлайн-школы BEEGEEK в лексикографическом порядке."
   ]
  },
  {
   "cell_type": "code",
   "execution_count": null,
   "metadata": {},
   "outputs": [],
   "source": [
    "s1 = set(input().split())\n",
    "s2 = set(input().split())\n",
    "\n",
    "s = s1.union(s2)\n",
    "print(*sorted(s))"
   ]
  },
  {
   "cell_type": "markdown",
   "metadata": {},
   "source": [
    "Каждый ученик, обучающийся в онлайн-школе BEEGEEK изучает либо математику, \n",
    "либо информатику, либо оба этих предмета. У руководителя школы есть списки учеников, изучающих каждый предмет. \n",
    "Случайно списки всех учеников перемешались.\n",
    "\n",
    "Напишите программу, которая позволит руководителю выяснить, сколько учеников изучает только один предмет."
   ]
  },
  {
   "cell_type": "code",
   "execution_count": null,
   "metadata": {},
   "outputs": [],
   "source": [
    "m = int(input())\n",
    "n = int(input())\n",
    "\n",
    "# Запишем всех наших учеников в список и в одну строку через пробел\n",
    "students = [input() for _ in range(m+n)]\n",
    "str_students = ' '.join(students)\n",
    "\n",
    "s = set() # Множество учеников, изучающих только один предмет\n",
    "\n",
    "# Провереям фамилию каждого студента из нашего списка\n",
    "for student in students: \n",
    "    # Если индекс первого вхождения фамилии в строке совпадает с индексом последнего вхождения фамилии в строке, то значит фамилия встречается один раз\n",
    "    if str_students.index(student) == str_students.rindex(student):\n",
    "        s.add(student)\n",
    "\n",
    "if len(s) > 0:\n",
    "    print(len(s))\n",
    "else:\n",
    "    print('NO')"
   ]
  },
  {
   "cell_type": "markdown",
   "metadata": {},
   "source": [
    "Руководителю онлайн-школы BEEGEEK захотелось узнать, кто из его учеников присутствовал на всех уроках с начала учебного года. Для каждого урока есть листок со списком присутствовавших учеников.\n",
    "\n",
    "Напишите программу, определяющую фамилии учеников, которые присутствовали на всех уроках."
   ]
  },
  {
   "cell_type": "code",
   "execution_count": null,
   "metadata": {},
   "outputs": [],
   "source": [
    "# Количество уроков\n",
    "m = int(input()) \n",
    "# Количество учеников на первом уроке\n",
    "n = int(input()) \n",
    "# Ученики, которые присутствовали на всех уроках. Первоначально, содержит всех тех учеников, которые присутствовали на первом уроке\n",
    "s = {input() for _ in range(n)} \n",
    "\n",
    "# Пробегаемся по урокам. Начинаем со второго, так как первый уже был. \n",
    "for i in range(1, m):\n",
    "    n = int(input()) # Количество учеников на уроке\n",
    "    s_new = {input() for _ in range(n)} # Ученики, которые присутствовали на i-ом уроке\n",
    "    s.intersection_update(s_new)\n",
    "    \n",
    "print(*sorted(s), sep='\\n')"
   ]
  },
  {
   "cell_type": "markdown",
   "metadata": {},
   "source": [
    "# Словарь"
   ]
  },
  {
   "cell_type": "markdown",
   "metadata": {},
   "source": [
    "Дополните приведенный ниже код так, чтобы он вывел имена всех пользователей (в алфавитном порядке), чей номер оканчивается на \n",
    "8."
   ]
  },
  {
   "cell_type": "code",
   "execution_count": null,
   "metadata": {},
   "outputs": [],
   "source": [
    "users = [{'name': 'Todd', 'phone': '551-1414', 'email': 'todd@gmail.com'},\n",
    "         {'name': 'Helga', 'phone': '555-1618', 'email': 'helga@mail.net'},\n",
    "         {'name': 'Olivia', 'phone': '449-3141', 'email': ''},\n",
    "         {'name': 'LJ', 'phone': '555-2718', 'email': 'lj@gmail.net'},\n",
    "         {'name': 'Ruslan', 'phone': '422-145-9098', 'email': 'rus-lan.cha@yandex.ru'},\n",
    "         {'name': 'John', 'phone': '233-421-32', 'email': ''},\n",
    "         {'name': 'Lara', 'phone': '+7998-676-2532', 'email': 'g.lara89@gmail.com'},\n",
    "         {'name': 'Alina', 'phone': '+7948-799-2434', 'email': 'ali.ch.b@gmail.com'},\n",
    "         {'name': 'Robert', 'phone': '420-2011', 'email': ''},\n",
    "         {'name': 'Riyad', 'phone': '128-8890-128', 'email': 'r.mahrez@mail.net'},\n",
    "         {'name': 'Khabib', 'phone': '+7995-600-9080', 'email': 'kh.nurmag@gmail.com'},\n",
    "         {'name': 'Olga', 'phone': '6449-314-1213', 'email': ''},\n",
    "         {'name': 'Roman', 'phone': '+7459-145-8059', 'email': 'roma988@mail.ru'},\n",
    "         {'name': 'Maria', 'phone': '12-129-3148', 'email': 'm.sharapova@gmail.com'},\n",
    "         {'name': 'Fedor', 'phone': '+7445-341-0545', 'email': ''},\n",
    "         {'name': 'Tim', 'phone': '242-449-3141', 'email': 'timm.ggg@yandex.ru'}]\n",
    "\n",
    "ls = []\n",
    "for user in users:\n",
    "    for key in user:\n",
    "        if key == 'phone' and user[key].endswith('8'):\n",
    "            ls.append(user['name'])\n",
    "            \n",
    "print(*sorted(ls))"
   ]
  },
  {
   "cell_type": "markdown",
   "metadata": {},
   "source": [
    "Дополните приведенный ниже код так, чтобы он вывел имена всех пользователей (в алфавитном порядке), у которых нет информации об электронной почте. "
   ]
  },
  {
   "cell_type": "code",
   "execution_count": null,
   "metadata": {},
   "outputs": [],
   "source": [
    "users = [{'name': 'Todd', 'phone': '551-1414', 'email': 'todd@gmail.com'},\n",
    "         {'name': 'Helga', 'phone': '555-1618'},\n",
    "         {'name': 'Olivia', 'phone': '449-3141', 'email': ''},\n",
    "         {'name': 'LJ', 'phone': '555-2718', 'email': 'lj@gmail.net'},\n",
    "         {'name': 'Ruslan', 'phone': '422-145-9098', 'email': 'rus-lan.cha@yandex.ru'},\n",
    "         {'name': 'John', 'phone': '233-421-32', 'email': ''},\n",
    "         {'name': 'Lara', 'phone': '+7998-676-2532', 'email': 'g.lara89@gmail.com'},\n",
    "         {'name': 'Alina', 'phone': '+7948-799-2434'},\n",
    "         {'name': 'Robert', 'phone': '420-2011', 'email': ''},\n",
    "         {'name': 'Riyad', 'phone': '128-8890-128', 'email': 'r.mahrez@mail.net'},\n",
    "         {'name': 'Khabib', 'phone': '+7995-600-9080', 'email': 'kh.nurmag@gmail.com'},\n",
    "         {'name': 'Olga', 'phone': '6449-314-1213', 'email': ''},\n",
    "         {'name': 'Roman', 'phone': '+7459-145-8059'},\n",
    "         {'name': 'Maria', 'phone': '12-129-3148', 'email': 'm.sharapova@gmail.com'},\n",
    "         {'name': 'Fedor', 'phone': '+7445-341-0545', 'email': ''},\n",
    "         {'name': 'Tim', 'phone': '242-449-3141', 'email': 'timm.ggg@yandex.ru'}]"
   ]
  },
  {
   "cell_type": "code",
   "execution_count": null,
   "metadata": {},
   "outputs": [],
   "source": [
    "ls2 = [user['name'] for user in users if 'email' not in user or user['email'] == '']\n",
    "print(*sorted(ls2))"
   ]
  },
  {
   "cell_type": "markdown",
   "metadata": {},
   "source": [
    "Напишите программу, которая будет превращать натуральное число в строку, заменяя все цифры в числе на слова:"
   ]
  },
  {
   "cell_type": "code",
   "execution_count": null,
   "metadata": {},
   "outputs": [],
   "source": [
    "dict_nums = {\n",
    "    0: 'zero',\n",
    "    1: 'one',\n",
    "    2: 'two',\n",
    "    3: 'three',\n",
    "    4: 'four',\n",
    "    5: 'five',\n",
    "    6: 'six',\n",
    "    7: 'seven',\n",
    "    8: 'eight',\n",
    "    9: 'nine'   \n",
    "}\n",
    "\n",
    "n = input()\n",
    "\n",
    "ls = [dict_nums[int(digit)] for digit in n]\n",
    "\n",
    "print(*ls)\n"
   ]
  },
  {
   "cell_type": "markdown",
   "metadata": {},
   "source": [
    "Напишите программу, которая по номеру курса выводит информацию о данном курсе."
   ]
  },
  {
   "cell_type": "code",
   "execution_count": null,
   "metadata": {},
   "outputs": [],
   "source": [
    "courses = {'CS101': ['3004', 'Хайнс', '8:00'],\n",
    "           'CS102': ['4501', 'Альварадо', '9:00'],\n",
    "           'CS103': ['6755', 'Рич', '10:00'],\n",
    "           'NT110': ['1244', 'Берк', '11:00'],\n",
    "           'CM241': ['1411', 'Ли', '13:00']}\n",
    "\n",
    "n = input()\n",
    "print(f'{n}: {courses[n][0]}, {courses[n][1]}, {courses[n][2]}')"
   ]
  },
  {
   "cell_type": "markdown",
   "metadata": {},
   "source": [
    "Напишите программу, которая отображает нажатия клавиш, необходимые для введенного сообщения."
   ]
  },
  {
   "cell_type": "code",
   "execution_count": null,
   "metadata": {},
   "outputs": [],
   "source": [
    "text = 'Hello, World!'"
   ]
  },
  {
   "cell_type": "code",
   "execution_count": null,
   "metadata": {},
   "outputs": [],
   "source": [
    "d = {\n",
    "    \"1\": [\".\", \",\", \"?\", \"!\", \":\"],\n",
    "    \"2\": [\"A\", \"B\", \"C\"],\n",
    "    \"3\": [\"D\", \"E\", \"F\"],\n",
    "    \"4\": [\"G\", \"H\", \"I\"],\n",
    "    \"5\": [\"J\", \"K\", \"L\"],\n",
    "    \"6\": [\"M\", \"N\", \"O\"],\n",
    "    \"7\": [\"P\", \"Q\", \"R\", \"S\"],\n",
    "    \"8\": [\"T\", \"U\", \"V\"],\n",
    "    \"9\": [\"W\", \"X\", \"Y\", \"Z\"],\n",
    "    \"0\": [\" \"]\n",
    "}\n",
    "\n",
    "ls = []\n",
    "for char in text: # Пробегаемся по каждому символу\n",
    "    for item in d.items(): # Пробегаемся по кортежу\n",
    "        count = 0\n",
    "        for el in item[1]: # Пробегаемся по списку элементов\n",
    "            count += 1\n",
    "            if char.upper() == el: # Если находим нужный символ\n",
    "                ls.append(item[0] * count) # Добавляем цифру\n",
    "                \n",
    "print(*ls, sep='')\n"
   ]
  },
  {
   "cell_type": "code",
   "execution_count": 46,
   "metadata": {},
   "outputs": [
    {
     "name": "stdout",
     "output_type": "stream",
     "text": [
      "arfda\n",
      "277733332\n"
     ]
    }
   ],
   "source": [
    "text = input().upper()\n",
    "d = {\n",
    "    \"1\": [\".\", \",\", \"?\", \"!\", \":\"],\n",
    "    \"2\": [\"A\", \"B\", \"C\"],\n",
    "    \"3\": [\"D\", \"E\", \"F\"],\n",
    "    \"4\": [\"G\", \"H\", \"I\"],\n",
    "    \"5\": [\"J\", \"K\", \"L\"],\n",
    "    \"6\": [\"M\", \"N\", \"O\"],\n",
    "    \"7\": [\"P\", \"Q\", \"R\", \"S\"],\n",
    "    \"8\": [\"T\", \"U\", \"V\"],\n",
    "    \"9\": [\"W\", \"X\", \"Y\", \"Z\"],\n",
    "    \"0\": [\" \"]\n",
    "}\n",
    "\n",
    "string = '' # Ответ\n",
    "for char in text: # Пробегаемся по каждому символу в заданном тексте\n",
    "    for digit, values in d.items(): # Пробегаемся одновременно по цифре и символам словаря\n",
    "        if char in values: # Если символ текста присутствует в символах словаря\n",
    "            count = values.index(char) + 1 # Количество нажатий для написания данного символа\n",
    "            string += digit * count # К ответу добавляем цифру в количестве равном количеству нажатий\n",
    "                \n",
    "print(*string, sep='')"
   ]
  },
  {
   "cell_type": "markdown",
   "metadata": {},
   "source": [
    "Дополните приведенный ниже код так, чтобы в переменной result хранился словарь, в котором ключи – числа от \n",
    "1 до 15 (включительно), а значения представляют собой квадраты ключей."
   ]
  },
  {
   "cell_type": "code",
   "execution_count": null,
   "metadata": {},
   "outputs": [],
   "source": [
    "result = {}\n",
    "for i in range(1, 16):\n",
    "    result[i] = i ** 2\n",
    "    \n",
    "print(result)"
   ]
  },
  {
   "cell_type": "markdown",
   "metadata": {},
   "source": [
    "Дополните приведенный ниже код так, чтобы он объединил содержимое двух словарей dict1 и dict2: \n",
    "    если ключ есть в обоих словарях, добавьте его в результирующий словарь со значением, \n",
    "    равным сумме соответствующих значений из первого и второго словаря; если ключ есть только в одном из словарей, \n",
    "    добавьте его в результирующий словарь с его текущим значением. \n",
    "    Результирующий словарь необходимо присвоить переменной result."
   ]
  },
  {
   "cell_type": "code",
   "execution_count": null,
   "metadata": {},
   "outputs": [],
   "source": [
    "dict1 = {'a': 100, 'z': 333, 'b': 200, 'c': 300, 'd': 45, 'e': 98, 't': 76, 'q': 34, 'f': 90, 'm': 230}\n",
    "dict2 = {'a': 300, 'b': 200, 'd': 400, 't': 777, 'c': 12, 'p': 123, 'w': 111, 'z': 666}\n",
    "\n",
    "result = {}\n",
    "result = dict2.copy() # Копируем второй словарь\n",
    "\n",
    "for key in result: # Для каждого ключа в результирующем словаре\n",
    "    if key in dict1.keys(): # Если ключ, есть в первом словаре\n",
    "        dict1[key] = dict1[key] + dict2[key] # Складываем значения для соответствюущего ключа в первом словаре\n",
    "    \n",
    "result.update(dict1) # Добавляем (обновляем) \n",
    "\n",
    "\n",
    "print(result)"
   ]
  },
  {
   "cell_type": "markdown",
   "metadata": {},
   "source": [
    "Дополните приведенный ниже код так, чтобы в переменной result хранился словарь, \n",
    "в котором для каждого символа строки text будет подсчитано количество его вхождений."
   ]
  },
  {
   "cell_type": "code",
   "execution_count": null,
   "metadata": {},
   "outputs": [],
   "source": [
    "text = 'footballcyberpunkextraterritorialityconversationalistblockophthalmoscopicinterdependencemamauserfff'\n",
    "result = {}\n",
    "\n",
    "for char in text:\n",
    "    if char in result:\n",
    "        result[char] += 1\n",
    "    else:\n",
    "        result[char] = 1\n",
    "\n",
    "print(result)"
   ]
  },
  {
   "cell_type": "markdown",
   "metadata": {},
   "source": [
    "Дополните приведенный ниже код так, чтобы он вывел наиболее часто встречающееся слово строки s. \n",
    "Если таких слов несколько, должно быть выведено то, что меньше в лексикографическом порядке."
   ]
  },
  {
   "cell_type": "code",
   "execution_count": null,
   "metadata": {},
   "outputs": [],
   "source": [
    "s = 'orange strawberry barley gooseberry apple apricot barley currant orange melon pomegranate banana banana orange barley apricot plum grapefruit banana quince strawberry barley grapefruit banana grapes melon strawberry apricot currant currant gooseberry raspberry apricot currant orange lime quince grapefruit barley banana melon pomegranate barley banana orange barley apricot plum banana quince lime grapefruit strawberry gooseberry apple barley apricot currant orange melon pomegranate banana banana orange apricot barley plum banana grapefruit banana quince currant orange melon pomegranate barley plum banana quince barley lime grapefruit pomegranate barley'\n",
    "words = s.split()\n",
    "result = {}\n",
    "max_count = 0 # Максимальное повторение слова\n",
    "m_word = max(words) # Часто встречающееся слово. Пусть, изначально будет самое большое в лексикографическом порядке из представленных слов\n",
    "\n",
    "for word in words: # Пробегаемся по каждому слову\n",
    "    result[word] = result.get(word, 0) + 1 # Подсчитываем количество повторении слова на данной итерации\n",
    "    if result[word] >= max_count: # Если оно больше или равно максимальному\n",
    "        max_count = result[word]\n",
    "    \n",
    "for key, value in result.items():\n",
    "    if value == max(result.values()):\n",
    "        m_word = key\n",
    "\n",
    "print(m_word)"
   ]
  },
  {
   "cell_type": "markdown",
   "metadata": {},
   "source": [
    "Вам доступен список pets, содержащий информацию о собаках и их владельцах. \n",
    "Каждый элемент списка – это кортеж вида (кличка собаки, имя владельца, фамилия владельца, возраст владельца).\n",
    "\n",
    "Дополните приведенный ниже код так, чтобы в переменной result хранился словарь, в котором для каждого владельца будут перечислены его собаки. Ключом словаря должен быть кортеж (имя, фамилия, возраст владельца), а значением – список кличек собак (сохранив исходный порядок следования)."
   ]
  },
  {
   "cell_type": "code",
   "execution_count": null,
   "metadata": {},
   "outputs": [],
   "source": [
    "pets = [('Hatiko', 'Parker', 'Wilson', 50),\n",
    "        ('Rusty', 'Josh', 'King', 25),\n",
    "        ('Fido', 'John', 'Smith', 28),\n",
    "        ('Butch', 'Jake', 'Smirnoff', 18),\n",
    "        ('Odi', 'Emma', 'Wright', 18),\n",
    "        ('Balto', 'Josh', 'King', 25),\n",
    "        ('Barry', 'Josh', 'King', 25),\n",
    "        ('Snape', 'Hannah', 'Taylor', 40),\n",
    "        ('Horry', 'Martha', 'Robinson', 73),\n",
    "        ('Giro', 'Alex', 'Martinez', 65),\n",
    "        ('Zooma', 'Simon', 'Nevel', 32),\n",
    "        ('Lassie', 'Josh', 'King', 25),\n",
    "        ('Chase', 'Martha', 'Robinson', 73),\n",
    "        ('Ace', 'Martha', 'Williams', 38),\n",
    "        ('Rocky', 'Simon', 'Nevel', 32)]\n",
    "\n",
    "result = {}\n",
    "\n",
    "for t in pets:\n",
    "    result.setdefault(t[1:], []).append(t[0])\n",
    "    \n",
    "print(result)"
   ]
  },
  {
   "cell_type": "markdown",
   "metadata": {},
   "source": [
    "На вход программе подается строка текста. \n",
    "Напишите программу, которая выводит слово, которое встречается реже всего, без учета регистра. \n",
    "Если таких слов несколько, выведите то, которое меньше в лексикографическом порядке."
   ]
  },
  {
   "cell_type": "code",
   "execution_count": null,
   "metadata": {},
   "outputs": [],
   "source": [
    "words = input().lower().split() # Список слов в нижнем регистре, но со знаками препинаниями\n",
    "signs = '.,!?:;-'\n",
    "\n",
    "clean_words = []  # Массив очищенных слов (без знаков препинаний)\n",
    "\n",
    "for word in words: # Пробегаемся по каждому слову\n",
    "    for char in word: # Пробегаемся по каждому символу\n",
    "        if char in signs: # Если символ относится к знакам, то заменяем его на пустой символ\n",
    "            word = word.replace(char, '')\n",
    "    if bool(word): # Если слово не пустое, то добавляем в массив очищенных слов\n",
    "        clean_words.append(word)\n",
    "\n",
    "# print(clean_words) для отладки\n",
    "        \n",
    "# Далее будем работать со словарем\n",
    "result = dict()\n",
    "for word in clean_words: # Для каждого слова в списке очищенных слов\n",
    "    result[word] = result.get(word, 0) + 1 # Если слово встречалось, то к значению добавляем 1. \n",
    "# Если же нет, то вернет 0, к которому добавится 1 и будет создан новый ключ со значением 1\n",
    "\n",
    "# Кортеж\n",
    "min_pair = (clean_words[0], result[clean_words[0]]) # Пара словаря с минимальным значением. Присвоим первую пару из словаря\n",
    "\n",
    "for pair in result.items(): # Пробегаемся по каждой паре словаря\n",
    "    if pair[1] < min_pair[1]: # Если значение меньше чем значение из минимальной пары, то обновляем пару\n",
    "        min_pair = pair\n",
    "    elif pair[1] == min_pair[1] and pair[0] < min_pair[0]: # Если значения равны, но слово меньше в лексиграфическом порядке, то обновляем пару\n",
    "        min_pair = pair\n",
    "\n",
    "print(min_pair[0])"
   ]
  },
  {
   "cell_type": "markdown",
   "metadata": {},
   "source": [
    "На вход программе подается строка, содержащая строки-идентификаторы. \n",
    "Напишите программу, которая исправляет их так, чтобы в результирующей строке не было дубликатов. \n",
    "Для этого необходимо прибавлять к повторяющимся идентификаторам постфикс _n, \n",
    "где n – количество раз, сколько такой идентификатор уже встречался."
   ]
  },
  {
   "cell_type": "code",
   "execution_count": null,
   "metadata": {},
   "outputs": [],
   "source": []
  },
  {
   "cell_type": "markdown",
   "metadata": {},
   "source": [
    "Программисты, как вы уже знаете, постоянно учатся, а в общении между собой используют весьма специфический язык. \n",
    "Чтобы систематизировать ваш пополняющийся профессиональный лексикон, мы придумали эту задачу. \n",
    "Напишите программу создания небольшого словаря сленговых программерских выражений, \n",
    "чтобы она потом по запросу возвращала значения из этого словаря."
   ]
  },
  {
   "cell_type": "code",
   "execution_count": null,
   "metadata": {
    "scrolled": true
   },
   "outputs": [],
   "source": [
    "n = int(input())\n",
    "\n",
    "ls = [input().split(': ') for i in range(n)]  # список пар [ключ, значение]\n",
    "\n",
    "dc = {}  # пустой словарь\n",
    "for k, v in ls:\n",
    "    dc[k.lower()] = v   # кладём ключ в нижнем регистре\n",
    "\n",
    "m = int(input())\n",
    "\n",
    "ls_words = [input().lower() for i in range(m)]\n",
    "\n",
    "for word in ls_words:\n",
    "    ans = dc.get(word, 'Не найдено')\n",
    "    print(ans)"
   ]
  },
  {
   "cell_type": "markdown",
   "metadata": {},
   "source": [
    "Анаграмма – слово (словосочетание), \n",
    "образованное путем перестановки букв, составляющих другое слово (или словосочетание). \n",
    "Например, английские слова evil и live – это анаграммы."
   ]
  },
  {
   "cell_type": "code",
   "execution_count": null,
   "metadata": {},
   "outputs": [],
   "source": [
    "w1, w2 = input(), input()\n",
    "\n",
    "d1 = {}\n",
    "for c1 in w1:\n",
    "    d1[c1] = d1.get(c1, 0) + 1\n",
    "\n",
    "d2 = {}\n",
    "for c2 in w2:\n",
    "    d2[c2] = d2.get(c2, 0) + 1\n",
    "    \n",
    "if d1 == d2:\n",
    "    print('YES')\n",
    "else:\n",
    "    print('NO')\n",
    "    \n",
    "    \n",
    "# Через списки\n",
    "# w1, w2 = input(), input()\n",
    "# ls1 = sorted(list(w1))\n",
    "# ls2 = sorted(list(w2))\n",
    "# print(ls1, ls2)\n",
    "# ls1 == ls2"
   ]
  },
  {
   "cell_type": "markdown",
   "metadata": {},
   "source": [
    "На вход программе подаются два предложения. \n",
    "Напишите программу, которая определяет, являются они анаграммами или нет. \n",
    "Ваша программа должна игнорировать регистр символов, знаки препинания и пробелы."
   ]
  },
  {
   "cell_type": "code",
   "execution_count": null,
   "metadata": {},
   "outputs": [],
   "source": [
    "ls1 = [word.strip('.,!?:;-').lower() for word in input().split()]\n",
    "ls2 = [word.strip('.,!?:;-').lower() for word in input().split()]\n",
    "\n",
    "w1 = ''.join(ls1)\n",
    "w2 = ''.join(ls2)\n",
    "\n",
    "d1 = {}\n",
    "for c1 in w1:\n",
    "    d1[c1] = d1.get(c1, 0) + 1\n",
    "\n",
    "d2 = {}\n",
    "for c2 in w2:\n",
    "    d2[c2] = d2.get(c2, 0) + 1\n",
    "    \n",
    "if d1 == d2:\n",
    "    print('YES')\n",
    "else:\n",
    "    print('NO')"
   ]
  },
  {
   "cell_type": "markdown",
   "metadata": {},
   "source": [
    "Код Морзе для представления цифр и букв использует тире и точки.\n",
    "Напишите программу для кодирования текстового сообщения в соответствии с кодом Морзе."
   ]
  },
  {
   "cell_type": "code",
   "execution_count": null,
   "metadata": {},
   "outputs": [],
   "source": [
    "keys_mapping = {\n",
    "    'A': '.-', 'B': '-...', 'C': '-.-.', 'D': '-..', 'E': '.', 'F': '..-.', 'G': '--.', 'H': '....',\n",
    "    'I': '..', 'J': '.---', 'K': '-.-', 'L': '.-..', 'M': '--', 'N': '-.', 'O': '---', 'P': '.--.',\n",
    "    'Q': '--.-', 'R': '.-.', 'S': '...', 'T': '-', 'U': '..-', 'V': '...-', 'W': '.--', 'X': '-..-',\n",
    "    'Y': '-.--', 'Z': '--..', '0': '-----', '1': '.----', '2': '..---', '3': '...--', '4': '....-',\n",
    "    '5': '.....', '6': '-....', '7': '--...', '8': '---..', '9': '----.'\n",
    "}\n",
    "\n",
    "words = [word.upper() for word in input().split()] # Разбиваем текст на слова, переводя в верхний регистр\n",
    "text = ''.join(words) # Объединяем все эти слова в одну строку\n",
    "\n",
    "string = ''\n",
    "\n",
    "for char in text: # Для каждого символа\n",
    "    string += keys_mapping.get(char, '') # Возвращаем шифр для символа. Если для символа нет шифра, то пустую строку добавляем\n",
    "    if char in keys_mapping.keys():\n",
    "        string += ' '\n",
    "\n",
    "print(string)\n",
    "   "
   ]
  },
  {
   "cell_type": "markdown",
   "metadata": {},
   "source": [
    "Вам дан словарь, состоящий из пар слов-синонимов. \n",
    "Повторяющихся слов в словаре нет. Напишите программу, которая для одного данного слова определяет его синоним."
   ]
  },
  {
   "cell_type": "code",
   "execution_count": null,
   "metadata": {},
   "outputs": [],
   "source": [
    "n = int(input()) # число\n",
    "\n",
    "ls = [[word for word in input().split()] for i in range(n)] # Список из списка\n",
    "dc = dict(ls) # Словарь на основе списка из списков\n",
    "\n",
    "m = input()\n",
    "\n",
    "for k, v in dc.items(): # По паре ключ-значение бегаем\n",
    "    if k == m:\n",
    "        print(dc[k])\n",
    "    if v == m:\n",
    "        print(k)\n"
   ]
  },
  {
   "cell_type": "markdown",
   "metadata": {},
   "source": [
    "На вход программе подается список стран и городов каждой страны. \n",
    "Затем даны названия городов. Напишите программу,\n",
    "которая для каждого города выводит, в какой стране он находится."
   ]
  },
  {
   "cell_type": "code",
   "execution_count": null,
   "metadata": {},
   "outputs": [],
   "source": [
    "n = int(input())\n",
    "\n",
    "# # Заполняем словарь\n",
    "dc = {}\n",
    "for i in range(n):\n",
    "    ls = input().split()\n",
    "    dc[ls[0]] = ls[1:]\n",
    "    \n",
    "m = int(input())\n",
    "cities = [input() for j in range(m)]\n",
    "\n",
    "for i in range(m): # Для каждого пронумерованного города\n",
    "    for country, c in dc.items(): # Для каждой страны и городов в словаре\n",
    "        if cities[i] in c: # Если введенный город находится в списке городов текущей строки\n",
    "            print(country)\n",
    "                \n",
    "    "
   ]
  },
  {
   "cell_type": "markdown",
   "metadata": {},
   "source": [
    "Тимур записал телефоны всех своих друзей, чтобы автоматизировать поиск нужного номера.\n",
    "У каждого из друзей Тимура может быть один или более телефонных номеров. Напишите программу, \n",
    "которая поможет Тимуру находить все номера определённого друга."
   ]
  },
  {
   "cell_type": "code",
   "execution_count": null,
   "metadata": {},
   "outputs": [],
   "source": [
    "n = int(input())\n",
    "\n",
    "# # Заполняем словарь\n",
    "dc = {}\n",
    "for i in range(n):\n",
    "    ls = input().lower().split()\n",
    "    # в этом словаре, Имя будет ключом. Если уже будет найден ключен, то к существующему номеру добавим через пробел еще один номер\n",
    "    dc[ls[-1]] = dc.get(ls[-1], '') + ' ' + ls[0] \n",
    "    \n",
    "m = int(input())\n",
    "\n",
    "ls_name = [input().lower() for i in range(m)] # Массив введенных имен\n",
    "\n",
    "for i in range(m):\n",
    "    ans = dc.get(ls_name[i], 'абонент не найден') # По ключу(имени) ищем значения (номера, убирая пробел слева).\n",
    "    print(ans.lstrip())"
   ]
  },
  {
   "cell_type": "markdown",
   "metadata": {},
   "source": [
    "Напишите программу для расшифровки секретного слова методом частотного анализа.\n",
    "В первой строке задано зашифрованное слово. \n",
    "Во второй строке задано одно целое число n – количество букв в словаре. \n",
    "В следующих n строках записано, сколько раз конкретная буква алфавита встречается \n",
    "в этом слове – <буква>: <частота>."
   ]
  },
  {
   "cell_type": "code",
   "execution_count": null,
   "metadata": {},
   "outputs": [],
   "source": [
    "secret_word = input() # Зашифрованное слово\n",
    "n = int(input()) # Количество букв в словаре\n",
    "\n",
    "# Заполняем словарь, где ключи - зашифрованные символы. Значения - частота символов\n",
    "secret_dc = {}\n",
    "for c in secret_word:\n",
    "    secret_dc[c] = secret_dc.get(c, 0) + 1\n",
    "\n",
    "# Заполняем словарь, где ключи - частота букв. Значения - буквы\n",
    "dc = {}\n",
    "for _ in range(n):\n",
    "    char, count = input().split(': ') # разбивка на значения (буква и число)\n",
    "    dc[int(count)] = char\n",
    "\n",
    "wish_word = secret_word\n",
    "\n",
    "# Для каждого зашифрованного символа\n",
    "for ch in secret_word:\n",
    "    cnt = secret_word.count(ch) # Находим количество зашифрованного символа\n",
    "    wish_word = wish_word.replace(ch, dc[cnt]) # Меняем зашифрованный символ на обычный символ\n",
    "\n",
    "print(wish_word)\n",
    "\n"
   ]
  },
  {
   "cell_type": "markdown",
   "metadata": {},
   "source": [
    "Дополните приведенный код, используя генератор, так, чтобы получить словарь result, в котором ключом будет \n",
    "позиция числа в списке numbers (начиная с 0), а значением – его квадрат."
   ]
  },
  {
   "cell_type": "code",
   "execution_count": null,
   "metadata": {},
   "outputs": [],
   "source": [
    "numbers = [34, 10, -4, 6, 10, 23, -90, 100, 21, -35, -95, 1, 36, -38, -19, 1, 6, 87]\n",
    "\n",
    "result = {i: numbers[i] ** 2 for i in range(len(numbers))}\n",
    "print(result)"
   ]
  },
  {
   "cell_type": "markdown",
   "metadata": {},
   "source": [
    "Дополните приведенный код, используя генератор, так, чтобы получить словарь result, \n",
    "состоящий из всех элементов словаря colors, кроме тех, у которых значением является None."
   ]
  },
  {
   "cell_type": "code",
   "execution_count": null,
   "metadata": {},
   "outputs": [],
   "source": [
    "colors = {'c1': 'Red', 'c2': 'Grey', 'c3': None, 'c4': 'Green', 'c5': 'Yellow', 'c6': 'Pink', 'c7': 'Orange', 'c8': None, 'c9': 'White', 'c10': 'Black', 'c11': 'Violet', 'c12': 'Gold', 'c13': None, 'c14': 'Amber', 'c15': 'Azure', 'c16': 'Beige', 'c17': 'Bronze', 'c18': None, 'c19': 'Lilac', 'c20': 'Pearl', 'c21': None, 'c22': 'Sand', 'c23': None}\n",
    "\n",
    "result = {k: v for k, v in colors.items() if v is not None}\n",
    "print(result)"
   ]
  },
  {
   "cell_type": "markdown",
   "metadata": {},
   "source": [
    "Дополните приведенный код, используя генератор, так, \n",
    "чтобы получить словарь result, \n",
    "состоящий из всех элементов словаря favorite_numbers, \n",
    "значения которых являются двузначными числами."
   ]
  },
  {
   "cell_type": "code",
   "execution_count": null,
   "metadata": {},
   "outputs": [],
   "source": [
    "favorite_numbers = {'timur': 17, 'ruslan': 7, 'larisa': 19, 'roman': 123, 'rebecca': 293, 'ronald': 76, 'dorothy': 62, 'harold': 36, 'matt': 314, 'kim': 451, 'rosaly': 18, 'rustam': 89, 'soltan': 111, 'amir': 654, 'dima': 390, 'amiran': 777, 'geor': 999, 'sveta': 75, 'rita': 909, 'kirill': 404, 'olga': 271, 'anna': 55, 'madlen': 876}\n",
    "\n",
    "result = {k: v for k, v in favorite_numbers.items() if 10 <= v <= 99}\n",
    "print(result)"
   ]
  },
  {
   "cell_type": "markdown",
   "metadata": {},
   "source": [
    "Дополните приведенный код, используя генератор, так, чтобы получить словарь result, \n",
    "состоящий из всех элементов словаря months , \n",
    "в которых ключ и значение поменялись местами."
   ]
  },
  {
   "cell_type": "code",
   "execution_count": null,
   "metadata": {},
   "outputs": [],
   "source": [
    "months = {1: 'January', 2: 'February', 3: 'March', 4: 'April', 5: 'May', 6: 'June', 7: 'July', 8: 'August', 9: 'September', 10: 'October', 11: 'November', 12: 'December'}\n",
    "\n",
    "result = {v: k for k, v in months.items()}\n",
    "print(result)"
   ]
  },
  {
   "cell_type": "markdown",
   "metadata": {},
   "source": [
    "В переменной s хранится строка пар число:слово. \n",
    "    Дополните приведенный код, используя генератор, так, чтобы получить словарь result , \n",
    "в котором числа будут ключами, а слова – значениями."
   ]
  },
  {
   "cell_type": "code",
   "execution_count": null,
   "metadata": {},
   "outputs": [],
   "source": [
    "s = '1:men 2:kind 90:number 0:sun 34:book 56:mountain 87:wood 54:car 3:island 88:power 7:box 17:star 101:ice'\n",
    "\n",
    "ls2 = [el.split(':') for el in s.split()]\n",
    "\n",
    "result = {int(k): v for k, v in ls2}\n",
    "\n",
    "print(result)"
   ]
  },
  {
   "cell_type": "markdown",
   "metadata": {},
   "source": [
    "Дополните приведенный код, используя генератор, так, чтобы получить словарь result, \n",
    "где ключом будет элемент списка numbers, а значением – отсортированный по возрастанию список всех его делителей, начиная с 1."
   ]
  },
  {
   "cell_type": "code",
   "execution_count": null,
   "metadata": {},
   "outputs": [],
   "source": [
    "numbers = [34, 10, 4, 6, 10, 23, 90, 100, 21, 35, 95, 1, 36, 38, 19, 1, 6, 87, 1000, 13456, 360]\n",
    "\n",
    "# Старый способ\n",
    "# ls = []\n",
    "# for num in numbers:\n",
    "#     sub_ls = []\n",
    "#     for n in range(1, num+1):\n",
    "#         if num % n == 0:\n",
    "#             sub_ls.append(n)\n",
    "#     ls.append(sub_ls)\n",
    "\n",
    "ls = [[n for n in range(1, num+1) if num % n == 0] for num in numbers]  # Через генератор списков (в одну строку)\n",
    "\n",
    "result = {numbers[i]: ls[i] for i in range(len(numbers))} \n",
    "    \n",
    "\n",
    "print(result)"
   ]
  },
  {
   "cell_type": "markdown",
   "metadata": {},
   "source": [
    "Дополните приведенный код, используя генератор, так, чтобы получить словарь result , \n",
    "в котором ключом будет строка – элемент списка words, \n",
    "а значением – список соответствующих кодов ASCII символов данной строки."
   ]
  },
  {
   "cell_type": "code",
   "execution_count": null,
   "metadata": {},
   "outputs": [],
   "source": [
    "words = ['hello', 'bye', 'yes', 'no', 'python', 'apple', 'maybe', 'stepik', 'beegeek']\n",
    "\n",
    "result = {word: [ord(c) for c in word] for word in words}\n",
    "print(result)\n"
   ]
  },
  {
   "cell_type": "markdown",
   "metadata": {},
   "source": [
    "Дополните приведенный код, используя генератор, так, чтобы получить словарь result, \n",
    "состоящий из всех элементов словаря letters \n",
    "за исключением тех, ключи которых есть в списке remove_keys"
   ]
  },
  {
   "cell_type": "code",
   "execution_count": null,
   "metadata": {},
   "outputs": [],
   "source": [
    "letters = {0: 'A', 1: 'B', 2: 'C', 3: 'D', 4: 'E', 5: 'F', 6: 'G', 7: 'H', 8: 'I', 9: 'J', 10: 'K', 11: 'L', 12: 'M', 13: 'N', 14: 'O', 15: 'P', 16: 'Q', 17: 'R', 18: 'S', 19: 'T', 20: 'U', 21: 'V', 22: 'W', 23: 'X', 24: 'Y', 26: 'Z'}\n",
    "\n",
    "remove_keys = [1, 5, 7, 12, 17, 19, 21, 24]\n",
    "\n",
    "result = {k: letters[k] for k in letters if k not in remove_keys}\n",
    "print(result)\n"
   ]
  },
  {
   "cell_type": "markdown",
   "metadata": {},
   "source": [
    "В переменной students хранится словарь, содержащий информацию о росте (в см) и массе (в кг) студентов.\n",
    "\n",
    "Дополните приведенный код, используя генератор, так, чтобы получить словарь result, состоящий из всех \n",
    "элементов словаря students, где указан рост больше \n",
    "167 см, а масса меньше 75 кг."
   ]
  },
  {
   "cell_type": "code",
   "execution_count": null,
   "metadata": {},
   "outputs": [],
   "source": [
    "students = {'Timur': (170, 75), 'Ruslan': (180, 105), 'Soltan': (192, 68), 'Roman': (175, 70), 'Madlen': (160, 50), 'Stefani': (165, 70), 'Tom': (190, 90), 'Jerry': (180, 87), 'Anna': (172, 67), 'Scott': (168, 78), 'John': (186, 79), 'Alex': (195, 120), 'Max': (200, 110), 'Barak': (180, 89), 'Donald': (170, 80), 'Rustam': (186, 100), 'Alice': (159, 59), 'Rita': (170, 80), 'Mary': (175, 69), 'Jane': (190, 80)}\n",
    "\n",
    "result = {s: students[s] for s in students if students[s][0] > 167 and students[s][1] < 75}\n",
    "print(result)"
   ]
  },
  {
   "cell_type": "markdown",
   "metadata": {},
   "source": [
    "Список tuples содержит кортежи, состоящие из трех чисел.\n",
    "\n",
    "Дополните приведенный код, используя генератор, так, чтобы получить словарь result, \n",
    "в котором ключом является первый элемент каждого кортежа, а значением – кортеж из оставшихся двух элементов."
   ]
  },
  {
   "cell_type": "code",
   "execution_count": null,
   "metadata": {},
   "outputs": [],
   "source": [
    "tuples = [(1, 2, 3), (4, 5, 6), (7, 8, 9), (10, 11, 12), (13, 14, 15), (16, 17, 18), (19, 20, 21), (22, 23, 24), (25, 26, 27), (28, 29, 30), (31, 32, 33), (34, 35, 36)]\n",
    "\n",
    "result = {t[0]: t[1:] for t in tuples}\n",
    "print(result)"
   ]
  },
  {
   "cell_type": "markdown",
   "metadata": {},
   "source": [
    "Даны три списка student_ids, student_names, student_grades, содержащие информацию о студентах.\n",
    "\n",
    "Дополните приведенный код, используя генератор, так, чтобы получить список result, содержащий вложенные словари в соответствии с образцом: [{'S001': {'Camila Rodriguez': 86}}, {'S002': {'Juan Cruz': 98}},...]."
   ]
  },
  {
   "cell_type": "code",
   "execution_count": null,
   "metadata": {},
   "outputs": [],
   "source": [
    "student_ids = ['S001', 'S002', 'S003', 'S004', 'S005', 'S006', 'S007', 'S008', 'S009', 'S010', 'S011', 'S012', 'S013'] \n",
    "student_names = ['Camila Rodriguez', 'Juan Cruz', 'Dan Richards', 'Sam Boyle', 'Batista Cesare', 'Francesco Totti', 'Khalid Hussain', 'Ethan Hawke', 'David Bowman', 'James Milner', 'Michael Owen', 'Gary Oldman', 'Tom Hardy'] \n",
    "student_grades = [86, 98, 89, 92, 45, 67, 89, 90, 100, 98, 10, 96, 93]\n",
    "\n",
    "result = [{student_ids[i]: {student_names[i]: student_grades[i]}} for i in range(len(student_ids))]\n",
    "print(result)"
   ]
  },
  {
   "cell_type": "markdown",
   "metadata": {},
   "source": [
    "Дополните приведенный код так, чтобы в списках значений элементов словаря my_dict не было чисел, больших \n",
    "20. При этом порядок оставшихся элементов меняться не должен."
   ]
  },
  {
   "cell_type": "code",
   "execution_count": null,
   "metadata": {},
   "outputs": [],
   "source": [
    "my_dict = {'C1': [10, 20, 30, 7, 6, 23, 90], 'C2': [20, 30, 40, 1, 2, 3, 90, 12], 'C3': [12, 34, 20, 21], 'C4': [22, 54, 209, 21, 7], 'C5': [2, 4, 29, 21, 19], 'C6': [4, 6, 7, 10, 55], 'C7': [4, 8, 12, 23, 42], 'C8': [3, 14, 15, 26, 48], 'C9': [2, 7, 18, 28, 18, 28]}\n",
    "\n",
    "my_dict = {k: [num for num in v if num <= 20] for k, v in my_dict.items()}\n",
    "print(my_dict)"
   ]
  },
  {
   "cell_type": "markdown",
   "metadata": {},
   "source": [
    "Словарь emails содержит информацию об электронных адресах пользователей, сгруппированных по домену. \n",
    "Дополните приведенный код, чтобы он вывел все электронные адреса в алфавитном порядке, \n",
    "каждый на отдельной строке, в формате username@domain"
   ]
  },
  {
   "cell_type": "code",
   "execution_count": null,
   "metadata": {},
   "outputs": [],
   "source": [
    "emails = {'nosu.edu': ['timyr', 'joseph', 'svetlana.gaeva', 'larisa.mamuk'], \n",
    "          'gmail.com': ['ruslan.chaika', 'rustam.mini', 'stepik-best'], \n",
    "          'msu.edu': ['apple.fruit', 'beegeek', 'beegeek.school'], \n",
    "          'yandex.ru': ['surface', 'google'],\n",
    "          'hse.edu': ['tomas-henders', 'cream.soda', 'zivert'],\n",
    "          'mail.ru': ['angel.down', 'joanne', 'the.fame.moster']}\n",
    "\n",
    "ls = []\n",
    "for k, v in emails.items():\n",
    "    for user in v:\n",
    "        ls.append('@'.join([user, k]))\n",
    "\n",
    "\n",
    "ls.sort()\n",
    "print(*ls, sep='\\n')"
   ]
  },
  {
   "cell_type": "markdown",
   "metadata": {},
   "source": [
    "Как известно из курса биологии, ДНК и РНК – последовательности нуклеотидов.\n",
    "Напишите программу, переводящую цепь ДНК в цепь РНК.\n",
    "G → C;\n",
    "C → G;\n",
    "T → A;\n",
    "A → U."
   ]
  },
  {
   "cell_type": "code",
   "execution_count": null,
   "metadata": {},
   "outputs": [],
   "source": [
    "bio = {'G':'C', 'C':'G', 'T':'A', 'A':'U'} # Словарь с ключами ДНК и значениями РНК\n",
    "dnk = input() # Подаем ДНК\n",
    "rnk = ''\n",
    "\n",
    "for char in dnk:\n",
    "    rnk += bio[char]\n",
    "print(rnk)"
   ]
  },
  {
   "cell_type": "markdown",
   "metadata": {},
   "source": [
    "Дана строка текста на русском языке, состоящая из слов и символов пробела. \n",
    "Словом считается последовательность букв, слова разделены одним пробелом или несколькими.\n",
    "\n",
    "Напишите программу, определяющую для каждого слова порядковый номер его вхождения в текст именно в этой форме, \n",
    "с учетом регистра. Для первого вхождения слова программа выведет \n",
    "1, для второго вхождения того же слова — 2 и т. д."
   ]
  },
  {
   "cell_type": "code",
   "execution_count": null,
   "metadata": {},
   "outputs": [],
   "source": [
    "text = input().split() # Подаем строку на вход, разбивая её на список слов\n",
    "\n",
    "dc_words = {}\n",
    "for word in text:\n",
    "    dc_words[word] = dc_words.get(word, 0) + 1 \n",
    "    print(dc_words[word], end=' ')\n",
    "    \n",
    "    "
   ]
  },
  {
   "cell_type": "markdown",
   "metadata": {},
   "source": [
    "В игре Scrabble каждая буква приносит определенное количество баллов. Общая стоимость слова – сумма баллов его букв. Чем реже буква встречается, тем больше она ценится:\n",
    "Напишите программу подсчета итоговой стоимости введенного слова."
   ]
  },
  {
   "cell_type": "code",
   "execution_count": null,
   "metadata": {},
   "outputs": [],
   "source": [
    "scrabble = {\n",
    "    1: list(\"AEILNORSTU\"),\n",
    "    2: list(\"DG\"),\n",
    "    3: list(\"BCMP\"),\n",
    "    4: list(\"FHVWY\"),\n",
    "    5: list(\"K\"),\n",
    "    8: list(\"JX\"),\n",
    "    10: list(\"QZ\")\n",
    "}\n",
    "word = input()\n",
    "\n",
    "total = 0\n",
    "\n",
    "for char in word:\n",
    "    for k, v in scrabble.items():\n",
    "        if char in v:\n",
    "            total += k\n",
    "\n",
    "print(total)"
   ]
  },
  {
   "cell_type": "markdown",
   "metadata": {},
   "source": [
    "Строка запроса (query string) — часть URL адреса, содержащая ключи и их значения. \n",
    "Она начинается после вопросительного знака и идет до конца адреса. Например:\n",
    "    https://beegeek.ru?name=timur                 # строка запроса: name=timur\n",
    "    \n",
    "Напишите функцию build_query_string(), которая принимает на вход словарь с параметрами и возвращает строку запроса, сформированную из этих параметров\n",
    " В итоговой строке параметры должны быть отсортированы в лексикографическом порядке ключей словаря"
   ]
  },
  {
   "cell_type": "code",
   "execution_count": null,
   "metadata": {},
   "outputs": [],
   "source": [
    "def build_query_string(dc):\n",
    "    ls_kv = [] # Массив куда будем складывать пару ключ-значение как один элемент\n",
    "    for k, v in dc.items(): # По каждой паре ключ-значение\n",
    "        ls_kv.append('='.join([str(k), str(v)])) # Добавляем в массив строковые ключ-значение\n",
    "    st = '&'.join(sorted(ls_kv)) # Затем, сортируем и объединяем все элементы в одну строку\n",
    "    return st\n",
    "\n",
    "\n",
    "dc = {'sport': 'hockey'} # Словарь, который задаем\n",
    "print(build_query_string(dc)) # Вызов функции\n"
   ]
  },
  {
   "cell_type": "code",
   "execution_count": null,
   "metadata": {},
   "outputs": [],
   "source": [
    "Напишите функцию merge(), объединяющую словари в один общий. \n",
    "Функция должна принимать список словарей и возвращать словарь, \n",
    "каждый ключ которого содержит множество (тип данных set) \n",
    "уникальных значений собранных из всех словарей переданного списка.\n",
    "\n",
    "# два множества. Одно будет собирать уникальные ключи, другое - значение. Первое - сортировать и преобразовать в кортеж."
   ]
  },
  {
   "cell_type": "code",
   "execution_count": null,
   "metadata": {},
   "outputs": [],
   "source": [
    "def merge(ls_dc): # Параметр - список словарей\n",
    "    \n",
    "    merge_dc = {} # Объединенный словарь\n",
    "    for dc in ls_dc: # Пробегаемся по словарю в списке\n",
    "        for k, v in dc.items(): # Пробегаемся по ключ-значению в словаре и добавляем значение в соответствующее множество\n",
    "            dictinct_values = merge_dc.get(k, set()) # Возвращает существующее множество, либо  пустое множество (если ключ не найден)\n",
    "            dictinct_values.add(v) # Добавляем значение во множество\n",
    "            merge_dc[k] = dictinct_values \n",
    "    return merge_dc\n",
    "    \n",
    "    \n",
    "# Для отладки\n",
    "ls_dc = [{}]\n",
    "print(merge(ls_dc))\n"
   ]
  },
  {
   "cell_type": "markdown",
   "metadata": {},
   "source": [
    "В файловую систему компьютера, на котором развернута наша ❤️ платформа Stepik, \n",
    "проник опасный вирус и сломал контроль прав доступа к файлам. \n",
    "Говорят, вирус написал один из студентов курса Python для начинающих.\n",
    "\n",
    "Для каждого файла известно, с какими действиями можно к нему обращаться:\n",
    "\n",
    "запись W (write, доступ на запись в файл);\n",
    "чтение R (read, доступ на чтение из файла);\n",
    "запуск X (execute, запуск на исполнение файла).\n",
    "Напишите программу для восстановления контроля прав доступа к файлам. \n",
    "Ваша программа для каждого запроса должна будет возвращать OK если выполняется допустимая операция, \n",
    "и Access denied, если операция недопустима."
   ]
  },
  {
   "cell_type": "code",
   "execution_count": null,
   "metadata": {},
   "outputs": [],
   "source": [
    "rights = {'write':'W', 'read':'R', 'execute':'X'} # Словарь с правами\n",
    "\n",
    "n = int(input()) # Ввод количества файлов\n",
    "\n",
    "ls_dc = [] # Массив словарей\n",
    "for i in range(n):\n",
    "    dc = {}\n",
    "    text = input().split()\n",
    "    dc[text[0]] = text[1:]\n",
    "    ls_dc.append(dc)\n",
    "\n",
    "m = int(input())\n",
    "\n",
    "ls_ans = []\n",
    "for i in range(m):\n",
    "    dc = {}\n",
    "    text = input().split()\n",
    "    text[0] = rights[text[0]]\n",
    "    flag = 'Access denied'\n",
    "    for dc in ls_dc:\n",
    "        for k, v in dc.items():\n",
    "            if k == text[1] and text[0] in v:\n",
    "                flag = 'OK'\n",
    "    ls_ans.append(flag)\n",
    "                \n",
    "print(*ls_ans, sep='\\n')\n",
    "    "
   ]
  },
  {
   "cell_type": "markdown",
   "metadata": {},
   "source": [
    "7\n",
    "Вячеслав Ручка 1\n",
    "Филипп Ручка 1\n",
    "Виктория Перо 3\n",
    "Вячеслав Линейка 4\n",
    "Виктория Тетрадь 7\n",
    "Вячеслав Ручка 29\n",
    "Филипп Циркуль 1"
   ]
  },
  {
   "cell_type": "code",
   "execution_count": null,
   "metadata": {},
   "outputs": [],
   "source": [
    "\n",
    "n = 3\n",
    "dc = {}\n",
    "for i in range(n):\n",
    "    name, item, count = input().split() # распаковываем список слов\n",
    "    dc.setdefault(name, {})[item] = dc[name][item] + int(count)\n",
    "print(dc)\n"
   ]
  },
  {
   "cell_type": "markdown",
   "metadata": {},
   "source": [
    "# Модуль Random"
   ]
  },
  {
   "cell_type": "markdown",
   "metadata": {},
   "source": [
    "Напишите программу, которая с помощью модуля random моделирует броски монеты. \n",
    "Программа принимает на вход количество попыток и выводит результаты бросков: \n",
    "    Орел или Решка (каждое на отдельной строке)."
   ]
  },
  {
   "cell_type": "code",
   "execution_count": null,
   "metadata": {},
   "outputs": [],
   "source": [
    "import random\n",
    "n = 7\n",
    "for i in range(n):\n",
    "    num = random.randint(0, 1)\n",
    "    if num == 0:\n",
    "        print('Орел')\n",
    "    else:\n",
    "        print('Решка')"
   ]
  },
  {
   "cell_type": "markdown",
   "metadata": {},
   "source": [
    "Напишите программу, которая с помощью модуля random моделирует броски игрального кубика c \n",
    "6 гранями. Программа принимает на вход количество попыток \n",
    "и выводит результаты бросков — выпавшее число, \n",
    "которое написано на грани кубика (каждое на отдельной строке)."
   ]
  },
  {
   "cell_type": "code",
   "execution_count": null,
   "metadata": {},
   "outputs": [],
   "source": [
    "import random\n",
    "n = int(input())    # количество попыток\n",
    "\n",
    "for _ in range(n):\n",
    "    print(random.randint(1, 6))"
   ]
  },
  {
   "cell_type": "markdown",
   "metadata": {},
   "source": [
    "Напишите программу, которая с помощью модуля random генерирует случайный пароль. \n",
    "Программа принимает на вход длину пароля и выводит случайный пароль, \n",
    "содержащий только символы английского алфавита a..z, A..Z \n",
    "(в нижнем и верхнем регистре)."
   ]
  },
  {
   "cell_type": "code",
   "execution_count": null,
   "metadata": {},
   "outputs": [],
   "source": [
    "import random\n",
    "\n",
    "length_password = int(input())\n",
    "\n",
    "password = ''\n",
    "\n",
    "for _ in range(length_password):\n",
    "    ans = random.randint(65, 122)\n",
    "    while ans in list(range(91, 97)):\n",
    "        ans = random.randint(65, 122)\n",
    "    password += chr(ans)\n",
    "    \n",
    "print(password)"
   ]
  },
  {
   "cell_type": "markdown",
   "metadata": {},
   "source": [
    "Лотерейный билет содержит 7 чисел из диапазона от 1 до 49 (включительно).\n",
    "Напишите программу, которая с помощью модуля random генерирует 7 различных случайных чисел для лотерейного билета. \n",
    "Программа должна вывести числа в порядке возрастания на одной строке через один символ пробела."
   ]
  },
  {
   "cell_type": "code",
   "execution_count": null,
   "metadata": {},
   "outputs": [],
   "source": [
    "import random\n",
    "\n",
    "dictinct_nums = set() # Создамим множество чисел\n",
    "\n",
    "while len(dictinct_nums) < 7:\n",
    "    num = random.randint(1, 49)\n",
    "    dictinct_nums.add(num) # Добавляем число\n",
    "    \n",
    "print(*sorted(dictinct_nums), sep=' ')"
   ]
  },
  {
   "cell_type": "markdown",
   "metadata": {},
   "source": [
    "IP-адрес состоит из четырех чисел из диапазона от 0 до 255 (включительно) разделенных точкой.\n",
    "Напишите функцию generate_ip(), которая с помощью модуля random \n",
    "генерирует и возвращает случайный корректный IP-адрес."
   ]
  },
  {
   "cell_type": "code",
   "execution_count": null,
   "metadata": {},
   "outputs": [],
   "source": [
    "import random\n",
    "\n",
    "def generate_ip():\n",
    "    ls = [str(random.randint(0, 255)) for _ in range(4)]\n",
    "    random_ip = '.'.join(ls)\n",
    "    return random_ip\n",
    "\n",
    "print(generate_ip())"
   ]
  },
  {
   "cell_type": "markdown",
   "metadata": {},
   "source": [
    "Почтовый индекс в Латверии имеет вид: \n",
    "LetterLetterNumber_NumberLetterLetter, где Letter – заглавная буква английского алфавита, \n",
    "Number – число от 0 до 99 (включительно)."
   ]
  },
  {
   "cell_type": "code",
   "execution_count": null,
   "metadata": {},
   "outputs": [],
   "source": [
    "from random import random, randint, randrange\n",
    "\n",
    "def generate_index():\n",
    "    index = ''\n",
    "    count = 0\n",
    "    while count < 7:\n",
    "        count += 1\n",
    "        if count in (1, 2, 6, 7):\n",
    "            c = chr(randint(ord('A'), ord('Z')))\n",
    "        elif count in (3, 5):\n",
    "            c = str(randrange(10))\n",
    "        else:\n",
    "            c = '_'\n",
    "        index += c\n",
    "    return index\n",
    "\n",
    "print(generate_index())"
   ]
  },
  {
   "cell_type": "markdown",
   "metadata": {},
   "source": [
    "Напишите программу, которая с помощью модуля random перемешивает случайным образом содержимое матрицы (двумерного списка)."
   ]
  },
  {
   "cell_type": "code",
   "execution_count": null,
   "metadata": {},
   "outputs": [],
   "source": [
    "from random import shuffle\n",
    "matrix = [[1, 2, 3, 4],\n",
    "          [5, 6, 7, 8],\n",
    "          [9, 10, 11, 12],\n",
    "          [13, 14, 15, 16]]\n",
    "\n",
    "shuffle(matrix)\n",
    "print(matrix)"
   ]
  },
  {
   "cell_type": "markdown",
   "metadata": {},
   "source": [
    "Напишите программу, которая с помощью модуля random генерирует 100 случайных номеров лотерейных билетов и выводит их, \n",
    "каждый на отдельной строке. Обратите внимание, вы должны придерживаться следующих условий:\n",
    "-номер не может начинаться с нулей;\n",
    "-номер лотерейного билета должен состоять из 7 цифр;\n",
    "-все 100 лотерейных билетов должны быть различными."
   ]
  },
  {
   "cell_type": "code",
   "execution_count": null,
   "metadata": {
    "scrolled": true
   },
   "outputs": [],
   "source": [
    "from random import random, randrange\n",
    "\n",
    "def create_ticket():\n",
    "    ticket = randrange(1000000, 10000000)\n",
    "    return ticket\n",
    "\n",
    "tickets = set() # Уникальные билеты\n",
    "n = 100\n",
    "for _ in range(100):\n",
    "    ticket = create_ticket()\n",
    "    while ticket in tickets:\n",
    "        ticket = create_ticket()\n",
    "    tickets.add(ticket)\n",
    "    print(ticket)"
   ]
  },
  {
   "cell_type": "markdown",
   "metadata": {},
   "source": [
    "Анаграмма – это слово, образованное путем перестановки букв, составляющих другое слово.\n",
    "Например, слова пила и липа или пост и стоп – анаграммы.\n",
    "Напишите программу, которая считывает одно слово и выводит с помощью модуля random его случайную анаграмму.\n",
    "Примечание. Обратите внимание на то, что метод shuffle() работает со списком, а не со строкой."
   ]
  },
  {
   "cell_type": "code",
   "execution_count": null,
   "metadata": {},
   "outputs": [],
   "source": [
    "from random import random, randrange, shuffle\n",
    "\n",
    "word = input()\n",
    "ls_chars = list(word)\n",
    "shuffle(ls_chars)\n",
    "ana = ''.join(ls_chars)\n",
    "print(ana)"
   ]
  },
  {
   "cell_type": "markdown",
   "metadata": {},
   "source": [
    "Для игры в бинго требуется карточка размером \n",
    "5×5, содержащая различные (уникальные) целые числа от 1 до 75 (включительно), \n",
    "при этом центральная клетка является пустой (она заполняется числом 0).\n",
    "Напишите программу, которая с помощью модуля random генерирует и выводит случайную карточку для игры в бинго."
   ]
  },
  {
   "cell_type": "code",
   "execution_count": null,
   "metadata": {},
   "outputs": [],
   "source": [
    "from random import randint # Импорт функции\n",
    "\n",
    "sq_mx = [[0 for _ in range(5)] for i in range(5)] # Квадратная матрица, заполненная нулями\n",
    "\n",
    "dictinct_nums = set() # Уникальные числа\n",
    "\n",
    "for i in range(5): # Пробегаемся по строкам\n",
    "    for j in range(5): # Пробегаемся по столбцам\n",
    "        if i == j == 2: # Если индекс столбца равен индексу строки и равен значению 2, то это центральный элемент матрицы\n",
    "            continue\n",
    "        else:\n",
    "            rand_num = randint(1, 75) # Генерируем случайное число\n",
    "            while rand_num in dictinct_nums: # Пока случайное число встречается в уникальных числах, то меняем на другое случайное число\n",
    "                rand_num = randint(1, 75)\n",
    "            sq_mx[i][j] = rand_num\n",
    "            dictinct_nums.add(rand_num)\n",
    "            \n",
    "for i in range(5):\n",
    "    for j in range(5):\n",
    "        print(str(sq_mx[i][j]).ljust(3), end=' ')\n",
    "    print()"
   ]
  },
  {
   "cell_type": "markdown",
   "metadata": {},
   "source": [
    "Напишите программу, которая случайным образом назначает каждому ученику его тайного друга, \n",
    "который будет вместе с ним решать задачи по программированию."
   ]
  },
  {
   "cell_type": "code",
   "execution_count": null,
   "metadata": {
    "scrolled": true
   },
   "outputs": [],
   "source": [
    "from random import shuffle\n",
    "\n",
    "# Определяет, есть ли совпадающие элементы в обоих списках\n",
    "def is_intersection_ls(ls1, ls2):\n",
    "    for i in range(len(ls1)): # Пробегаемся по индексам списков\n",
    "        if ls1[i] == ls2[i]: # Если хоть один элемент совпадает с соответствующем элементом из другого списка, то возвращаем True\n",
    "            return True\n",
    "    else: # Если цикл завершился нормально, то возвращаем False\n",
    "        return False\n",
    "    \n",
    "\n",
    "n = int(input()) # Количество учеников\n",
    "pupils = [input() for i in range(n)] # Список учеников\n",
    "\n",
    "pupils_2 = pupils.copy() # Второй список учеников\n",
    "\n",
    "while True: # Запускаем бесконечный цикл\n",
    "    shuffle(pupils_2) # Перемешиваем второй список\n",
    "    if is_intersection_ls(pupils, pupils_2) == False: # Если совпадающих элементов нет, то\n",
    "        break # Прерываем бесконечный цикл\n",
    "    \n",
    "for i in range(len(pupils)):\n",
    "    print(' - '.join([pupils[i], pupils_2[i]])) # Печатаем соответствующие элементы через дефис\n"
   ]
  },
  {
   "cell_type": "markdown",
   "metadata": {},
   "source": [
    "Напишите программу, которая с помощью модуля random генерирует n паролей длиной m символов, \n",
    "состоящих из строчных и прописных английских букв и цифр, кроме тех, которые легко перепутать между собой:\n",
    "\n",
    "«l» (L маленькое);\n",
    "«I» (i большое);\n",
    "«1» (цифра);\n",
    "«o» и «O» (маленькая и большая буквы);\n",
    "«0» (цифра).\n",
    "\n",
    "Дополнительное условие: в каждом пароле обязательно должна присутствовать хотя бы одна цифра и как минимум по одной букве в верхнем и нижнем регистре."
   ]
  },
  {
   "cell_type": "code",
   "execution_count": null,
   "metadata": {
    "scrolled": true
   },
   "outputs": [],
   "source": [
    "from random import sample\n",
    "\n",
    "def generate_passwords(count, length):\n",
    "    # Генерирует пароль с указанной длиной\n",
    "    def generate_password(length):\n",
    "        prohibited_chars = ('l', 'I', 'o', 'O')\n",
    "        digits = [str(i) for i in range(2, 10)]\n",
    "        upper_chars = [chr(i) for i in range(ord('A'), ord('Z')+1) if chr(i) not in prohibited_chars]\n",
    "        lower_chars = [chr(i) for i in range(ord('a'), ord('z')+1) if chr(i) not in prohibited_chars]\n",
    "        chars_and_digits = digits + upper_chars + lower_chars\n",
    "        \n",
    "        is_digit = False\n",
    "        is_char = False\n",
    "        is_upper_char = False\n",
    "        \n",
    "        while is_digit == False or is_char == False or is_upper_char == False:\n",
    "            is_digit = False\n",
    "            is_char = False\n",
    "            is_upper_char = False\n",
    "            ls = sample(chars_and_digits, length)\n",
    "            for c in ls:\n",
    "                if c.isdigit():\n",
    "                    is_digit = True\n",
    "                elif c.isalpha():\n",
    "                    if c.islower() == True:\n",
    "                        is_char = True\n",
    "                    elif c.isupper():\n",
    "                        is_upper_char = True\n",
    "        password = ''.join(ls)\n",
    "        return password\n",
    "    \n",
    "    old_passwords = set()\n",
    "    passwords = []\n",
    "    for i in range(count):\n",
    "        new_password = generate_password(length) # Генерация нового пароля\n",
    "        while new_password in old_passwords: # Если новый пароль повторяется, то генерируем пока не повторится\n",
    "            new_password = generate_password(length) \n",
    "        passwords.append(new_password)\n",
    "    return passwords\n",
    "\n",
    "\n",
    "    \n",
    "n, m = int(input()), int(input())\n",
    "\n",
    "passwords = generate_passwords(n, m)\n",
    "print(*passwords, sep='\\n')"
   ]
  },
  {
   "cell_type": "markdown",
   "metadata": {},
   "source": [
    "Напишите программу, которая при помощи метода Монте-Карло вычисляет площадь фигуры, задаваемой с помощью системы неравенств:"
   ]
  },
  {
   "cell_type": "code",
   "execution_count": null,
   "metadata": {},
   "outputs": [],
   "source": [
    "from random import uniform\n",
    "\n",
    "n = 10**6   # количество испытаний\n",
    "s0 = (2 - (-2)) * (2 - (-2))   # площадь квадрата [-2,2] x [-2,2]\n",
    "k = 0       # количество точек в фигуре\n",
    "\n",
    "for _ in range(n):\n",
    "    x = uniform(-2, 2)\n",
    "    y = uniform(-2, 2)\n",
    "\n",
    "    if (x**3 + y**4 + 2 >= 0) and (3*x + y**2 <= 2):\n",
    "        k += 1\n",
    "\n",
    "s = (k / n) * s0\n",
    "print(s)\n"
   ]
  },
  {
   "cell_type": "markdown",
   "metadata": {},
   "source": [
    "Напишите программу, которая при помощи метода Монте-Карло определяет приближённое значение числа Пи."
   ]
  },
  {
   "cell_type": "code",
   "execution_count": null,
   "metadata": {},
   "outputs": [],
   "source": [
    "from random import uniform\n",
    "\n",
    "n = 10**6   # количество испытаний\n",
    "s0 = 4 # Площадь квадрата\n",
    "k = 0 # Количество точек в круге\n",
    "\n",
    "for _ in range(n):\n",
    "    x = uniform(-1, 1)\n",
    "    y = uniform(-1, 1)\n",
    "    if x ** 2 + y ** 2 <= 1:\n",
    "        k += 1\n",
    "\n",
    "s = (k / n) * s0\n",
    "print(s)"
   ]
  },
  {
   "cell_type": "markdown",
   "metadata": {},
   "source": [
    "# Модуль Decimal, Fractions, Complex"
   ]
  },
  {
   "cell_type": "markdown",
   "metadata": {},
   "source": [
    "Decimal числа, разделенные символом пробела, хранятся в строковой переменной s. \n",
    "Дополните приведенный код так, чтобы он вывел сумму наибольшего и наименьшего Decimal числа."
   ]
  },
  {
   "cell_type": "code",
   "execution_count": null,
   "metadata": {},
   "outputs": [],
   "source": [
    "from decimal import Decimal as D\n",
    "\n",
    "s = '0.77 4.03 9.06 3.80 7.08 5.88 0.23 4.65 2.79 0.90 4.23 2.15 3.24 8.57 0.10 8.57 1.49 5.64 3.63 8.36 1.56 6.67 1.46 5.26 4.83 7.23 1.22 1.02 7.82 9.97 5.40 9.79 9.82 2.78 2.96 0.07 1.72 7.24 7.84 9.23 1.71 6.24 5.78 5.37 0.03 9.60 8.86 2.73 5.83 6.50'\n",
    "\n",
    "# ls = [float(num) for num in s.split()]\n",
    "# float_sum = min(ls) + max(ls)\n",
    "# print(float_sum) # 10.0\n",
    "\n",
    "ls = [D(num) for num in s.split()]\n",
    "\n",
    "dec_sum = min(ls) + max(ls)\n",
    "print(dec_sum)"
   ]
  },
  {
   "cell_type": "markdown",
   "metadata": {},
   "source": [
    "Decimal числа, разделенные символом пробела, хранятся в строковой переменной s. \n",
    "Дополните приведенный код так, чтобы он вывел на первой строке сумму всех чисел, а на второй строке \n",
    "5 самых больших чисел в порядке убывания, разделенных символом пробела."
   ]
  },
  {
   "cell_type": "code",
   "execution_count": null,
   "metadata": {},
   "outputs": [],
   "source": [
    "from decimal import Decimal as D\n",
    "\n",
    "s = '9.73 8.84 8.92 9.60 9.32 8.97 8.53 1.26 6.62 9.85 1.85 1.80 0.83 6.75 9.74 9.11 9.14 5.03 5.03 1.34 3.52 8.09 7.89 8.24 8.23 5.22 0.30 2.59 1.25 6.24 2.14 7.54 5.72 2.75 2.32 2.69 9.32 8.11 4.53 0.80 0.08 9.36 5.22 4.08 3.86 5.56 1.43 8.36 6.29 5.13'\n",
    "\n",
    "ls = [D(num) for num in s.split()]\n",
    "\n",
    "sum_nums = sum(ls)\n",
    "ls.sort(reverse=True)\n",
    "\n",
    "print(sum_nums)\n",
    "print(*ls[0:5])\n"
   ]
  },
  {
   "cell_type": "markdown",
   "metadata": {},
   "source": [
    "На вход программе подается Decimal число d. \n",
    "Напишите программу, которая вычисляет значение выражения:"
   ]
  },
  {
   "cell_type": "code",
   "execution_count": null,
   "metadata": {},
   "outputs": [],
   "source": [
    "from decimal import Decimal\n",
    "\n",
    "d = input()\n",
    "d = Decimal(d)\n",
    "\n",
    "\n",
    "print(d.exp() + d.ln() + d.log10() + d.sqrt())\n",
    "\n"
   ]
  },
  {
   "cell_type": "markdown",
   "metadata": {},
   "source": [
    "Десятичные числа хранятся в списке numbers в виде строк. Дополните приведенный код так, \n",
    "чтобы он для каждого десятичного числа вывел \n",
    "его представление в виде обыкновенной дроби в формате:"
   ]
  },
  {
   "cell_type": "code",
   "execution_count": null,
   "metadata": {},
   "outputs": [],
   "source": [
    "from fractions import Fraction\n",
    "\n",
    "numbers = ['6.34', '4.08', '3.04', '7.49', '4.45', '5.39', \n",
    "           '7.82', '2.76', '0.71', '1.97', '2.54', '3.67', \n",
    "           '0.14', '4.29', '1.84', '4.07', '7.26', '9.37', \n",
    "           '8.11', '4.30', '7.16', '2.46', '1.27', '0.29', \n",
    "           '5.12', '4.02', '6.95', '1.62', '2.26', '0.45', \n",
    "           '6.91', '7.39', '0.52', '1.88', '8.38', '0.75', \n",
    "           '0.32', '4.81', '3.31', '4.63', '7.84', '2.25', \n",
    "           '1.10', '3.35', '2.05', '7.87', '2.40', '1.20', '2.58', '2.46']\n",
    "\n",
    "for num in numbers:\n",
    "    f_num = Fraction(num)\n",
    "    print(f'{num} = {f_num}')"
   ]
  },
  {
   "cell_type": "markdown",
   "metadata": {},
   "source": [
    "Десятичные числа, разделенные символом пробела, хранятся в строковой переменной s. \n",
    "Дополните приведенный код так, чтобы он вывел сумму наибольшего и наименьшего числа в виде обыкновенной дроби."
   ]
  },
  {
   "cell_type": "code",
   "execution_count": null,
   "metadata": {},
   "outputs": [],
   "source": [
    "from fractions import Fraction\n",
    "\n",
    "s = '0.78 4.3 9.6 3.88 7.08 5.88 0.23 4.65 2.79 0.90 4.23 2.15 3.24 8.57 0.10 8.57 1.49 5.64 3.63 8.36 1.56 6.67 1.46 5.26 4.83 7.13 1.22 1.02 7.82 9.97 5.40 9.79 9.82 2.78 2.96 0.07 1.72 7.24 7.84 9.23 1.71 6.24 5.78 5.37 0.03 9.60 8.86 2.73 5.83 6.50 0.123 0.00021'\n",
    "\n",
    "f_nums = [Fraction(num) for num in s.split()] \n",
    "ans = max(f_nums) + min(f_nums)\n",
    "print(ans)"
   ]
  },
  {
   "cell_type": "markdown",
   "metadata": {},
   "source": [
    "Даны два натуральных числа m и n. Напишите программу, которая сокращает дробь m/n и выводит ее."
   ]
  },
  {
   "cell_type": "code",
   "execution_count": null,
   "metadata": {},
   "outputs": [],
   "source": [
    "from fractions import Fraction\n",
    "\n",
    "m, n = int(input()), int(input())\n",
    "\n",
    "ans = Fraction(m, n)\n",
    "print(ans)"
   ]
  },
  {
   "cell_type": "markdown",
   "metadata": {},
   "source": [
    "Даны две дроби в формате a/b. Напишите программу, которая вычисляет и выводит их сумму, разность, произведение и частное."
   ]
  },
  {
   "cell_type": "code",
   "execution_count": null,
   "metadata": {},
   "outputs": [],
   "source": [
    "from fractions import Fraction\n",
    "\n",
    "a, b = input(), input()\n",
    "print(f'{a} + {b} = {Fraction(a) + Fraction(b)}')\n",
    "print(f'{a} - {b} = {Fraction(a) - Fraction(b)}')\n",
    "print(f'{a} * {b} = {Fraction(a) * Fraction(b)}')\n",
    "print(f'{a} / {b} = {Fraction(a) / Fraction(b)}')"
   ]
  },
  {
   "cell_type": "markdown",
   "metadata": {},
   "source": [
    "На вход программе подается натуральное число n. Напишите программу, которая вычисляет и выводит рациональное число, равное значению выражения:"
   ]
  },
  {
   "cell_type": "code",
   "execution_count": null,
   "metadata": {},
   "outputs": [],
   "source": [
    "from fractions import Fraction\n",
    "\n",
    "n = int(input())\n",
    "\n",
    "total = 0\n",
    "\n",
    "for i in range(1, n+1):\n",
    "    total += Fraction(1, i ** 2)\n",
    "    \n",
    "print(total)"
   ]
  },
  {
   "cell_type": "markdown",
   "metadata": {},
   "source": [
    "На вход программе подается натуральное число n. Напишите программу, которая вычисляет и выводит рациональное число, равное значению выражения:"
   ]
  },
  {
   "cell_type": "code",
   "execution_count": null,
   "metadata": {},
   "outputs": [],
   "source": [
    "from fractions import Fraction\n",
    "from math import factorial\n",
    "\n",
    "n = int(input())\n",
    "\n",
    "total = sum((Fraction(1, factorial(i)) for i in range(1, n + 1)))\n",
    "print(total)"
   ]
  },
  {
   "cell_type": "markdown",
   "metadata": {},
   "source": [
    "# Функции"
   ]
  },
  {
   "cell_type": "markdown",
   "metadata": {},
   "source": [
    "Напишите функцию matrix(), которая создает, заполняет и возвращает матрицу заданного размера. При этом (в зависимости от переданных аргументов) она должна вести себя так:\n",
    "\n",
    "matrix() — возвращает матрицу 1×1, в которой единственное число равно нулю;\n",
    "matrix(n) — возвращает матрицу nxn, заполненную нулями;\n",
    "matrix(n, m) — возвращает матрицу из n строк и m столбцов, заполненную нулями;\n",
    "matrix(n, m, value) — возвращает матрицу из n строк и m столбцов, в которой каждый элемент равен числу value."
   ]
  },
  {
   "cell_type": "code",
   "execution_count": null,
   "metadata": {},
   "outputs": [],
   "source": [
    "def matrix(n=1, m=None, value=0):\n",
    "    if m is None: # Если m не передали, то m == n\n",
    "        m = n\n",
    "    mx = [[value for j in range(m)] for i in range(n)]\n",
    "    return(mx)\n",
    "            \n",
    "print(matrix(4, 3, 6))"
   ]
  },
  {
   "cell_type": "markdown",
   "metadata": {},
   "source": [
    "Напишите функцию count_args(), которая принимает произвольное количество аргументов \n",
    "и возвращает количество переданных в нее аргументов."
   ]
  },
  {
   "cell_type": "code",
   "execution_count": null,
   "metadata": {},
   "outputs": [],
   "source": [
    "def count_args(*args):\n",
    "    return len(args)\n",
    "\n",
    "print(count_args())\n",
    "print(count_args(10))\n",
    "print(count_args('stepik', 'beegeek'))\n",
    "print(count_args([], (''), 'a', 12, False))"
   ]
  },
  {
   "cell_type": "markdown",
   "metadata": {},
   "source": [
    "Напишите функцию sq_sum(), которая принимает произвольное количество числовых аргументов и возвращает сумму их квадратов."
   ]
  },
  {
   "cell_type": "code",
   "execution_count": null,
   "metadata": {},
   "outputs": [],
   "source": [
    "def sq_sum(*args):\n",
    "    nums = list(args) # Преобразовываем кортеж в список\n",
    "    res = sum((num ** 2 for num in nums)) # Сумма квадратов элементов\n",
    "    return res\n",
    "\n",
    "print(sq_sum())\n",
    "print(sq_sum(2))\n",
    "print(sq_sum(1.5, 2.5))\n",
    "print(sq_sum(1, 2, 3))\n",
    "print(sq_sum(1, 2, 3, 4, 5, 6, 7, 8, 9, 10))"
   ]
  },
  {
   "cell_type": "markdown",
   "metadata": {},
   "source": [
    "Напишите функцию mean(), которая принимает произвольное количество аргументов и \n",
    "возвращает среднее арифметическое переданных в нее числовых (int или float) аргументов."
   ]
  },
  {
   "cell_type": "code",
   "execution_count": null,
   "metadata": {
    "scrolled": false
   },
   "outputs": [],
   "source": [
    "def mean(*args):\n",
    "    nums = [num for num in args if type(num) in (int, float)] # Если элемент имеет тип float или int, то добавляем в список\n",
    "    if bool(nums) == False:\n",
    "        return 0\n",
    "    else:\n",
    "        mean = sum(nums) / len(nums)\n",
    "        return mean\n",
    "\n",
    "print(mean())\n",
    "print(mean(7))\n",
    "print(mean(1.5, True, ['stepik'], 'beegeek', 2.5, (1, 2)))\n",
    "print(mean(True, ['stepik'], 'beegeek', (1, 2)))\n",
    "print(mean(-1, 2, 3, 10, ('5')))\n",
    "print(mean(1, 2, 3, 4, 5, 6, 7, 8, 9, 10))"
   ]
  },
  {
   "cell_type": "markdown",
   "metadata": {},
   "source": [
    "Напишите функцию greet(), которая принимает произвольное количество аргументов строк имен (как минимум одно) \n",
    "и возвращает приветствие в соответствии с образцом."
   ]
  },
  {
   "cell_type": "code",
   "execution_count": 3,
   "metadata": {},
   "outputs": [
    {
     "name": "stdout",
     "output_type": "stream",
     "text": [
      "Hello, Timur!\n",
      "Hello, Timur and Roman!\n",
      "Hello, Timur and Roman and Ruslan!\n"
     ]
    }
   ],
   "source": [
    "def greet(name, *args):\n",
    "    ls1 = [name]\n",
    "    ls2 = list(args) # Кортеж -> список\n",
    "    ls = ls1 + ls2\n",
    "    for i in range(len(ls)): # Для каждого пронумерованного элемента\n",
    "        if i == 0: # Если индекс нулевой, то добавляем Hello,\n",
    "            ls[i] = 'Hello, ' + ls[i]\n",
    "        else: # Иначе, добавляем and\n",
    "            ls[i] = 'and ' + ls[i]\n",
    "        if i == (len(ls) - 1): # Если индекс равен последнему, то добавляем !\n",
    "            ls[i] = ls[i] + '!'\n",
    "    ans = ' '.join(ls)\n",
    "    return ans\n",
    "\n",
    "print(greet('Timur'))\n",
    "print(greet('Timur', 'Roman'))\n",
    "print(greet('Timur', 'Roman', 'Ruslan'))"
   ]
  },
  {
   "cell_type": "markdown",
   "metadata": {},
   "source": [
    "Напишите функцию print_products(), которая принимает произвольное количество аргументов \n",
    "и выводит список продуктов (любая непустая строка) по образцу: <номер продукта>) <название продукта> \n",
    "    (нумерация продуктов начинается с единицы). \n",
    "    Если среди переданных аргументов нет ни одного продукта, необходимо вывести текст Нет продуктов."
   ]
  },
  {
   "cell_type": "code",
   "execution_count": 24,
   "metadata": {},
   "outputs": [
    {
     "name": "stdout",
     "output_type": "stream",
     "text": [
      "1) Бананы\n",
      "2) Яблоки\n",
      "3) Макароны\n",
      "Нет продуктов\n"
     ]
    }
   ],
   "source": [
    "def print_products(*args):\n",
    "    products = [prod for prod in args if type(prod) is str and bool(prod)] # Список продуктов\n",
    "    \n",
    "    for i in range(0, len(products)):\n",
    "        products[i] = str(i+1) + ') ' + products[i]\n",
    "        print(products[i])\n",
    "    if len(products) == 0:\n",
    "        print('Нет продуктов')\n",
    "\n",
    "print_products('Бананы', [1, 2], ('Stepik',), 'Яблоки', '', 'Макароны', 5, True)\n",
    "print_products([4], {}, 1, 2, {'Beegeek'}, '')"
   ]
  },
  {
   "cell_type": "markdown",
   "metadata": {},
   "source": [
    "Напишите функцию info_kwargs(), которая принимает произвольное количество именованных аргументов \n",
    "и печатает именованные аргументы в соответствии с образцом: <имя аргумента>: <значение аргумента>, \n",
    "        при этом имена аргументов следуют в алфавитном порядке (по возрастанию)."
   ]
  },
  {
   "cell_type": "code",
   "execution_count": 34,
   "metadata": {},
   "outputs": [],
   "source": [
    "def info_kwargs(**kwargs):\n",
    "    d = {k:kwargs[k] for k in sorted(kwargs)}\n",
    "    for k, v in d.items():\n",
    "        print(f'{k}: {v}')\n",
    "\n",
    "\n",
    "info_kwargs(first_name='Timur', last_name='Guev', age=28, job='teacher') "
   ]
  },
  {
   "cell_type": "markdown",
   "metadata": {},
   "source": [
    "Дан список numbers, содержащий кортежи чисел. Напишите программу, \n",
    "которая с помощью встроенных функций min() и max() выводит те кортежи (каждый на отдельной строке), \n",
    "которые имеют минимальное и максимальное среднее арифметическое значение элементов."
   ]
  },
  {
   "cell_type": "code",
   "execution_count": 5,
   "metadata": {},
   "outputs": [
    {
     "name": "stdout",
     "output_type": "stream",
     "text": [
      "(-9, 8, 4)\n",
      "(81, 39)\n"
     ]
    }
   ],
   "source": [
    "def calc_avg(c):\n",
    "    count, s = (0, 0)\n",
    "    for elem in c:\n",
    "        count += 1\n",
    "        s += elem\n",
    "    avg = s / count\n",
    "    return avg\n",
    "    \n",
    "\n",
    "numbers = [(10, 10, 10), (30, 45, 56), (81, 39), (1, 2, 3), (12,), (-2, -4, 100), (1, 2, 99), (89, 9, 34), (10, 20, 30, -2), (50, 40, 50), (34, 78, 65), (-5, 90, -1, -5), (1, 2, 3, 4, 5, 6), (-9, 8, 4), (90, 1, -45, -21)]\n",
    "\n",
    "nums = sorted(numbers, key=calc_avg)\n",
    "print(nums[0])\n",
    "print(nums[-1])"
   ]
  },
  {
   "cell_type": "markdown",
   "metadata": {},
   "source": [
    "Напишите программу, которая сортирует список points координат точек плоскости в соответствии с расстоянием \n",
    "от начала координат (точки (0;0)). Программа должна вывести отсортированный список."
   ]
  },
  {
   "cell_type": "code",
   "execution_count": 11,
   "metadata": {},
   "outputs": [],
   "source": [
    "from math import sqrt, pow\n",
    "\n",
    "def distance_from_center(c):\n",
    "    x, y = c # Распаковываем кортеж\n",
    "    s = sqrt(pow(x, 2) + pow(y, 2))\n",
    "    return s\n",
    "\n",
    "points = [(-1, 1), (5, 6), (12, 0), (4, 3), (0, 1), (-3, 2), (0, 0), (-1, 3), (2, 0), (3, 0), (-9, 1), (3, 6), (8, 8)]\n",
    "\n",
    "points.sort(key=distance_from_center)\n",
    "print(points)"
   ]
  },
  {
   "cell_type": "markdown",
   "metadata": {},
   "source": [
    "Дан список numbers, содержащий кортежи чисел. Напишите программу, которая сортирует и выводит список numbers в соответствии с суммой минимального и максимального элемента кортежа."
   ]
  },
  {
   "cell_type": "code",
   "execution_count": 16,
   "metadata": {},
   "outputs": [
    {
     "name": "stdout",
     "output_type": "stream",
     "text": [
      "[(1, 2, 3), (10, 10, 10), (10, 20, 30), (12, 45, 67), (-5, 90, -1), (30, 45, 56), (50, 40, 50), (-2, -4, 100), (1, 2, 99), (34, 78, 65), (81, 80, 39), (89, 90, 34)]\n"
     ]
    }
   ],
   "source": [
    "def sum_max_and_min(c):\n",
    "    s = min(c) + max(c)\n",
    "    return s\n",
    "\n",
    "\n",
    "numbers = [(10, 10, 10), (30, 45, 56), (81, 80, 39), (1, 2, 3), (12, 45, 67), (-2, -4, 100), (1, 2, 99), (89, 90, 34), (10, 20, 30), (50, 40, 50), (34, 78, 65), (-5, 90, -1)]\n",
    "\n",
    "numbers.sort(key=sum_max_and_min)\n",
    "print(numbers)"
   ]
  },
  {
   "cell_type": "markdown",
   "metadata": {},
   "source": [
    "Список athletes содержит сведения о спортсменах в виде кортежей: (имя, возраст, рост, вес).\n",
    "\n",
    "Напишите программу сортировки списка спортсменов по указанному полю:"
   ]
  },
  {
   "cell_type": "code",
   "execution_count": 44,
   "metadata": {},
   "outputs": [
    {
     "name": "stdout",
     "output_type": "stream",
     "text": [
      "1\n",
      "Амир 16 170 70\n",
      "Дима 10 130 35\n",
      "Матвей 17 168 68\n",
      "Петя 15 190 90\n",
      "Рома 16 188 100\n",
      "Руслан 9 140 33\n",
      "Рустам 10 128 30\n",
      "Тимур 11 135 39\n"
     ]
    }
   ],
   "source": [
    "def sort_tuple(c, i=int(input())): # Передаем кортеж и задаем номер поля\n",
    "    return c[i-1]\n",
    "\n",
    "# Начальный список\n",
    "athletes = [('Дима', 10, 130, 35), ('Тимур', 11, 135, 39), ('Руслан', 9, 140, 33), ('Рустам', 10, 128, 30), \n",
    "            ('Амир', 16, 170, 70), ('Рома', 16, 188, 100), ('Матвей', 17, 168, 68), ('Петя', 15, 190, 90)]\n",
    "\n",
    "# Сортируем список по функции, сортирующей кортежи по определенному полю\n",
    "athletes.sort(key=sort_tuple)\n",
    "\n",
    "for t in athletes: # Для каждого кортежа в списке\n",
    "    print(*t) # Печатаем распакованный кортеж"
   ]
  },
  {
   "cell_type": "markdown",
   "metadata": {},
   "source": [
    "Напишите программу, которая принимает число и название функции, а выводит результат применения функции к данному числу.\n",
    "\n",
    "Список возможных функций:\n",
    "\n",
    "квадрат: функция принимает число и возвращает его квадрат;\n",
    "куб: функция принимает число и возвращает его куб;\n",
    "корень: функция принимает число и возвращает корень квадратный из этого числа;\n",
    "модуль: функция принимает число и возвращает его модуль;\n",
    "синус: функция принимает число (в радианах) и возвращает синус этого числа."
   ]
  },
  {
   "cell_type": "code",
   "execution_count": 74,
   "metadata": {},
   "outputs": [
    {
     "name": "stdout",
     "output_type": "stream",
     "text": [
      "5\n",
      "квадрат\n"
     ]
    },
    {
     "data": {
      "text/plain": [
       "25"
      ]
     },
     "execution_count": 74,
     "metadata": {},
     "output_type": "execute_result"
    }
   ],
   "source": [
    "from math import sin\n",
    "def square(x):\n",
    "    return x ** 2\n",
    "def cube(x):\n",
    "    return x ** 3\n",
    "def f_sqrt(x):\n",
    "    return x ** 0.5\n",
    "def f_abc(x):\n",
    "    return abs(x)\n",
    "def f_sin(x):\n",
    "    return sin(x)\n",
    "\n",
    "\n",
    "n = int(input())\n",
    "m = input()\n",
    "\n",
    "# Словарь функции\n",
    "dc = {'квадрат':square, 'куб':cube, 'корень':f_sqrt, 'модуль':f_abc, 'синус':f_sin}\n",
    "print(dc[m](n)) # По введенному ключу словаря получаем функцию, в которую передаем заданное число"
   ]
  },
  {
   "cell_type": "markdown",
   "metadata": {},
   "source": [
    "На вход программе подается строка натуральных чисел. Из элементов строки формируется список чисел.\n",
    "Напишите программу сортировки списка чисел в порядке неубывания суммы их цифр. \n",
    "При этом, если два числа имеют одинаковую сумму цифр, \n",
    "следует сохранить их взаиморасположение в начальном списке."
   ]
  },
  {
   "cell_type": "code",
   "execution_count": 85,
   "metadata": {},
   "outputs": [
    {
     "name": "stdout",
     "output_type": "stream",
     "text": [
      "12 14 79 7 4 123 45 90 111\n",
      "12 111 4 14 123 7 45 90 79\n"
     ]
    }
   ],
   "source": [
    "def sum_digits(x):\n",
    "    s = 0\n",
    "    for i in range(len(x)):\n",
    "        s += int(x[i])\n",
    "    return s\n",
    "ls = input().split()\n",
    "ls.sort(key=sum_digits)\n",
    "print(*ls)"
   ]
  },
  {
   "cell_type": "markdown",
   "metadata": {},
   "source": [
    "На вход программе подается строка натуральных чисел. Из элементов строки формируется список чисел.\n",
    "Напишите программу сортировки списка чисел в порядке неубывания суммы их цифр. \n",
    "При этом, если у двух чисел одинаковая сумма цифр, их следует вывести в порядке неубывания."
   ]
  },
  {
   "cell_type": "code",
   "execution_count": 113,
   "metadata": {},
   "outputs": [
    {
     "name": "stdout",
     "output_type": "stream",
     "text": [
      "111 14 79 7 4 123 90 45 12 171\n",
      "12 111 4 14 123 7 45 90 171 79\n"
     ]
    }
   ],
   "source": [
    "def sum_digits(x):\n",
    "    x = str(x)\n",
    "    s = 0\n",
    "    for i in range(len(x)):\n",
    "        s += int(x[i])\n",
    "    return s\n",
    "\n",
    "ls = [int(num) for num in input().split()]\n",
    "ls.sort()\n",
    "ls.sort(key=sum_digits)\n",
    "print(*ls)"
   ]
  },
  {
   "cell_type": "markdown",
   "metadata": {},
   "source": [
    "Напишите программу, которая с помощью функций filter() и map() отбирает из заданного списка numbers трехзначные числа, \n",
    "дающие при делении на 5 остаток 2, и выводит их кубы, каждый на отдельной строке."
   ]
  },
  {
   "cell_type": "code",
   "execution_count": 19,
   "metadata": {},
   "outputs": [
    {
     "name": "stdout",
     "output_type": "stream",
     "text": [
      "283593393\n",
      "758550528\n",
      "154854153\n",
      "8869743\n",
      "16974593\n",
      "12487168\n",
      "6028568\n",
      "849278123\n",
      "2863288\n",
      "57960603\n",
      "575930368\n"
     ]
    }
   ],
   "source": [
    "def map(function, items):\n",
    "    result = []\n",
    "    for item in items:\n",
    "        result.append(function(item))\n",
    "    return result\n",
    "\n",
    "\n",
    "def filter(function, items):\n",
    "    result = []\n",
    "    for item in items:\n",
    "        if function(item):\n",
    "            result.append(item)\n",
    "    return result\n",
    "\n",
    "def fil_3(num):\n",
    "    return (100 <= num <= 999 and num % 5 == 2)\n",
    "\n",
    "def cube(num):\n",
    "    return num ** 3\n",
    "\n",
    "\n",
    "numbers = [1014, 1321, 675, 1215, 56, 1386, 1385, 431, 1058, 486, 1434, 696, 1016, 1084, 424, 1189, 475, 95, 1434, 1462, 815, 776, 657, 1225, 912, 537, 1478, 1176, 544, 488, 668, 944, 207, 266, 1309, 1027, 257, 1374, 1289, 1155, 230, 866, 708, 144, 1434, 1163, 345, 394, 560, 338, 232, 182, 1438, 1127, 928, 1309, 98, 530, 1013, 898, 669, 105, 130, 1363, 947, 72, 1278, 166, 904, 349, 831, 1207, 1496, 370, 725, 926, 175, 959, 1282, 336, 1268, 351, 1439, 186, 273, 1008, 231, 138, 142, 433, 456, 1268, 1018, 1274, 387, 120, 340, 963, 832, 1127]\n",
    "\n",
    "nums_3 = filter(fil_3, numbers) # Новый список из трехзначных чисел и остатка от деления на 5 равным 2\n",
    "nums = map(cube, nums_3)\n",
    "print(*nums, sep='\\n')"
   ]
  },
  {
   "cell_type": "markdown",
   "metadata": {},
   "source": [
    "Напишите программу для вычисления и вывода суммы квадратов элементов списка numbers."
   ]
  },
  {
   "cell_type": "code",
   "execution_count": 26,
   "metadata": {},
   "outputs": [
    {
     "data": {
      "text/plain": [
       "319563"
      ]
     },
     "execution_count": 26,
     "metadata": {},
     "output_type": "execute_result"
    }
   ],
   "source": [
    "def reduce(operation, items, initial_value):\n",
    "    acc = initial_value\n",
    "    for item in items:\n",
    "        acc = operation(acc, item)\n",
    "    return acc\n",
    "\n",
    "def sum_two(x, y):\n",
    "    return x + y ** 2\n",
    "\n",
    "\n",
    "numbers = [97, 42, 9, 32, 3, 45, 31, 77, -1, 11, -2, 75, 5, 51, 34, 28, 46, 1, -8, 84, 16, 51, 90, 56, 65, 90, 23, 35, 11, -10, 70, 90, 90, 12, 96, 58, -8, -4, 91, 76, 94, 60, 72, 43, 4, -6, -5, 51, 58, 60, 30, 38, 67, 62, 36, 72, 34, 82, 62, -1, 60, 82, 87, 81, -7, 57, 26, 36, 17, 43, 80, 40, 75, 94, 91, 64, 38, 72, 29, 84, 38, 35, 7, 54, 31, 95, 78, 27, 82, 1, 64, 94, 31, 29, -8, 98, 24, 61, 7, 73]\n",
    "\n",
    "nums = reduce(sum_two, numbers, 0)\n",
    "print(nums)"
   ]
  },
  {
   "cell_type": "markdown",
   "metadata": {},
   "source": [
    "Напишите программу для вычисления и вывода суммы квадратов двузначных чисел из списка numbers, которые делятся на 7 без остатка."
   ]
  },
  {
   "cell_type": "code",
   "execution_count": 31,
   "metadata": {
    "scrolled": true
   },
   "outputs": [
    {
     "name": "stdout",
     "output_type": "stream",
     "text": [
      "25137\n"
     ]
    }
   ],
   "source": [
    "def map(function, items):\n",
    "    result = []\n",
    "    for item in items:\n",
    "        result.append(function(item))\n",
    "    return result\n",
    "\n",
    "\n",
    "def filter(function, items):\n",
    "    result = []\n",
    "    for item in items:\n",
    "        if function(item):\n",
    "            result.append(item)\n",
    "    return result\n",
    "\n",
    "# Двухзначные числа, которые делятся на 7 без остатка\n",
    "def double_digits(x):\n",
    "    y = abs(x)\n",
    "    return (10 <= y <= 99 and y % 7 == 0)\n",
    "\n",
    "def square(x):\n",
    "    return x ** 2\n",
    "\n",
    "numbers = [77, 293, 28, 242, 213, 285, 71, 286, 144, 276, 61, 298, 280, 214, 156, 227, 228, 51, -4, 202, 58, 99, 270, 219, 94, 253, 53, 235, 9, 158, 49, 183, 166, 205, 183, 266, 180, 6, 279, 200, 208, 231, 178, 201, 260, -35, 152, 115, 79, 284, 181, 92, 286, 98, 271, 259, 258, 196, -8, 43, 2, 128, 143, 43, 297, 229, 60, 254, -9, 5, 187, 220, -8, 111, 285, 5, 263, 187, 192, -9, 268, -9, 23, 71, 135, 7, -161, 65, 135, 29, 148, 242, 33, 35, 211, 5, 161, 46, 159, 23, 169, 23, 172, 184, -7, 228, 129, 274, 73, 197, 272, 54, 278, 26, 280, 13, 171, 2, 79, -2, 183, 10, 236, 276, 4, 29, -10, 41, 269, 94, 279, 129, 39, 92, -63, 263, 219, 57, 18, 236, 291, 234, 10, 250, 0, 64, 172, 216, 30, 15, 229, 205, 123, -105]\n",
    "\n",
    "nums = filter(double_digits, numbers)\n",
    "nums2 = map(square, nums)\n",
    "print(sum(nums2))"
   ]
  },
  {
   "cell_type": "markdown",
   "metadata": {},
   "source": [
    "Напишите функцию func_apply(), принимающую на вход функцию и список значений и возвращающую список, \n",
    "в котором каждое значение будет результатом применения переданной функции к переданному списку."
   ]
  },
  {
   "cell_type": "code",
   "execution_count": 36,
   "metadata": {},
   "outputs": [
    {
     "name": "stdout",
     "output_type": "stream",
     "text": [
      "None\n",
      "None\n",
      "None\n"
     ]
    }
   ],
   "source": [
    "def func_apply(function, ls):\n",
    "    ls2 = []\n",
    "    for item in ls:\n",
    "        ls2.append(function(item))\n",
    "    return ls2\n",
    "\n",
    "\n",
    "\n",
    "def add3(x):\n",
    "    return x + 3\n",
    "\n",
    "\n",
    "def mul7(x):\n",
    "    return x * 7\n",
    "\n",
    "\n",
    "print(func_apply(mul7, [1, 2, 3, 4, 5, 6]))\n",
    "print(func_apply(add3, [1, 2, 3, 4, 5, 6]))\n",
    "print(func_apply(str, [1, 2, 3, 4, 5, 6]))"
   ]
  },
  {
   "cell_type": "markdown",
   "metadata": {},
   "source": [
    "Напишите программу, которая с помощью встроенных функций filter(), map(), sorted() и reduce() выводит \n",
    "в алфавитном порядке список primary городов с населением более \n",
    "10000000 человек, в формате:"
   ]
  },
  {
   "cell_type": "code",
   "execution_count": 42,
   "metadata": {},
   "outputs": [
    {
     "name": "stdout",
     "output_type": "stream",
     "text": [
      "Cities:, Beijing Buenos Aires Cairo Dhaka Manila Mexico City Moscow Tokyo\n"
     ]
    }
   ],
   "source": [
    "from functools import reduce\n",
    "\n",
    "data = [['Tokyo', 35676000, 'primary'],\n",
    "        ['New York', 19354922, 'nan'],\n",
    "        ['Mexico City', 19028000, 'primary'],\n",
    "        ['Mumbai', 18978000, 'admin'],\n",
    "        ['Sao Paulo', 18845000, 'admin'],\n",
    "        ['Delhi', 15926000, 'admin'],\n",
    "        ['Shanghai', 14987000, 'admin'],\n",
    "        ['Kolkata', 14787000, 'admin'],\n",
    "        ['Los Angeles', 12815475, 'nan'],\n",
    "        ['Dhaka', 12797394, 'primary'],\n",
    "        ['Buenos Aires', 12795000, 'primary'],\n",
    "        ['Karachi', 12130000, 'admin'],\n",
    "        ['Cairo', 11893000, 'primary'],\n",
    "        ['Rio de Janeiro', 11748000, 'admin'],\n",
    "        ['Osaka', 11294000, 'admin'],\n",
    "        ['Beijing', 11106000, 'primary'],\n",
    "        ['Manila', 11100000, 'primary'],\n",
    "        ['Moscow', 10452000, 'primary'],\n",
    "        ['Istanbul', 10061000, 'admin'],\n",
    "        ['Paris', 9904000, 'primary']]\n",
    "\n",
    "primary_cities = list(filter(lambda x: x[1] > 10000000 and x[2] == 'primary', data)) # фильтруем по численности и primary\n",
    "primary_cities_map = list(map(lambda x: x[0], primary_cities)) # Вытаскиваем города\n",
    "primary_cities_sort = sorted(primary_cities_map) # Сортируем по алфавиту города\n",
    "print(reduce(lambda x, y: x + ', ' + y if x != 'Cities:' else x + ' ' + y, primary_cities_sort, 'Cities:'))"
   ]
  },
  {
   "cell_type": "markdown",
   "metadata": {},
   "source": [
    "Напишите функцию func, используя синтаксис анонимных функций, которая принимает целочисленный аргумент и \n",
    "возвращает значение True, если он делится без остатка на 19 или на 13, или False в противном случае."
   ]
  },
  {
   "cell_type": "code",
   "execution_count": 1,
   "metadata": {},
   "outputs": [
    {
     "name": "stdout",
     "output_type": "stream",
     "text": [
      "True\n",
      "True\n",
      "False\n",
      "False\n",
      "True\n"
     ]
    }
   ],
   "source": [
    "func = lambda x: x % 19 == 0 or x % 13 == 0\n",
    "\n",
    "print(func(19))\n",
    "print(func(13))\n",
    "print(func(20))\n",
    "print(func(15))\n",
    "print(func(247))"
   ]
  },
  {
   "cell_type": "markdown",
   "metadata": {},
   "source": [
    "Напишите функцию func, используя синтаксис анонимных функций, которая \n",
    "принимает строковый аргумент и возвращает значение True, \n",
    "если переданный аргумент начинается и заканчивается на английскую букву a (регистр буквы неважен), \n",
    "или False в противном случае."
   ]
  },
  {
   "cell_type": "code",
   "execution_count": 7,
   "metadata": {},
   "outputs": [
    {
     "name": "stdout",
     "output_type": "stream",
     "text": [
      "False\n",
      "False\n",
      "True\n",
      "False\n",
      "False\n",
      "True\n"
     ]
    }
   ],
   "source": [
    "func = lambda x: x.lower().startswith('a') and x.lower().endswith('a')\n",
    "\n",
    "\n",
    "print(func('abcd'))\n",
    "print(func('bcda'))\n",
    "print(func('abcda'))\n",
    "print(func('Abcd'))\n",
    "print(func('bcdA'))\n",
    "print(func('abcdA'))"
   ]
  },
  {
   "cell_type": "markdown",
   "metadata": {},
   "source": [
    "Напишите функцию is_non_negative_num, используя синтаксис анонимных функций, \n",
    "которая принимает строковый аргумент и возвращает значение True, \n",
    "если переданный аргумент является неотрицательным числом (целым или вещественным), \n",
    "или False в противном случае."
   ]
  },
  {
   "cell_type": "code",
   "execution_count": 46,
   "metadata": {
    "scrolled": true
   },
   "outputs": [
    {
     "name": "stdout",
     "output_type": "stream",
     "text": [
      "False\n",
      "True\n",
      "False\n",
      "False\n",
      "True\n",
      "False\n",
      "False\n",
      "True\n",
      "True\n"
     ]
    }
   ],
   "source": [
    "# is_non_negative_num = lambda num: \n",
    "\n",
    "\n",
    "# print(is_non_negative_num('10.34ab'))\n",
    "# print(is_non_negative_num('10.45'))\n",
    "# print(is_non_negative_num('-18'))\n",
    "# print(is_non_negative_num('-34.67'))\n",
    "# print(is_non_negative_num('987'))\n",
    "# print(is_non_negative_num('abcd'))\n",
    "# print(is_non_negative_num('123.122.12'))\n",
    "# print(is_non_negative_num('123.122'))\n",
    "# print(is_non_negative_num('123.'))"
   ]
  },
  {
   "cell_type": "markdown",
   "metadata": {},
   "source": [
    "Напишите программу, которая с помощью встроенных функций filter() и sorted() \n",
    "выводит слова из списка words, имеющие длину ровно 6 символов. Слова следует вывести в алфавитном порядке на одной строке, отделяя символом пробела."
   ]
  },
  {
   "cell_type": "code",
   "execution_count": 65,
   "metadata": {},
   "outputs": [
    {
     "name": "stdout",
     "output_type": "stream",
     "text": [
      "abduct aboard abound abroad abrupt absent absorb accept access beside bestow betray beware beyond friday monday sunday\n"
     ]
    }
   ],
   "source": [
    "words = ['beverage', 'monday', 'abroad', 'bias', 'abuse', 'abolish', 'abuse', 'abuse', 'bid', 'wednesday', 'able', 'betray', 'accident', 'abduct', 'bigot', 'bet', 'abandon', 'besides', 'access', 'friday', 'bestow', 'abound', 'absent', 'beware', 'abundant', 'abnormal', 'aboard', 'about', 'accelerate', 'abort', 'thursday', 'tuesday', 'sunday', 'berth', 'beyond', 'benevolent', 'abate', 'abide', 'bicycle', 'beside', 'accept', 'berry', 'bewilder', 'abrupt', 'saturday', 'accessory', 'absorb']\n",
    "\n",
    "rel_words = list(filter(lambda word: len(word) == 6, words))\n",
    "rel_words.sort()\n",
    "print(*rel_words)"
   ]
  },
  {
   "cell_type": "markdown",
   "metadata": {},
   "source": [
    "Напишите программу, которая с помощью встроенных функций map() и filter() пошагово: \n",
    "\n",
    "1) Удаляет из списка numbers все нечетные элементы, бо́льшие 47;\n",
    "2) Делит все четные элементы нацело на 2 (целочисленное деление – //).\n",
    "\n",
    "Полученные числа следует вывести на одной строке, разделив символом пробела и сохранив исходный порядок."
   ]
  },
  {
   "cell_type": "code",
   "execution_count": 75,
   "metadata": {},
   "outputs": [
    {
     "name": "stdout",
     "output_type": "stream",
     "text": [
      "61 28 93 41 71 40 77 47 50 81 81 33 83 40 40 93 93 65 75 33 36 59 32 49 39 83 57 53 24 45 57 77 28 40 95 45 26 63 37 33 44 47 49 30 47 89 47\n"
     ]
    }
   ],
   "source": [
    "numbers = [46, 61, 34, 17, 56, 26, 93, 1, 3, 82, 71, 37, 80, 27, 77, 94, 34, 100, 36, 81, 33, 81, 66, 83, 41, 80, 80, 93, 40, 34, 32, 16, 5, 16, 40, 93, 36, 65, 8, 19, 8, 75, 66, 21, 72, 32, 41, 59, 35, 64, 49, 78, 83, 27, 57, 53, 43, 35, 48, 17, 19, 40, 90, 57, 77, 56, 80, 95, 90, 27, 26, 6, 4, 23, 52, 39, 63, 74, 15, 66, 29, 88, 94, 37, 44, 2, 38, 36, 32, 49, 5, 33, 60, 94, 89, 8, 36, 94, 46, 33]\n",
    "\n",
    "num_greater_47 = list(filter(lambda num: not(num > 47 and num % 2 == 1), numbers))\n",
    "nums = list(map(lambda n: n // 2 if n % 2 == 0 else n, num_greater_47))\n",
    "print(*nums)"
   ]
  },
  {
   "cell_type": "markdown",
   "metadata": {},
   "source": [
    "Список data содержит информацию о численности населения некоторых штатов США. \n",
    "Напишите программу сортировки по убыванию списка data на основании последнего символа в названии штата. \n",
    "Затем распечатайте элементы этого списка, каждый на новой строке в формате:"
   ]
  },
  {
   "cell_type": "code",
   "execution_count": 6,
   "metadata": {
    "scrolled": true
   },
   "outputs": [
    {
     "name": "stdout",
     "output_type": "stream",
     "text": [
      "Vermont: 626299\n",
      "Massachusetts: 7029917\n",
      "Ohio: 11799448\n",
      "Michigan: 10077331\n",
      "Washington: 7705281\n",
      "New York: 19542209\n",
      "Hawaii: 1420491\n",
      "Tennessee: 6910840\n",
      "Alabama: 4887871\n",
      "West Virginia: 1805832\n",
      "California: 39865590\n",
      "Georgia: 10711908\n",
      "Virginia: 10439388\n",
      "Arizona: 7151502\n"
     ]
    }
   ],
   "source": [
    "data = [(19542209, 'New York'), (4887871, 'Alabama'), (1420491, 'Hawaii'), (626299, 'Vermont'), (1805832, 'West Virginia'), (39865590, 'California'), (11799448, 'Ohio'), (10711908, 'Georgia'), (10077331, 'Michigan'), (10439388, 'Virginia'), (7705281, 'Washington'), (7151502, 'Arizona'), (7029917, 'Massachusetts'), (6910840, 'Tennessee')]\n",
    "\n",
    "data_sort = sorted(data, key=lambda t: t[1][-1], reverse=True) # Сортируем по последнему символу штата\n",
    "\n",
    "m_data = map(lambda t: f'{t[1]}: {t[0]}', data_sort)\n",
    "\n",
    "for m in m_data:\n",
    "    print(m)"
   ]
  },
  {
   "cell_type": "markdown",
   "metadata": {},
   "source": [
    "Список data содержит слова на русском языке. \n",
    "Напишите программу, которая сортирует этот список по возрастанию длины слов. \n",
    "В случае, если длины каких-то слов совпадают, \n",
    "– отсортировать эти слова в лексикографическом порядке. Отсортированные слова следует вывести на одной строке, \n",
    "разделив символом пробела."
   ]
  },
  {
   "cell_type": "code",
   "execution_count": 13,
   "metadata": {},
   "outputs": [
    {
     "name": "stdout",
     "output_type": "stream",
     "text": [
      "вид год дом мир раз глаз дело день друг лицо рука сила время город жизнь конец место слово часть вопрос голова деньги работа случай страна женщина ребенок система сторона человек отношение\n"
     ]
    }
   ],
   "source": [
    "data = ['год', 'человек', 'время', 'дело', 'жизнь', 'день', 'рука', 'раз', 'работа', 'слово', 'место', 'лицо', 'друг', 'глаз', 'вопрос', 'дом', 'сторона', 'страна', 'мир', 'случай', 'голова', 'ребенок', 'сила', 'конец', 'вид', 'система', 'часть', 'город', 'отношение', 'женщина', 'деньги']\n",
    "\n",
    "data_sort = sorted(data, key=lambda word: [len(word), word])\n",
    "print(*data_sort)"
   ]
  },
  {
   "cell_type": "markdown",
   "metadata": {},
   "source": [
    "Список mixed_list содержит целочисленные и строковые значения. Напишите программу, \n",
    "которая с помощью встроенной функции max() находит \n",
    "и выводит наибольшее числовое значение в указанном списке."
   ]
  },
  {
   "cell_type": "code",
   "execution_count": 25,
   "metadata": {},
   "outputs": [
    {
     "name": "stdout",
     "output_type": "stream",
     "text": [
      "2950603\n"
     ]
    }
   ],
   "source": [
    "mixed_list = ['tuesday', 'abroad', 'abuse', 'beside', 'monday', 'abate', 'accessory', 'absorb', 1384878, 'sunday', 'about', 454805, 'saturday', 'abort', 2121919, 2552839, 977970, 1772933, 1564063, 'abduct', 901271, 2680434, 'bicycle', 'accelerate', 1109147, 942908, 'berry', 433507, 'bias', 'bestow', 1875665, 'besides', 'bewilder', 1586517, 375290, 1503450, 2713047, 'abnormal', 2286106, 242192, 701049, 2866491, 'benevolent', 'bigot', 'abuse', 'abrupt', 343772, 'able', 2135748, 690280, 686008, 'beyond', 2415643, 'aboard', 'bet', 859105, 'accident', 2223166, 894187, 146564, 1251748, 2851543, 1619426, 2263113, 1618068, 'berth', 'abolish', 'beware', 2618492, 1555062, 'access', 'absent', 'abundant', 2950603, 'betray', 'beverage', 'abide', 'abandon', 2284251, 'wednesday', 2709698, 'thursday', 810387, 'friday', 2576799, 2213552, 1599022, 'accept', 'abuse', 'abound', 1352953, 'bid', 1805326, 1499197, 2241159, 605320, 2347441]\n",
    "\n",
    "print(max(mixed_list, key=lambda x: x if isinstance(x, int) else 0))"
   ]
  },
  {
   "cell_type": "markdown",
   "metadata": {},
   "source": [
    "Список mixed_list содержит целочисленные и строковые значения. \n",
    "Напишите программу его сортировки по неубыванию значений элементов, \n",
    "при этом числа должны следовать до строк. Элементы отсортированного списка выведите на одной строке, \n",
    "разделив символом пробела."
   ]
  },
  {
   "cell_type": "code",
   "execution_count": 40,
   "metadata": {},
   "outputs": [
    {
     "name": "stdout",
     "output_type": "stream",
     "text": [
      "10 11 12 12 13 13 13 14 15 19 20 20 26 26 26 28 35 36 37 38 40 40 41 41 46 46 47 48 50 51 60 64 65 65 66 67 70 75 76 76 76 78 80 87 89 94 95 95 98 99 abandon abate abduct abide able abnormal aboard abort abound about abrupt absent absorb abundant abuse accelerate accept access accessory accident benevolent berry berth beside besides bestow bet betray beware bewilder beyond bicycle bid bigot friday saturday sunday thursday tuesday wednesday\n"
     ]
    }
   ],
   "source": [
    "mixed_list = ['beside', 48, 'accelerate', 28, 'beware', 'absorb', 'besides', 'berry', 15, 65, 'abate', 'thursday', 76, 70, 94, 35, 36, 'berth', 41, 'abnormal', 'bicycle', 'bid', 'sunday', 'saturday', 87, 'bigot', 41, 'abort', 13, 60, 'friday', 26, 13, 'accident', 'access', 40, 26, 20, 75, 13, 40, 67, 12, 'abuse', 78, 10, 80, 'accessory', 20, 'bewilder', 'benevolent', 'bet', 64, 38, 65, 51, 95, 'abduct', 37, 98, 99, 14, 'abandon', 'accept', 46, 'abide', 'beyond', 19, 'about', 76, 26, 'abound', 12, 95, 'wednesday', 'abundant', 'abrupt', 'aboard', 50, 89, 'tuesday', 66, 'bestow', 'absent', 76, 46, 'betray', 47, 'able', 11]\n",
    "\n",
    "ml = sorted(mixed_list, key=lambda x: [isinstance(x, str), x])\n",
    "print(*ml)"
   ]
  },
  {
   "cell_type": "markdown",
   "metadata": {},
   "source": [
    "В цветовой схеме RGB цвета задаются с помощью трех компонентов:\n",
    "\n",
    "R — интенсивность красной составляющей цвета;\n",
    "G — интенсивность зеленой составляющей цвета;\n",
    "B — интенсивность синей составляющей цвета.\n",
    "Противоположные цвета задаются как RGB и (255-R)(255-G)(255-B). Считается, что такие цвета хорошо гармонируют друг с другом."
   ]
  },
  {
   "cell_type": "code",
   "execution_count": 44,
   "metadata": {},
   "outputs": [
    {
     "name": "stdout",
     "output_type": "stream",
     "text": [
      "244 11 120\n",
      "11 244 135\n"
     ]
    }
   ],
   "source": [
    "print(*map(lambda x: 255 - int(x), input().split())) # Распаковываем итератор "
   ]
  },
  {
   "cell_type": "markdown",
   "metadata": {},
   "source": [
    "На вход программе на первой строке подаются коэффициенты многочлена, разделенные символом пробела и целое число \n",
    "x на второй строке. Напишите программу, которая вычисляет значение указанного многочлена при заданном значении x."
   ]
  },
  {
   "cell_type": "code",
   "execution_count": 82,
   "metadata": {},
   "outputs": [
    {
     "data": {
      "text/plain": [
       "243"
      ]
     },
     "execution_count": 82,
     "metadata": {},
     "output_type": "execute_result"
    }
   ],
   "source": [
    "ls = list(map(int, input().split())) # принимаем коэффициенты a\n",
    "x = int(input()) # Значение x\n",
    "ls.reverse() # Переворачиваем список\n",
    "\n",
    "value = sum((ls[i] * x **i for i in range(len(ls)))) # Через генераторное выражение"
   ]
  },
  {
   "cell_type": "code",
   "execution_count": 108,
   "metadata": {
    "scrolled": true
   },
   "outputs": [
    {
     "name": "stdout",
     "output_type": "stream",
     "text": [
      "2 4 3\n",
      "10\n",
      "243\n"
     ]
    }
   ],
   "source": [
    "from functools import reduce\n",
    "\n",
    "def evaluate(coefficients, x, nums):\n",
    "    parts = list(map(lambda coef, n: coef * x ** n, coefficients, nums))\n",
    "    res = reduce(lambda x, y: x + y, parts, 0)\n",
    "    return res\n",
    "\n",
    "ls = list(map(int, input().split())) # принимаем коэффициенты a\n",
    "x = int(input()) # Значение x\n",
    "index = list(range(len(ls))) # Список индексов \n",
    "index.reverse() # Делаем список индексов в обратном порядке\n",
    "\n",
    "r = evaluate(ls, x, index)\n",
    "print(r)"
   ]
  },
  {
   "cell_type": "markdown",
   "metadata": {},
   "source": [
    "Функция ignore_command() принимает на вход один строковый аргумент command – команда, которую нужно проверить, \n",
    "\n",
    "и возвращает значение True, если в команде содержится подстрока из списка ignore, или False – если нет."
   ]
  },
  {
   "cell_type": "code",
   "execution_count": 2,
   "metadata": {},
   "outputs": [
    {
     "name": "stdout",
     "output_type": "stream",
     "text": [
      "sql fj\n",
      "True\n"
     ]
    }
   ],
   "source": [
    "def ignore_command(command):\n",
    "    ignore = ['alias', 'configuration', 'ip', 'sql', 'select', 'update', 'exec', 'del', 'truncate']\n",
    "    ans = any(map(lambda i: i in command, ignore))\n",
    "#     ans = not all(map(lambda i: command != i, ignore))\n",
    "    return ans\n",
    "\n",
    "print(ignore_command(input()))"
   ]
  },
  {
   "cell_type": "markdown",
   "metadata": {},
   "source": [
    "Используя параллельную итерацию сразу по трем спискам countries, capitals и population, выведите информацию о стране в формате:"
   ]
  },
  {
   "cell_type": "code",
   "execution_count": 6,
   "metadata": {},
   "outputs": [
    {
     "name": "stdout",
     "output_type": "stream",
     "text": [
      "Moscow is the capital of Russia, population equal 145934462 people.\n",
      "Washington is the capital of USA, population equal 331002651 people.\n",
      "London is the capital of UK, population equal 80345321 people.\n",
      "Berlin is the capital of Germany, population equal 67886011 people.\n",
      "Paris is the capital of France, population equal 65273511 people.\n",
      "Delhi is the capital of India, population equal 1380004385 people.\n"
     ]
    }
   ],
   "source": [
    "countries = ['Russia', 'USA', 'UK', 'Germany', 'France', 'India']\n",
    "capitals = ['Moscow', 'Washington', 'London', 'Berlin', 'Paris', 'Delhi']\n",
    "population = [145_934_462, 331_002_651, 80_345_321, 67_886_011, 65_273_511, 1_380_004_385]\n",
    "\n",
    "for t in zip(countries, capitals, population):\n",
    "    print(f'{t[1]} is the capital of {t[0]}, population equal {t[2]} people.')"
   ]
  },
  {
   "cell_type": "markdown",
   "metadata": {},
   "source": [
    "На вход программе подаются три строки текста с вещественными числами, значениями абсцисс (x), \n",
    "ординат (y) и аппликат (z) точек трехмерного пространства. \n",
    "Напишите программу для проверки расположения всех точек \n",
    "с введенными координатами внутри либо на поверхности шара с центром в начале координат и радиусом R =2."
   ]
  },
  {
   "cell_type": "code",
   "execution_count": 14,
   "metadata": {},
   "outputs": [
    {
     "name": "stdout",
     "output_type": "stream",
     "text": [
      "0.0 1.0 2.0\n",
      "0.0 0.0 1.1\n",
      "0.0 1.0 1.5\n",
      "False\n"
     ]
    }
   ],
   "source": [
    "from math import pow\n",
    "def inside_the_ball(dot, R=2): # Передает кортеж координат точки \n",
    "    ans = (pow(dot[0], 2) + pow(dot[1], 2) + pow(dot[2], 2) <= pow(R, 2))\n",
    "    return ans # Возвращает True/False\n",
    "\n",
    "abscissas = [float(x) for x in input().split()]\n",
    "ordinates = [float(y) for y in input().split()]\n",
    "applicates = [float(z) for z in input().split()]\n",
    "\n",
    "\n",
    "coordinates = list(zip(abscissas, ordinates, applicates)) # координаты точек Список из кортежей\n",
    "\n",
    "if all(map(inside_the_ball, coordinates)):\n",
    "    print(True)\n",
    "else:\n",
    "    print(False)"
   ]
  },
  {
   "cell_type": "markdown",
   "metadata": {},
   "source": [
    "IP-адрес – уникальный числовой идентификатор устройства в компьютерной сети, работающей по протоколу TCP/IP.\n",
    "\n",
    "В 4-й версии IP-адрес представляет собой 32-битное число. \n",
    "Адрес записывается в виде четырёх десятичных чисел (октетов) со значением от 0 до 255 (включительно), \n",
    "разделённых точками, например, \n",
    "192.168.1.2\n",
    "\n",
    "Напишите программу с использованием встроенной функции all() для проверки корректности IP-адреса: все ли октеты в IP-адресе – числа со значением от 0 до 255."
   ]
  },
  {
   "cell_type": "code",
   "execution_count": 22,
   "metadata": {},
   "outputs": [
    {
     "name": "stdout",
     "output_type": "stream",
     "text": [
      "10.0023.0123.0000015\n",
      "True\n"
     ]
    }
   ],
   "source": [
    "nums = input().split('.') # Список из чисел\n",
    "print(all(map(lambda num: num.isdigit() and 0 <= int(num) <= 255, nums)))"
   ]
  },
  {
   "cell_type": "markdown",
   "metadata": {},
   "source": [
    "На вход программе подаются два натуральных числа a и b. \n",
    "Напишите программу с использованием встроенной функции all() для обнаружения всех целых чисел от a до b (включительно), \n",
    "которые делятся на каждую содержащуюся в них цифру без остатка."
   ]
  },
  {
   "cell_type": "code",
   "execution_count": 30,
   "metadata": {},
   "outputs": [
    {
     "name": "stdout",
     "output_type": "stream",
     "text": [
      "True\n"
     ]
    }
   ],
   "source": [
    "def without_a_trace(num): # Целочисленное число\n",
    "    n = str(num)\n",
    "    if '0' in n:\n",
    "        return False\n",
    "    else:\n",
    "        return all(map(lambda d: num % int(d) == 0, n))"
   ]
  },
  {
   "cell_type": "code",
   "execution_count": 32,
   "metadata": {
    "scrolled": true
   },
   "outputs": [
    {
     "name": "stdout",
     "output_type": "stream",
     "text": [
      "20\n",
      "40\n",
      "22 24 33 36 "
     ]
    }
   ],
   "source": [
    "def without_a_trace(num): # Целочисленное число\n",
    "    n = str(num)\n",
    "    if '0' in n:\n",
    "        return False\n",
    "    else:\n",
    "        return all(map(lambda d: num % int(d) == 0, n))\n",
    "\n",
    "\n",
    "a, b = int(input()), int(input())\n",
    "\n",
    "for num in range(a, b+1):\n",
    "    if without_a_trace(num):\n",
    "        print(num, end=' ')"
   ]
  },
  {
   "cell_type": "code",
   "execution_count": 35,
   "metadata": {
    "scrolled": true
   },
   "outputs": [
    {
     "name": "stdout",
     "output_type": "stream",
     "text": [
      "20\n",
      "30\n",
      "22 24\n"
     ]
    }
   ],
   "source": [
    "a, b = int(input()), int(input())\n",
    "\n",
    "print(*list(filter(lambda num: all(map(lambda d: num % int(d) == 0, str(num))) if '0' not in str(num) else False, list(range(a, b+1)))))"
   ]
  },
  {
   "cell_type": "markdown",
   "metadata": {},
   "source": [
    "Хороший пароль по условиям этой задачи состоит как минимум из 7 символов, \n",
    "содержит хотя бы одну цифру, заглавную и строчную букву. \n",
    "Напишите программу со встроенной функцией \n",
    "any() для определения хорош ли введенный пароль."
   ]
  },
  {
   "cell_type": "code",
   "execution_count": 43,
   "metadata": {},
   "outputs": [
    {
     "name": "stdout",
     "output_type": "stream",
     "text": [
      "hfdhd243\n",
      "NO\n"
     ]
    }
   ],
   "source": [
    "password = input()\n",
    "\n",
    "res_bool = all([\n",
    "    len(password) >= 7,\n",
    "    any(map(lambda c: c.isdigit(), password)),\n",
    "    any(map(lambda c: c.isupper(), password)),\n",
    "    any(map(lambda c: c.islower(), password)),\n",
    "])\n",
    "\n",
    "if res_bool:\n",
    "    print('YES')\n",
    "else:\n",
    "    print('NO')"
   ]
  },
  {
   "cell_type": "markdown",
   "metadata": {},
   "source": [
    "Учитель Тимур проверял контрольные работы по математике в нескольких классах онлайн-школы BEEGEEK и решил убедиться, \n",
    "что в каждом классе есть хотя бы один отличник – ученик с оценкой 5 по контрольной работе. Напишите программу с использованием встроенных функций all(), any() для помощи Тимуру в проверке."
   ]
  },
  {
   "cell_type": "code",
   "execution_count": 44,
   "metadata": {},
   "outputs": [
    {
     "name": "stdout",
     "output_type": "stream",
     "text": [
      "4\n",
      "2\n",
      "АВО 5\n",
      "АВЛ 2\n",
      "3\n",
      "АВУ 3\n",
      "ОАВ 5\n",
      "ВАО 4\n",
      "1\n",
      "фОВ 5\n",
      "2\n",
      "ОАВ 5\n",
      "оац 3\n",
      "YES\n"
     ]
    }
   ],
   "source": [
    "n = int(input()) # Количество классов\n",
    "\n",
    "total_cl = [] # Будет содержать значения True/False по каждому классу в зависимости от того, есть ли там отличник\n",
    "\n",
    "for i in range(n): # Пробегаемся по классам\n",
    "    k = int(input()) # Количество учеников в классе\n",
    "    cl = [input().split() for j in range(k)] # Формируем список из списка учеников с оценками\n",
    "    is_excellent = any(map(lambda ls: ls[1] == '5', cl)) # Есть отличник\n",
    "    total_cl.append(is_excellent)\n",
    "    \n",
    "if all(total_cl):\n",
    "    print('YES')\n",
    "else:\n",
    "    print('NO')"
   ]
  },
  {
   "cell_type": "markdown",
   "metadata": {},
   "source": [
    "Напишите функцию generate_letter(), которая будет собирать электронное письмо в соответствии с шаблоном:\n",
    "\n",
    "To: <mail>\n",
    "Приветствую, <name>!\n",
    "Вам назначен экзамен, который пройдет <date>, в <time>.\n",
    "По адресу: <place>. \n",
    "Экзамен будет проводить <teacher> в кабинете <number>. \n",
    "Желаем удачи на экзамене!\n",
    "\n",
    "Функция должна получать на вход пять обязательных аргументов mail, name, date, time, place \n",
    "и два необязательных teacher, number и возвращать текст готового письма. \n",
    "При отсутствии аргумента teacher учителем будет Тимур Гуев, а если нет аргумента number, то кабинет будет 17."
   ]
  },
  {
   "cell_type": "code",
   "execution_count": 6,
   "metadata": {},
   "outputs": [
    {
     "name": "stdout",
     "output_type": "stream",
     "text": [
      "To: lara@yandex.ru\n",
      "    Приветствую, Лариса!\n",
      "    Вам назначен экзамен, который пройдет 10 декабря, в 12:00.\n",
      "    По адресу: Часова 23, корпус 2. \n",
      "    Экзамен будет проводить Тимур Гуев в кабинете 17. \n",
      "    Желаем удачи на экзамене!\n",
      "\n",
      "To: lara@yandex.ru\n",
      "    Приветствую, Лариса!\n",
      "    Вам назначен экзамен, который пройдет 10 декабря, в 12:00.\n",
      "    По адресу: Часова 23, корпус 2. \n",
      "    Экзамен будет проводить Василь Ярошевич в кабинете 23. \n",
      "    Желаем удачи на экзамене!\n"
     ]
    }
   ],
   "source": [
    "def generate_letter(mail, name, date, time, place, teacher='Тимур Гуев', number=17):\n",
    "    text = f'''To: {mail}\n",
    "    Приветствую, {name}!\n",
    "    Вам назначен экзамен, который пройдет {date}, в {time}.\n",
    "    По адресу: {place}. \n",
    "    Экзамен будет проводить {teacher} в кабинете {number}. \n",
    "    Желаем удачи на экзамене!'''\n",
    "    return text\n",
    "\n",
    "\n",
    "\n",
    "print(generate_letter('lara@yandex.ru', 'Лариса', '10 декабря', '12:00', 'Часова 23, корпус 2'))\n",
    "print()\n",
    "print(generate_letter('lara@yandex.ru', 'Лариса', '10 декабря', '12:00', 'Часова 23, корпус 2', 'Василь Ярошевич', 23))"
   ]
  },
  {
   "cell_type": "markdown",
   "metadata": {},
   "source": [
    "Напишите функцию pretty_print(), которая выводит содержимое списка с рамкой. \n",
    "\n",
    "Функция должна получать на вход один обязательный аргумент data – список, \n",
    "который следует вывести и два необязательных строковых односимвольных  \n",
    "аргумента side и delimiter и выводить содержимое списка в соответствии с примерами.\n",
    "В случае если отсутствует аргумент side, то полагаем side='-', а если отсутствует аргумент delimiter, то полагаем delimiter='|'"
   ]
  },
  {
   "cell_type": "code",
   "execution_count": 26,
   "metadata": {},
   "outputs": [
    {
     "name": "stdout",
     "output_type": "stream",
     "text": [
      " ------------------------------\n",
      "| 1 | 2 | 10 | 23 | 123 | 3000 |\n",
      " ------------------------------\n",
      " -------------------------\n",
      "| abc | def | ghi | 12345 |\n",
      " -------------------------\n",
      " *****************\n",
      "| abc | def | ghi |\n",
      " *****************\n",
      " -----------------\n",
      "# abc # def # ghi #\n",
      " -----------------\n",
      " *****************\n",
      "# abc # def # ghi #\n",
      " *****************\n"
     ]
    }
   ],
   "source": [
    "def pretty_print(data, side='-', delimiter='|'):\n",
    "    data_str = list(map(str, data))\n",
    "    string = delimiter + ' ' + f' {delimiter} '.join(data_str) + ' ' + delimiter\n",
    "    mul_side = len(string) - 2\n",
    "    \n",
    "    print(' ' + side * mul_side)\n",
    "    print(string)\n",
    "    print(' ' + side * mul_side)\n",
    "    \n",
    "\n",
    "\n",
    "pretty_print([1, 2, 10, 23, 123, 3000])\n",
    "pretty_print(['abc', 'def', 'ghi', '12345'])\n",
    "pretty_print(['abc', 'def', 'ghi'], side='*')\n",
    "pretty_print(['abc', 'def', 'ghi'], delimiter='#')\n",
    "pretty_print(['abc', 'def', 'ghi'], side='*', delimiter='#')"
   ]
  },
  {
   "cell_type": "markdown",
   "metadata": {},
   "source": [
    "Напишите функцию concat(), принимающую переменное количество аргументов \n",
    "и объединяющую их в одну строку через разделитель (sep). \n",
    "Если разделитель не задан, им служит пробел."
   ]
  },
  {
   "cell_type": "code",
   "execution_count": 30,
   "metadata": {},
   "outputs": [
    {
     "name": "stdout",
     "output_type": "stream",
     "text": [
      "hello python and stepik\n",
      "hello*python*and*stepik\n",
      "hello()()()python\n",
      "hello\n",
      "1$$2$$3$$4$$5$$6$$7$$8$$9\n"
     ]
    }
   ],
   "source": [
    "def concat(*args, sep=' '):\n",
    "    ls = list(map(str, args))\n",
    "    string = sep.join(ls)\n",
    "    return string\n",
    "\n",
    "\n",
    "print(concat('hello', 'python', 'and', 'stepik'))\n",
    "print(concat('hello', 'python', 'and', 'stepik', sep='*'))\n",
    "print(concat('hello', 'python', sep='()()()'))\n",
    "print(concat('hello', sep='()'))\n",
    "print(concat(1, 2, 3, 4, 5, 6, 7, 8, 9, sep='$$'))"
   ]
  },
  {
   "cell_type": "markdown",
   "metadata": {},
   "source": [
    "Перепишите функцию product_of_odds() в функциональном стиле с использованием встроенных функций filter() и reduce()."
   ]
  },
  {
   "cell_type": "code",
   "execution_count": 38,
   "metadata": {},
   "outputs": [
    {
     "name": "stdout",
     "output_type": "stream",
     "text": [
      "35\n"
     ]
    }
   ],
   "source": [
    "# def product_of_odds(data):   # data - список целых чисел\n",
    "#     result = 1\n",
    "#     for i in data:\n",
    "#         if i % 2 == 1:\n",
    "#             result *= i\n",
    "#     return result\n",
    "\n",
    "from functools import reduce \n",
    "\n",
    "def product_of_odds(data):\n",
    "    res = reduce(lambda x, y: x * y, list(filter(lambda num: num % 2 == 1, data)), 1)\n",
    "    return res\n",
    "\n",
    "print(product_of_odds([2, 4, 5, 7, 12]))\n"
   ]
  },
  {
   "cell_type": "markdown",
   "metadata": {},
   "source": [
    "Дан список слов words. \n",
    "Допишите код после оператора распаковки (*), \n",
    "который оборачивает в двойные кавычки все элементы списка words, \n",
    "а затем печатает результат на одной строке через пробел."
   ]
  },
  {
   "cell_type": "code",
   "execution_count": 44,
   "metadata": {},
   "outputs": [
    {
     "name": "stdout",
     "output_type": "stream",
     "text": [
      "\"the\" \"world\" \"is\" \"mine\" \"take\" \"a\" \"look\" \"what\" \"you\" \"have\" \"started\"\n"
     ]
    }
   ],
   "source": [
    "words = 'the world is mine take a look what you have started'.split()\n",
    "\n",
    "words_2 = map(lambda word: f'\"{word}\"', words)\n",
    "\n",
    "print(*words_2)\n"
   ]
  },
  {
   "cell_type": "markdown",
   "metadata": {},
   "source": [
    "Дан список целых чисел numbers. Допишите код после оператора распаковки (*) \n",
    "для удаления из списка всех чисел-палиндромов и печати результата на одной строке через пробел."
   ]
  },
  {
   "cell_type": "code",
   "execution_count": 48,
   "metadata": {},
   "outputs": [
    {
     "name": "stdout",
     "output_type": "stream",
     "text": [
      "18 78 45 23 908 8976 6565 10 1000 908 786\n"
     ]
    }
   ],
   "source": [
    "numbers = [18, 191, 9009, 5665, 78, 77, 45, 23, 19991, 908, 8976, 6565, 5665, 10, 1000, 908, 909, 232, 45654, 786]\n",
    "\n",
    "nums_filter = filter(lambda x: str(x) != str(x)[::-1], numbers)\n",
    "\n",
    "print(*nums_filter)"
   ]
  },
  {
   "cell_type": "markdown",
   "metadata": {},
   "source": [
    "Дан список numbers, состоящий из кортежей. \n",
    "Допишите пропущенную часть программы, чтобы список sorted_numbers \n",
    "был упорядочен по убыванию среднего арифметического элементов кортежей списка numbers."
   ]
  },
  {
   "cell_type": "code",
   "execution_count": 46,
   "metadata": {},
   "outputs": [
    {
     "name": "stdout",
     "output_type": "stream",
     "text": [
      "[(39, 12), (-13, 56), (17, 0, 1), (1, 9, 2), (10, -2, 3, 4), (3,), (-1, 5, 1), (1, 1), (0, 1), (3, -8), (-1, -9, -45, 32), (11, -23), (10, -100, 21, 32)]\n"
     ]
    }
   ],
   "source": [
    "numbers = [(10, -2, 3, 4), (-13, 56), (1, 9, 2), (-1, -9, -45, 32), (-1, 5, 1), (17, 0, 1), (0, 1), (3,), (39, 12), (11, -23), (10, -100, 21, 32), (3, -8), (1, 1)]\n",
    "\n",
    "sorted_numbers = sorted(numbers, key=lambda t: sum(t) / len(t), reverse=True)\n",
    "\n",
    "print(sorted_numbers)"
   ]
  },
  {
   "cell_type": "markdown",
   "metadata": {},
   "source": [
    "Напишите функцию call(), \n",
    "которая принимает произвольную функцию и \n",
    "аргументы для нее и делает вызов переданной функции, возвращая ее значение."
   ]
  },
  {
   "cell_type": "code",
   "execution_count": 50,
   "metadata": {},
   "outputs": [
    {
     "name": "stdout",
     "output_type": "stream",
     "text": [
      "70\n",
      "9\n",
      "80\n",
      "False\n"
     ]
    }
   ],
   "source": [
    "def mul7(x):\n",
    "    return x * 7\n",
    "\n",
    "\n",
    "def add2(x, y):\n",
    "    return x + y\n",
    "\n",
    "\n",
    "def add3(x, y, z):\n",
    "    return x + y + z\n",
    "\n",
    "\n",
    "\n",
    "def call(func, *args):\n",
    "    return func(*args)\n",
    "\n",
    "\n",
    "print(call(mul7, 10))\n",
    "print(call(add2, 2, 7))\n",
    "print(call(add3, 10, 30, 40))\n",
    "print(call(bool, 0))"
   ]
  },
  {
   "cell_type": "markdown",
   "metadata": {},
   "source": [
    "Напишите функцию compose(), которая принимает на вход две других одноаргументных функции f и g \n",
    "и возвращает новую функцию. Эта новая функция также должна принимать один аргумент x \n",
    "и применять к нему исходные функции в нужном порядке: \n",
    "    для функций f и g порядок применения должен выглядеть, как f(g(x))"
   ]
  },
  {
   "cell_type": "code",
   "execution_count": 59,
   "metadata": {},
   "outputs": [
    {
     "name": "stdout",
     "output_type": "stream",
     "text": [
      "28\n",
      "17\n",
      "3333333\n",
      "35\n"
     ]
    }
   ],
   "source": [
    "def add3(x):\n",
    "    return x + 3\n",
    "\n",
    "\n",
    "def mul7(x):\n",
    "    return x * 7\n",
    "\n",
    "def compose(f, g):\n",
    "    return lambda x: f(g(x))\n",
    "\n",
    "\n",
    "print(compose(mul7, add3)(1))\n",
    "print(compose(add3, mul7)(2))\n",
    "print(compose(mul7, str)(3))\n",
    "print(compose(str, mul7)(5))"
   ]
  },
  {
   "cell_type": "markdown",
   "metadata": {},
   "source": [
    "Напишите функцию arithmetic_operation(), которая принимает символ одной из четырех арифметических операций (+, -, *, /) \n",
    "и возвращает функцию двух аргументов для соответствующей операции."
   ]
  },
  {
   "cell_type": "code",
   "execution_count": 60,
   "metadata": {},
   "outputs": [
    {
     "ename": "SyntaxError",
     "evalue": "invalid syntax (<ipython-input-60-6ca4ff95b95f>, line 3)",
     "output_type": "error",
     "traceback": [
      "\u001b[0;36m  File \u001b[0;32m\"<ipython-input-60-6ca4ff95b95f>\"\u001b[0;36m, line \u001b[0;32m3\u001b[0m\n\u001b[0;31m    return a operation b\u001b[0m\n\u001b[0m                     ^\u001b[0m\n\u001b[0;31mSyntaxError\u001b[0m\u001b[0;31m:\u001b[0m invalid syntax\n"
     ]
    }
   ],
   "source": [
    "def arithmetic_operation(operation):\n",
    "    def inner(a, b):\n",
    "        if a \n",
    "        return a operation b\n",
    "    return inner\n",
    "\n",
    "add = arithmetic_operation('+')\n",
    "div = arithmetic_operation('/')\n",
    "\n",
    "print(add(10, 20))\n",
    "print(div(20, 5))\n",
    "\n"
   ]
  },
  {
   "cell_type": "markdown",
   "metadata": {},
   "source": [
    "Дана строка из разделенных пробелами слов в разных регистрах. Напишите программу, \n",
    "которая отсортирует слова независимо от регистра, а затем выведет их. \n",
    "Отсортированные слова должны выводиться на печать в исходном регистре, \n",
    "в каком переданы программе на вход."
   ]
  },
  {
   "cell_type": "code",
   "execution_count": 65,
   "metadata": {},
   "outputs": [
    {
     "name": "stdout",
     "output_type": "stream",
     "text": [
      "cate Frog cat FROGs bee CATERS mouse cATwalk dolphin mOus Cats CatAlo\n",
      "bee cat CatAlo cate CATERS Cats cATwalk dolphin Frog FROGs mOus mouse\n"
     ]
    }
   ],
   "source": [
    "text = input()\n",
    "words = text.split()\n",
    "new_words = sorted(words, key=lambda x: x.lower())\n",
    "print(*new_words)"
   ]
  },
  {
   "cell_type": "markdown",
   "metadata": {},
   "source": [
    "Гематрией слова называется сумма числовых значений входящих в него букв."
   ]
  },
  {
   "cell_type": "code",
   "execution_count": 17,
   "metadata": {},
   "outputs": [
    {
     "name": "stdout",
     "output_type": "stream",
     "text": [
      "2\n",
      "basis\n",
      "after\n",
      "after\n",
      "basis\n"
     ]
    }
   ],
   "source": [
    "from functools import reduce\n",
    "\n",
    "def gematria(word):\n",
    "    ans = reduce(lambda s, char: s + ord(char.upper()) - ord('A'), word, 0)\n",
    "    return ans\n",
    "\n",
    "n = int(input())\n",
    "\n",
    "words = [input() for i in range(n)]\n",
    "\n",
    "sort_words = sorted(words, key=lambda word: (gematria(word), word))\n",
    "print(*sort_words, sep='\\n')"
   ]
  },
  {
   "cell_type": "markdown",
   "metadata": {},
   "source": [
    "IP-адрес – уникальный числовой идентификатор устройства в компьютерной сети, работающий по протоколу TCP/IP.\n",
    "\n",
    "В 4-й версии IP-адрес представляет собой 32-битное число. \n",
    "Адрес записывается в виде четырех десятичных чисел (октетов) со значением от 0\n",
    "255, разделенных точками, например, 192.168.1.2.\n",
    "Напишите программу, которая считывает IP-адреса и выводит их в порядке возрастания в соответствии с десятичным представлением."
   ]
  },
  {
   "cell_type": "code",
   "execution_count": 34,
   "metadata": {},
   "outputs": [
    {
     "name": "stdout",
     "output_type": "stream",
     "text": [
      "2\n",
      "2\n",
      "2\n"
     ]
    },
    {
     "ename": "IndexError",
     "evalue": "list index out of range",
     "output_type": "error",
     "traceback": [
      "\u001b[0;31m---------------------------------------------------------------------------\u001b[0m",
      "\u001b[0;31mIndexError\u001b[0m                                Traceback (most recent call last)",
      "\u001b[0;32m<ipython-input-34-a19e7781a5e6>\u001b[0m in \u001b[0;36m<module>\u001b[0;34m\u001b[0m\n\u001b[1;32m     10\u001b[0m \u001b[0mls\u001b[0m \u001b[0;34m=\u001b[0m \u001b[0;34m[\u001b[0m\u001b[0minput\u001b[0m\u001b[0;34m(\u001b[0m\u001b[0;34m)\u001b[0m \u001b[0;32mfor\u001b[0m \u001b[0mip\u001b[0m \u001b[0;32min\u001b[0m \u001b[0mrange\u001b[0m\u001b[0;34m(\u001b[0m\u001b[0mn\u001b[0m\u001b[0;34m)\u001b[0m\u001b[0;34m]\u001b[0m\u001b[0;34m\u001b[0m\u001b[0;34m\u001b[0m\u001b[0m\n\u001b[1;32m     11\u001b[0m \u001b[0;34m\u001b[0m\u001b[0m\n\u001b[0;32m---> 12\u001b[0;31m \u001b[0mls2\u001b[0m \u001b[0;34m=\u001b[0m \u001b[0msorted\u001b[0m\u001b[0;34m(\u001b[0m\u001b[0mls\u001b[0m\u001b[0;34m,\u001b[0m \u001b[0mkey\u001b[0m\u001b[0;34m=\u001b[0m\u001b[0msum_ip\u001b[0m\u001b[0;34m)\u001b[0m\u001b[0;34m\u001b[0m\u001b[0;34m\u001b[0m\u001b[0m\n\u001b[0m\u001b[1;32m     13\u001b[0m \u001b[0;34m\u001b[0m\u001b[0m\n\u001b[1;32m     14\u001b[0m \u001b[0mprint\u001b[0m\u001b[0;34m(\u001b[0m\u001b[0;34m*\u001b[0m\u001b[0mls2\u001b[0m\u001b[0;34m,\u001b[0m \u001b[0msep\u001b[0m\u001b[0;34m=\u001b[0m\u001b[0;34m'\\n'\u001b[0m\u001b[0;34m)\u001b[0m\u001b[0;34m\u001b[0m\u001b[0;34m\u001b[0m\u001b[0m\n",
      "\u001b[0;32m<ipython-input-34-a19e7781a5e6>\u001b[0m in \u001b[0;36msum_ip\u001b[0;34m(ip)\u001b[0m\n\u001b[1;32m      3\u001b[0m     \u001b[0ms\u001b[0m \u001b[0;34m=\u001b[0m \u001b[0;36m0\u001b[0m\u001b[0;34m\u001b[0m\u001b[0;34m\u001b[0m\u001b[0m\n\u001b[1;32m      4\u001b[0m     \u001b[0;32mfor\u001b[0m \u001b[0mi\u001b[0m \u001b[0;32min\u001b[0m \u001b[0mrange\u001b[0m\u001b[0;34m(\u001b[0m\u001b[0;36m3\u001b[0m\u001b[0;34m,\u001b[0m \u001b[0;34m-\u001b[0m\u001b[0;36m1\u001b[0m\u001b[0;34m,\u001b[0m \u001b[0;34m-\u001b[0m\u001b[0;36m1\u001b[0m\u001b[0;34m)\u001b[0m\u001b[0;34m:\u001b[0m\u001b[0;34m\u001b[0m\u001b[0;34m\u001b[0m\u001b[0m\n\u001b[0;32m----> 5\u001b[0;31m         \u001b[0ms\u001b[0m \u001b[0;34m+=\u001b[0m \u001b[0mparts\u001b[0m\u001b[0;34m[\u001b[0m\u001b[0;36m3\u001b[0m\u001b[0;34m-\u001b[0m\u001b[0mi\u001b[0m\u001b[0;34m]\u001b[0m \u001b[0;34m*\u001b[0m \u001b[0mpow\u001b[0m\u001b[0;34m(\u001b[0m\u001b[0;36m256\u001b[0m\u001b[0;34m,\u001b[0m \u001b[0mi\u001b[0m\u001b[0;34m)\u001b[0m\u001b[0;34m\u001b[0m\u001b[0;34m\u001b[0m\u001b[0m\n\u001b[0m\u001b[1;32m      6\u001b[0m     \u001b[0;32mreturn\u001b[0m \u001b[0ms\u001b[0m\u001b[0;34m\u001b[0m\u001b[0;34m\u001b[0m\u001b[0m\n\u001b[1;32m      7\u001b[0m \u001b[0;34m\u001b[0m\u001b[0m\n",
      "\u001b[0;31mIndexError\u001b[0m: list index out of range"
     ]
    }
   ],
   "source": [
    "def sum_ip(ip):\n",
    "    parts = [int(p) for p in ip.split('.')] # Целые части\n",
    "    s = 0\n",
    "    for i in range(3, -1, -1):\n",
    "        s += parts[3-i] * pow(256, i)\n",
    "    return s  \n",
    "\n",
    "\n",
    "n = int(input())\n",
    "ls = [input() for ip in range(n)]\n",
    "\n",
    "ls2 = sorted(ls, key=sum_ip)\n",
    "\n",
    "print(*ls2, sep='\\n')"
   ]
  },
  {
   "cell_type": "markdown",
   "metadata": {},
   "source": [
    "# Работа с файлами"
   ]
  },
  {
   "cell_type": "markdown",
   "metadata": {},
   "source": [
    "На вход программе подается строка с именем текстового файла. Напишите программу, которая выводит на экран его содержимое."
   ]
  },
  {
   "cell_type": "code",
   "execution_count": 8,
   "metadata": {},
   "outputs": [
    {
     "name": "stdout",
     "output_type": "stream",
     "text": [
      "t1.txt\n",
      "Hello,\n",
      "World!\n",
      "End...\n"
     ]
    }
   ],
   "source": [
    "file1 = open(input()) # Открыть\n",
    "\n",
    "for line in file1: # Бегаем по строкам\n",
    "    print(line.strip()) # Печатаем строку без \\n\n",
    "    \n",
    "file1.close()"
   ]
  },
  {
   "cell_type": "markdown",
   "metadata": {},
   "source": [
    "На вход программе подается строка с именем текстового файла. \n",
    "Напишите программу, которая выводит на экран его предпоследнюю строку."
   ]
  },
  {
   "cell_type": "code",
   "execution_count": 10,
   "metadata": {},
   "outputs": [
    {
     "name": "stdout",
     "output_type": "stream",
     "text": [
      "t1.txt\n",
      "World!\n",
      "\n"
     ]
    }
   ],
   "source": [
    "file2 = open(input()) # Открыть\n",
    "\n",
    "print(file2.readlines()[-2]) # Печатаем предпоследнюю строку\n",
    "file2.close() # Закрыть"
   ]
  },
  {
   "cell_type": "markdown",
   "metadata": {},
   "source": [
    "Вам доступен текстовый файл lines.txt из нескольких строк. \n",
    "Напишите программу, которая выводит на экран случайную строку из этого файла."
   ]
  },
  {
   "cell_type": "code",
   "execution_count": 22,
   "metadata": {},
   "outputs": [
    {
     "name": "stdout",
     "output_type": "stream",
     "text": [
      "Remember! While specifying the exact path\n",
      "\n"
     ]
    }
   ],
   "source": [
    "from random import choice\n",
    "file3 = open('lines.txt') # Открыть\n",
    "\n",
    "print(choice(file3.readlines())) # Случайная строка из списка строк\n",
    "\n",
    "file3.close()"
   ]
  },
  {
   "cell_type": "raw",
   "metadata": {},
   "source": [
    "Вам доступен текстовый файл numbers.txt из двух строк, \n",
    "на каждой из них записано целое число. \n",
    "Напишите программу, выводящую на экран сумму этих чисел."
   ]
  },
  {
   "cell_type": "code",
   "execution_count": 25,
   "metadata": {},
   "outputs": [
    {
     "name": "stdout",
     "output_type": "stream",
     "text": [
      "491000626\n"
     ]
    }
   ],
   "source": [
    "file4 = open('numbers.txt') # Открыть\n",
    "\n",
    "total = 0\n",
    "for l in file4:\n",
    "    total += int(l)\n",
    "\n",
    "print(total)\n",
    "\n",
    "file4.close()"
   ]
  },
  {
   "cell_type": "markdown",
   "metadata": {},
   "source": [
    "Вам доступен текстовый файл nums.txt. \n",
    "В файле записано два целых числа, они могут быть разделены символами пробела и конца строки. \n",
    "Напишите программу, выводящую на экран сумму этих чисел."
   ]
  },
  {
   "cell_type": "code",
   "execution_count": 36,
   "metadata": {},
   "outputs": [
    {
     "name": "stdout",
     "output_type": "stream",
     "text": [
      "453491626\n"
     ]
    }
   ],
   "source": [
    "file5 = open('nums.txt') # Открыть\n",
    "\n",
    "nums = map(int, file5.read().split())\n",
    "print(sum(nums))\n",
    "\n",
    "file5.close()"
   ]
  },
  {
   "cell_type": "markdown",
   "metadata": {},
   "source": [
    "Вам доступен текстовый файл prices.txt с информацией о заказе из интернет-магазина. \n",
    "В нем каждая строка с помощью символа табуляции (\\t) разделена на три колонки:\n",
    "    наименование товара;\n",
    "    количество товара (целое число);\n",
    "    цена (в рублях) товара за 1 шт (целое число).\n",
    "Напишите программу, выводящую на экран общую стоимость заказа."
   ]
  },
  {
   "cell_type": "code",
   "execution_count": 42,
   "metadata": {},
   "outputs": [
    {
     "name": "stdout",
     "output_type": "stream",
     "text": [
      "['телефон', '4', '12500']\n",
      "[4, 12500]\n",
      "['бургер', '1', '500']\n",
      "[1, 500]\n",
      "['курс', '1', '1400']\n",
      "[1, 1400]\n",
      "['подписка', '40', '9500']\n",
      "[40, 9500]\n",
      "['наушники', '2', '22450']\n",
      "[2, 22450]\n",
      "['телефон', '2', '2500']\n",
      "[2, 2500]\n",
      "['ноутбук', '5', '155000']\n",
      "[5, 155000]\n",
      "['диван', '100', '300']\n",
      "[100, 300]\n"
     ]
    }
   ],
   "source": [
    "file6 = open('prices.txt')\n",
    "\n",
    "s = 0\n",
    "\n",
    "for l in file6:\n",
    "    l_parts = l.split() # Разбиваем строку на кусочки\n",
    "    num_p = [int(n) for n in l_parts[1:]]\n",
    "    s += num_p[0] * num_p[1]\n",
    "\n",
    "print(s)\n",
    "file6.close()\n"
   ]
  },
  {
   "cell_type": "markdown",
   "metadata": {},
   "source": [
    "Вам доступен текстовый файл text.txt с одной строкой текста. \n",
    "Напишите программу, которая выводит на экран эту строку в обратном порядке."
   ]
  },
  {
   "cell_type": "code",
   "execution_count": 4,
   "metadata": {},
   "outputs": [
    {
     "name": "stdout",
     "output_type": "stream",
     "text": [
      ".enil hcae fo rettel tsrif eht tuo tnirp dna txt.egassem_terces daeR\n"
     ]
    }
   ],
   "source": [
    "# Менеджер контекста\n",
    "with open('text.txt', encoding='utf-8') as file:\n",
    "    line1_reverse = file.readline()[::-1]\n",
    "    print(line1_reverse)\n"
   ]
  },
  {
   "cell_type": "markdown",
   "metadata": {},
   "source": [
    "Вам доступен текстовый файл data.txt, в котором записаны строки текста. Напишите программу, выводящую все строки данного файла в обратном порядке: сначала последнюю, затем предпоследнюю и так далее."
   ]
  },
  {
   "cell_type": "code",
   "execution_count": 27,
   "metadata": {},
   "outputs": [
    {
     "name": "stdout",
     "output_type": "stream",
     "text": [
      "Complex is better than complicated.\n",
      "Simple is better than complex.\n",
      "Explicit is better than implicit.\n",
      "Beautiful is better than ugly.\n"
     ]
    }
   ],
   "source": [
    "with open('data.txt', encoding='utf-8') as file:\n",
    "    t = file.readlines()\n",
    "    for i in range(len(t)-1, -1,-1):\n",
    "        t[i] = t[i].strip()\n",
    "        print(t[i])"
   ]
  },
  {
   "cell_type": "markdown",
   "metadata": {},
   "source": [
    "Вам доступен текстовый файл lines.txt, в котором записаны строки текста. \n",
    "Напишите программу, которая выводит все строки наибольшей длины из файла, не меняя их порядок."
   ]
  },
  {
   "cell_type": "code",
   "execution_count": 38,
   "metadata": {},
   "outputs": [
    {
     "name": "stdout",
     "output_type": "stream",
     "text": [
      "believe in their..\n",
      "Life is what 12345\n",
      "better than ugly!!\n",
      "Explicit is better\n",
      "19\n"
     ]
    }
   ],
   "source": [
    "with open('lines_1.txt', encoding='utf-8') as file1:\n",
    "    text = file1.readlines() # Список строк\n",
    "    max_length = max(map(len, text)) # Максимальная длина\n",
    "    for line in text: # По каждой строке\n",
    "        if len(line) == max_length: # Если длина строки совпадает с максимальной длиной\n",
    "            print(line.strip()) # то выводим строку, убирая пробелы"
   ]
  },
  {
   "cell_type": "markdown",
   "metadata": {},
   "source": [
    "Вам доступен текстовый файл numbers.txt, каждая строка которого может \n",
    "содержать одно или несколько целых чисел, разделенных одним или несколькими пробелами.\n",
    "\n",
    "Напишите программу, которая вычисляет сумму чисел в каждой строке и \n",
    "выводит эту сумму на экран (для каждой строки выводится сумма чисел в этой строке)."
   ]
  },
  {
   "cell_type": "code",
   "execution_count": 41,
   "metadata": {},
   "outputs": [
    {
     "name": "stdout",
     "output_type": "stream",
     "text": [
      "256\n",
      "78\n",
      "114\n",
      "15\n",
      "1089\n"
     ]
    }
   ],
   "source": [
    "with open('numbers_1.txt', encoding='utf-8') as file2:\n",
    "    for line in file2:\n",
    "        print(sum((int(num) for num in line.split())))"
   ]
  },
  {
   "cell_type": "markdown",
   "metadata": {},
   "source": [
    "Вам доступен текстовый файл nums.txt. В файле могут быть записаны целые неотрицательные числа и все что угодно. Числом назовем последовательность одной и более цифр, идущих подряд (число всегда неотрицательно).\n",
    "\n",
    "Напишите программу, которая вычисляет сумму всех чисел, записанных в файле."
   ]
  },
  {
   "cell_type": "code",
   "execution_count": 81,
   "metadata": {},
   "outputs": [
    {
     "name": "stdout",
     "output_type": "stream",
     "text": [
      "124410\n"
     ]
    }
   ],
   "source": [
    "with open('nums_1.txt', encoding='utf-8') as file:\n",
    "    s = 0\n",
    "    for line in file: # Для каждой строки\n",
    "        for char in line: # Для каждого символа и его номера\n",
    "            if not char.isdigit(): # Если символ - не цифра\n",
    "                line = line.replace(char,' ')\n",
    "        s += sum([int(num) for num in line.strip().split()])\n",
    "    print(s)"
   ]
  },
  {
   "cell_type": "markdown",
   "metadata": {},
   "source": [
    "Вам доступен текстовый файл file.txt, набранный латиницей. \n",
    "Напишите программу, которая выводит количество букв латинского алфавита, слов и строк. \n",
    "Выведите три найденных числа в формате, приведенном в примере."
   ]
  },
  {
   "cell_type": "code",
   "execution_count": 98,
   "metadata": {
    "scrolled": true
   },
   "outputs": [
    {
     "name": "stdout",
     "output_type": "stream",
     "text": [
      "Input file contains:\n",
      "1069 letters\n",
      "229 words\n",
      "12 lines\n"
     ]
    }
   ],
   "source": [
    "with open('file.txt', encoding='utf-8') as file:\n",
    "    count_chars, count_words, count_rows = 0, 0, 0 # количество букв латинского алфавита, слов и строк\n",
    "    for line in file:\n",
    "        words = [word.strip('.') for word in line.split()]\n",
    "        for word in words:\n",
    "            for c in word:\n",
    "                if c.isalpha():\n",
    "                    count_chars += 1\n",
    "        count_words += len(words)\n",
    "        count_rows += 1\n",
    "    \n",
    "    print(f'Input file contains:')\n",
    "    print(f'{count_chars} letters')\n",
    "    print(f'{count_words} words')\n",
    "    print(f'{count_rows} lines')"
   ]
  },
  {
   "cell_type": "markdown",
   "metadata": {},
   "source": [
    "Вам доступны два текстовых файла first_names.txt и last_names.txt, \n",
    "один с именами, другой с фамилиями.\n",
    "Напишите программу, которая c помощью модуля random создает \n",
    "3 случайные пары имя + фамилия, а затем выводит их, каждую на отдельной строке."
   ]
  },
  {
   "cell_type": "code",
   "execution_count": 116,
   "metadata": {},
   "outputs": [
    {
     "name": "stdout",
     "output_type": "stream",
     "text": [
      "Emmitt Perron\n",
      "Dave Sutter\n",
      "Frederic Swanson\n"
     ]
    }
   ],
   "source": [
    "from random import choice\n",
    "\n",
    "with open('first_names.txt', encoding='utf-8') as file1:\n",
    "    f_names = file1.readlines()\n",
    "    \n",
    "with open('last_names.txt', encoding='utf-8') as file2:\n",
    "    l_names = file2.readlines()\n",
    "    \n",
    "n = 3\n",
    "for _ in range(n):\n",
    "    fn = choice(f_names).strip()\n",
    "    ln = choice(l_names).strip()\n",
    "    print(fn, ln)"
   ]
  },
  {
   "cell_type": "markdown",
   "metadata": {},
   "source": [
    "Вам доступен текстовый файл population.txt с названиями стран и численностью их населения, \n",
    "разделенными символом табуляции \\t.\n",
    "\n",
    "Напишите программу, выводящую все страны, название которых начинается с буквы G, \n",
    "численность населения которых больше чем \n",
    "500000 человек, не меняя их порядок."
   ]
  },
  {
   "cell_type": "code",
   "execution_count": 5,
   "metadata": {
    "scrolled": true
   },
   "outputs": [
    {
     "name": "stdout",
     "output_type": "stream",
     "text": [
      "Germany\n",
      "Ghana\n",
      "Guatemala\n",
      "Greece\n",
      "Guinea\n",
      "Georgia\n",
      "Guinea-Bissau\n",
      "Gabon\n",
      "Guyana\n",
      "\n"
     ]
    }
   ],
   "source": [
    "with open('population.txt', encoding='utf-8') as file:\n",
    "    for line in file:\n",
    "        parts = line.split('\\t')\n",
    "        if parts[0].startswith('G') and int(parts[1]) > 500000:\n",
    "            print(parts[0])"
   ]
  },
  {
   "cell_type": "markdown",
   "metadata": {},
   "source": [
    "Вам доступен CSV-файл data.csv, содержащий информацию в csv формате. \n",
    "Напишите функцию read_csv() для чтения данных из этого файла. \n",
    "Она должна возвращать список словарей, интерпретируя первую строку как имена ключей, \n",
    "а каждую последующую строку как значения этих ключей."
   ]
  },
  {
   "cell_type": "code",
   "execution_count": 31,
   "metadata": {},
   "outputs": [
    {
     "name": "stdout",
     "output_type": "stream",
     "text": [
      "[{'policyID': '119736', 'statecode': 'FL', 'county': 'CLAY COUNTY', 'eq_site_limit': '498960', 'hu_site_limit': '498960', 'fl_site_limit': '498960', 'fr_site_limit': '498960', 'tiv_2011': '498960', 'tiv_2012': '792148.9', 'eq_site_deductible': '0', 'hu_site_deductible': '9979.2', 'fl_site_deductible': '0', 'fr_site_deductible': '0', 'point_latitude': '30.102261', 'point_longitude': '-81.711777', 'line': 'Residential', 'construction': 'Masonry', 'point_granularity': '1'}, {'policyID': '448094', 'statecode': 'FL', 'county': 'CLAY COUNTY', 'eq_site_limit': '1322376.3', 'hu_site_limit': '1322376.3', 'fl_site_limit': '1322376.3', 'fr_site_limit': '1322376.3', 'tiv_2011': '1322376.3', 'tiv_2012': '1438163.57', 'eq_site_deductible': '0', 'hu_site_deductible': '0', 'fl_site_deductible': '0', 'fr_site_deductible': '0', 'point_latitude': '30.063936', 'point_longitude': '-81.707664', 'line': 'Residential', 'construction': 'Masonry', 'point_granularity': '3'}, {'policyID': '206893', 'statecode': 'FL', 'county': 'CLAY COUNTY', 'eq_site_limit': '190724.4', 'hu_site_limit': '190724.4', 'fl_site_limit': '190724.4', 'fr_site_limit': '190724.4', 'tiv_2011': '190724.4', 'tiv_2012': '192476.78', 'eq_site_deductible': '0', 'hu_site_deductible': '0', 'fl_site_deductible': '0', 'fr_site_deductible': '0', 'point_latitude': '30.089579', 'point_longitude': '-81.700455', 'line': 'Residential', 'construction': 'Wood', 'point_granularity': '1'}, {'policyID': '333743', 'statecode': 'FL', 'county': 'CLAY COUNTY', 'eq_site_limit': '0', 'hu_site_limit': '79520.76', 'fl_site_limit': '0', 'fr_site_limit': '0', 'tiv_2011': '79520.76', 'tiv_2012': '86854.48', 'eq_site_deductible': '0', 'hu_site_deductible': '0', 'fl_site_deductible': '0', 'fr_site_deductible': '0', 'point_latitude': '30.063236', 'point_longitude': '-81.707703', 'line': 'Residential', 'construction': 'Wood', 'point_granularity': '3'}, {'policyID': '172534', 'statecode': 'FL', 'county': 'CLAY COUNTY', 'eq_site_limit': '0', 'hu_site_limit': '254281.5', 'fl_site_limit': '0', 'fr_site_limit': '254281.5', 'tiv_2011': '254281.5', 'tiv_2012': '246144.49', 'eq_site_deductible': '0', 'hu_site_deductible': '0', 'fl_site_deductible': '0', 'fr_site_deductible': '0', 'point_latitude': '30.060614', 'point_longitude': '-81.702675', 'line': 'Residential', 'construction': 'Wood', 'point_granularity': '1'}, {'policyID': '785275', 'statecode': 'FL', 'county': 'CLAY COUNTY', 'eq_site_limit': '0', 'hu_site_limit': '515035.62', 'fl_site_limit': '0', 'fr_site_limit': '0', 'tiv_2011': '515035.62', 'tiv_2012': '884419.17', 'eq_site_deductible': '0', 'hu_site_deductible': '0', 'fl_site_deductible': '0', 'fr_site_deductible': '0', 'point_latitude': '30.063236', 'point_longitude': '-81.707703', 'line': 'Residential', 'construction': 'Masonry', 'point_granularity': '3'}, {'policyID': '995932', 'statecode': 'FL', 'county': 'CLAY COUNTY', 'eq_site_limit': '0', 'hu_site_limit': '19260000', 'fl_site_limit': '0', 'fr_site_limit': '0', 'tiv_2011': '19260000', 'tiv_2012': '20610000', 'eq_site_deductible': '0', 'hu_site_deductible': '0', 'fl_site_deductible': '0', 'fr_site_deductible': '0', 'point_latitude': '30.102226', 'point_longitude': '-81.713882', 'line': 'Commercial', 'construction': 'Reinforced Concrete', 'point_granularity': '1'}, {'policyID': '223488', 'statecode': 'FL', 'county': 'CLAY COUNTY', 'eq_site_limit': '328500', 'hu_site_limit': '328500', 'fl_site_limit': '328500', 'fr_site_limit': '328500', 'tiv_2011': '328500', 'tiv_2012': '348374.25', 'eq_site_deductible': '0', 'hu_site_deductible': '16425', 'fl_site_deductible': '0', 'fr_site_deductible': '0', 'point_latitude': '30.102217', 'point_longitude': '-81.707146', 'line': 'Residential', 'construction': 'Wood', 'point_granularity': '1'}, {'policyID': '433512', 'statecode': 'FL', 'county': 'CLAY COUNTY', 'eq_site_limit': '315000', 'hu_site_limit': '315000', 'fl_site_limit': '315000', 'fr_site_limit': '315000', 'tiv_2011': '315000', 'tiv_2012': '265821.57', 'eq_site_deductible': '0', 'hu_site_deductible': '15750', 'fl_site_deductible': '0', 'fr_site_deductible': '0', 'point_latitude': '30.118774', 'point_longitude': '-81.704613', 'line': 'Residential', 'construction': 'Wood', 'point_granularity': '1'}, {'policyID': '142071', 'statecode': 'FL', 'county': 'CLAY COUNTY', 'eq_site_limit': '705600', 'hu_site_limit': '705600', 'fl_site_limit': '705600', 'fr_site_limit': '705600', 'tiv_2011': '705600', 'tiv_2012': '1010842.56', 'eq_site_deductible': '14112', 'hu_site_deductible': '35280', 'fl_site_deductible': '0', 'fr_site_deductible': '0', 'point_latitude': '30.100628', 'point_longitude': '-81.703751', 'line': 'Residential', 'construction': 'Masonry', 'point_granularity': '1'}]\n"
     ]
    }
   ],
   "source": [
    "def read_csv():\n",
    "    with open('data.csv', encoding='utf-8') as file:\n",
    "        # Читаем первую строку, убирая перенос строки, разделяя строку на части \n",
    "        keys = [key for key in file.readline().strip().split(',')] \n",
    "        ls_dc = []\n",
    "        for line in file:\n",
    "            dc = dict(zip(keys, [v for v in line.strip().split(',')]))\n",
    "            ls_dc.append(dc)\n",
    "    \n",
    "    return ls_dc\n",
    "    \n",
    "    \n",
    "print(read_csv())"
   ]
  },
  {
   "cell_type": "markdown",
   "metadata": {},
   "source": [
    "Напишите программу, записывающую в текстовый файл random.txt \n",
    "25 случайных целых чисел в диапазоне от 111 до 777 (включительно), \n",
    "каждое с новой строки."
   ]
  },
  {
   "cell_type": "code",
   "execution_count": 18,
   "metadata": {},
   "outputs": [],
   "source": [
    "from random import randint\n",
    "\n",
    "with open('random.txt', 'w', encoding='utf-8') as file1:\n",
    "    for _ in range(25):\n",
    "        num = randint(111, 777)\n",
    "        print(num, file=file1)"
   ]
  },
  {
   "cell_type": "markdown",
   "metadata": {},
   "source": [
    "Вам доступен текстовый файл input.txt, состоящий из нескольких строк. \n",
    "Напишите программу для записи содержимого этого файла в файл output.txt в виде нумерованного списка, где перед каждой строкой стоит ее номер, символ ) и пробел. \n",
    "Нумерация строк должна начинаться с 1"
   ]
  },
  {
   "cell_type": "code",
   "execution_count": 10,
   "metadata": {},
   "outputs": [],
   "source": [
    "with open('input.txt', 'r', encoding='utf-8') as file1:\n",
    "    f1 = file1.readlines() # список строк\n",
    "    f2 = [f'{i + 1}) {v}' for i, v in enumerate(f1)] # новый список строк с цифрами\n",
    "    \n",
    "with open('output.txt', 'w', encoding='utf-8') as file2:\n",
    "    file2.writelines(f2)"
   ]
  },
  {
   "cell_type": "markdown",
   "metadata": {},
   "source": [
    "Вам доступен текстовый файл class_scores.txt с оценками за итоговый тест на строках вида: \n",
    "    фамилия оценка (фамилия и оценка разделены пробелом). Оценка - целое число от \n",
    "    0 до 100 включительно."
   ]
  },
  {
   "cell_type": "code",
   "execution_count": 40,
   "metadata": {},
   "outputs": [],
   "source": [
    "with open('class_scores.txt', 'r') as file1, open('new_scores.txt', 'w') as file2:\n",
    "    new_values = []\n",
    "    for line in file1:\n",
    "        name, remark = line.strip('\\n').split() # Расщепляем на части\n",
    "        remark = int(remark)\n",
    "        if remark >= 95:\n",
    "            remark = '100' + '\\n'\n",
    "        else:\n",
    "            remark = str(remark + 5) + '\\n'\n",
    "        new_line = name + ' ' + remark\n",
    "        file2.write(new_line)\n",
    "        \n",
    "        \n",
    "#         new_values.append(new_line)\n",
    "        \n",
    "# with open('new_scores.txt', 'w') as file2:\n",
    "#     file2.writelines(new_values)"
   ]
  },
  {
   "cell_type": "markdown",
   "metadata": {},
   "source": [
    "Вам доступен текстовый файл goats.txt в первой строке которого написано слово COLOURS, \n",
    "далее идет список всех возможных цветов козлов. Затем идет строка со словом GOATS, \n",
    "и далее непосредственно перечисление козлов разных цветов. \n",
    "Перечень козлов включает только строки из первого списка."
   ]
  },
  {
   "cell_type": "code",
   "execution_count": 80,
   "metadata": {},
   "outputs": [],
   "source": [
    "from decimal import Decimal\n",
    "\n",
    "with open('goats.txt') as file1, open('answer.txt', 'w') as file2:\n",
    "    file1.readline() # Переходим к следующей строке\n",
    "    keys = [] # Цветные козлы\n",
    "    for line in file1:\n",
    "        if line == 'GOATS\\n':\n",
    "            break\n",
    "        keys.append(line.strip('\\n'))\n",
    "    \n",
    "    \n",
    "    dc = {} # Словарь, где ключи - цветной козел, а значение - подсчет количества\n",
    "    count_goats = Decimal(0) # Подсчет числа козлов\n",
    "    for line in file1: # Снова бегаем по строкам\n",
    "        dc[line.strip('\\n')] = dc.get(line.strip('\\n'), 0) + 1 # Подсчитываем количество значений\n",
    "        count_goats += 1 # Подсчитываем \n",
    "        \n",
    "        \n",
    "    rel_goats = {k: v for k, v in dc.items() if Decimal(v) / count_goats * 100 > 7}    \n",
    "    sort_goats = sorted(rel_goats)  \n",
    "    for val in sort_goats:\n",
    "        file2.write(val + '\\n')"
   ]
  },
  {
   "cell_type": "markdown",
   "metadata": {},
   "source": [
    "На вход программе подается натуральное число n и n строк с названиями файлов. \n",
    "Напишите программу, которая создает файл output.txt \n",
    "и выводит в него содержимое всех файлов, не меняя их порядка."
   ]
  },
  {
   "cell_type": "code",
   "execution_count": 83,
   "metadata": {},
   "outputs": [
    {
     "name": "stdout",
     "output_type": "stream",
     "text": [
      "2\n",
      "numbers.txt\n",
      "numbers_1.txt\n"
     ]
    }
   ],
   "source": [
    "n = int(input())\n",
    "name_files = [input() for _ in range(n)] # Список имен файлов\n",
    "\n",
    "with open('output2.txt', 'w') as output:\n",
    "    for name in name_files:\n",
    "        file = open(name)\n",
    "        content = file.read()\n",
    "        output.write(content)\n",
    "        file.close()\n",
    "        "
   ]
  },
  {
   "cell_type": "markdown",
   "metadata": {},
   "source": [
    "Вам доступен текстовый файл logfile.txt с информацией о времени входа пользователя в систему и выхода из нее. \n",
    "Каждая строка файла содержит три значения, разделенные запятыми и символом пробела: \n",
    "    имя пользователя, время входа, время выхода, где время указано в 24-часовом формате.\n",
    "Напишите программу, которая создает файл output.txt и выводит в него имена всех пользователей (не меняя порядка следования), \n",
    "которые были в сети не менее часа."
   ]
  },
  {
   "cell_type": "code",
   "execution_count": 95,
   "metadata": {},
   "outputs": [
    {
     "name": "stdout",
     "output_type": "stream",
     "text": [
      "100\n",
      "59\n",
      "59\n",
      "515\n",
      "60\n",
      "755\n",
      "60\n",
      "60\n",
      "60\n",
      "60\n",
      "59\n",
      "61\n"
     ]
    }
   ],
   "source": [
    "with open('logfile.txt') as file1, open('output3.txt', 'w') as file2:\n",
    "    for line in file1: # По каждой строке\n",
    "        name, time_entrance, time_exit = line.strip('\\n').split(',')\n",
    "        h_entr, m_entr = map(int, time_entrance.split(':'))\n",
    "        h_exit, m_exit = map(int, time_exit.split(':'))\n",
    "        diff_time = (h_exit * 60 + m_exit) - (h_entr * 60 + m_entr)\n",
    "        if diff_time >= 60:\n",
    "            file2.write(name + '\\n')"
   ]
  },
  {
   "cell_type": "markdown",
   "metadata": {},
   "source": [
    "На вход программе подается строка текста с именем текстового файла. \n",
    "Напишите программу для вывода на экран количества строк данного файла."
   ]
  },
  {
   "cell_type": "code",
   "execution_count": 1,
   "metadata": {},
   "outputs": [
    {
     "name": "stdout",
     "output_type": "stream",
     "text": [
      "numbers.txt\n",
      "2\n"
     ]
    }
   ],
   "source": [
    "with open(input(), 'r') as file1: # Открываем файл\n",
    "    count = 0\n",
    "    for line in file1:\n",
    "        count += 1\n",
    "    print(count)"
   ]
  },
  {
   "cell_type": "markdown",
   "metadata": {},
   "source": [
    "Вам доступен текстовый файл ledger.txt с данными о продажах фирмы за месяц. \n",
    "На каждой строке файла указано, сколько клиент заплатил за товар, в долларах (целое число):\n",
    "Напишите программу для подсчета суммарной месячной выручки фирмы. "
   ]
  },
  {
   "cell_type": "code",
   "execution_count": 5,
   "metadata": {},
   "outputs": [
    {
     "name": "stdout",
     "output_type": "stream",
     "text": [
      "$26127\n"
     ]
    }
   ],
   "source": [
    "with open('ledger.txt') as file1: \n",
    "    s = 0\n",
    "    for line in file1:\n",
    "        num = line.rstrip('\\n').lstrip('$')\n",
    "        s += int(num)\n",
    "    print(f'${s}')"
   ]
  },
  {
   "cell_type": "markdown",
   "metadata": {},
   "source": [
    "Вам доступен текстовый файл grades.txt, содержащий оценки студента за три теста в каждом из триместров. \n",
    "Строки файла имеют вид: фамилия оценка_1 оценка_2 оценка_3.\n",
    "\n",
    "Напишите программу для подсчета количества студентов, сдавших все три теста. \n",
    "Тест считается сданным, если количество баллов по нему не меньше 65."
   ]
  },
  {
   "cell_type": "code",
   "execution_count": 9,
   "metadata": {},
   "outputs": [
    {
     "name": "stdout",
     "output_type": "stream",
     "text": [
      "19\n"
     ]
    }
   ],
   "source": [
    "with open('grades.txt', 'r') as file1:\n",
    "    cnt = 0\n",
    "    for line in file1:\n",
    "        test = [int(t) >= 65 for t in line.strip('\\n').split()[1:]]\n",
    "        if all(test):\n",
    "            cnt += 1\n",
    "    print(cnt)"
   ]
  },
  {
   "cell_type": "markdown",
   "metadata": {},
   "source": [
    "Вам доступен текстовый файл words.txt со словами, разделенными пробелом. \n",
    "Напишите программу, которая находит и выводит самые длинные слова этого файла, \n",
    "не меняя порядка их следования."
   ]
  },
  {
   "cell_type": "code",
   "execution_count": 24,
   "metadata": {},
   "outputs": [
    {
     "name": "stdout",
     "output_type": "stream",
     "text": [
      "responsibility\n",
      "administration\n",
      "recommendation\n",
      "transportation\n"
     ]
    }
   ],
   "source": [
    "with open('words.txt', 'r') as file1:\n",
    "    text = file1.readline()\n",
    "    len_words = [len(word) for word in text.split()] # Список из длин слов\n",
    "    max_length = max(len_words) # Максимальная длина\n",
    "    words = [print(word) for word in text.split() if len(word) == max_length]\n",
    "#     print(words)"
   ]
  },
  {
   "cell_type": "markdown",
   "metadata": {},
   "source": [
    "На вход программе подается строка текста с именем текстового файла. \n",
    "Напишите программу, выводящую на экран последние 10 строк данного файла."
   ]
  },
  {
   "cell_type": "code",
   "execution_count": 12,
   "metadata": {
    "scrolled": true
   },
   "outputs": [
    {
     "name": "stdout",
     "output_type": "stream",
     "text": [
      "answer.txt\n",
      "Pink goat\n",
      "White goat\n"
     ]
    }
   ],
   "source": [
    "with open(input()) as file1:\n",
    "    text = file1.readlines()\n",
    "    res = [print(t, end='') for t in text[-10:]]"
   ]
  },
  {
   "cell_type": "markdown",
   "metadata": {},
   "source": [
    "Транслитерация – передача знаков одной письменности знаками другой письменности, \n",
    "при которой каждый знак (или последовательность знаков) \n",
    "одной системы письма передаётся соответствующим знаком (или последовательностью знаков) \n",
    "другой системы письма.\n",
    "Вам доступен текстовый файл cyrillic.txt, содержащий текст. \n",
    "Напишите программу для транслитерации этого файла, \n",
    "то есть замены кириллических символов на латинские в соответствии с предложенной таблицей. \n",
    "Все остальные символы надо оставить без изменений. Результат транслитерации требуется записать в файл transliteration.txt."
   ]
  },
  {
   "cell_type": "code",
   "execution_count": 71,
   "metadata": {},
   "outputs": [],
   "source": [
    "d = {\n",
    "    'а': 'a', 'к': 'k', 'х': 'h', 'б': 'b', 'л': 'l', 'ц': 'c', 'в': 'v', 'м': 'm', 'ч': 'ch',\n",
    "    'г': 'g', 'н': 'n', 'ш': 'sh', 'д': 'd', 'о': 'o', 'щ': 'shh', 'е': 'e', 'п': 'p', 'ъ': '*',\n",
    "    'ё': 'jo', 'р': 'r', 'ы': 'y', 'ж': 'zh', 'с': 's', 'ь': \"'\", 'з': 'z', 'т': 't', 'э': 'je',\n",
    "    'и': 'i', 'у': 'u', 'ю': 'ju', 'й': 'j', 'ф': 'f', 'я': 'ya'\n",
    "    }\n",
    "\n",
    "with open('cyrillic.txt', 'r') as file1, open('transliteration.txt', 'w') as file2:\n",
    "    text = file1.read() # Считываем как строку текст файла\n",
    "    new_text = '' # Преобразованный текст\n",
    "    for char in text: # Пробегаемся по каждому символу\n",
    "        if char.isalpha(): # Является буквой\n",
    "            if char.islower():\n",
    "                new_text += d.get(char, char)\n",
    "            else:\n",
    "                new_char = d.get(char.lower(), char)\n",
    "                new_text += new_char.capitalize()\n",
    "        else:\n",
    "            new_text += char\n",
    "    file2.write(new_text)"
   ]
  },
  {
   "cell_type": "markdown",
   "metadata": {},
   "source": [
    "При написании собственных функций рекомендуется в комментарии описывать назначение функции, ее параметры и возвращаемое значение. \n",
    "Часто программисты откладывают написание таких комментариев напоследок, а потом и вовсе забывают о них 😂.\n",
    "На вход программе подается строка текста с именем текстового файла, в котором написан код на языке Python. \n",
    "Напишите программу, выводящую на экран имена всех функций, для которых отсутствует поясняющий комментарий. \n",
    "Будем считать, что любая строка, начинающаяся со слова def и пробела, является началом определения функции. \n",
    "Функция содержит комментарий, если первый символ предыдущей строки - #."
   ]
  },
  {
   "cell_type": "code",
   "execution_count": 86,
   "metadata": {},
   "outputs": [
    {
     "name": "stdout",
     "output_type": "stream",
     "text": [
      "powers\n",
      "matrix\n",
      "mean\n",
      "greet\n"
     ]
    }
   ],
   "source": [
    "# вырезает имя функции из строки\n",
    "def name_func(nf):\n",
    "    name = ''\n",
    "    for c in nf:\n",
    "        if c == '(':\n",
    "            break\n",
    "        else:\n",
    "            name += c\n",
    "    return name\n",
    "\n",
    "\n",
    "with open(input(), 'r') as file1:\n",
    "    prev_lines = [file1.readline()] # Первая строка\n",
    "    if prev_lines[0].startswith('def '): \n",
    "        no_com = [name_func(prev_lines[0][4:])]\n",
    "    else:\n",
    "        no_com = []\n",
    "    \n",
    "    for line in file1:\n",
    "        if line.startswith('def '): # Если строка начинается с деф, то это функция\n",
    "            if not prev_lines[-1].startswith('#'):\n",
    "                no_com.append(name_func(line[4:]))\n",
    "        prev_lines.append(line)\n",
    "        \n",
    "    if any(no_com):\n",
    "        print(*no_com, sep='\\n')\n",
    "    else:\n",
    "        print('Best Programming Team')"
   ]
  }
 ],
 "metadata": {
  "kernelspec": {
   "display_name": "Python 3",
   "language": "python",
   "name": "python3"
  },
  "language_info": {
   "codemirror_mode": {
    "name": "ipython",
    "version": 3
   },
   "file_extension": ".py",
   "mimetype": "text/x-python",
   "name": "python",
   "nbconvert_exporter": "python",
   "pygments_lexer": "ipython3",
   "version": "3.7.3"
  }
 },
 "nbformat": 4,
 "nbformat_minor": 4
}
